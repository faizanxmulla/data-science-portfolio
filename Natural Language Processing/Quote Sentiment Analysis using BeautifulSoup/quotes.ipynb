{
 "cells": [
  {
   "cell_type": "markdown",
   "source": [
    "## Importing Libraries & getting Data"
   ],
   "metadata": {}
  },
  {
   "cell_type": "code",
   "execution_count": 1,
   "source": [
    "import pandas as pd\r\n",
    "import requests \r\n",
    "from bs4 import BeautifulSoup"
   ],
   "outputs": [],
   "metadata": {}
  },
  {
   "cell_type": "code",
   "execution_count": 2,
   "source": [
    "url = 'https://www.goodreads.com/quotes/tag/{}?page={}'\r\n",
    "sentiments = ['death', 'love']"
   ],
   "outputs": [],
   "metadata": {}
  },
  {
   "cell_type": "code",
   "execution_count": 3,
   "source": [
    "death_quotes = url.format(sentiments[0],1)\r\n",
    "death_quotes"
   ],
   "outputs": [
    {
     "output_type": "execute_result",
     "data": {
      "text/plain": [
       "'https://www.goodreads.com/quotes/tag/death?page=1'"
      ]
     },
     "metadata": {},
     "execution_count": 3
    }
   ],
   "metadata": {}
  },
  {
   "cell_type": "code",
   "execution_count": 4,
   "source": [
    "def get_quotes(death_quotes):\r\n",
    "    data = requests.get(death_quotes)\r\n",
    "    soup = BeautifulSoup(data.text)\r\n",
    "    divs = soup.find_all('div',attrs={'class' : 'quoteText'})\r\n",
    "\r\n",
    "    quotes = [div.text.strip().split('\\n')[0][1:-1] for div in divs]\r\n",
    "    return quotes\r\n",
    "\r\n",
    "quotes = get_quotes(death_quotes)"
   ],
   "outputs": [],
   "metadata": {}
  },
  {
   "cell_type": "code",
   "execution_count": 5,
   "source": [
    "X, y =[] , []\r\n",
    "\r\n",
    "for sentiment in sentiments:\r\n",
    "    for i in range(1, 4):\r\n",
    "        death_quotes = url.format(sentiment ,i)\r\n",
    "        quotes = get_quotes(death_quotes)\r\n",
    "\r\n",
    "        X.extend(quotes)\r\n",
    "        y.extend([sentiment] * len(quotes))\r\n",
    "        print(f'Processed page {i} for {sentiment} ')"
   ],
   "outputs": [
    {
     "output_type": "stream",
     "name": "stdout",
     "text": [
      "Processed page 1 for death \n",
      "Processed page 2 for death \n",
      "Processed page 3 for death \n",
      "Processed page 1 for love \n",
      "Processed page 2 for love \n",
      "Processed page 3 for love \n"
     ]
    }
   ],
   "metadata": {}
  },
  {
   "cell_type": "code",
   "execution_count": 6,
   "source": [
    "X[69] , y[69]"
   ],
   "outputs": [
    {
     "output_type": "execute_result",
     "data": {
      "text/plain": [
       "('A man with outward courage dares to die; a man with inner courage dares to live.',\n",
       " 'death')"
      ]
     },
     "metadata": {},
     "execution_count": 6
    }
   ],
   "metadata": {}
  },
  {
   "cell_type": "markdown",
   "source": [
    "## Converting to Dataframe"
   ],
   "metadata": {}
  },
  {
   "cell_type": "code",
   "execution_count": 7,
   "source": [
    "df = pd.DataFrame(list(zip(y,X)), columns=['sentiment' , 'quotes'])\r\n",
    "df.to_csv('emotions.csv', index=False)"
   ],
   "outputs": [],
   "metadata": {}
  },
  {
   "cell_type": "markdown",
   "source": [
    "## NLP pipelining"
   ],
   "metadata": {}
  },
  {
   "cell_type": "code",
   "execution_count": 8,
   "source": [
    "from nltk.tokenize import RegexpTokenizer\r\n",
    "from nltk.stem import PorterStemmer\r\n",
    "from nltk.corpus import stopwords"
   ],
   "outputs": [],
   "metadata": {}
  },
  {
   "cell_type": "code",
   "execution_count": 9,
   "source": [
    "from sklearn.feature_extraction.text import CountVectorizer\r\n",
    "cv = CountVectorizer(max_features=500)"
   ],
   "outputs": [],
   "metadata": {}
  },
  {
   "cell_type": "code",
   "execution_count": 10,
   "source": [
    "tokenizer = RegexpTokenizer('\\w+')\r\n",
    "ps = PorterStemmer()\r\n",
    "sw = set(stopwords.words('english'))"
   ],
   "outputs": [],
   "metadata": {}
  },
  {
   "cell_type": "code",
   "execution_count": 11,
   "source": [
    "def getStemmedQuote(quote):\r\n",
    "    quote = quote.lower()\r\n",
    "\r\n",
    "    # tokenization --> breaking down the document i.e doc->sents->words )\r\n",
    "    tokens = tokenizer.tokenize(quote)\r\n",
    "\r\n",
    "    # stop-word removal\r\n",
    "    new_tokens = [token for token in tokens if token not in sw]\r\n",
    "\r\n",
    "    # Stemming --> convert diff forms of same word into single word\r\n",
    "    stemmed_token = [ps.stem(token) for token in new_tokens]\r\n",
    "\r\n",
    "    # Joining the stemmed quotes\r\n",
    "    clean_quote = ' '.join(stemmed_token)\r\n",
    "    return clean_quote\r\n",
    "\r\n",
    "\r\n",
    "def getStemmedQuotes(quotes):\r\n",
    "    d =[]\r\n",
    "    for quote in quotes:\r\n",
    "        d.append(getStemmedQuote(quote))\r\n",
    "    return d\r\n"
   ],
   "outputs": [],
   "metadata": {}
  },
  {
   "cell_type": "code",
   "execution_count": 12,
   "source": [
    "X = getStemmedQuotes(X)"
   ],
   "outputs": [],
   "metadata": {}
  },
  {
   "cell_type": "code",
   "execution_count": 13,
   "source": [
    "cv.fit(X)"
   ],
   "outputs": [
    {
     "output_type": "execute_result",
     "data": {
      "text/plain": [
       "CountVectorizer(max_features=500)"
      ]
     },
     "metadata": {},
     "execution_count": 13
    }
   ],
   "metadata": {}
  },
  {
   "cell_type": "code",
   "execution_count": 14,
   "source": [
    "print('Length of vocabulary : {}'.format(len(cv.vocabulary_)))"
   ],
   "outputs": [
    {
     "output_type": "stream",
     "name": "stdout",
     "text": [
      "Length of vocabulary : 500\n"
     ]
    }
   ],
   "metadata": {}
  },
  {
   "cell_type": "code",
   "execution_count": 15,
   "source": [
    "X_mod = cv.transform(X).todense()\r\n",
    "X_mod"
   ],
   "outputs": [
    {
     "output_type": "execute_result",
     "data": {
      "text/plain": [
       "matrix([[0, 0, 0, ..., 0, 0, 0],\n",
       "        [0, 0, 0, ..., 0, 0, 0],\n",
       "        [0, 0, 0, ..., 0, 0, 0],\n",
       "        ...,\n",
       "        [0, 0, 0, ..., 0, 0, 0],\n",
       "        [0, 0, 0, ..., 0, 0, 0],\n",
       "        [0, 0, 0, ..., 0, 0, 0]], dtype=int64)"
      ]
     },
     "metadata": {},
     "execution_count": 15
    }
   ],
   "metadata": {}
  },
  {
   "cell_type": "markdown",
   "source": [
    "## Train Test Split"
   ],
   "metadata": {}
  },
  {
   "cell_type": "code",
   "execution_count": 16,
   "source": [
    "from sklearn.model_selection import train_test_split\r\n",
    "X_train, X_test, y_train, y_test = train_test_split(X_mod, y, test_size=0.33)"
   ],
   "outputs": [],
   "metadata": {}
  },
  {
   "cell_type": "markdown",
   "source": [
    "## Naive Bayes Model"
   ],
   "metadata": {}
  },
  {
   "cell_type": "code",
   "execution_count": 17,
   "source": [
    "from sklearn.naive_bayes import BernoulliNB\r\n",
    "\r\n",
    "model = BernoulliNB()\r\n",
    "model.fit(X_train, y_train)"
   ],
   "outputs": [
    {
     "output_type": "execute_result",
     "data": {
      "text/plain": [
       "BernoulliNB()"
      ]
     },
     "metadata": {},
     "execution_count": 17
    }
   ],
   "metadata": {}
  },
  {
   "cell_type": "code",
   "execution_count": 18,
   "source": [
    "print('Model Score --> {}'.format(model.score(X_test, y_test)))"
   ],
   "outputs": [
    {
     "output_type": "stream",
     "name": "stdout",
     "text": [
      "Model Score --> 0.7833333333333333\n"
     ]
    }
   ],
   "metadata": {}
  },
  {
   "cell_type": "markdown",
   "source": [
    "## Checking Sample Quote"
   ],
   "metadata": {}
  },
  {
   "cell_type": "code",
   "execution_count": 19,
   "source": [
    "sample_line = \"Gone from our sight, but never from our hearts\"\r\n",
    "\r\n",
    "X_sample = cv.transform([sample_line]).todense()\r\n",
    "\r\n",
    "model.predict(X_sample)"
   ],
   "outputs": [
    {
     "output_type": "execute_result",
     "data": {
      "text/plain": [
       "array(['death'], dtype='<U5')"
      ]
     },
     "metadata": {},
     "execution_count": 19
    }
   ],
   "metadata": {}
  }
 ],
 "metadata": {
  "interpreter": {
   "hash": "85db6da7787130e1a460985840952276764ba71a5c880e584e8b35b38fecc972"
  },
  "kernelspec": {
   "name": "python3",
   "display_name": "Python 3.9.0 64-bit"
  },
  "language_info": {
   "codemirror_mode": {
    "name": "ipython",
    "version": 3
   },
   "file_extension": ".py",
   "mimetype": "text/x-python",
   "name": "python",
   "nbconvert_exporter": "python",
   "pygments_lexer": "ipython3",
   "version": "3.9.0"
  },
  "orig_nbformat": 4
 },
 "nbformat": 4,
 "nbformat_minor": 2
}
