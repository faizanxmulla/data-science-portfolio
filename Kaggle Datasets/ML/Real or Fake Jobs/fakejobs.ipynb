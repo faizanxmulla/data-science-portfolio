{
 "cells": [
  {
   "cell_type": "markdown",
   "source": [
    "## Importing Libraries & getting Data"
   ],
   "metadata": {}
  },
  {
   "cell_type": "code",
   "execution_count": 1,
   "source": [
    "import numpy as np \r\n",
    "import pandas as pd \r\n",
    "import matplotlib.pyplot as plt \r\n",
    "import seaborn as sns "
   ],
   "outputs": [],
   "metadata": {}
  },
  {
   "cell_type": "code",
   "execution_count": 2,
   "source": [
    "data = pd.read_csv('dataset/fake_job_postings.csv')"
   ],
   "outputs": [],
   "metadata": {}
  },
  {
   "cell_type": "code",
   "execution_count": 3,
   "source": [
    "data.head()"
   ],
   "outputs": [
    {
     "output_type": "execute_result",
     "data": {
      "text/html": [
       "<div>\n",
       "<style scoped>\n",
       "    .dataframe tbody tr th:only-of-type {\n",
       "        vertical-align: middle;\n",
       "    }\n",
       "\n",
       "    .dataframe tbody tr th {\n",
       "        vertical-align: top;\n",
       "    }\n",
       "\n",
       "    .dataframe thead th {\n",
       "        text-align: right;\n",
       "    }\n",
       "</style>\n",
       "<table border=\"1\" class=\"dataframe\">\n",
       "  <thead>\n",
       "    <tr style=\"text-align: right;\">\n",
       "      <th></th>\n",
       "      <th>job_id</th>\n",
       "      <th>title</th>\n",
       "      <th>location</th>\n",
       "      <th>department</th>\n",
       "      <th>salary_range</th>\n",
       "      <th>company_profile</th>\n",
       "      <th>description</th>\n",
       "      <th>requirements</th>\n",
       "      <th>benefits</th>\n",
       "      <th>telecommuting</th>\n",
       "      <th>has_company_logo</th>\n",
       "      <th>has_questions</th>\n",
       "      <th>employment_type</th>\n",
       "      <th>required_experience</th>\n",
       "      <th>required_education</th>\n",
       "      <th>industry</th>\n",
       "      <th>function</th>\n",
       "      <th>fraudulent</th>\n",
       "    </tr>\n",
       "  </thead>\n",
       "  <tbody>\n",
       "    <tr>\n",
       "      <th>0</th>\n",
       "      <td>1</td>\n",
       "      <td>Marketing Intern</td>\n",
       "      <td>US, NY, New York</td>\n",
       "      <td>Marketing</td>\n",
       "      <td>NaN</td>\n",
       "      <td>We're Food52, and we've created a groundbreaki...</td>\n",
       "      <td>Food52, a fast-growing, James Beard Award-winn...</td>\n",
       "      <td>Experience with content management systems a m...</td>\n",
       "      <td>NaN</td>\n",
       "      <td>0</td>\n",
       "      <td>1</td>\n",
       "      <td>0</td>\n",
       "      <td>Other</td>\n",
       "      <td>Internship</td>\n",
       "      <td>NaN</td>\n",
       "      <td>NaN</td>\n",
       "      <td>Marketing</td>\n",
       "      <td>0</td>\n",
       "    </tr>\n",
       "    <tr>\n",
       "      <th>1</th>\n",
       "      <td>2</td>\n",
       "      <td>Customer Service - Cloud Video Production</td>\n",
       "      <td>NZ, , Auckland</td>\n",
       "      <td>Success</td>\n",
       "      <td>NaN</td>\n",
       "      <td>90 Seconds, the worlds Cloud Video Production ...</td>\n",
       "      <td>Organised - Focused - Vibrant - Awesome!Do you...</td>\n",
       "      <td>What we expect from you:Your key responsibilit...</td>\n",
       "      <td>What you will get from usThrough being part of...</td>\n",
       "      <td>0</td>\n",
       "      <td>1</td>\n",
       "      <td>0</td>\n",
       "      <td>Full-time</td>\n",
       "      <td>Not Applicable</td>\n",
       "      <td>NaN</td>\n",
       "      <td>Marketing and Advertising</td>\n",
       "      <td>Customer Service</td>\n",
       "      <td>0</td>\n",
       "    </tr>\n",
       "    <tr>\n",
       "      <th>2</th>\n",
       "      <td>3</td>\n",
       "      <td>Commissioning Machinery Assistant (CMA)</td>\n",
       "      <td>US, IA, Wever</td>\n",
       "      <td>NaN</td>\n",
       "      <td>NaN</td>\n",
       "      <td>Valor Services provides Workforce Solutions th...</td>\n",
       "      <td>Our client, located in Houston, is actively se...</td>\n",
       "      <td>Implement pre-commissioning and commissioning ...</td>\n",
       "      <td>NaN</td>\n",
       "      <td>0</td>\n",
       "      <td>1</td>\n",
       "      <td>0</td>\n",
       "      <td>NaN</td>\n",
       "      <td>NaN</td>\n",
       "      <td>NaN</td>\n",
       "      <td>NaN</td>\n",
       "      <td>NaN</td>\n",
       "      <td>0</td>\n",
       "    </tr>\n",
       "    <tr>\n",
       "      <th>3</th>\n",
       "      <td>4</td>\n",
       "      <td>Account Executive - Washington DC</td>\n",
       "      <td>US, DC, Washington</td>\n",
       "      <td>Sales</td>\n",
       "      <td>NaN</td>\n",
       "      <td>Our passion for improving quality of life thro...</td>\n",
       "      <td>THE COMPANY: ESRI – Environmental Systems Rese...</td>\n",
       "      <td>EDUCATION: Bachelor’s or Master’s in GIS, busi...</td>\n",
       "      <td>Our culture is anything but corporate—we have ...</td>\n",
       "      <td>0</td>\n",
       "      <td>1</td>\n",
       "      <td>0</td>\n",
       "      <td>Full-time</td>\n",
       "      <td>Mid-Senior level</td>\n",
       "      <td>Bachelor's Degree</td>\n",
       "      <td>Computer Software</td>\n",
       "      <td>Sales</td>\n",
       "      <td>0</td>\n",
       "    </tr>\n",
       "    <tr>\n",
       "      <th>4</th>\n",
       "      <td>5</td>\n",
       "      <td>Bill Review Manager</td>\n",
       "      <td>US, FL, Fort Worth</td>\n",
       "      <td>NaN</td>\n",
       "      <td>NaN</td>\n",
       "      <td>SpotSource Solutions LLC is a Global Human Cap...</td>\n",
       "      <td>JOB TITLE: Itemization Review ManagerLOCATION:...</td>\n",
       "      <td>QUALIFICATIONS:RN license in the State of Texa...</td>\n",
       "      <td>Full Benefits Offered</td>\n",
       "      <td>0</td>\n",
       "      <td>1</td>\n",
       "      <td>1</td>\n",
       "      <td>Full-time</td>\n",
       "      <td>Mid-Senior level</td>\n",
       "      <td>Bachelor's Degree</td>\n",
       "      <td>Hospital &amp; Health Care</td>\n",
       "      <td>Health Care Provider</td>\n",
       "      <td>0</td>\n",
       "    </tr>\n",
       "  </tbody>\n",
       "</table>\n",
       "</div>"
      ],
      "text/plain": [
       "   job_id                                      title            location  \\\n",
       "0       1                           Marketing Intern    US, NY, New York   \n",
       "1       2  Customer Service - Cloud Video Production      NZ, , Auckland   \n",
       "2       3    Commissioning Machinery Assistant (CMA)       US, IA, Wever   \n",
       "3       4          Account Executive - Washington DC  US, DC, Washington   \n",
       "4       5                        Bill Review Manager  US, FL, Fort Worth   \n",
       "\n",
       "  department salary_range                                    company_profile  \\\n",
       "0  Marketing          NaN  We're Food52, and we've created a groundbreaki...   \n",
       "1    Success          NaN  90 Seconds, the worlds Cloud Video Production ...   \n",
       "2        NaN          NaN  Valor Services provides Workforce Solutions th...   \n",
       "3      Sales          NaN  Our passion for improving quality of life thro...   \n",
       "4        NaN          NaN  SpotSource Solutions LLC is a Global Human Cap...   \n",
       "\n",
       "                                         description  \\\n",
       "0  Food52, a fast-growing, James Beard Award-winn...   \n",
       "1  Organised - Focused - Vibrant - Awesome!Do you...   \n",
       "2  Our client, located in Houston, is actively se...   \n",
       "3  THE COMPANY: ESRI – Environmental Systems Rese...   \n",
       "4  JOB TITLE: Itemization Review ManagerLOCATION:...   \n",
       "\n",
       "                                        requirements  \\\n",
       "0  Experience with content management systems a m...   \n",
       "1  What we expect from you:Your key responsibilit...   \n",
       "2  Implement pre-commissioning and commissioning ...   \n",
       "3  EDUCATION: Bachelor’s or Master’s in GIS, busi...   \n",
       "4  QUALIFICATIONS:RN license in the State of Texa...   \n",
       "\n",
       "                                            benefits  telecommuting  \\\n",
       "0                                                NaN              0   \n",
       "1  What you will get from usThrough being part of...              0   \n",
       "2                                                NaN              0   \n",
       "3  Our culture is anything but corporate—we have ...              0   \n",
       "4                              Full Benefits Offered              0   \n",
       "\n",
       "   has_company_logo  has_questions employment_type required_experience  \\\n",
       "0                 1              0           Other          Internship   \n",
       "1                 1              0       Full-time      Not Applicable   \n",
       "2                 1              0             NaN                 NaN   \n",
       "3                 1              0       Full-time    Mid-Senior level   \n",
       "4                 1              1       Full-time    Mid-Senior level   \n",
       "\n",
       "  required_education                   industry              function  \\\n",
       "0                NaN                        NaN             Marketing   \n",
       "1                NaN  Marketing and Advertising      Customer Service   \n",
       "2                NaN                        NaN                   NaN   \n",
       "3  Bachelor's Degree          Computer Software                 Sales   \n",
       "4  Bachelor's Degree     Hospital & Health Care  Health Care Provider   \n",
       "\n",
       "   fraudulent  \n",
       "0           0  \n",
       "1           0  \n",
       "2           0  \n",
       "3           0  \n",
       "4           0  "
      ]
     },
     "metadata": {},
     "execution_count": 3
    }
   ],
   "metadata": {}
  },
  {
   "cell_type": "code",
   "execution_count": 4,
   "source": [
    "data.info()"
   ],
   "outputs": [
    {
     "output_type": "stream",
     "name": "stdout",
     "text": [
      "<class 'pandas.core.frame.DataFrame'>\n",
      "RangeIndex: 17880 entries, 0 to 17879\n",
      "Data columns (total 18 columns):\n",
      " #   Column               Non-Null Count  Dtype \n",
      "---  ------               --------------  ----- \n",
      " 0   job_id               17880 non-null  int64 \n",
      " 1   title                17880 non-null  object\n",
      " 2   location             17534 non-null  object\n",
      " 3   department           6333 non-null   object\n",
      " 4   salary_range         2868 non-null   object\n",
      " 5   company_profile      14572 non-null  object\n",
      " 6   description          17879 non-null  object\n",
      " 7   requirements         15185 non-null  object\n",
      " 8   benefits             10670 non-null  object\n",
      " 9   telecommuting        17880 non-null  int64 \n",
      " 10  has_company_logo     17880 non-null  int64 \n",
      " 11  has_questions        17880 non-null  int64 \n",
      " 12  employment_type      14409 non-null  object\n",
      " 13  required_experience  10830 non-null  object\n",
      " 14  required_education   9775 non-null   object\n",
      " 15  industry             12977 non-null  object\n",
      " 16  function             11425 non-null  object\n",
      " 17  fraudulent           17880 non-null  int64 \n",
      "dtypes: int64(5), object(13)\n",
      "memory usage: 2.5+ MB\n"
     ]
    }
   ],
   "metadata": {}
  },
  {
   "cell_type": "code",
   "execution_count": 5,
   "source": [
    "data.describe()"
   ],
   "outputs": [
    {
     "output_type": "execute_result",
     "data": {
      "text/html": [
       "<div>\n",
       "<style scoped>\n",
       "    .dataframe tbody tr th:only-of-type {\n",
       "        vertical-align: middle;\n",
       "    }\n",
       "\n",
       "    .dataframe tbody tr th {\n",
       "        vertical-align: top;\n",
       "    }\n",
       "\n",
       "    .dataframe thead th {\n",
       "        text-align: right;\n",
       "    }\n",
       "</style>\n",
       "<table border=\"1\" class=\"dataframe\">\n",
       "  <thead>\n",
       "    <tr style=\"text-align: right;\">\n",
       "      <th></th>\n",
       "      <th>job_id</th>\n",
       "      <th>telecommuting</th>\n",
       "      <th>has_company_logo</th>\n",
       "      <th>has_questions</th>\n",
       "      <th>fraudulent</th>\n",
       "    </tr>\n",
       "  </thead>\n",
       "  <tbody>\n",
       "    <tr>\n",
       "      <th>count</th>\n",
       "      <td>17880.000000</td>\n",
       "      <td>17880.000000</td>\n",
       "      <td>17880.000000</td>\n",
       "      <td>17880.000000</td>\n",
       "      <td>17880.000000</td>\n",
       "    </tr>\n",
       "    <tr>\n",
       "      <th>mean</th>\n",
       "      <td>8940.500000</td>\n",
       "      <td>0.042897</td>\n",
       "      <td>0.795302</td>\n",
       "      <td>0.491723</td>\n",
       "      <td>0.048434</td>\n",
       "    </tr>\n",
       "    <tr>\n",
       "      <th>std</th>\n",
       "      <td>5161.655742</td>\n",
       "      <td>0.202631</td>\n",
       "      <td>0.403492</td>\n",
       "      <td>0.499945</td>\n",
       "      <td>0.214688</td>\n",
       "    </tr>\n",
       "    <tr>\n",
       "      <th>min</th>\n",
       "      <td>1.000000</td>\n",
       "      <td>0.000000</td>\n",
       "      <td>0.000000</td>\n",
       "      <td>0.000000</td>\n",
       "      <td>0.000000</td>\n",
       "    </tr>\n",
       "    <tr>\n",
       "      <th>25%</th>\n",
       "      <td>4470.750000</td>\n",
       "      <td>0.000000</td>\n",
       "      <td>1.000000</td>\n",
       "      <td>0.000000</td>\n",
       "      <td>0.000000</td>\n",
       "    </tr>\n",
       "    <tr>\n",
       "      <th>50%</th>\n",
       "      <td>8940.500000</td>\n",
       "      <td>0.000000</td>\n",
       "      <td>1.000000</td>\n",
       "      <td>0.000000</td>\n",
       "      <td>0.000000</td>\n",
       "    </tr>\n",
       "    <tr>\n",
       "      <th>75%</th>\n",
       "      <td>13410.250000</td>\n",
       "      <td>0.000000</td>\n",
       "      <td>1.000000</td>\n",
       "      <td>1.000000</td>\n",
       "      <td>0.000000</td>\n",
       "    </tr>\n",
       "    <tr>\n",
       "      <th>max</th>\n",
       "      <td>17880.000000</td>\n",
       "      <td>1.000000</td>\n",
       "      <td>1.000000</td>\n",
       "      <td>1.000000</td>\n",
       "      <td>1.000000</td>\n",
       "    </tr>\n",
       "  </tbody>\n",
       "</table>\n",
       "</div>"
      ],
      "text/plain": [
       "             job_id  telecommuting  has_company_logo  has_questions  \\\n",
       "count  17880.000000   17880.000000      17880.000000   17880.000000   \n",
       "mean    8940.500000       0.042897          0.795302       0.491723   \n",
       "std     5161.655742       0.202631          0.403492       0.499945   \n",
       "min        1.000000       0.000000          0.000000       0.000000   \n",
       "25%     4470.750000       0.000000          1.000000       0.000000   \n",
       "50%     8940.500000       0.000000          1.000000       0.000000   \n",
       "75%    13410.250000       0.000000          1.000000       1.000000   \n",
       "max    17880.000000       1.000000          1.000000       1.000000   \n",
       "\n",
       "         fraudulent  \n",
       "count  17880.000000  \n",
       "mean       0.048434  \n",
       "std        0.214688  \n",
       "min        0.000000  \n",
       "25%        0.000000  \n",
       "50%        0.000000  \n",
       "75%        0.000000  \n",
       "max        1.000000  "
      ]
     },
     "metadata": {},
     "execution_count": 5
    }
   ],
   "metadata": {}
  },
  {
   "cell_type": "code",
   "execution_count": 6,
   "source": [
    "data.shape"
   ],
   "outputs": [
    {
     "output_type": "execute_result",
     "data": {
      "text/plain": [
       "(17880, 18)"
      ]
     },
     "metadata": {},
     "execution_count": 6
    }
   ],
   "metadata": {}
  },
  {
   "cell_type": "markdown",
   "source": [
    "## Feature Selection "
   ],
   "metadata": {}
  },
  {
   "cell_type": "code",
   "execution_count": 7,
   "source": [
    "data.columns"
   ],
   "outputs": [
    {
     "output_type": "execute_result",
     "data": {
      "text/plain": [
       "Index(['job_id', 'title', 'location', 'department', 'salary_range',\n",
       "       'company_profile', 'description', 'requirements', 'benefits',\n",
       "       'telecommuting', 'has_company_logo', 'has_questions', 'employment_type',\n",
       "       'required_experience', 'required_education', 'industry', 'function',\n",
       "       'fraudulent'],\n",
       "      dtype='object')"
      ]
     },
     "metadata": {},
     "execution_count": 7
    }
   ],
   "metadata": {}
  },
  {
   "cell_type": "code",
   "execution_count": 8,
   "source": [
    "data = data[['title', 'location', 'company_profile', 'requirements', 'telecommuting', 'has_company_logo', 'has_questions', 'employment_type',\r\n",
    "'required_experience', 'required_education', 'industry', 'function', 'salary_range','fraudulent']]"
   ],
   "outputs": [],
   "metadata": {}
  },
  {
   "cell_type": "markdown",
   "source": [
    "## Handling missing values & Outliers"
   ],
   "metadata": {}
  },
  {
   "cell_type": "code",
   "execution_count": 9,
   "source": [
    "# checking for duplicates \r\n",
    "data.duplicated().sum()"
   ],
   "outputs": [
    {
     "output_type": "execute_result",
     "data": {
      "text/plain": [
       "493"
      ]
     },
     "metadata": {},
     "execution_count": 9
    }
   ],
   "metadata": {}
  },
  {
   "cell_type": "code",
   "execution_count": 10,
   "source": [
    "data.drop_duplicates(inplace=True)\r\n",
    "data.duplicated().sum()"
   ],
   "outputs": [
    {
     "output_type": "execute_result",
     "data": {
      "text/plain": [
       "0"
      ]
     },
     "metadata": {},
     "execution_count": 10
    }
   ],
   "metadata": {}
  },
  {
   "cell_type": "code",
   "execution_count": 11,
   "source": [
    "data_num = data[['telecommuting','has_company_logo','has_questions','fraudulent','salary_range']]\r\n",
    "\r\n",
    "data_categ = data[['title', 'location', 'company_profile', 'requirements', 'employment_type','required_experience', 'required_education', 'industry', 'function']]\r\n"
   ],
   "outputs": [],
   "metadata": {}
  },
  {
   "cell_type": "code",
   "execution_count": 12,
   "source": [
    "plt.figure(figsize=(16,8))\r\n",
    "sns.boxplot(data=data)\r\n",
    "# plt.xticks(rotation=30)\r\n",
    "plt.show()"
   ],
   "outputs": [
    {
     "output_type": "display_data",
     "data": {
      "image/png": "[encoded data removed]",
      "text/plain": [
       "<Figure size 1152x576 with 1 Axes>"
      ]
     },
     "metadata": {
      "needs_background": "light"
     }
    }
   ],
   "metadata": {}
  },
  {
   "cell_type": "code",
   "execution_count": 13,
   "source": [
    "# removing outliers\r\n",
    "\r\n",
    "data_num = data_num[data_num['telecommuting'] < 0.9]\r\n",
    "data_num = data_num[data_num['has_company_logo'] > 0.1]\r\n",
    "data_num = data_num[data_num['fraudulent'] < 0.9]\r\n",
    "\r\n",
    "data_num"
   ],
   "outputs": [
    {
     "output_type": "execute_result",
     "data": {
      "text/html": [
       "<div>\n",
       "<style scoped>\n",
       "    .dataframe tbody tr th:only-of-type {\n",
       "        vertical-align: middle;\n",
       "    }\n",
       "\n",
       "    .dataframe tbody tr th {\n",
       "        vertical-align: top;\n",
       "    }\n",
       "\n",
       "    .dataframe thead th {\n",
       "        text-align: right;\n",
       "    }\n",
       "</style>\n",
       "<table border=\"1\" class=\"dataframe\">\n",
       "  <thead>\n",
       "    <tr style=\"text-align: right;\">\n",
       "      <th></th>\n",
       "      <th>telecommuting</th>\n",
       "      <th>has_company_logo</th>\n",
       "      <th>has_questions</th>\n",
       "      <th>fraudulent</th>\n",
       "      <th>salary_range</th>\n",
       "    </tr>\n",
       "  </thead>\n",
       "  <tbody>\n",
       "    <tr>\n",
       "      <th>0</th>\n",
       "      <td>0</td>\n",
       "      <td>1</td>\n",
       "      <td>0</td>\n",
       "      <td>0</td>\n",
       "      <td>NaN</td>\n",
       "    </tr>\n",
       "    <tr>\n",
       "      <th>1</th>\n",
       "      <td>0</td>\n",
       "      <td>1</td>\n",
       "      <td>0</td>\n",
       "      <td>0</td>\n",
       "      <td>NaN</td>\n",
       "    </tr>\n",
       "    <tr>\n",
       "      <th>2</th>\n",
       "      <td>0</td>\n",
       "      <td>1</td>\n",
       "      <td>0</td>\n",
       "      <td>0</td>\n",
       "      <td>NaN</td>\n",
       "    </tr>\n",
       "    <tr>\n",
       "      <th>3</th>\n",
       "      <td>0</td>\n",
       "      <td>1</td>\n",
       "      <td>0</td>\n",
       "      <td>0</td>\n",
       "      <td>NaN</td>\n",
       "    </tr>\n",
       "    <tr>\n",
       "      <th>4</th>\n",
       "      <td>0</td>\n",
       "      <td>1</td>\n",
       "      <td>1</td>\n",
       "      <td>0</td>\n",
       "      <td>NaN</td>\n",
       "    </tr>\n",
       "    <tr>\n",
       "      <th>...</th>\n",
       "      <td>...</td>\n",
       "      <td>...</td>\n",
       "      <td>...</td>\n",
       "      <td>...</td>\n",
       "      <td>...</td>\n",
       "    </tr>\n",
       "    <tr>\n",
       "      <th>17872</th>\n",
       "      <td>0</td>\n",
       "      <td>1</td>\n",
       "      <td>0</td>\n",
       "      <td>0</td>\n",
       "      <td>NaN</td>\n",
       "    </tr>\n",
       "    <tr>\n",
       "      <th>17873</th>\n",
       "      <td>0</td>\n",
       "      <td>1</td>\n",
       "      <td>0</td>\n",
       "      <td>0</td>\n",
       "      <td>NaN</td>\n",
       "    </tr>\n",
       "    <tr>\n",
       "      <th>17875</th>\n",
       "      <td>0</td>\n",
       "      <td>1</td>\n",
       "      <td>1</td>\n",
       "      <td>0</td>\n",
       "      <td>NaN</td>\n",
       "    </tr>\n",
       "    <tr>\n",
       "      <th>17876</th>\n",
       "      <td>0</td>\n",
       "      <td>1</td>\n",
       "      <td>1</td>\n",
       "      <td>0</td>\n",
       "      <td>NaN</td>\n",
       "    </tr>\n",
       "    <tr>\n",
       "      <th>17879</th>\n",
       "      <td>0</td>\n",
       "      <td>1</td>\n",
       "      <td>1</td>\n",
       "      <td>0</td>\n",
       "      <td>NaN</td>\n",
       "    </tr>\n",
       "  </tbody>\n",
       "</table>\n",
       "<p>13024 rows × 5 columns</p>\n",
       "</div>"
      ],
      "text/plain": [
       "       telecommuting  has_company_logo  has_questions  fraudulent salary_range\n",
       "0                  0                 1              0           0          NaN\n",
       "1                  0                 1              0           0          NaN\n",
       "2                  0                 1              0           0          NaN\n",
       "3                  0                 1              0           0          NaN\n",
       "4                  0                 1              1           0          NaN\n",
       "...              ...               ...            ...         ...          ...\n",
       "17872              0                 1              0           0          NaN\n",
       "17873              0                 1              0           0          NaN\n",
       "17875              0                 1              1           0          NaN\n",
       "17876              0                 1              1           0          NaN\n",
       "17879              0                 1              1           0          NaN\n",
       "\n",
       "[13024 rows x 5 columns]"
      ]
     },
     "metadata": {},
     "execution_count": 13
    }
   ],
   "metadata": {}
  },
  {
   "cell_type": "code",
   "execution_count": 14,
   "source": [
    "data.isnull().sum()"
   ],
   "outputs": [
    {
     "output_type": "execute_result",
     "data": {
      "text/plain": [
       "title                      0\n",
       "location                 340\n",
       "company_profile         3255\n",
       "requirements            2549\n",
       "telecommuting              0\n",
       "has_company_logo           0\n",
       "has_questions              0\n",
       "employment_type         3397\n",
       "required_experience     6858\n",
       "required_education      7889\n",
       "industry                4769\n",
       "function                6261\n",
       "salary_range           14580\n",
       "fraudulent                 0\n",
       "dtype: int64"
      ]
     },
     "metadata": {},
     "execution_count": 14
    }
   ],
   "metadata": {}
  },
  {
   "cell_type": "code",
   "execution_count": 15,
   "source": [
    "data.dropna(axis=0, how='any', inplace=True)"
   ],
   "outputs": [],
   "metadata": {}
  },
  {
   "cell_type": "code",
   "execution_count": 16,
   "source": [
    "data.isnull().sum()"
   ],
   "outputs": [
    {
     "output_type": "execute_result",
     "data": {
      "text/plain": [
       "title                  0\n",
       "location               0\n",
       "company_profile        0\n",
       "requirements           0\n",
       "telecommuting          0\n",
       "has_company_logo       0\n",
       "has_questions          0\n",
       "employment_type        0\n",
       "required_experience    0\n",
       "required_education     0\n",
       "industry               0\n",
       "function               0\n",
       "salary_range           0\n",
       "fraudulent             0\n",
       "dtype: int64"
      ]
     },
     "metadata": {},
     "execution_count": 16
    }
   ],
   "metadata": {}
  },
  {
   "cell_type": "code",
   "execution_count": 17,
   "source": [
    "data.shape"
   ],
   "outputs": [
    {
     "output_type": "execute_result",
     "data": {
      "text/plain": [
       "(1485, 14)"
      ]
     },
     "metadata": {},
     "execution_count": 17
    }
   ],
   "metadata": {}
  },
  {
   "cell_type": "markdown",
   "source": [
    "## EDA"
   ],
   "metadata": {}
  },
  {
   "cell_type": "code",
   "execution_count": 18,
   "source": [
    "data_categ.columns, data_num.columns"
   ],
   "outputs": [
    {
     "output_type": "execute_result",
     "data": {
      "text/plain": [
       "(Index(['title', 'location', 'company_profile', 'requirements',\n",
       "        'employment_type', 'required_experience', 'required_education',\n",
       "        'industry', 'function'],\n",
       "       dtype='object'),\n",
       " Index(['telecommuting', 'has_company_logo', 'has_questions', 'fraudulent',\n",
       "        'salary_range'],\n",
       "       dtype='object'))"
      ]
     },
     "metadata": {},
     "execution_count": 18
    }
   ],
   "metadata": {}
  },
  {
   "cell_type": "code",
   "execution_count": 19,
   "source": [
    "plt.hist(data.employment_type, color='red', edgecolor='black', alpha=0.7)\r\n",
    "plt.xlabel('\\nEmployment Type')\r\n",
    "plt.show()\r\n"
   ],
   "outputs": [
    {
     "output_type": "display_data",
     "data": {
      "image/png": "[encoded data removed]",
      "text/plain": [
       "<Figure size 432x288 with 1 Axes>"
      ]
     },
     "metadata": {
      "needs_background": "light"
     }
    }
   ],
   "metadata": {}
  },
  {
   "cell_type": "code",
   "execution_count": 20,
   "source": [
    "plt.hist(data.required_experience, color='blue', edgecolor='black', alpha=0.7)\r\n",
    "plt.xlabel('\\nRequired Experience')\r\n",
    "plt.xticks(rotation=90)\r\n",
    "plt.show()\r\n"
   ],
   "outputs": [
    {
     "output_type": "display_data",
     "data": {
      "image/png": "[encoded data removed]",
      "text/plain": [
       "<Figure size 432x288 with 1 Axes>"
      ]
     },
     "metadata": {
      "needs_background": "light"
     }
    }
   ],
   "metadata": {}
  },
  {
   "cell_type": "code",
   "execution_count": 21,
   "source": [
    "plt.hist(data.fraudulent, color='green', edgecolor='black', alpha=0.7)\r\n",
    "plt.xlabel('\\nFrauds')\r\n",
    "plt.show()\r\n"
   ],
   "outputs": [
    {
     "output_type": "display_data",
     "data": {
      "image/png": "[encoded data removed]",
      "text/plain": [
       "<Figure size 432x288 with 1 Axes>"
      ]
     },
     "metadata": {
      "needs_background": "light"
     }
    }
   ],
   "metadata": {}
  },
  {
   "cell_type": "code",
   "execution_count": 22,
   "source": [
    "plt.figure(figsize=(10,5))\r\n",
    "sns.set_style('darkgrid')\r\n",
    "sns.countplot(x='function' ,data=data)\r\n",
    "plt.xticks(rotation=90)\r\n",
    "plt.show()"
   ],
   "outputs": [
    {
     "output_type": "display_data",
     "data": {
      "image/png": "[encoded data removed]",
      "text/plain": [
       "<Figure size 720x360 with 1 Axes>"
      ]
     },
     "metadata": {
      "needs_background": "light"
     }
    }
   ],
   "metadata": {}
  },
  {
   "cell_type": "code",
   "execution_count": 23,
   "source": [
    "data_jobs_fulltime = data[(data['employment_type'] == 'Full-time') & (data['fraudulent'] == 0)]\r\n",
    "data_jobs_fulltime.shape"
   ],
   "outputs": [
    {
     "output_type": "execute_result",
     "data": {
      "text/plain": [
       "(1269, 14)"
      ]
     },
     "metadata": {},
     "execution_count": 23
    }
   ],
   "metadata": {}
  },
  {
   "cell_type": "code",
   "execution_count": 24,
   "source": [
    "data_jobs_fulltime['title'].value_counts()\r\n",
    "\r\n",
    "# Agent-Inbound Sales Position has the most opportunities (12) of a full-time job with no frauds."
   ],
   "outputs": [
    {
     "output_type": "execute_result",
     "data": {
      "text/plain": [
       "Agent-Inbound Sales Position                                12\n",
       "Marketing Manager                                            8\n",
       "Customer Service Representative                              8\n",
       "Account Manager                                              7\n",
       "Technical Support Associate                                  7\n",
       "                                                            ..\n",
       "Sales Executive for Content Marketing Firm                   1\n",
       "Wait Staff Position Available                                1\n",
       "Graduate application - HW Design                             1\n",
       "Senior Quant Analyst                                         1\n",
       "Portfolio Development Associate - Paris & rest of France     1\n",
       "Name: title, Length: 1027, dtype: int64"
      ]
     },
     "metadata": {},
     "execution_count": 24
    }
   ],
   "metadata": {}
  },
  {
   "cell_type": "code",
   "execution_count": 25,
   "source": [
    "data_industry_mostfake = data[data['fraudulent'] == 1]\r\n",
    "data_industry_mostfake.shape"
   ],
   "outputs": [
    {
     "output_type": "execute_result",
     "data": {
      "text/plain": [
       "(82, 14)"
      ]
     },
     "metadata": {},
     "execution_count": 25
    }
   ],
   "metadata": {}
  },
  {
   "cell_type": "code",
   "execution_count": 26,
   "source": [
    "data_industry_mostfake['industry'].value_counts()\r\n",
    "\r\n",
    "# Oil & Energy is the industry with the most fake jobs(19), followed by Real Estate(10)."
   ],
   "outputs": [
    {
     "output_type": "execute_result",
     "data": {
      "text/plain": [
       "Oil & Energy                            19\n",
       "Real Estate                             10\n",
       "Consumer Services                        8\n",
       "Financial Services                       6\n",
       "Computer & Network Security              5\n",
       "Retail                                   4\n",
       "Management Consulting                    3\n",
       "Hospital & Health Care                   2\n",
       "Accounting                               2\n",
       "Telecommunications                       2\n",
       "Hospitality                              2\n",
       "Human Resources                          2\n",
       "Biotechnology                            2\n",
       "Insurance                                2\n",
       "Transportation/Trucking/Railroad         2\n",
       "Construction                             1\n",
       "Defense & Space                          1\n",
       "Computer Networking                      1\n",
       "Mechanical or Industrial Engineering     1\n",
       "Warehousing                              1\n",
       "Media Production                         1\n",
       "Information Services                     1\n",
       "Logistics and Supply Chain               1\n",
       "Security and Investigations              1\n",
       "Military                                 1\n",
       "Electrical/Electronic Manufacturing      1\n",
       "Name: industry, dtype: int64"
      ]
     },
     "metadata": {},
     "execution_count": 26
    }
   ],
   "metadata": {}
  },
  {
   "cell_type": "markdown",
   "source": [
    "## Getting Balanced Dataset"
   ],
   "metadata": {}
  },
  {
   "cell_type": "code",
   "execution_count": 27,
   "source": [
    "data['fraudulent'].value_counts()"
   ],
   "outputs": [
    {
     "output_type": "execute_result",
     "data": {
      "text/plain": [
       "0    1403\n",
       "1      82\n",
       "Name: fraudulent, dtype: int64"
      ]
     },
     "metadata": {},
     "execution_count": 27
    }
   ],
   "metadata": {}
  },
  {
   "cell_type": "code",
   "execution_count": 28,
   "source": [
    "fraud_jobs = data[data['fraudulent'] == 1]\r\n",
    "real_jobs = data[data['fraudulent'] == 0]\r\n",
    "\r\n",
    "fraud_jobs.shape ,real_jobs.shape"
   ],
   "outputs": [
    {
     "output_type": "execute_result",
     "data": {
      "text/plain": [
       "((82, 14), (1403, 14))"
      ]
     },
     "metadata": {},
     "execution_count": 28
    }
   ],
   "metadata": {}
  },
  {
   "cell_type": "code",
   "execution_count": 29,
   "source": [
    "# oversampling 'fraud' dataframe for getting balanced dataset \r\n",
    "fraud_jobs = fraud_jobs.sample(1403 ,replace=True)\r\n",
    "\r\n",
    "fraud_jobs.shape, real_jobs.shape"
   ],
   "outputs": [
    {
     "output_type": "execute_result",
     "data": {
      "text/plain": [
       "((1403, 14), (1403, 14))"
      ]
     },
     "metadata": {},
     "execution_count": 29
    }
   ],
   "metadata": {}
  },
  {
   "cell_type": "code",
   "execution_count": 30,
   "source": [
    "data = fraud_jobs.append(real_jobs)\r\n",
    "data.reset_index()"
   ],
   "outputs": [
    {
     "output_type": "execute_result",
     "data": {
      "text/html": [
       "<div>\n",
       "<style scoped>\n",
       "    .dataframe tbody tr th:only-of-type {\n",
       "        vertical-align: middle;\n",
       "    }\n",
       "\n",
       "    .dataframe tbody tr th {\n",
       "        vertical-align: top;\n",
       "    }\n",
       "\n",
       "    .dataframe thead th {\n",
       "        text-align: right;\n",
       "    }\n",
       "</style>\n",
       "<table border=\"1\" class=\"dataframe\">\n",
       "  <thead>\n",
       "    <tr style=\"text-align: right;\">\n",
       "      <th></th>\n",
       "      <th>index</th>\n",
       "      <th>title</th>\n",
       "      <th>location</th>\n",
       "      <th>company_profile</th>\n",
       "      <th>requirements</th>\n",
       "      <th>telecommuting</th>\n",
       "      <th>has_company_logo</th>\n",
       "      <th>has_questions</th>\n",
       "      <th>employment_type</th>\n",
       "      <th>required_experience</th>\n",
       "      <th>required_education</th>\n",
       "      <th>industry</th>\n",
       "      <th>function</th>\n",
       "      <th>salary_range</th>\n",
       "      <th>fraudulent</th>\n",
       "    </tr>\n",
       "  </thead>\n",
       "  <tbody>\n",
       "    <tr>\n",
       "      <th>0</th>\n",
       "      <td>6505</td>\n",
       "      <td>SECURITY OFFICER</td>\n",
       "      <td>US, TX, AUSTIN</td>\n",
       "      <td>The Accion  story began more than 100 years ag...</td>\n",
       "      <td>High School diploma or GED. One (1) year relat...</td>\n",
       "      <td>0</td>\n",
       "      <td>1</td>\n",
       "      <td>1</td>\n",
       "      <td>Full-time</td>\n",
       "      <td>Entry level</td>\n",
       "      <td>High School or equivalent</td>\n",
       "      <td>Security and Investigations</td>\n",
       "      <td>Customer Service</td>\n",
       "      <td>28000-32000</td>\n",
       "      <td>1</td>\n",
       "    </tr>\n",
       "    <tr>\n",
       "      <th>1</th>\n",
       "      <td>5838</td>\n",
       "      <td>UST Testing Technician III</td>\n",
       "      <td>US, CA, Bakersfield, CA</td>\n",
       "      <td>Jaco Oil and Refined Resources have partnered ...</td>\n",
       "      <td>Responsibilities &amp;amp; Position Requirements:T...</td>\n",
       "      <td>0</td>\n",
       "      <td>1</td>\n",
       "      <td>1</td>\n",
       "      <td>Full-time</td>\n",
       "      <td>Mid-Senior level</td>\n",
       "      <td>Certification</td>\n",
       "      <td>Oil &amp; Energy</td>\n",
       "      <td>Other</td>\n",
       "      <td>70000-80000</td>\n",
       "      <td>1</td>\n",
       "    </tr>\n",
       "    <tr>\n",
       "      <th>2</th>\n",
       "      <td>215</td>\n",
       "      <td>IC&amp;E Technician Mt Poso</td>\n",
       "      <td>US, CA, Bakersfield, CA / Mt. Poso</td>\n",
       "      <td>...</td>\n",
       "      <td>QualificationsKnowledge, Skills &amp;amp; Abiliti...</td>\n",
       "      <td>0</td>\n",
       "      <td>1</td>\n",
       "      <td>1</td>\n",
       "      <td>Full-time</td>\n",
       "      <td>Mid-Senior level</td>\n",
       "      <td>High School or equivalent</td>\n",
       "      <td>Oil &amp; Energy</td>\n",
       "      <td>Other</td>\n",
       "      <td>95000-115000</td>\n",
       "      <td>1</td>\n",
       "    </tr>\n",
       "    <tr>\n",
       "      <th>3</th>\n",
       "      <td>8690</td>\n",
       "      <td>Payroll Clerk</td>\n",
       "      <td>US, GA,</td>\n",
       "      <td>Basil Lifecare Pvt. Ltd. is a Wellness &amp;amp; P...</td>\n",
       "      <td>• High school diploma or equivalent• Excellent...</td>\n",
       "      <td>0</td>\n",
       "      <td>0</td>\n",
       "      <td>0</td>\n",
       "      <td>Full-time</td>\n",
       "      <td>Entry level</td>\n",
       "      <td>High School or equivalent</td>\n",
       "      <td>Hospital &amp; Health Care</td>\n",
       "      <td>Financial Analyst</td>\n",
       "      <td>35000-40000</td>\n",
       "      <td>1</td>\n",
       "    </tr>\n",
       "    <tr>\n",
       "      <th>4</th>\n",
       "      <td>17734</td>\n",
       "      <td>Customer Service Representative</td>\n",
       "      <td>US, TX, Houston</td>\n",
       "      <td>Gary Cartwright established Cartwright Propert...</td>\n",
       "      <td>Home Computer with Internet AccessBasic Comput...</td>\n",
       "      <td>1</td>\n",
       "      <td>1</td>\n",
       "      <td>0</td>\n",
       "      <td>Full-time</td>\n",
       "      <td>Entry level</td>\n",
       "      <td>High School or equivalent</td>\n",
       "      <td>Real Estate</td>\n",
       "      <td>Customer Service</td>\n",
       "      <td>30000-50000</td>\n",
       "      <td>1</td>\n",
       "    </tr>\n",
       "    <tr>\n",
       "      <th>...</th>\n",
       "      <td>...</td>\n",
       "      <td>...</td>\n",
       "      <td>...</td>\n",
       "      <td>...</td>\n",
       "      <td>...</td>\n",
       "      <td>...</td>\n",
       "      <td>...</td>\n",
       "      <td>...</td>\n",
       "      <td>...</td>\n",
       "      <td>...</td>\n",
       "      <td>...</td>\n",
       "      <td>...</td>\n",
       "      <td>...</td>\n",
       "      <td>...</td>\n",
       "      <td>...</td>\n",
       "    </tr>\n",
       "    <tr>\n",
       "      <th>2801</th>\n",
       "      <td>17439</td>\n",
       "      <td>Senior Trusts Manager</td>\n",
       "      <td>GB, LND, Kingston upon Thames</td>\n",
       "      <td>VSO brings people together to fight poverty by...</td>\n",
       "      <td>The applicantVSO is looking for an individual ...</td>\n",
       "      <td>0</td>\n",
       "      <td>0</td>\n",
       "      <td>0</td>\n",
       "      <td>Full-time</td>\n",
       "      <td>Mid-Senior level</td>\n",
       "      <td>Bachelor's Degree</td>\n",
       "      <td>International Trade and Development</td>\n",
       "      <td>Business Development</td>\n",
       "      <td>39000-41000</td>\n",
       "      <td>0</td>\n",
       "    </tr>\n",
       "    <tr>\n",
       "      <th>2802</th>\n",
       "      <td>17488</td>\n",
       "      <td>Management Accountant</td>\n",
       "      <td>NZ, N, Auckland</td>\n",
       "      <td>PowerbyProxi and its customers are leading a r...</td>\n",
       "      <td>Reporting to the CFO, the Management Accountan...</td>\n",
       "      <td>0</td>\n",
       "      <td>1</td>\n",
       "      <td>0</td>\n",
       "      <td>Contract</td>\n",
       "      <td>Mid-Senior level</td>\n",
       "      <td>Bachelor's Degree</td>\n",
       "      <td>Electrical/Electronic Manufacturing</td>\n",
       "      <td>Finance</td>\n",
       "      <td>100000-110000</td>\n",
       "      <td>0</td>\n",
       "    </tr>\n",
       "    <tr>\n",
       "      <th>2803</th>\n",
       "      <td>17515</td>\n",
       "      <td>Marketing manager</td>\n",
       "      <td>GR, B, Thessaloniki</td>\n",
       "      <td>A vacation rental platform that will re-invent...</td>\n",
       "      <td>Perfect use of English and Greek language. Soc...</td>\n",
       "      <td>0</td>\n",
       "      <td>1</td>\n",
       "      <td>0</td>\n",
       "      <td>Part-time</td>\n",
       "      <td>Associate</td>\n",
       "      <td>Bachelor's Degree</td>\n",
       "      <td>Leisure, Travel &amp; Tourism</td>\n",
       "      <td>Marketing</td>\n",
       "      <td>5000-7000</td>\n",
       "      <td>0</td>\n",
       "    </tr>\n",
       "    <tr>\n",
       "      <th>2804</th>\n",
       "      <td>17849</td>\n",
       "      <td>Communication Designer</td>\n",
       "      <td>US, CA, San Francisco</td>\n",
       "      <td>Balanced Labs exists to provide accountants an...</td>\n",
       "      <td>Specifically, we’re looking for:5+ years of vi...</td>\n",
       "      <td>0</td>\n",
       "      <td>1</td>\n",
       "      <td>0</td>\n",
       "      <td>Full-time</td>\n",
       "      <td>Mid-Senior level</td>\n",
       "      <td>Bachelor's Degree</td>\n",
       "      <td>Computer Software</td>\n",
       "      <td>Design</td>\n",
       "      <td>80000-100000</td>\n",
       "      <td>0</td>\n",
       "    </tr>\n",
       "    <tr>\n",
       "      <th>2805</th>\n",
       "      <td>17865</td>\n",
       "      <td>Portfolio Development Associate - Paris &amp; rest...</td>\n",
       "      <td>GB, LND, London</td>\n",
       "      <td>We're hiring!AvenueStory is a concept driven b...</td>\n",
       "      <td>Comfortable on the phone, fluent in French and...</td>\n",
       "      <td>0</td>\n",
       "      <td>1</td>\n",
       "      <td>1</td>\n",
       "      <td>Full-time</td>\n",
       "      <td>Entry level</td>\n",
       "      <td>Bachelor's Degree</td>\n",
       "      <td>Real Estate</td>\n",
       "      <td>Sales</td>\n",
       "      <td>18000-20000</td>\n",
       "      <td>0</td>\n",
       "    </tr>\n",
       "  </tbody>\n",
       "</table>\n",
       "<p>2806 rows × 15 columns</p>\n",
       "</div>"
      ],
      "text/plain": [
       "      index                                              title  \\\n",
       "0      6505                                  SECURITY OFFICER    \n",
       "1      5838                         UST Testing Technician III   \n",
       "2       215                            IC&E Technician Mt Poso   \n",
       "3      8690                                      Payroll Clerk   \n",
       "4     17734                    Customer Service Representative   \n",
       "...     ...                                                ...   \n",
       "2801  17439                              Senior Trusts Manager   \n",
       "2802  17488                              Management Accountant   \n",
       "2803  17515                                  Marketing manager   \n",
       "2804  17849                             Communication Designer   \n",
       "2805  17865  Portfolio Development Associate - Paris & rest...   \n",
       "\n",
       "                                location  \\\n",
       "0                         US, TX, AUSTIN   \n",
       "1                US, CA, Bakersfield, CA   \n",
       "2     US, CA, Bakersfield, CA / Mt. Poso   \n",
       "3                               US, GA,    \n",
       "4                        US, TX, Houston   \n",
       "...                                  ...   \n",
       "2801       GB, LND, Kingston upon Thames   \n",
       "2802                     NZ, N, Auckland   \n",
       "2803                 GR, B, Thessaloniki   \n",
       "2804               US, CA, San Francisco   \n",
       "2805                     GB, LND, London   \n",
       "\n",
       "                                        company_profile  \\\n",
       "0     The Accion  story began more than 100 years ag...   \n",
       "1     Jaco Oil and Refined Resources have partnered ...   \n",
       "2                                                   ...   \n",
       "3     Basil Lifecare Pvt. Ltd. is a Wellness &amp; P...   \n",
       "4     Gary Cartwright established Cartwright Propert...   \n",
       "...                                                 ...   \n",
       "2801  VSO brings people together to fight poverty by...   \n",
       "2802  PowerbyProxi and its customers are leading a r...   \n",
       "2803  A vacation rental platform that will re-invent...   \n",
       "2804  Balanced Labs exists to provide accountants an...   \n",
       "2805  We're hiring!AvenueStory is a concept driven b...   \n",
       "\n",
       "                                           requirements  telecommuting  \\\n",
       "0     High School diploma or GED. One (1) year relat...              0   \n",
       "1     Responsibilities &amp; Position Requirements:T...              0   \n",
       "2      QualificationsKnowledge, Skills &amp; Abiliti...              0   \n",
       "3     • High school diploma or equivalent• Excellent...              0   \n",
       "4     Home Computer with Internet AccessBasic Comput...              1   \n",
       "...                                                 ...            ...   \n",
       "2801  The applicantVSO is looking for an individual ...              0   \n",
       "2802  Reporting to the CFO, the Management Accountan...              0   \n",
       "2803  Perfect use of English and Greek language. Soc...              0   \n",
       "2804  Specifically, we’re looking for:5+ years of vi...              0   \n",
       "2805  Comfortable on the phone, fluent in French and...              0   \n",
       "\n",
       "      has_company_logo  has_questions employment_type required_experience  \\\n",
       "0                    1              1       Full-time         Entry level   \n",
       "1                    1              1       Full-time    Mid-Senior level   \n",
       "2                    1              1       Full-time    Mid-Senior level   \n",
       "3                    0              0       Full-time         Entry level   \n",
       "4                    1              0       Full-time         Entry level   \n",
       "...                ...            ...             ...                 ...   \n",
       "2801                 0              0       Full-time    Mid-Senior level   \n",
       "2802                 1              0        Contract    Mid-Senior level   \n",
       "2803                 1              0       Part-time           Associate   \n",
       "2804                 1              0       Full-time    Mid-Senior level   \n",
       "2805                 1              1       Full-time         Entry level   \n",
       "\n",
       "             required_education                             industry  \\\n",
       "0     High School or equivalent          Security and Investigations   \n",
       "1                 Certification                         Oil & Energy   \n",
       "2     High School or equivalent                         Oil & Energy   \n",
       "3     High School or equivalent               Hospital & Health Care   \n",
       "4     High School or equivalent                          Real Estate   \n",
       "...                         ...                                  ...   \n",
       "2801          Bachelor's Degree  International Trade and Development   \n",
       "2802          Bachelor's Degree  Electrical/Electronic Manufacturing   \n",
       "2803          Bachelor's Degree            Leisure, Travel & Tourism   \n",
       "2804          Bachelor's Degree                    Computer Software   \n",
       "2805          Bachelor's Degree                          Real Estate   \n",
       "\n",
       "                  function   salary_range  fraudulent  \n",
       "0         Customer Service    28000-32000           1  \n",
       "1                    Other    70000-80000           1  \n",
       "2                    Other   95000-115000           1  \n",
       "3        Financial Analyst    35000-40000           1  \n",
       "4         Customer Service    30000-50000           1  \n",
       "...                    ...            ...         ...  \n",
       "2801  Business Development    39000-41000           0  \n",
       "2802               Finance  100000-110000           0  \n",
       "2803             Marketing      5000-7000           0  \n",
       "2804                Design   80000-100000           0  \n",
       "2805                 Sales    18000-20000           0  \n",
       "\n",
       "[2806 rows x 15 columns]"
      ]
     },
     "metadata": {},
     "execution_count": 30
    }
   ],
   "metadata": {}
  },
  {
   "cell_type": "markdown",
   "source": [
    "## Encoding "
   ],
   "metadata": {}
  },
  {
   "cell_type": "code",
   "execution_count": 31,
   "source": [
    "data_categ.columns"
   ],
   "outputs": [
    {
     "output_type": "execute_result",
     "data": {
      "text/plain": [
       "Index(['title', 'location', 'company_profile', 'requirements',\n",
       "       'employment_type', 'required_experience', 'required_education',\n",
       "       'industry', 'function'],\n",
       "      dtype='object')"
      ]
     },
     "metadata": {},
     "execution_count": 31
    }
   ],
   "metadata": {}
  },
  {
   "cell_type": "code",
   "execution_count": 32,
   "source": [
    "from sklearn.preprocessing import LabelEncoder \r\n",
    "le = LabelEncoder()"
   ],
   "outputs": [],
   "metadata": {}
  },
  {
   "cell_type": "code",
   "execution_count": 33,
   "source": [
    "data['title'] = le.fit_transform(data['title'])\r\n",
    "data['location'] = le.fit_transform(data['location'])\r\n",
    "data['company_profile'] = le.fit_transform(data['company_profile'])\r\n",
    "data['requirements'] = le.fit_transform(data['requirements'])\r\n",
    "data['employment_type'] = le.fit_transform(data['employment_type'])\r\n",
    "data['required_experience'] = le.fit_transform(data['required_experience'])\r\n",
    "data['required_education'] = le.fit_transform(data['required_education'])\r\n",
    "data['industry'] = le.fit_transform(data['industry'])\r\n",
    "data['function'] = le.fit_transform(data['function'])\r\n",
    "data['salary_range'] = le.fit_transform(data['salary_range'])\r\n"
   ],
   "outputs": [],
   "metadata": {}
  },
  {
   "cell_type": "code",
   "execution_count": 34,
   "source": [
    "data.reset_index()\r\n",
    "data.head()"
   ],
   "outputs": [
    {
     "output_type": "execute_result",
     "data": {
      "text/html": [
       "<div>\n",
       "<style scoped>\n",
       "    .dataframe tbody tr th:only-of-type {\n",
       "        vertical-align: middle;\n",
       "    }\n",
       "\n",
       "    .dataframe tbody tr th {\n",
       "        vertical-align: top;\n",
       "    }\n",
       "\n",
       "    .dataframe thead th {\n",
       "        text-align: right;\n",
       "    }\n",
       "</style>\n",
       "<table border=\"1\" class=\"dataframe\">\n",
       "  <thead>\n",
       "    <tr style=\"text-align: right;\">\n",
       "      <th></th>\n",
       "      <th>title</th>\n",
       "      <th>location</th>\n",
       "      <th>company_profile</th>\n",
       "      <th>requirements</th>\n",
       "      <th>telecommuting</th>\n",
       "      <th>has_company_logo</th>\n",
       "      <th>has_questions</th>\n",
       "      <th>employment_type</th>\n",
       "      <th>required_experience</th>\n",
       "      <th>required_education</th>\n",
       "      <th>industry</th>\n",
       "      <th>function</th>\n",
       "      <th>salary_range</th>\n",
       "      <th>fraudulent</th>\n",
       "    </tr>\n",
       "  </thead>\n",
       "  <tbody>\n",
       "    <tr>\n",
       "      <th>6505</th>\n",
       "      <td>875</td>\n",
       "      <td>393</td>\n",
       "      <td>326</td>\n",
       "      <td>533</td>\n",
       "      <td>0</td>\n",
       "      <td>1</td>\n",
       "      <td>1</td>\n",
       "      <td>1</td>\n",
       "      <td>2</td>\n",
       "      <td>4</td>\n",
       "      <td>81</td>\n",
       "      <td>7</td>\n",
       "      <td>241</td>\n",
       "      <td>1</td>\n",
       "    </tr>\n",
       "    <tr>\n",
       "      <th>5838</th>\n",
       "      <td>1139</td>\n",
       "      <td>230</td>\n",
       "      <td>194</td>\n",
       "      <td>895</td>\n",
       "      <td>0</td>\n",
       "      <td>1</td>\n",
       "      <td>1</td>\n",
       "      <td>1</td>\n",
       "      <td>5</td>\n",
       "      <td>2</td>\n",
       "      <td>63</td>\n",
       "      <td>23</td>\n",
       "      <td>446</td>\n",
       "      <td>1</td>\n",
       "    </tr>\n",
       "    <tr>\n",
       "      <th>215</th>\n",
       "      <td>499</td>\n",
       "      <td>231</td>\n",
       "      <td>440</td>\n",
       "      <td>1276</td>\n",
       "      <td>0</td>\n",
       "      <td>1</td>\n",
       "      <td>1</td>\n",
       "      <td>1</td>\n",
       "      <td>5</td>\n",
       "      <td>4</td>\n",
       "      <td>63</td>\n",
       "      <td>23</td>\n",
       "      <td>501</td>\n",
       "      <td>1</td>\n",
       "    </tr>\n",
       "    <tr>\n",
       "      <th>8690</th>\n",
       "      <td>764</td>\n",
       "      <td>284</td>\n",
       "      <td>66</td>\n",
       "      <td>1294</td>\n",
       "      <td>0</td>\n",
       "      <td>0</td>\n",
       "      <td>0</td>\n",
       "      <td>1</td>\n",
       "      <td>2</td>\n",
       "      <td>4</td>\n",
       "      <td>39</td>\n",
       "      <td>14</td>\n",
       "      <td>300</td>\n",
       "      <td>1</td>\n",
       "    </tr>\n",
       "    <tr>\n",
       "      <th>17734</th>\n",
       "      <td>238</td>\n",
       "      <td>408</td>\n",
       "      <td>161</td>\n",
       "      <td>544</td>\n",
       "      <td>1</td>\n",
       "      <td>1</td>\n",
       "      <td>0</td>\n",
       "      <td>1</td>\n",
       "      <td>2</td>\n",
       "      <td>4</td>\n",
       "      <td>75</td>\n",
       "      <td>7</td>\n",
       "      <td>270</td>\n",
       "      <td>1</td>\n",
       "    </tr>\n",
       "  </tbody>\n",
       "</table>\n",
       "</div>"
      ],
      "text/plain": [
       "       title  location  company_profile  requirements  telecommuting  \\\n",
       "6505     875       393              326           533              0   \n",
       "5838    1139       230              194           895              0   \n",
       "215      499       231              440          1276              0   \n",
       "8690     764       284               66          1294              0   \n",
       "17734    238       408              161           544              1   \n",
       "\n",
       "       has_company_logo  has_questions  employment_type  required_experience  \\\n",
       "6505                  1              1                1                    2   \n",
       "5838                  1              1                1                    5   \n",
       "215                   1              1                1                    5   \n",
       "8690                  0              0                1                    2   \n",
       "17734                 1              0                1                    2   \n",
       "\n",
       "       required_education  industry  function  salary_range  fraudulent  \n",
       "6505                    4        81         7           241           1  \n",
       "5838                    2        63        23           446           1  \n",
       "215                     4        63        23           501           1  \n",
       "8690                    4        39        14           300           1  \n",
       "17734                   4        75         7           270           1  "
      ]
     },
     "metadata": {},
     "execution_count": 34
    }
   ],
   "metadata": {}
  },
  {
   "cell_type": "code",
   "execution_count": 35,
   "source": [
    "data.shape"
   ],
   "outputs": [
    {
     "output_type": "execute_result",
     "data": {
      "text/plain": [
       "(2806, 14)"
      ]
     },
     "metadata": {},
     "execution_count": 35
    }
   ],
   "metadata": {}
  },
  {
   "cell_type": "markdown",
   "source": [
    "# Model Building"
   ],
   "metadata": {}
  },
  {
   "cell_type": "code",
   "execution_count": 36,
   "source": [
    "X = data[['title', 'location', 'company_profile', 'requirements','telecommuting', 'has_company_logo', 'has_questions', 'employment_type',\r\n",
    "'required_experience', 'required_education', 'industry', 'function',\r\n",
    "'salary_range']].values \r\n",
    "\r\n",
    "y = data['fraudulent'].values\r\n"
   ],
   "outputs": [],
   "metadata": {}
  },
  {
   "cell_type": "code",
   "execution_count": 37,
   "source": [
    "from sklearn.model_selection import train_test_split\r\n",
    "X_train, X_test, y_train, y_test = train_test_split( X, y, test_size=0.33)\r\n",
    "\r\n",
    "X_train.shape, X_test.shape, y_train.shape, y_test.shape"
   ],
   "outputs": [
    {
     "output_type": "execute_result",
     "data": {
      "text/plain": [
       "((1880, 13), (926, 13), (1880,), (926,))"
      ]
     },
     "metadata": {},
     "execution_count": 37
    }
   ],
   "metadata": {}
  },
  {
   "cell_type": "markdown",
   "source": [
    "## Logistic Regression "
   ],
   "metadata": {}
  },
  {
   "cell_type": "code",
   "execution_count": 38,
   "source": [
    "from sklearn.linear_model import LogisticRegression \r\n",
    "\r\n",
    "lr = LogisticRegression(solver='lbfgs', max_iter=3000)\r\n",
    "lr.fit(X_train ,y_train)\r\n",
    "y_predict_lr = lr.predict(X_test)"
   ],
   "outputs": [],
   "metadata": {}
  },
  {
   "cell_type": "code",
   "execution_count": 39,
   "source": [
    "from sklearn.metrics import accuracy_score \r\n",
    "print('Accuracy score using Logistic Regression :',accuracy_score(y_test ,y_predict_lr))"
   ],
   "outputs": [
    {
     "output_type": "stream",
     "name": "stdout",
     "text": [
      "Accuracy score using Logistic Regression : 0.7699784017278618\n"
     ]
    }
   ],
   "metadata": {}
  },
  {
   "cell_type": "markdown",
   "source": [
    "## KNN"
   ],
   "metadata": {}
  },
  {
   "cell_type": "code",
   "execution_count": 40,
   "source": [
    "from sklearn.neighbors import KNeighborsClassifier \r\n",
    "knn = KNeighborsClassifier()"
   ],
   "outputs": [],
   "metadata": {}
  },
  {
   "cell_type": "code",
   "execution_count": 41,
   "source": [
    "# choosing best number of neighbors for our model\r\n",
    "neighbors_with_accuracies = {}\r\n",
    "\r\n",
    "for i in range(1,20):\r\n",
    "    knn = KNeighborsClassifier(n_neighbors=i)\r\n",
    "    knn.fit(X_train ,y_train)\r\n",
    "    y_pred_knn = knn.predict(X_test)\r\n",
    "    acc = accuracy_score(y_test ,y_pred_knn)\r\n",
    "    neighbors_with_accuracies[i] = acc\r\n"
   ],
   "outputs": [],
   "metadata": {}
  },
  {
   "cell_type": "code",
   "execution_count": 42,
   "source": [
    "neighbors_with_accuracies"
   ],
   "outputs": [
    {
     "output_type": "execute_result",
     "data": {
      "text/plain": [
       "{1: 0.9816414686825053,\n",
       " 2: 0.9816414686825053,\n",
       " 3: 0.9557235421166307,\n",
       " 4: 0.9557235421166307,\n",
       " 5: 0.9395248380129589,\n",
       " 6: 0.9395248380129589,\n",
       " 7: 0.91792656587473,\n",
       " 8: 0.91792656587473,\n",
       " 9: 0.906047516198704,\n",
       " 10: 0.906047516198704,\n",
       " 11: 0.8930885529157667,\n",
       " 12: 0.8930885529157667,\n",
       " 13: 0.8747300215982722,\n",
       " 14: 0.8768898488120951,\n",
       " 15: 0.8617710583153347,\n",
       " 16: 0.8509719222462203,\n",
       " 17: 0.8401727861771058,\n",
       " 18: 0.8401727861771058,\n",
       " 19: 0.8336933045356372}"
      ]
     },
     "metadata": {},
     "execution_count": 42
    }
   ],
   "metadata": {}
  },
  {
   "cell_type": "code",
   "execution_count": 43,
   "source": [
    "max(neighbors_with_accuracies.values())"
   ],
   "outputs": [
    {
     "output_type": "execute_result",
     "data": {
      "text/plain": [
       "0.9816414686825053"
      ]
     },
     "metadata": {},
     "execution_count": 43
    }
   ],
   "metadata": {}
  },
  {
   "cell_type": "code",
   "execution_count": 44,
   "source": [
    "knn = KNeighborsClassifier(n_neighbors=2)\r\n",
    "knn.fit(X_train, y_train)\r\n"
   ],
   "outputs": [
    {
     "output_type": "execute_result",
     "data": {
      "text/plain": [
       "KNeighborsClassifier(n_neighbors=2)"
      ]
     },
     "metadata": {},
     "execution_count": 44
    }
   ],
   "metadata": {}
  },
  {
   "cell_type": "code",
   "execution_count": 45,
   "source": [
    "y_predict_knn = knn.predict(X_test)\r\n",
    "print(\"Accuracy Score using KNN:\", accuracy_score(y_test, y_predict_knn))"
   ],
   "outputs": [
    {
     "output_type": "stream",
     "name": "stdout",
     "text": [
      "Accuracy Score using KNN: 0.9816414686825053\n"
     ]
    }
   ],
   "metadata": {}
  },
  {
   "cell_type": "markdown",
   "source": [
    "## Random Forest"
   ],
   "metadata": {}
  },
  {
   "cell_type": "code",
   "execution_count": 46,
   "source": [
    "from sklearn.ensemble import RandomForestClassifier \r\n",
    "rf = RandomForestClassifier()\r\n",
    "rf.fit(X_train ,y_train)"
   ],
   "outputs": [
    {
     "output_type": "execute_result",
     "data": {
      "text/plain": [
       "RandomForestClassifier()"
      ]
     },
     "metadata": {},
     "execution_count": 46
    }
   ],
   "metadata": {}
  },
  {
   "cell_type": "code",
   "execution_count": 47,
   "source": [
    "y_predict_rf = rf.predict(X_test)\r\n",
    "print(\"Accuracy Score using Random Forest:\", accuracy_score(y_test, y_predict_rf))\r\n"
   ],
   "outputs": [
    {
     "output_type": "stream",
     "name": "stdout",
     "text": [
      "Accuracy Score using Random Forest: 0.9989200863930886\n"
     ]
    }
   ],
   "metadata": {}
  },
  {
   "cell_type": "markdown",
   "source": [
    "# Model Evaluation"
   ],
   "metadata": {}
  },
  {
   "cell_type": "code",
   "execution_count": 48,
   "source": [
    "# creating Dataframe to check which model was the best\r\n",
    "\r\n",
    "models = pd.DataFrame({\r\n",
    "    'Model': ['Logistic Regression', 'KNN',  'Random Forest'],\r\n",
    "    'Score': [accuracy_score(y_test, y_predict_lr),\r\n",
    "            accuracy_score(y_test, y_predict_knn),\r\n",
    "            accuracy_score(y_test, y_predict_rf),\r\n",
    "            ]\r\n",
    "    })\r\n",
    "\r\n",
    "models.sort_values(by='Score', ascending=False)\r\n"
   ],
   "outputs": [
    {
     "output_type": "execute_result",
     "data": {
      "text/html": [
       "<div>\n",
       "<style scoped>\n",
       "    .dataframe tbody tr th:only-of-type {\n",
       "        vertical-align: middle;\n",
       "    }\n",
       "\n",
       "    .dataframe tbody tr th {\n",
       "        vertical-align: top;\n",
       "    }\n",
       "\n",
       "    .dataframe thead th {\n",
       "        text-align: right;\n",
       "    }\n",
       "</style>\n",
       "<table border=\"1\" class=\"dataframe\">\n",
       "  <thead>\n",
       "    <tr style=\"text-align: right;\">\n",
       "      <th></th>\n",
       "      <th>Model</th>\n",
       "      <th>Score</th>\n",
       "    </tr>\n",
       "  </thead>\n",
       "  <tbody>\n",
       "    <tr>\n",
       "      <th>2</th>\n",
       "      <td>Random Forest</td>\n",
       "      <td>0.998920</td>\n",
       "    </tr>\n",
       "    <tr>\n",
       "      <th>1</th>\n",
       "      <td>KNN</td>\n",
       "      <td>0.981641</td>\n",
       "    </tr>\n",
       "    <tr>\n",
       "      <th>0</th>\n",
       "      <td>Logistic Regression</td>\n",
       "      <td>0.769978</td>\n",
       "    </tr>\n",
       "  </tbody>\n",
       "</table>\n",
       "</div>"
      ],
      "text/plain": [
       "                 Model     Score\n",
       "2        Random Forest  0.998920\n",
       "1                  KNN  0.981641\n",
       "0  Logistic Regression  0.769978"
      ]
     },
     "metadata": {},
     "execution_count": 48
    }
   ],
   "metadata": {}
  }
 ],
 "metadata": {
  "orig_nbformat": 4,
  "language_info": {
   "name": "python",
   "version": "3.9.0",
   "mimetype": "text/x-python",
   "codemirror_mode": {
    "name": "ipython",
    "version": 3
   },
   "pygments_lexer": "ipython3",
   "nbconvert_exporter": "python",
   "file_extension": ".py"
  },
  "kernelspec": {
   "name": "python3",
   "display_name": "Python 3.9.0 64-bit"
  },
  "interpreter": {
   "hash": "85db6da7787130e1a460985840952276764ba71a5c880e584e8b35b38fecc972"
  }
 },
 "nbformat": 4,
 "nbformat_minor": 2
}
