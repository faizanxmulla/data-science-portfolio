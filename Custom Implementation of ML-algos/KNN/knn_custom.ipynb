{
 "cells": [
  {
   "cell_type": "markdown",
   "source": [
    "## Importing Libraries"
   ],
   "metadata": {}
  },
  {
   "cell_type": "code",
   "execution_count": 1,
   "source": [
    "import numpy as np \r\n",
    "import matplotlib.pyplot as plt"
   ],
   "outputs": [],
   "metadata": {}
  },
  {
   "cell_type": "markdown",
   "source": [
    "## Custom implementation of KNN"
   ],
   "metadata": {}
  },
  {
   "cell_type": "code",
   "execution_count": 2,
   "source": [
    "class CustomKNN:\r\n",
    "    # choosing neighbours as odd to avoid ties\r\n",
    "    def __init__(self, k=5):\r\n",
    "        self.k = k\r\n",
    "\r\n",
    "    def fit(self,X,y):\r\n",
    "        self._X = X.astype(np.int64)\r\n",
    "        self._y = y\r\n",
    "\r\n",
    "    # given a single point, it predicts which class it belongs to \r\n",
    "    def predict_pt(self,pt):\r\n",
    "        # list for storing the distance of given point \"pt\" from each point in training data\r\n",
    "        list_pt=[]\r\n",
    "\r\n",
    "        for x_pt,y_pt in zip(self._X ,self._y):\r\n",
    "            # calculation of Euclidean distance\r\n",
    "            euclidean_dist =((pt - x_pt)**2).sum()\r\n",
    "            # this list consists of sublists which consist of distance from given point and the class to which it belongs to\r\n",
    "            list_pt.append([euclidean_dist,y_pt])\r\n",
    "\r\n",
    "        # sorting the calculated distances in ascending order based on distance values\r\n",
    "        sorted_dist =sorted(list_pt)\r\n",
    "        # getting top k rows from the sorted array\r\n",
    "        top_k = sorted_dist[:self.k]\r\n",
    "        # Get the most frequent class of these rows\r\n",
    "        # [:,1] because we want unique values of class & not dist(by default)\r\n",
    "        items,counts = np.unique(np.array(top_k)[:,1],return_counts=True)\r\n",
    "        #argmax will return the indices of the maximum values along an axis\r\n",
    "        res = items[np.argmax(counts)]\r\n",
    "        return res\r\n",
    "\r\n",
    "    # to provide answer for each number in the array \r\n",
    "    def predict(self,X):\r\n",
    "        results = []\r\n",
    "        for pt in X:\r\n",
    "            results.append(self.predict_pt(pt))\r\n",
    "        return np.array(results,dtype= int)\r\n",
    "        \r\n",
    "    # to calculate the accuracy of our model\r\n",
    "    def accuracy(self,X,y):\r\n",
    "        return sum(self.predict(X)==y)/len(y)\r\n",
    "        "
   ],
   "outputs": [],
   "metadata": {}
  },
  {
   "cell_type": "markdown",
   "source": [
    "## Getting Data & Selecting Features"
   ],
   "metadata": {}
  },
  {
   "cell_type": "code",
   "execution_count": 3,
   "source": [
    "data = np.load(\"./dataset/mnist_train_small.npy\")\r\n",
    "X,y = data[:, 1:], data[:, 0]"
   ],
   "outputs": [],
   "metadata": {}
  },
  {
   "cell_type": "markdown",
   "source": [
    "## Model Building"
   ],
   "metadata": {}
  },
  {
   "cell_type": "code",
   "execution_count": 4,
   "source": [
    "from sklearn.model_selection import train_test_split\r\n",
    "X_train, X_test, y_train, y_test = train_test_split(X, y, test_size=0.33, random_state=42)"
   ],
   "outputs": [],
   "metadata": {}
  },
  {
   "cell_type": "code",
   "execution_count": 5,
   "source": [
    "model = CustomKNN(k=3)\r\n",
    "model.fit(X_train ,y_train)"
   ],
   "outputs": [],
   "metadata": {}
  },
  {
   "cell_type": "code",
   "execution_count": 6,
   "source": [
    "model.predict(X_test[:10])"
   ],
   "outputs": [
    {
     "output_type": "execute_result",
     "data": {
      "text/plain": [
       "array([1, 7, 0, 9, 4, 5, 4, 6, 9, 2])"
      ]
     },
     "metadata": {},
     "execution_count": 6
    }
   ],
   "metadata": {}
  },
  {
   "cell_type": "code",
   "execution_count": 7,
   "source": [
    "y_test[:10]"
   ],
   "outputs": [
    {
     "output_type": "execute_result",
     "data": {
      "text/plain": [
       "array([7, 7, 0, 9, 4, 5, 4, 6, 9, 2], dtype=uint8)"
      ]
     },
     "metadata": {},
     "execution_count": 7
    }
   ],
   "metadata": {}
  },
  {
   "cell_type": "code",
   "execution_count": 8,
   "source": [
    "model.accuracy(X_test[:100], y_test[:100])"
   ],
   "outputs": [
    {
     "output_type": "execute_result",
     "data": {
      "text/plain": [
       "0.96"
      ]
     },
     "metadata": {},
     "execution_count": 8
    }
   ],
   "metadata": {}
  }
 ],
 "metadata": {
  "interpreter": {
   "hash": "85db6da7787130e1a460985840952276764ba71a5c880e584e8b35b38fecc972"
  },
  "kernelspec": {
   "name": "python3",
   "display_name": "Python 3.9.0 64-bit"
  },
  "language_info": {
   "codemirror_mode": {
    "name": "ipython",
    "version": 3
   },
   "file_extension": ".py",
   "mimetype": "text/x-python",
   "name": "python",
   "nbconvert_exporter": "python",
   "pygments_lexer": "ipython3",
   "version": "3.9.0"
  },
  "orig_nbformat": 4
 },
 "nbformat": 4,
 "nbformat_minor": 2
}
