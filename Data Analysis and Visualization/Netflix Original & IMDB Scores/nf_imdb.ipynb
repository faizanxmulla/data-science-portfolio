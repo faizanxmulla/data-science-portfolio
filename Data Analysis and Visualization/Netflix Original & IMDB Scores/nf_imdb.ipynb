{
 "cells": [
  {
   "cell_type": "markdown",
   "source": [
    "## Importing Libraries & Getting Data"
   ],
   "metadata": {}
  },
  {
   "cell_type": "code",
   "execution_count": 1,
   "source": [
    "import numpy as np \r\n",
    "import pandas as pd \r\n",
    "import matplotlib.pyplot as plt \r\n",
    "import seaborn as sns \r\n",
    "\r\n",
    "import plotly\r\n",
    "import plotly.express as px\r\n",
    "import plotly.graph_objs as go\r\n",
    "import plotly.offline as py\r\n",
    "from plotly.offline import iplot\r\n",
    "from plotly.subplots import make_subplots\r\n",
    "import plotly.figure_factory as ff"
   ],
   "outputs": [],
   "metadata": {}
  },
  {
   "cell_type": "code",
   "execution_count": 3,
   "source": [
    "data = pd.read_csv(r\"dataset/NetflixOriginals.csv\", encoding='latin-1')"
   ],
   "outputs": [],
   "metadata": {}
  },
  {
   "cell_type": "code",
   "execution_count": 4,
   "source": [
    "data.head()"
   ],
   "outputs": [
    {
     "output_type": "execute_result",
     "data": {
      "text/html": [
       "<div>\n",
       "<style scoped>\n",
       "    .dataframe tbody tr th:only-of-type {\n",
       "        vertical-align: middle;\n",
       "    }\n",
       "\n",
       "    .dataframe tbody tr th {\n",
       "        vertical-align: top;\n",
       "    }\n",
       "\n",
       "    .dataframe thead th {\n",
       "        text-align: right;\n",
       "    }\n",
       "</style>\n",
       "<table border=\"1\" class=\"dataframe\">\n",
       "  <thead>\n",
       "    <tr style=\"text-align: right;\">\n",
       "      <th></th>\n",
       "      <th>Title</th>\n",
       "      <th>Genre</th>\n",
       "      <th>Premiere</th>\n",
       "      <th>Runtime</th>\n",
       "      <th>IMDB Score</th>\n",
       "      <th>Language</th>\n",
       "    </tr>\n",
       "  </thead>\n",
       "  <tbody>\n",
       "    <tr>\n",
       "      <th>0</th>\n",
       "      <td>Enter the Anime</td>\n",
       "      <td>Documentary</td>\n",
       "      <td>August 5, 2019</td>\n",
       "      <td>58</td>\n",
       "      <td>2.5</td>\n",
       "      <td>English/Japanese</td>\n",
       "    </tr>\n",
       "    <tr>\n",
       "      <th>1</th>\n",
       "      <td>Dark Forces</td>\n",
       "      <td>Thriller</td>\n",
       "      <td>August 21, 2020</td>\n",
       "      <td>81</td>\n",
       "      <td>2.6</td>\n",
       "      <td>Spanish</td>\n",
       "    </tr>\n",
       "    <tr>\n",
       "      <th>2</th>\n",
       "      <td>The App</td>\n",
       "      <td>Science fiction/Drama</td>\n",
       "      <td>December 26, 2019</td>\n",
       "      <td>79</td>\n",
       "      <td>2.6</td>\n",
       "      <td>Italian</td>\n",
       "    </tr>\n",
       "    <tr>\n",
       "      <th>3</th>\n",
       "      <td>The Open House</td>\n",
       "      <td>Horror thriller</td>\n",
       "      <td>January 19, 2018</td>\n",
       "      <td>94</td>\n",
       "      <td>3.2</td>\n",
       "      <td>English</td>\n",
       "    </tr>\n",
       "    <tr>\n",
       "      <th>4</th>\n",
       "      <td>Kaali Khuhi</td>\n",
       "      <td>Mystery</td>\n",
       "      <td>October 30, 2020</td>\n",
       "      <td>90</td>\n",
       "      <td>3.4</td>\n",
       "      <td>Hindi</td>\n",
       "    </tr>\n",
       "  </tbody>\n",
       "</table>\n",
       "</div>"
      ],
      "text/plain": [
       "             Title                  Genre           Premiere  Runtime  \\\n",
       "0  Enter the Anime            Documentary     August 5, 2019       58   \n",
       "1      Dark Forces               Thriller    August 21, 2020       81   \n",
       "2          The App  Science fiction/Drama  December 26, 2019       79   \n",
       "3   The Open House        Horror thriller   January 19, 2018       94   \n",
       "4      Kaali Khuhi                Mystery   October 30, 2020       90   \n",
       "\n",
       "   IMDB Score          Language  \n",
       "0         2.5  English/Japanese  \n",
       "1         2.6           Spanish  \n",
       "2         2.6           Italian  \n",
       "3         3.2           English  \n",
       "4         3.4             Hindi  "
      ]
     },
     "metadata": {},
     "execution_count": 4
    }
   ],
   "metadata": {}
  },
  {
   "cell_type": "code",
   "execution_count": 5,
   "source": [
    "data.info()"
   ],
   "outputs": [
    {
     "output_type": "stream",
     "name": "stdout",
     "text": [
      "<class 'pandas.core.frame.DataFrame'>\n",
      "RangeIndex: 584 entries, 0 to 583\n",
      "Data columns (total 6 columns):\n",
      " #   Column      Non-Null Count  Dtype  \n",
      "---  ------      --------------  -----  \n",
      " 0   Title       584 non-null    object \n",
      " 1   Genre       584 non-null    object \n",
      " 2   Premiere    584 non-null    object \n",
      " 3   Runtime     584 non-null    int64  \n",
      " 4   IMDB Score  584 non-null    float64\n",
      " 5   Language    584 non-null    object \n",
      "dtypes: float64(1), int64(1), object(4)\n",
      "memory usage: 27.5+ KB\n"
     ]
    }
   ],
   "metadata": {}
  },
  {
   "cell_type": "code",
   "execution_count": 6,
   "source": [
    "data.describe()"
   ],
   "outputs": [
    {
     "output_type": "execute_result",
     "data": {
      "text/html": [
       "<div>\n",
       "<style scoped>\n",
       "    .dataframe tbody tr th:only-of-type {\n",
       "        vertical-align: middle;\n",
       "    }\n",
       "\n",
       "    .dataframe tbody tr th {\n",
       "        vertical-align: top;\n",
       "    }\n",
       "\n",
       "    .dataframe thead th {\n",
       "        text-align: right;\n",
       "    }\n",
       "</style>\n",
       "<table border=\"1\" class=\"dataframe\">\n",
       "  <thead>\n",
       "    <tr style=\"text-align: right;\">\n",
       "      <th></th>\n",
       "      <th>Runtime</th>\n",
       "      <th>IMDB Score</th>\n",
       "    </tr>\n",
       "  </thead>\n",
       "  <tbody>\n",
       "    <tr>\n",
       "      <th>count</th>\n",
       "      <td>584.000000</td>\n",
       "      <td>584.000000</td>\n",
       "    </tr>\n",
       "    <tr>\n",
       "      <th>mean</th>\n",
       "      <td>93.577055</td>\n",
       "      <td>6.271747</td>\n",
       "    </tr>\n",
       "    <tr>\n",
       "      <th>std</th>\n",
       "      <td>27.761683</td>\n",
       "      <td>0.979256</td>\n",
       "    </tr>\n",
       "    <tr>\n",
       "      <th>min</th>\n",
       "      <td>4.000000</td>\n",
       "      <td>2.500000</td>\n",
       "    </tr>\n",
       "    <tr>\n",
       "      <th>25%</th>\n",
       "      <td>86.000000</td>\n",
       "      <td>5.700000</td>\n",
       "    </tr>\n",
       "    <tr>\n",
       "      <th>50%</th>\n",
       "      <td>97.000000</td>\n",
       "      <td>6.350000</td>\n",
       "    </tr>\n",
       "    <tr>\n",
       "      <th>75%</th>\n",
       "      <td>108.000000</td>\n",
       "      <td>7.000000</td>\n",
       "    </tr>\n",
       "    <tr>\n",
       "      <th>max</th>\n",
       "      <td>209.000000</td>\n",
       "      <td>9.000000</td>\n",
       "    </tr>\n",
       "  </tbody>\n",
       "</table>\n",
       "</div>"
      ],
      "text/plain": [
       "          Runtime  IMDB Score\n",
       "count  584.000000  584.000000\n",
       "mean    93.577055    6.271747\n",
       "std     27.761683    0.979256\n",
       "min      4.000000    2.500000\n",
       "25%     86.000000    5.700000\n",
       "50%     97.000000    6.350000\n",
       "75%    108.000000    7.000000\n",
       "max    209.000000    9.000000"
      ]
     },
     "metadata": {},
     "execution_count": 6
    }
   ],
   "metadata": {}
  },
  {
   "cell_type": "code",
   "execution_count": 7,
   "source": [
    "data.columns"
   ],
   "outputs": [
    {
     "output_type": "execute_result",
     "data": {
      "text/plain": [
       "Index(['Title', 'Genre', 'Premiere', 'Runtime', 'IMDB Score', 'Language'], dtype='object')"
      ]
     },
     "metadata": {},
     "execution_count": 7
    }
   ],
   "metadata": {}
  },
  {
   "cell_type": "markdown",
   "source": [
    "## Handling null values"
   ],
   "metadata": {}
  },
  {
   "cell_type": "code",
   "execution_count": 8,
   "source": [
    "data.isnull().sum()"
   ],
   "outputs": [
    {
     "output_type": "execute_result",
     "data": {
      "text/plain": [
       "Title         0\n",
       "Genre         0\n",
       "Premiere      0\n",
       "Runtime       0\n",
       "IMDB Score    0\n",
       "Language      0\n",
       "dtype: int64"
      ]
     },
     "metadata": {},
     "execution_count": 8
    }
   ],
   "metadata": {}
  },
  {
   "cell_type": "code",
   "execution_count": 9,
   "source": [
    "data[\"date\"] = pd.to_datetime(data[\"Premiere\"])\r\n",
    "data[\"date\"]"
   ],
   "outputs": [
    {
     "output_type": "execute_result",
     "data": {
      "text/plain": [
       "0     2019-08-05\n",
       "1     2020-08-21\n",
       "2     2019-12-26\n",
       "3     2018-01-19\n",
       "4     2020-10-30\n",
       "         ...    \n",
       "579   2018-12-31\n",
       "580   2015-10-09\n",
       "581   2018-12-16\n",
       "582   2020-12-08\n",
       "583   2020-10-04\n",
       "Name: date, Length: 584, dtype: datetime64[ns]"
      ]
     },
     "metadata": {},
     "execution_count": 9
    }
   ],
   "metadata": {}
  },
  {
   "cell_type": "markdown",
   "source": [
    "## Converting dates to resp. days ,months & years "
   ],
   "metadata": {}
  },
  {
   "cell_type": "code",
   "execution_count": 10,
   "source": [
    "data['year_month'] = data['date'].dt.strftime('%Y-%m')\r\n",
    "data['year'] = data['date'].dt.year \r\n",
    "data['month'] = data['date'].dt.month\r\n",
    "data['day'] = data['date'].dt.dayofweek"
   ],
   "outputs": [],
   "metadata": {}
  },
  {
   "cell_type": "code",
   "execution_count": 11,
   "source": [
    "data"
   ],
   "outputs": [
    {
     "output_type": "execute_result",
     "data": {
      "text/html": [
       "<div>\n",
       "<style scoped>\n",
       "    .dataframe tbody tr th:only-of-type {\n",
       "        vertical-align: middle;\n",
       "    }\n",
       "\n",
       "    .dataframe tbody tr th {\n",
       "        vertical-align: top;\n",
       "    }\n",
       "\n",
       "    .dataframe thead th {\n",
       "        text-align: right;\n",
       "    }\n",
       "</style>\n",
       "<table border=\"1\" class=\"dataframe\">\n",
       "  <thead>\n",
       "    <tr style=\"text-align: right;\">\n",
       "      <th></th>\n",
       "      <th>Title</th>\n",
       "      <th>Genre</th>\n",
       "      <th>Premiere</th>\n",
       "      <th>Runtime</th>\n",
       "      <th>IMDB Score</th>\n",
       "      <th>Language</th>\n",
       "      <th>date</th>\n",
       "      <th>year_month</th>\n",
       "      <th>year</th>\n",
       "      <th>month</th>\n",
       "      <th>day</th>\n",
       "    </tr>\n",
       "  </thead>\n",
       "  <tbody>\n",
       "    <tr>\n",
       "      <th>0</th>\n",
       "      <td>Enter the Anime</td>\n",
       "      <td>Documentary</td>\n",
       "      <td>August 5, 2019</td>\n",
       "      <td>58</td>\n",
       "      <td>2.5</td>\n",
       "      <td>English/Japanese</td>\n",
       "      <td>2019-08-05</td>\n",
       "      <td>2019-08</td>\n",
       "      <td>2019</td>\n",
       "      <td>8</td>\n",
       "      <td>0</td>\n",
       "    </tr>\n",
       "    <tr>\n",
       "      <th>1</th>\n",
       "      <td>Dark Forces</td>\n",
       "      <td>Thriller</td>\n",
       "      <td>August 21, 2020</td>\n",
       "      <td>81</td>\n",
       "      <td>2.6</td>\n",
       "      <td>Spanish</td>\n",
       "      <td>2020-08-21</td>\n",
       "      <td>2020-08</td>\n",
       "      <td>2020</td>\n",
       "      <td>8</td>\n",
       "      <td>4</td>\n",
       "    </tr>\n",
       "    <tr>\n",
       "      <th>2</th>\n",
       "      <td>The App</td>\n",
       "      <td>Science fiction/Drama</td>\n",
       "      <td>December 26, 2019</td>\n",
       "      <td>79</td>\n",
       "      <td>2.6</td>\n",
       "      <td>Italian</td>\n",
       "      <td>2019-12-26</td>\n",
       "      <td>2019-12</td>\n",
       "      <td>2019</td>\n",
       "      <td>12</td>\n",
       "      <td>3</td>\n",
       "    </tr>\n",
       "    <tr>\n",
       "      <th>3</th>\n",
       "      <td>The Open House</td>\n",
       "      <td>Horror thriller</td>\n",
       "      <td>January 19, 2018</td>\n",
       "      <td>94</td>\n",
       "      <td>3.2</td>\n",
       "      <td>English</td>\n",
       "      <td>2018-01-19</td>\n",
       "      <td>2018-01</td>\n",
       "      <td>2018</td>\n",
       "      <td>1</td>\n",
       "      <td>4</td>\n",
       "    </tr>\n",
       "    <tr>\n",
       "      <th>4</th>\n",
       "      <td>Kaali Khuhi</td>\n",
       "      <td>Mystery</td>\n",
       "      <td>October 30, 2020</td>\n",
       "      <td>90</td>\n",
       "      <td>3.4</td>\n",
       "      <td>Hindi</td>\n",
       "      <td>2020-10-30</td>\n",
       "      <td>2020-10</td>\n",
       "      <td>2020</td>\n",
       "      <td>10</td>\n",
       "      <td>4</td>\n",
       "    </tr>\n",
       "    <tr>\n",
       "      <th>...</th>\n",
       "      <td>...</td>\n",
       "      <td>...</td>\n",
       "      <td>...</td>\n",
       "      <td>...</td>\n",
       "      <td>...</td>\n",
       "      <td>...</td>\n",
       "      <td>...</td>\n",
       "      <td>...</td>\n",
       "      <td>...</td>\n",
       "      <td>...</td>\n",
       "      <td>...</td>\n",
       "    </tr>\n",
       "    <tr>\n",
       "      <th>579</th>\n",
       "      <td>Taylor Swift: Reputation Stadium Tour</td>\n",
       "      <td>Concert Film</td>\n",
       "      <td>December 31, 2018</td>\n",
       "      <td>125</td>\n",
       "      <td>8.4</td>\n",
       "      <td>English</td>\n",
       "      <td>2018-12-31</td>\n",
       "      <td>2018-12</td>\n",
       "      <td>2018</td>\n",
       "      <td>12</td>\n",
       "      <td>0</td>\n",
       "    </tr>\n",
       "    <tr>\n",
       "      <th>580</th>\n",
       "      <td>Winter on Fire: Ukraine's Fight for Freedom</td>\n",
       "      <td>Documentary</td>\n",
       "      <td>October 9, 2015</td>\n",
       "      <td>91</td>\n",
       "      <td>8.4</td>\n",
       "      <td>English/Ukranian/Russian</td>\n",
       "      <td>2015-10-09</td>\n",
       "      <td>2015-10</td>\n",
       "      <td>2015</td>\n",
       "      <td>10</td>\n",
       "      <td>4</td>\n",
       "    </tr>\n",
       "    <tr>\n",
       "      <th>581</th>\n",
       "      <td>Springsteen on Broadway</td>\n",
       "      <td>One-man show</td>\n",
       "      <td>December 16, 2018</td>\n",
       "      <td>153</td>\n",
       "      <td>8.5</td>\n",
       "      <td>English</td>\n",
       "      <td>2018-12-16</td>\n",
       "      <td>2018-12</td>\n",
       "      <td>2018</td>\n",
       "      <td>12</td>\n",
       "      <td>6</td>\n",
       "    </tr>\n",
       "    <tr>\n",
       "      <th>582</th>\n",
       "      <td>Emicida: AmarElo - It's All For Yesterday</td>\n",
       "      <td>Documentary</td>\n",
       "      <td>December 8, 2020</td>\n",
       "      <td>89</td>\n",
       "      <td>8.6</td>\n",
       "      <td>Portuguese</td>\n",
       "      <td>2020-12-08</td>\n",
       "      <td>2020-12</td>\n",
       "      <td>2020</td>\n",
       "      <td>12</td>\n",
       "      <td>1</td>\n",
       "    </tr>\n",
       "    <tr>\n",
       "      <th>583</th>\n",
       "      <td>David Attenborough: A Life on Our Planet</td>\n",
       "      <td>Documentary</td>\n",
       "      <td>October 4, 2020</td>\n",
       "      <td>83</td>\n",
       "      <td>9.0</td>\n",
       "      <td>English</td>\n",
       "      <td>2020-10-04</td>\n",
       "      <td>2020-10</td>\n",
       "      <td>2020</td>\n",
       "      <td>10</td>\n",
       "      <td>6</td>\n",
       "    </tr>\n",
       "  </tbody>\n",
       "</table>\n",
       "<p>584 rows × 11 columns</p>\n",
       "</div>"
      ],
      "text/plain": [
       "                                           Title                  Genre  \\\n",
       "0                                Enter the Anime            Documentary   \n",
       "1                                    Dark Forces               Thriller   \n",
       "2                                        The App  Science fiction/Drama   \n",
       "3                                 The Open House        Horror thriller   \n",
       "4                                    Kaali Khuhi                Mystery   \n",
       "..                                           ...                    ...   \n",
       "579        Taylor Swift: Reputation Stadium Tour           Concert Film   \n",
       "580  Winter on Fire: Ukraine's Fight for Freedom            Documentary   \n",
       "581                      Springsteen on Broadway           One-man show   \n",
       "582    Emicida: AmarElo - It's All For Yesterday            Documentary   \n",
       "583     David Attenborough: A Life on Our Planet            Documentary   \n",
       "\n",
       "              Premiere  Runtime  IMDB Score                  Language  \\\n",
       "0       August 5, 2019       58         2.5          English/Japanese   \n",
       "1      August 21, 2020       81         2.6                   Spanish   \n",
       "2    December 26, 2019       79         2.6                   Italian   \n",
       "3     January 19, 2018       94         3.2                   English   \n",
       "4     October 30, 2020       90         3.4                     Hindi   \n",
       "..                 ...      ...         ...                       ...   \n",
       "579  December 31, 2018      125         8.4                   English   \n",
       "580    October 9, 2015       91         8.4  English/Ukranian/Russian   \n",
       "581  December 16, 2018      153         8.5                   English   \n",
       "582   December 8, 2020       89         8.6                Portuguese   \n",
       "583    October 4, 2020       83         9.0                   English   \n",
       "\n",
       "          date year_month  year  month  day  \n",
       "0   2019-08-05    2019-08  2019      8    0  \n",
       "1   2020-08-21    2020-08  2020      8    4  \n",
       "2   2019-12-26    2019-12  2019     12    3  \n",
       "3   2018-01-19    2018-01  2018      1    4  \n",
       "4   2020-10-30    2020-10  2020     10    4  \n",
       "..         ...        ...   ...    ...  ...  \n",
       "579 2018-12-31    2018-12  2018     12    0  \n",
       "580 2015-10-09    2015-10  2015     10    4  \n",
       "581 2018-12-16    2018-12  2018     12    6  \n",
       "582 2020-12-08    2020-12  2020     12    1  \n",
       "583 2020-10-04    2020-10  2020     10    6  \n",
       "\n",
       "[584 rows x 11 columns]"
      ]
     },
     "metadata": {},
     "execution_count": 11
    }
   ],
   "metadata": {}
  },
  {
   "cell_type": "markdown",
   "source": [
    "## EDA of Genre"
   ],
   "metadata": {}
  },
  {
   "cell_type": "code",
   "execution_count": 12,
   "source": [
    "gen = data[\"Genre\"].nunique()\r\n",
    "print(\"So we have a total of {} different genres.\".format(gen))\r\n"
   ],
   "outputs": [
    {
     "output_type": "stream",
     "name": "stdout",
     "text": [
      "So we have a total of 115 different genres.\n"
     ]
    }
   ],
   "metadata": {}
  },
  {
   "cell_type": "code",
   "execution_count": 13,
   "source": [
    "data[\"Genre\"].value_counts(normalize=True)"
   ],
   "outputs": [
    {
     "output_type": "execute_result",
     "data": {
      "text/plain": [
       "Documentary                             0.272260\n",
       "Drama                                   0.131849\n",
       "Comedy                                  0.083904\n",
       "Romantic comedy                         0.066781\n",
       "Thriller                                0.056507\n",
       "                                          ...   \n",
       "Romantic comedy-drama                   0.001712\n",
       "Heist film/Thriller                     0.001712\n",
       "Musical/Western/Fantasy                 0.001712\n",
       "Horror anthology                        0.001712\n",
       "Animation/Christmas/Comedy/Adventure    0.001712\n",
       "Name: Genre, Length: 115, dtype: float64"
      ]
     },
     "metadata": {},
     "execution_count": 13
    }
   ],
   "metadata": {}
  },
  {
   "cell_type": "code",
   "execution_count": 14,
   "source": [
    "genre_top20 = data['Genre'].value_counts()[:20]\r\n",
    "genre_top20"
   ],
   "outputs": [
    {
     "output_type": "execute_result",
     "data": {
      "text/plain": [
       "Documentary                 159\n",
       "Drama                        77\n",
       "Comedy                       49\n",
       "Romantic comedy              39\n",
       "Thriller                     33\n",
       "Comedy-drama                 14\n",
       "Crime drama                  11\n",
       "Biopic                        9\n",
       "Horror                        9\n",
       "Action                        7\n",
       "Romance                       6\n",
       "Concert Film                  6\n",
       "Aftershow / Interview         6\n",
       "Animation                     5\n",
       "Action comedy                 5\n",
       "Romantic drama                5\n",
       "Psychological thriller        4\n",
       "Science fiction/Thriller      4\n",
       "Variety show                  4\n",
       "Science fiction               4\n",
       "Name: Genre, dtype: int64"
      ]
     },
     "metadata": {},
     "execution_count": 14
    }
   ],
   "metadata": {}
  },
  {
   "cell_type": "code",
   "execution_count": 15,
   "source": [
    "fig = px.bar(genre_top20 , x=genre_top20.index ,y = genre_top20.values , labels={'y':'Number of Movies from the Genre' , 'index':'Genres'})\r\n",
    "\r\n",
    "fig.update_layout(xaxis={'categoryorder' : 'total descending'})\r\n",
    "fig.show()"
   ],
   "outputs": [
    {
     "output_type": "display_data",
     "data": {
      "application/vnd.plotly.v1+json": {
       "config": {
        "plotlyServerURL": "https://plot.ly"
       },
       "data": [
        {
         "alignmentgroup": "True",
         "hovertemplate": "Genres=%{x}<br>Number of Movies from the Genre=%{y}<extra></extra>",
         "legendgroup": "",
         "marker": {
          "color": "#636efa"
         },
         "name": "",
         "offsetgroup": "",
         "orientation": "v",
         "showlegend": false,
         "textposition": "auto",
         "type": "bar",
         "x": [
          "Documentary",
          "Drama",
          "Comedy",
          "Romantic comedy",
          "Thriller",
          "Comedy-drama",
          "Crime drama",
          "Biopic",
          "Horror",
          "Action",
          "Romance",
          "Concert Film",
          "Aftershow / Interview",
          "Animation",
          "Action comedy",
          "Romantic drama",
          "Psychological thriller",
          "Science fiction/Thriller",
          "Variety show",
          "Science fiction"
         ],
         "xaxis": "x",
         "y": [
          159,
          77,
          49,
          39,
          33,
          14,
          11,
          9,
          9,
          7,
          6,
          6,
          6,
          5,
          5,
          5,
          4,
          4,
          4,
          4
         ],
         "yaxis": "y"
        }
       ],
       "layout": {
        "barmode": "relative",
        "legend": {
         "tracegroupgap": 0
        },
        "margin": {
         "t": 60
        },
        "template": {
         "data": {
          "bar": [
           {
            "error_x": {
             "color": "#2a3f5f"
            },
            "error_y": {
             "color": "#2a3f5f"
            },
            "marker": {
             "line": {
              "color": "#E5ECF6",
              "width": 0.5
             }
            },
            "type": "bar"
           }
          ],
          "barpolar": [
           {
            "marker": {
             "line": {
              "color": "#E5ECF6",
              "width": 0.5
             }
            },
            "type": "barpolar"
           }
          ],
          "carpet": [
           {
            "aaxis": {
             "endlinecolor": "#2a3f5f",
             "gridcolor": "white",
             "linecolor": "white",
             "minorgridcolor": "white",
             "startlinecolor": "#2a3f5f"
            },
            "baxis": {
             "endlinecolor": "#2a3f5f",
             "gridcolor": "white",
             "linecolor": "white",
             "minorgridcolor": "white",
             "startlinecolor": "#2a3f5f"
            },
            "type": "carpet"
           }
          ],
          "choropleth": [
           {
            "colorbar": {
             "outlinewidth": 0,
             "ticks": ""
            },
            "type": "choropleth"
           }
          ],
          "contour": [
           {
            "colorbar": {
             "outlinewidth": 0,
             "ticks": ""
            },
            "colorscale": [
             [
              0,
              "#0d0887"
             ],
             [
              0.1111111111111111,
              "#46039f"
             ],
             [
              0.2222222222222222,
              "#7201a8"
             ],
             [
              0.3333333333333333,
              "#9c179e"
             ],
             [
              0.4444444444444444,
              "#bd3786"
             ],
             [
              0.5555555555555556,
              "#d8576b"
             ],
             [
              0.6666666666666666,
              "#ed7953"
             ],
             [
              0.7777777777777778,
              "#fb9f3a"
             ],
             [
              0.8888888888888888,
              "#fdca26"
             ],
             [
              1,
              "#f0f921"
             ]
            ],
            "type": "contour"
           }
          ],
          "contourcarpet": [
           {
            "colorbar": {
             "outlinewidth": 0,
             "ticks": ""
            },
            "type": "contourcarpet"
           }
          ],
          "heatmap": [
           {
            "colorbar": {
             "outlinewidth": 0,
             "ticks": ""
            },
            "colorscale": [
             [
              0,
              "#0d0887"
             ],
             [
              0.1111111111111111,
              "#46039f"
             ],
             [
              0.2222222222222222,
              "#7201a8"
             ],
             [
              0.3333333333333333,
              "#9c179e"
             ],
             [
              0.4444444444444444,
              "#bd3786"
             ],
             [
              0.5555555555555556,
              "#d8576b"
             ],
             [
              0.6666666666666666,
              "#ed7953"
             ],
             [
              0.7777777777777778,
              "#fb9f3a"
             ],
             [
              0.8888888888888888,
              "#fdca26"
             ],
             [
              1,
              "#f0f921"
             ]
            ],
            "type": "heatmap"
           }
          ],
          "heatmapgl": [
           {
            "colorbar": {
             "outlinewidth": 0,
             "ticks": ""
            },
            "colorscale": [
             [
              0,
              "#0d0887"
             ],
             [
              0.1111111111111111,
              "#46039f"
             ],
             [
              0.2222222222222222,
              "#7201a8"
             ],
             [
              0.3333333333333333,
              "#9c179e"
             ],
             [
              0.4444444444444444,
              "#bd3786"
             ],
             [
              0.5555555555555556,
              "#d8576b"
             ],
             [
              0.6666666666666666,
              "#ed7953"
             ],
             [
              0.7777777777777778,
              "#fb9f3a"
             ],
             [
              0.8888888888888888,
              "#fdca26"
             ],
             [
              1,
              "#f0f921"
             ]
            ],
            "type": "heatmapgl"
           }
          ],
          "histogram": [
           {
            "marker": {
             "colorbar": {
              "outlinewidth": 0,
              "ticks": ""
             }
            },
            "type": "histogram"
           }
          ],
          "histogram2d": [
           {
            "colorbar": {
             "outlinewidth": 0,
             "ticks": ""
            },
            "colorscale": [
             [
              0,
              "#0d0887"
             ],
             [
              0.1111111111111111,
              "#46039f"
             ],
             [
              0.2222222222222222,
              "#7201a8"
             ],
             [
              0.3333333333333333,
              "#9c179e"
             ],
             [
              0.4444444444444444,
              "#bd3786"
             ],
             [
              0.5555555555555556,
              "#d8576b"
             ],
             [
              0.6666666666666666,
              "#ed7953"
             ],
             [
              0.7777777777777778,
              "#fb9f3a"
             ],
             [
              0.8888888888888888,
              "#fdca26"
             ],
             [
              1,
              "#f0f921"
             ]
            ],
            "type": "histogram2d"
           }
          ],
          "histogram2dcontour": [
           {
            "colorbar": {
             "outlinewidth": 0,
             "ticks": ""
            },
            "colorscale": [
             [
              0,
              "#0d0887"
             ],
             [
              0.1111111111111111,
              "#46039f"
             ],
             [
              0.2222222222222222,
              "#7201a8"
             ],
             [
              0.3333333333333333,
              "#9c179e"
             ],
             [
              0.4444444444444444,
              "#bd3786"
             ],
             [
              0.5555555555555556,
              "#d8576b"
             ],
             [
              0.6666666666666666,
              "#ed7953"
             ],
             [
              0.7777777777777778,
              "#fb9f3a"
             ],
             [
              0.8888888888888888,
              "#fdca26"
             ],
             [
              1,
              "#f0f921"
             ]
            ],
            "type": "histogram2dcontour"
           }
          ],
          "mesh3d": [
           {
            "colorbar": {
             "outlinewidth": 0,
             "ticks": ""
            },
            "type": "mesh3d"
           }
          ],
          "parcoords": [
           {
            "line": {
             "colorbar": {
              "outlinewidth": 0,
              "ticks": ""
             }
            },
            "type": "parcoords"
           }
          ],
          "pie": [
           {
            "automargin": true,
            "type": "pie"
           }
          ],
          "scatter": [
           {
            "marker": {
             "colorbar": {
              "outlinewidth": 0,
              "ticks": ""
             }
            },
            "type": "scatter"
           }
          ],
          "scatter3d": [
           {
            "line": {
             "colorbar": {
              "outlinewidth": 0,
              "ticks": ""
             }
            },
            "marker": {
             "colorbar": {
              "outlinewidth": 0,
              "ticks": ""
             }
            },
            "type": "scatter3d"
           }
          ],
          "scattercarpet": [
           {
            "marker": {
             "colorbar": {
              "outlinewidth": 0,
              "ticks": ""
             }
            },
            "type": "scattercarpet"
           }
          ],
          "scattergeo": [
           {
            "marker": {
             "colorbar": {
              "outlinewidth": 0,
              "ticks": ""
             }
            },
            "type": "scattergeo"
           }
          ],
          "scattergl": [
           {
            "marker": {
             "colorbar": {
              "outlinewidth": 0,
              "ticks": ""
             }
            },
            "type": "scattergl"
           }
          ],
          "scattermapbox": [
           {
            "marker": {
             "colorbar": {
              "outlinewidth": 0,
              "ticks": ""
             }
            },
            "type": "scattermapbox"
           }
          ],
          "scatterpolar": [
           {
            "marker": {
             "colorbar": {
              "outlinewidth": 0,
              "ticks": ""
             }
            },
            "type": "scatterpolar"
           }
          ],
          "scatterpolargl": [
           {
            "marker": {
             "colorbar": {
              "outlinewidth": 0,
              "ticks": ""
             }
            },
            "type": "scatterpolargl"
           }
          ],
          "scatterternary": [
           {
            "marker": {
             "colorbar": {
              "outlinewidth": 0,
              "ticks": ""
             }
            },
            "type": "scatterternary"
           }
          ],
          "surface": [
           {
            "colorbar": {
             "outlinewidth": 0,
             "ticks": ""
            },
            "colorscale": [
             [
              0,
              "#0d0887"
             ],
             [
              0.1111111111111111,
              "#46039f"
             ],
             [
              0.2222222222222222,
              "#7201a8"
             ],
             [
              0.3333333333333333,
              "#9c179e"
             ],
             [
              0.4444444444444444,
              "#bd3786"
             ],
             [
              0.5555555555555556,
              "#d8576b"
             ],
             [
              0.6666666666666666,
              "#ed7953"
             ],
             [
              0.7777777777777778,
              "#fb9f3a"
             ],
             [
              0.8888888888888888,
              "#fdca26"
             ],
             [
              1,
              "#f0f921"
             ]
            ],
            "type": "surface"
           }
          ],
          "table": [
           {
            "cells": {
             "fill": {
              "color": "#EBF0F8"
             },
             "line": {
              "color": "white"
             }
            },
            "header": {
             "fill": {
              "color": "#C8D4E3"
             },
             "line": {
              "color": "white"
             }
            },
            "type": "table"
           }
          ]
         },
         "layout": {
          "annotationdefaults": {
           "arrowcolor": "#2a3f5f",
           "arrowhead": 0,
           "arrowwidth": 1
          },
          "autotypenumbers": "strict",
          "coloraxis": {
           "colorbar": {
            "outlinewidth": 0,
            "ticks": ""
           }
          },
          "colorscale": {
           "diverging": [
            [
             0,
             "#8e0152"
            ],
            [
             0.1,
             "#c51b7d"
            ],
            [
             0.2,
             "#de77ae"
            ],
            [
             0.3,
             "#f1b6da"
            ],
            [
             0.4,
             "#fde0ef"
            ],
            [
             0.5,
             "#f7f7f7"
            ],
            [
             0.6,
             "#e6f5d0"
            ],
            [
             0.7,
             "#b8e186"
            ],
            [
             0.8,
             "#7fbc41"
            ],
            [
             0.9,
             "#4d9221"
            ],
            [
             1,
             "#276419"
            ]
           ],
           "sequential": [
            [
             0,
             "#0d0887"
            ],
            [
             0.1111111111111111,
             "#46039f"
            ],
            [
             0.2222222222222222,
             "#7201a8"
            ],
            [
             0.3333333333333333,
             "#9c179e"
            ],
            [
             0.4444444444444444,
             "#bd3786"
            ],
            [
             0.5555555555555556,
             "#d8576b"
            ],
            [
             0.6666666666666666,
             "#ed7953"
            ],
            [
             0.7777777777777778,
             "#fb9f3a"
            ],
            [
             0.8888888888888888,
             "#fdca26"
            ],
            [
             1,
             "#f0f921"
            ]
           ],
           "sequentialminus": [
            [
             0,
             "#0d0887"
            ],
            [
             0.1111111111111111,
             "#46039f"
            ],
            [
             0.2222222222222222,
             "#7201a8"
            ],
            [
             0.3333333333333333,
             "#9c179e"
            ],
            [
             0.4444444444444444,
             "#bd3786"
            ],
            [
             0.5555555555555556,
             "#d8576b"
            ],
            [
             0.6666666666666666,
             "#ed7953"
            ],
            [
             0.7777777777777778,
             "#fb9f3a"
            ],
            [
             0.8888888888888888,
             "#fdca26"
            ],
            [
             1,
             "#f0f921"
            ]
           ]
          },
          "colorway": [
           "#636efa",
           "#EF553B",
           "#00cc96",
           "#ab63fa",
           "#FFA15A",
           "#19d3f3",
           "#FF6692",
           "#B6E880",
           "#FF97FF",
           "#FECB52"
          ],
          "font": {
           "color": "#2a3f5f"
          },
          "geo": {
           "bgcolor": "white",
           "lakecolor": "white",
           "landcolor": "#E5ECF6",
           "showlakes": true,
           "showland": true,
           "subunitcolor": "white"
          },
          "hoverlabel": {
           "align": "left"
          },
          "hovermode": "closest",
          "mapbox": {
           "style": "light"
          },
          "paper_bgcolor": "white",
          "plot_bgcolor": "#E5ECF6",
          "polar": {
           "angularaxis": {
            "gridcolor": "white",
            "linecolor": "white",
            "ticks": ""
           },
           "bgcolor": "#E5ECF6",
           "radialaxis": {
            "gridcolor": "white",
            "linecolor": "white",
            "ticks": ""
           }
          },
          "scene": {
           "xaxis": {
            "backgroundcolor": "#E5ECF6",
            "gridcolor": "white",
            "gridwidth": 2,
            "linecolor": "white",
            "showbackground": true,
            "ticks": "",
            "zerolinecolor": "white"
           },
           "yaxis": {
            "backgroundcolor": "#E5ECF6",
            "gridcolor": "white",
            "gridwidth": 2,
            "linecolor": "white",
            "showbackground": true,
            "ticks": "",
            "zerolinecolor": "white"
           },
           "zaxis": {
            "backgroundcolor": "#E5ECF6",
            "gridcolor": "white",
            "gridwidth": 2,
            "linecolor": "white",
            "showbackground": true,
            "ticks": "",
            "zerolinecolor": "white"
           }
          },
          "shapedefaults": {
           "line": {
            "color": "#2a3f5f"
           }
          },
          "ternary": {
           "aaxis": {
            "gridcolor": "white",
            "linecolor": "white",
            "ticks": ""
           },
           "baxis": {
            "gridcolor": "white",
            "linecolor": "white",
            "ticks": ""
           },
           "bgcolor": "#E5ECF6",
           "caxis": {
            "gridcolor": "white",
            "linecolor": "white",
            "ticks": ""
           }
          },
          "title": {
           "x": 0.05
          },
          "xaxis": {
           "automargin": true,
           "gridcolor": "white",
           "linecolor": "white",
           "ticks": "",
           "title": {
            "standoff": 15
           },
           "zerolinecolor": "white",
           "zerolinewidth": 2
          },
          "yaxis": {
           "automargin": true,
           "gridcolor": "white",
           "linecolor": "white",
           "ticks": "",
           "title": {
            "standoff": 15
           },
           "zerolinecolor": "white",
           "zerolinewidth": 2
          }
         }
        },
        "xaxis": {
         "anchor": "y",
         "categoryorder": "total descending",
         "domain": [
          0,
          1
         ],
         "title": {
          "text": "Genres"
         }
        },
        "yaxis": {
         "anchor": "x",
         "domain": [
          0,
          1
         ],
         "title": {
          "text": "Number of Movies from the Genre"
         }
        }
       }
      }
     },
     "metadata": {}
    }
   ],
   "metadata": {}
  },
  {
   "cell_type": "markdown",
   "source": [
    "## EDA of Languages"
   ],
   "metadata": {}
  },
  {
   "cell_type": "code",
   "execution_count": 16,
   "source": [
    "lang = data['Language'].nunique()\r\n",
    "print(\"So we have a total of {} different languages.\".format(lang))"
   ],
   "outputs": [
    {
     "output_type": "stream",
     "name": "stdout",
     "text": [
      "So we have a total of 38 different languages.\n"
     ]
    }
   ],
   "metadata": {}
  },
  {
   "cell_type": "code",
   "execution_count": 17,
   "source": [
    "lang_top10 = data['Language'].value_counts()[:10]\r\n",
    "lang_top10"
   ],
   "outputs": [
    {
     "output_type": "execute_result",
     "data": {
      "text/plain": [
       "English       401\n",
       "Hindi          33\n",
       "Spanish        31\n",
       "French         20\n",
       "Italian        14\n",
       "Portuguese     12\n",
       "Indonesian      9\n",
       "Japanese        6\n",
       "Korean          6\n",
       "German          5\n",
       "Name: Language, dtype: int64"
      ]
     },
     "metadata": {},
     "execution_count": 17
    }
   ],
   "metadata": {}
  },
  {
   "cell_type": "code",
   "execution_count": 18,
   "source": [
    "fig = px.bar(lang_top10, x=lang_top10.index, y=lang_top10.values, labels={'y': 'Number of languages used', 'x': 'Top 10 Languages'}, color_discrete_sequence=['red'])\r\n",
    "\r\n",
    "fig.update_layout(xaxis={'categoryorder' : 'total descending'})\r\n",
    "fig.show()\r\n"
   ],
   "outputs": [
    {
     "output_type": "display_data",
     "data": {
      "application/vnd.plotly.v1+json": {
       "config": {
        "plotlyServerURL": "https://plot.ly"
       },
       "data": [
        {
         "alignmentgroup": "True",
         "hovertemplate": "index=%{x}<br>Number of languages used=%{y}<extra></extra>",
         "legendgroup": "",
         "marker": {
          "color": "red"
         },
         "name": "",
         "offsetgroup": "",
         "orientation": "v",
         "showlegend": false,
         "textposition": "auto",
         "type": "bar",
         "x": [
          "English",
          "Hindi",
          "Spanish",
          "French",
          "Italian",
          "Portuguese",
          "Indonesian",
          "Japanese",
          "Korean",
          "German"
         ],
         "xaxis": "x",
         "y": [
          401,
          33,
          31,
          20,
          14,
          12,
          9,
          6,
          6,
          5
         ],
         "yaxis": "y"
        }
       ],
       "layout": {
        "barmode": "relative",
        "legend": {
         "tracegroupgap": 0
        },
        "margin": {
         "t": 60
        },
        "template": {
         "data": {
          "bar": [
           {
            "error_x": {
             "color": "#2a3f5f"
            },
            "error_y": {
             "color": "#2a3f5f"
            },
            "marker": {
             "line": {
              "color": "#E5ECF6",
              "width": 0.5
             }
            },
            "type": "bar"
           }
          ],
          "barpolar": [
           {
            "marker": {
             "line": {
              "color": "#E5ECF6",
              "width": 0.5
             }
            },
            "type": "barpolar"
           }
          ],
          "carpet": [
           {
            "aaxis": {
             "endlinecolor": "#2a3f5f",
             "gridcolor": "white",
             "linecolor": "white",
             "minorgridcolor": "white",
             "startlinecolor": "#2a3f5f"
            },
            "baxis": {
             "endlinecolor": "#2a3f5f",
             "gridcolor": "white",
             "linecolor": "white",
             "minorgridcolor": "white",
             "startlinecolor": "#2a3f5f"
            },
            "type": "carpet"
           }
          ],
          "choropleth": [
           {
            "colorbar": {
             "outlinewidth": 0,
             "ticks": ""
            },
            "type": "choropleth"
           }
          ],
          "contour": [
           {
            "colorbar": {
             "outlinewidth": 0,
             "ticks": ""
            },
            "colorscale": [
             [
              0,
              "#0d0887"
             ],
             [
              0.1111111111111111,
              "#46039f"
             ],
             [
              0.2222222222222222,
              "#7201a8"
             ],
             [
              0.3333333333333333,
              "#9c179e"
             ],
             [
              0.4444444444444444,
              "#bd3786"
             ],
             [
              0.5555555555555556,
              "#d8576b"
             ],
             [
              0.6666666666666666,
              "#ed7953"
             ],
             [
              0.7777777777777778,
              "#fb9f3a"
             ],
             [
              0.8888888888888888,
              "#fdca26"
             ],
             [
              1,
              "#f0f921"
             ]
            ],
            "type": "contour"
           }
          ],
          "contourcarpet": [
           {
            "colorbar": {
             "outlinewidth": 0,
             "ticks": ""
            },
            "type": "contourcarpet"
           }
          ],
          "heatmap": [
           {
            "colorbar": {
             "outlinewidth": 0,
             "ticks": ""
            },
            "colorscale": [
             [
              0,
              "#0d0887"
             ],
             [
              0.1111111111111111,
              "#46039f"
             ],
             [
              0.2222222222222222,
              "#7201a8"
             ],
             [
              0.3333333333333333,
              "#9c179e"
             ],
             [
              0.4444444444444444,
              "#bd3786"
             ],
             [
              0.5555555555555556,
              "#d8576b"
             ],
             [
              0.6666666666666666,
              "#ed7953"
             ],
             [
              0.7777777777777778,
              "#fb9f3a"
             ],
             [
              0.8888888888888888,
              "#fdca26"
             ],
             [
              1,
              "#f0f921"
             ]
            ],
            "type": "heatmap"
           }
          ],
          "heatmapgl": [
           {
            "colorbar": {
             "outlinewidth": 0,
             "ticks": ""
            },
            "colorscale": [
             [
              0,
              "#0d0887"
             ],
             [
              0.1111111111111111,
              "#46039f"
             ],
             [
              0.2222222222222222,
              "#7201a8"
             ],
             [
              0.3333333333333333,
              "#9c179e"
             ],
             [
              0.4444444444444444,
              "#bd3786"
             ],
             [
              0.5555555555555556,
              "#d8576b"
             ],
             [
              0.6666666666666666,
              "#ed7953"
             ],
             [
              0.7777777777777778,
              "#fb9f3a"
             ],
             [
              0.8888888888888888,
              "#fdca26"
             ],
             [
              1,
              "#f0f921"
             ]
            ],
            "type": "heatmapgl"
           }
          ],
          "histogram": [
           {
            "marker": {
             "colorbar": {
              "outlinewidth": 0,
              "ticks": ""
             }
            },
            "type": "histogram"
           }
          ],
          "histogram2d": [
           {
            "colorbar": {
             "outlinewidth": 0,
             "ticks": ""
            },
            "colorscale": [
             [
              0,
              "#0d0887"
             ],
             [
              0.1111111111111111,
              "#46039f"
             ],
             [
              0.2222222222222222,
              "#7201a8"
             ],
             [
              0.3333333333333333,
              "#9c179e"
             ],
             [
              0.4444444444444444,
              "#bd3786"
             ],
             [
              0.5555555555555556,
              "#d8576b"
             ],
             [
              0.6666666666666666,
              "#ed7953"
             ],
             [
              0.7777777777777778,
              "#fb9f3a"
             ],
             [
              0.8888888888888888,
              "#fdca26"
             ],
             [
              1,
              "#f0f921"
             ]
            ],
            "type": "histogram2d"
           }
          ],
          "histogram2dcontour": [
           {
            "colorbar": {
             "outlinewidth": 0,
             "ticks": ""
            },
            "colorscale": [
             [
              0,
              "#0d0887"
             ],
             [
              0.1111111111111111,
              "#46039f"
             ],
             [
              0.2222222222222222,
              "#7201a8"
             ],
             [
              0.3333333333333333,
              "#9c179e"
             ],
             [
              0.4444444444444444,
              "#bd3786"
             ],
             [
              0.5555555555555556,
              "#d8576b"
             ],
             [
              0.6666666666666666,
              "#ed7953"
             ],
             [
              0.7777777777777778,
              "#fb9f3a"
             ],
             [
              0.8888888888888888,
              "#fdca26"
             ],
             [
              1,
              "#f0f921"
             ]
            ],
            "type": "histogram2dcontour"
           }
          ],
          "mesh3d": [
           {
            "colorbar": {
             "outlinewidth": 0,
             "ticks": ""
            },
            "type": "mesh3d"
           }
          ],
          "parcoords": [
           {
            "line": {
             "colorbar": {
              "outlinewidth": 0,
              "ticks": ""
             }
            },
            "type": "parcoords"
           }
          ],
          "pie": [
           {
            "automargin": true,
            "type": "pie"
           }
          ],
          "scatter": [
           {
            "marker": {
             "colorbar": {
              "outlinewidth": 0,
              "ticks": ""
             }
            },
            "type": "scatter"
           }
          ],
          "scatter3d": [
           {
            "line": {
             "colorbar": {
              "outlinewidth": 0,
              "ticks": ""
             }
            },
            "marker": {
             "colorbar": {
              "outlinewidth": 0,
              "ticks": ""
             }
            },
            "type": "scatter3d"
           }
          ],
          "scattercarpet": [
           {
            "marker": {
             "colorbar": {
              "outlinewidth": 0,
              "ticks": ""
             }
            },
            "type": "scattercarpet"
           }
          ],
          "scattergeo": [
           {
            "marker": {
             "colorbar": {
              "outlinewidth": 0,
              "ticks": ""
             }
            },
            "type": "scattergeo"
           }
          ],
          "scattergl": [
           {
            "marker": {
             "colorbar": {
              "outlinewidth": 0,
              "ticks": ""
             }
            },
            "type": "scattergl"
           }
          ],
          "scattermapbox": [
           {
            "marker": {
             "colorbar": {
              "outlinewidth": 0,
              "ticks": ""
             }
            },
            "type": "scattermapbox"
           }
          ],
          "scatterpolar": [
           {
            "marker": {
             "colorbar": {
              "outlinewidth": 0,
              "ticks": ""
             }
            },
            "type": "scatterpolar"
           }
          ],
          "scatterpolargl": [
           {
            "marker": {
             "colorbar": {
              "outlinewidth": 0,
              "ticks": ""
             }
            },
            "type": "scatterpolargl"
           }
          ],
          "scatterternary": [
           {
            "marker": {
             "colorbar": {
              "outlinewidth": 0,
              "ticks": ""
             }
            },
            "type": "scatterternary"
           }
          ],
          "surface": [
           {
            "colorbar": {
             "outlinewidth": 0,
             "ticks": ""
            },
            "colorscale": [
             [
              0,
              "#0d0887"
             ],
             [
              0.1111111111111111,
              "#46039f"
             ],
             [
              0.2222222222222222,
              "#7201a8"
             ],
             [
              0.3333333333333333,
              "#9c179e"
             ],
             [
              0.4444444444444444,
              "#bd3786"
             ],
             [
              0.5555555555555556,
              "#d8576b"
             ],
             [
              0.6666666666666666,
              "#ed7953"
             ],
             [
              0.7777777777777778,
              "#fb9f3a"
             ],
             [
              0.8888888888888888,
              "#fdca26"
             ],
             [
              1,
              "#f0f921"
             ]
            ],
            "type": "surface"
           }
          ],
          "table": [
           {
            "cells": {
             "fill": {
              "color": "#EBF0F8"
             },
             "line": {
              "color": "white"
             }
            },
            "header": {
             "fill": {
              "color": "#C8D4E3"
             },
             "line": {
              "color": "white"
             }
            },
            "type": "table"
           }
          ]
         },
         "layout": {
          "annotationdefaults": {
           "arrowcolor": "#2a3f5f",
           "arrowhead": 0,
           "arrowwidth": 1
          },
          "autotypenumbers": "strict",
          "coloraxis": {
           "colorbar": {
            "outlinewidth": 0,
            "ticks": ""
           }
          },
          "colorscale": {
           "diverging": [
            [
             0,
             "#8e0152"
            ],
            [
             0.1,
             "#c51b7d"
            ],
            [
             0.2,
             "#de77ae"
            ],
            [
             0.3,
             "#f1b6da"
            ],
            [
             0.4,
             "#fde0ef"
            ],
            [
             0.5,
             "#f7f7f7"
            ],
            [
             0.6,
             "#e6f5d0"
            ],
            [
             0.7,
             "#b8e186"
            ],
            [
             0.8,
             "#7fbc41"
            ],
            [
             0.9,
             "#4d9221"
            ],
            [
             1,
             "#276419"
            ]
           ],
           "sequential": [
            [
             0,
             "#0d0887"
            ],
            [
             0.1111111111111111,
             "#46039f"
            ],
            [
             0.2222222222222222,
             "#7201a8"
            ],
            [
             0.3333333333333333,
             "#9c179e"
            ],
            [
             0.4444444444444444,
             "#bd3786"
            ],
            [
             0.5555555555555556,
             "#d8576b"
            ],
            [
             0.6666666666666666,
             "#ed7953"
            ],
            [
             0.7777777777777778,
             "#fb9f3a"
            ],
            [
             0.8888888888888888,
             "#fdca26"
            ],
            [
             1,
             "#f0f921"
            ]
           ],
           "sequentialminus": [
            [
             0,
             "#0d0887"
            ],
            [
             0.1111111111111111,
             "#46039f"
            ],
            [
             0.2222222222222222,
             "#7201a8"
            ],
            [
             0.3333333333333333,
             "#9c179e"
            ],
            [
             0.4444444444444444,
             "#bd3786"
            ],
            [
             0.5555555555555556,
             "#d8576b"
            ],
            [
             0.6666666666666666,
             "#ed7953"
            ],
            [
             0.7777777777777778,
             "#fb9f3a"
            ],
            [
             0.8888888888888888,
             "#fdca26"
            ],
            [
             1,
             "#f0f921"
            ]
           ]
          },
          "colorway": [
           "#636efa",
           "#EF553B",
           "#00cc96",
           "#ab63fa",
           "#FFA15A",
           "#19d3f3",
           "#FF6692",
           "#B6E880",
           "#FF97FF",
           "#FECB52"
          ],
          "font": {
           "color": "#2a3f5f"
          },
          "geo": {
           "bgcolor": "white",
           "lakecolor": "white",
           "landcolor": "#E5ECF6",
           "showlakes": true,
           "showland": true,
           "subunitcolor": "white"
          },
          "hoverlabel": {
           "align": "left"
          },
          "hovermode": "closest",
          "mapbox": {
           "style": "light"
          },
          "paper_bgcolor": "white",
          "plot_bgcolor": "#E5ECF6",
          "polar": {
           "angularaxis": {
            "gridcolor": "white",
            "linecolor": "white",
            "ticks": ""
           },
           "bgcolor": "#E5ECF6",
           "radialaxis": {
            "gridcolor": "white",
            "linecolor": "white",
            "ticks": ""
           }
          },
          "scene": {
           "xaxis": {
            "backgroundcolor": "#E5ECF6",
            "gridcolor": "white",
            "gridwidth": 2,
            "linecolor": "white",
            "showbackground": true,
            "ticks": "",
            "zerolinecolor": "white"
           },
           "yaxis": {
            "backgroundcolor": "#E5ECF6",
            "gridcolor": "white",
            "gridwidth": 2,
            "linecolor": "white",
            "showbackground": true,
            "ticks": "",
            "zerolinecolor": "white"
           },
           "zaxis": {
            "backgroundcolor": "#E5ECF6",
            "gridcolor": "white",
            "gridwidth": 2,
            "linecolor": "white",
            "showbackground": true,
            "ticks": "",
            "zerolinecolor": "white"
           }
          },
          "shapedefaults": {
           "line": {
            "color": "#2a3f5f"
           }
          },
          "ternary": {
           "aaxis": {
            "gridcolor": "white",
            "linecolor": "white",
            "ticks": ""
           },
           "baxis": {
            "gridcolor": "white",
            "linecolor": "white",
            "ticks": ""
           },
           "bgcolor": "#E5ECF6",
           "caxis": {
            "gridcolor": "white",
            "linecolor": "white",
            "ticks": ""
           }
          },
          "title": {
           "x": 0.05
          },
          "xaxis": {
           "automargin": true,
           "gridcolor": "white",
           "linecolor": "white",
           "ticks": "",
           "title": {
            "standoff": 15
           },
           "zerolinecolor": "white",
           "zerolinewidth": 2
          },
          "yaxis": {
           "automargin": true,
           "gridcolor": "white",
           "linecolor": "white",
           "ticks": "",
           "title": {
            "standoff": 15
           },
           "zerolinecolor": "white",
           "zerolinewidth": 2
          }
         }
        },
        "xaxis": {
         "anchor": "y",
         "categoryorder": "total descending",
         "domain": [
          0,
          1
         ],
         "title": {
          "text": "index"
         }
        },
        "yaxis": {
         "anchor": "x",
         "domain": [
          0,
          1
         ],
         "title": {
          "text": "Number of languages used"
         }
        }
       }
      }
     },
     "metadata": {}
    }
   ],
   "metadata": {}
  },
  {
   "cell_type": "markdown",
   "source": [
    "## EDA of Runtime"
   ],
   "metadata": {}
  },
  {
   "cell_type": "code",
   "execution_count": 19,
   "source": [
    "data['Runtime'].describe()\r\n",
    "\r\n",
    "# mean score is lower than median score ,so we can expect left skewed distribution and we will see more runtime values on the minimum side"
   ],
   "outputs": [
    {
     "output_type": "execute_result",
     "data": {
      "text/plain": [
       "count    584.000000\n",
       "mean      93.577055\n",
       "std       27.761683\n",
       "min        4.000000\n",
       "25%       86.000000\n",
       "50%       97.000000\n",
       "75%      108.000000\n",
       "max      209.000000\n",
       "Name: Runtime, dtype: float64"
      ]
     },
     "metadata": {},
     "execution_count": 19
    }
   ],
   "metadata": {}
  },
  {
   "cell_type": "code",
   "execution_count": 20,
   "source": [
    "fig = px.histogram(data ,x='Runtime' , title=\"Runtime of the Programs on Netflix\")\r\n",
    "fig.update_layout(bargap=0.1)\r\n",
    "fig.show()\r\n"
   ],
   "outputs": [
    {
     "output_type": "display_data",
     "data": {
      "application/vnd.plotly.v1+json": {
       "config": {
        "plotlyServerURL": "https://plot.ly"
       },
       "data": [
        {
         "alignmentgroup": "True",
         "bingroup": "x",
         "hovertemplate": "Runtime=%{x}<br>count=%{y}<extra></extra>",
         "legendgroup": "",
         "marker": {
          "color": "#636efa"
         },
         "name": "",
         "offsetgroup": "",
         "orientation": "v",
         "showlegend": false,
         "type": "histogram",
         "x": [
          58,
          81,
          79,
          94,
          90,
          147,
          112,
          149,
          73,
          139,
          58,
          112,
          97,
          101,
          90,
          25,
          144,
          115,
          102,
          100,
          64,
          97,
          99,
          120,
          105,
          89,
          97,
          107,
          99,
          95,
          37,
          89,
          83,
          46,
          85,
          88,
          86,
          105,
          95,
          80,
          4,
          93,
          100,
          106,
          97,
          106,
          103,
          80,
          101,
          119,
          80,
          89,
          94,
          93,
          96,
          113,
          86,
          100,
          102,
          86,
          104,
          88,
          97,
          105,
          90,
          99,
          10,
          106,
          98,
          94,
          112,
          117,
          70,
          81,
          103,
          94,
          98,
          131,
          87,
          60,
          112,
          102,
          99,
          116,
          92,
          83,
          97,
          112,
          116,
          102,
          121,
          95,
          93,
          92,
          98,
          85,
          78,
          120,
          92,
          101,
          119,
          101,
          112,
          96,
          114,
          97,
          101,
          56,
          100,
          94,
          94,
          21,
          104,
          63,
          100,
          126,
          106,
          86,
          142,
          108,
          102,
          92,
          83,
          94,
          92,
          103,
          89,
          95,
          103,
          97,
          125,
          91,
          90,
          49,
          98,
          107,
          118,
          94,
          103,
          86,
          83,
          97,
          99,
          104,
          102,
          89,
          98,
          125,
          89,
          94,
          94,
          85,
          34,
          86,
          91,
          108,
          95,
          100,
          90,
          112,
          86,
          124,
          107,
          92,
          121,
          90,
          104,
          92,
          114,
          98,
          95,
          78,
          107,
          92,
          95,
          96,
          118,
          105,
          94,
          52,
          105,
          95,
          100,
          97,
          89,
          102,
          96,
          131,
          89,
          93,
          111,
          75,
          120,
          96,
          148,
          94,
          107,
          32,
          104,
          23,
          111,
          83,
          53,
          95,
          132,
          98,
          108,
          106,
          104,
          90,
          106,
          90,
          97,
          113,
          123,
          115,
          105,
          101,
          102,
          122,
          128,
          82,
          102,
          80,
          94,
          123,
          104,
          85,
          84,
          103,
          95,
          100,
          89,
          116,
          118,
          96,
          114,
          99,
          87,
          92,
          90,
          95,
          96,
          93,
          42,
          92,
          106,
          151,
          101,
          114,
          90,
          115,
          92,
          72,
          139,
          98,
          92,
          111,
          98,
          104,
          95,
          88,
          102,
          30,
          99,
          129,
          87,
          117,
          104,
          111,
          107,
          97,
          98,
          90,
          101,
          72,
          83,
          118,
          44,
          113,
          86,
          108,
          85,
          102,
          151,
          98,
          87,
          120,
          134,
          109,
          85,
          103,
          94,
          97,
          88,
          37,
          112,
          102,
          100,
          96,
          113,
          16,
          119,
          97,
          81,
          98,
          95,
          96,
          107,
          41,
          87,
          101,
          97,
          103,
          90,
          125,
          116,
          99,
          82,
          97,
          28,
          108,
          93,
          74,
          60,
          9,
          21,
          100,
          155,
          55,
          123,
          103,
          93,
          119,
          40,
          120,
          98,
          104,
          91,
          95,
          101,
          105,
          83,
          91,
          83,
          17,
          86,
          124,
          94,
          102,
          118,
          79,
          134,
          126,
          98,
          89,
          58,
          83,
          136,
          98,
          114,
          99,
          130,
          32,
          104,
          142,
          92,
          86,
          106,
          95,
          91,
          89,
          117,
          90,
          117,
          80,
          87,
          101,
          19,
          106,
          54,
          111,
          132,
          97,
          106,
          111,
          124,
          116,
          112,
          144,
          76,
          101,
          92,
          19,
          39,
          102,
          89,
          105,
          101,
          70,
          96,
          85,
          39,
          79,
          73,
          114,
          121,
          28,
          95,
          122,
          23,
          107,
          98,
          108,
          92,
          100,
          97,
          7,
          96,
          100,
          132,
          103,
          121,
          114,
          57,
          95,
          83,
          17,
          105,
          131,
          30,
          112,
          86,
          100,
          14,
          109,
          28,
          64,
          94,
          31,
          99,
          108,
          48,
          84,
          70,
          27,
          45,
          117,
          104,
          108,
          121,
          36,
          30,
          47,
          110,
          92,
          80,
          49,
          73,
          40,
          96,
          106,
          97,
          94,
          78,
          81,
          87,
          91,
          91,
          95,
          126,
          31,
          58,
          41,
          138,
          112,
          114,
          125,
          99,
          82,
          98,
          136,
          97,
          107,
          92,
          39,
          133,
          89,
          124,
          99,
          101,
          97,
          124,
          129,
          121,
          140,
          13,
          108,
          11,
          118,
          121,
          24,
          100,
          101,
          105,
          96,
          47,
          121,
          100,
          149,
          64,
          64,
          114,
          15,
          79,
          90,
          132,
          105,
          97,
          83,
          110,
          39,
          40,
          85,
          26,
          87,
          97,
          118,
          23,
          40,
          98,
          80,
          108,
          79,
          74,
          90,
          137,
          71,
          98,
          70,
          99,
          40,
          104,
          149,
          124,
          144,
          85,
          100,
          94,
          125,
          84,
          117,
          15,
          136,
          76,
          108,
          94,
          90,
          72,
          135,
          12,
          209,
          130,
          82,
          120,
          136,
          112,
          105,
          89,
          85,
          106,
          100,
          107,
          97,
          89,
          109,
          114,
          51,
          85,
          125,
          91,
          153,
          89,
          83
         ],
         "xaxis": "x",
         "yaxis": "y"
        }
       ],
       "layout": {
        "bargap": 0.1,
        "barmode": "relative",
        "legend": {
         "tracegroupgap": 0
        },
        "template": {
         "data": {
          "bar": [
           {
            "error_x": {
             "color": "#2a3f5f"
            },
            "error_y": {
             "color": "#2a3f5f"
            },
            "marker": {
             "line": {
              "color": "#E5ECF6",
              "width": 0.5
             }
            },
            "type": "bar"
           }
          ],
          "barpolar": [
           {
            "marker": {
             "line": {
              "color": "#E5ECF6",
              "width": 0.5
             }
            },
            "type": "barpolar"
           }
          ],
          "carpet": [
           {
            "aaxis": {
             "endlinecolor": "#2a3f5f",
             "gridcolor": "white",
             "linecolor": "white",
             "minorgridcolor": "white",
             "startlinecolor": "#2a3f5f"
            },
            "baxis": {
             "endlinecolor": "#2a3f5f",
             "gridcolor": "white",
             "linecolor": "white",
             "minorgridcolor": "white",
             "startlinecolor": "#2a3f5f"
            },
            "type": "carpet"
           }
          ],
          "choropleth": [
           {
            "colorbar": {
             "outlinewidth": 0,
             "ticks": ""
            },
            "type": "choropleth"
           }
          ],
          "contour": [
           {
            "colorbar": {
             "outlinewidth": 0,
             "ticks": ""
            },
            "colorscale": [
             [
              0,
              "#0d0887"
             ],
             [
              0.1111111111111111,
              "#46039f"
             ],
             [
              0.2222222222222222,
              "#7201a8"
             ],
             [
              0.3333333333333333,
              "#9c179e"
             ],
             [
              0.4444444444444444,
              "#bd3786"
             ],
             [
              0.5555555555555556,
              "#d8576b"
             ],
             [
              0.6666666666666666,
              "#ed7953"
             ],
             [
              0.7777777777777778,
              "#fb9f3a"
             ],
             [
              0.8888888888888888,
              "#fdca26"
             ],
             [
              1,
              "#f0f921"
             ]
            ],
            "type": "contour"
           }
          ],
          "contourcarpet": [
           {
            "colorbar": {
             "outlinewidth": 0,
             "ticks": ""
            },
            "type": "contourcarpet"
           }
          ],
          "heatmap": [
           {
            "colorbar": {
             "outlinewidth": 0,
             "ticks": ""
            },
            "colorscale": [
             [
              0,
              "#0d0887"
             ],
             [
              0.1111111111111111,
              "#46039f"
             ],
             [
              0.2222222222222222,
              "#7201a8"
             ],
             [
              0.3333333333333333,
              "#9c179e"
             ],
             [
              0.4444444444444444,
              "#bd3786"
             ],
             [
              0.5555555555555556,
              "#d8576b"
             ],
             [
              0.6666666666666666,
              "#ed7953"
             ],
             [
              0.7777777777777778,
              "#fb9f3a"
             ],
             [
              0.8888888888888888,
              "#fdca26"
             ],
             [
              1,
              "#f0f921"
             ]
            ],
            "type": "heatmap"
           }
          ],
          "heatmapgl": [
           {
            "colorbar": {
             "outlinewidth": 0,
             "ticks": ""
            },
            "colorscale": [
             [
              0,
              "#0d0887"
             ],
             [
              0.1111111111111111,
              "#46039f"
             ],
             [
              0.2222222222222222,
              "#7201a8"
             ],
             [
              0.3333333333333333,
              "#9c179e"
             ],
             [
              0.4444444444444444,
              "#bd3786"
             ],
             [
              0.5555555555555556,
              "#d8576b"
             ],
             [
              0.6666666666666666,
              "#ed7953"
             ],
             [
              0.7777777777777778,
              "#fb9f3a"
             ],
             [
              0.8888888888888888,
              "#fdca26"
             ],
             [
              1,
              "#f0f921"
             ]
            ],
            "type": "heatmapgl"
           }
          ],
          "histogram": [
           {
            "marker": {
             "colorbar": {
              "outlinewidth": 0,
              "ticks": ""
             }
            },
            "type": "histogram"
           }
          ],
          "histogram2d": [
           {
            "colorbar": {
             "outlinewidth": 0,
             "ticks": ""
            },
            "colorscale": [
             [
              0,
              "#0d0887"
             ],
             [
              0.1111111111111111,
              "#46039f"
             ],
             [
              0.2222222222222222,
              "#7201a8"
             ],
             [
              0.3333333333333333,
              "#9c179e"
             ],
             [
              0.4444444444444444,
              "#bd3786"
             ],
             [
              0.5555555555555556,
              "#d8576b"
             ],
             [
              0.6666666666666666,
              "#ed7953"
             ],
             [
              0.7777777777777778,
              "#fb9f3a"
             ],
             [
              0.8888888888888888,
              "#fdca26"
             ],
             [
              1,
              "#f0f921"
             ]
            ],
            "type": "histogram2d"
           }
          ],
          "histogram2dcontour": [
           {
            "colorbar": {
             "outlinewidth": 0,
             "ticks": ""
            },
            "colorscale": [
             [
              0,
              "#0d0887"
             ],
             [
              0.1111111111111111,
              "#46039f"
             ],
             [
              0.2222222222222222,
              "#7201a8"
             ],
             [
              0.3333333333333333,
              "#9c179e"
             ],
             [
              0.4444444444444444,
              "#bd3786"
             ],
             [
              0.5555555555555556,
              "#d8576b"
             ],
             [
              0.6666666666666666,
              "#ed7953"
             ],
             [
              0.7777777777777778,
              "#fb9f3a"
             ],
             [
              0.8888888888888888,
              "#fdca26"
             ],
             [
              1,
              "#f0f921"
             ]
            ],
            "type": "histogram2dcontour"
           }
          ],
          "mesh3d": [
           {
            "colorbar": {
             "outlinewidth": 0,
             "ticks": ""
            },
            "type": "mesh3d"
           }
          ],
          "parcoords": [
           {
            "line": {
             "colorbar": {
              "outlinewidth": 0,
              "ticks": ""
             }
            },
            "type": "parcoords"
           }
          ],
          "pie": [
           {
            "automargin": true,
            "type": "pie"
           }
          ],
          "scatter": [
           {
            "marker": {
             "colorbar": {
              "outlinewidth": 0,
              "ticks": ""
             }
            },
            "type": "scatter"
           }
          ],
          "scatter3d": [
           {
            "line": {
             "colorbar": {
              "outlinewidth": 0,
              "ticks": ""
             }
            },
            "marker": {
             "colorbar": {
              "outlinewidth": 0,
              "ticks": ""
             }
            },
            "type": "scatter3d"
           }
          ],
          "scattercarpet": [
           {
            "marker": {
             "colorbar": {
              "outlinewidth": 0,
              "ticks": ""
             }
            },
            "type": "scattercarpet"
           }
          ],
          "scattergeo": [
           {
            "marker": {
             "colorbar": {
              "outlinewidth": 0,
              "ticks": ""
             }
            },
            "type": "scattergeo"
           }
          ],
          "scattergl": [
           {
            "marker": {
             "colorbar": {
              "outlinewidth": 0,
              "ticks": ""
             }
            },
            "type": "scattergl"
           }
          ],
          "scattermapbox": [
           {
            "marker": {
             "colorbar": {
              "outlinewidth": 0,
              "ticks": ""
             }
            },
            "type": "scattermapbox"
           }
          ],
          "scatterpolar": [
           {
            "marker": {
             "colorbar": {
              "outlinewidth": 0,
              "ticks": ""
             }
            },
            "type": "scatterpolar"
           }
          ],
          "scatterpolargl": [
           {
            "marker": {
             "colorbar": {
              "outlinewidth": 0,
              "ticks": ""
             }
            },
            "type": "scatterpolargl"
           }
          ],
          "scatterternary": [
           {
            "marker": {
             "colorbar": {
              "outlinewidth": 0,
              "ticks": ""
             }
            },
            "type": "scatterternary"
           }
          ],
          "surface": [
           {
            "colorbar": {
             "outlinewidth": 0,
             "ticks": ""
            },
            "colorscale": [
             [
              0,
              "#0d0887"
             ],
             [
              0.1111111111111111,
              "#46039f"
             ],
             [
              0.2222222222222222,
              "#7201a8"
             ],
             [
              0.3333333333333333,
              "#9c179e"
             ],
             [
              0.4444444444444444,
              "#bd3786"
             ],
             [
              0.5555555555555556,
              "#d8576b"
             ],
             [
              0.6666666666666666,
              "#ed7953"
             ],
             [
              0.7777777777777778,
              "#fb9f3a"
             ],
             [
              0.8888888888888888,
              "#fdca26"
             ],
             [
              1,
              "#f0f921"
             ]
            ],
            "type": "surface"
           }
          ],
          "table": [
           {
            "cells": {
             "fill": {
              "color": "#EBF0F8"
             },
             "line": {
              "color": "white"
             }
            },
            "header": {
             "fill": {
              "color": "#C8D4E3"
             },
             "line": {
              "color": "white"
             }
            },
            "type": "table"
           }
          ]
         },
         "layout": {
          "annotationdefaults": {
           "arrowcolor": "#2a3f5f",
           "arrowhead": 0,
           "arrowwidth": 1
          },
          "autotypenumbers": "strict",
          "coloraxis": {
           "colorbar": {
            "outlinewidth": 0,
            "ticks": ""
           }
          },
          "colorscale": {
           "diverging": [
            [
             0,
             "#8e0152"
            ],
            [
             0.1,
             "#c51b7d"
            ],
            [
             0.2,
             "#de77ae"
            ],
            [
             0.3,
             "#f1b6da"
            ],
            [
             0.4,
             "#fde0ef"
            ],
            [
             0.5,
             "#f7f7f7"
            ],
            [
             0.6,
             "#e6f5d0"
            ],
            [
             0.7,
             "#b8e186"
            ],
            [
             0.8,
             "#7fbc41"
            ],
            [
             0.9,
             "#4d9221"
            ],
            [
             1,
             "#276419"
            ]
           ],
           "sequential": [
            [
             0,
             "#0d0887"
            ],
            [
             0.1111111111111111,
             "#46039f"
            ],
            [
             0.2222222222222222,
             "#7201a8"
            ],
            [
             0.3333333333333333,
             "#9c179e"
            ],
            [
             0.4444444444444444,
             "#bd3786"
            ],
            [
             0.5555555555555556,
             "#d8576b"
            ],
            [
             0.6666666666666666,
             "#ed7953"
            ],
            [
             0.7777777777777778,
             "#fb9f3a"
            ],
            [
             0.8888888888888888,
             "#fdca26"
            ],
            [
             1,
             "#f0f921"
            ]
           ],
           "sequentialminus": [
            [
             0,
             "#0d0887"
            ],
            [
             0.1111111111111111,
             "#46039f"
            ],
            [
             0.2222222222222222,
             "#7201a8"
            ],
            [
             0.3333333333333333,
             "#9c179e"
            ],
            [
             0.4444444444444444,
             "#bd3786"
            ],
            [
             0.5555555555555556,
             "#d8576b"
            ],
            [
             0.6666666666666666,
             "#ed7953"
            ],
            [
             0.7777777777777778,
             "#fb9f3a"
            ],
            [
             0.8888888888888888,
             "#fdca26"
            ],
            [
             1,
             "#f0f921"
            ]
           ]
          },
          "colorway": [
           "#636efa",
           "#EF553B",
           "#00cc96",
           "#ab63fa",
           "#FFA15A",
           "#19d3f3",
           "#FF6692",
           "#B6E880",
           "#FF97FF",
           "#FECB52"
          ],
          "font": {
           "color": "#2a3f5f"
          },
          "geo": {
           "bgcolor": "white",
           "lakecolor": "white",
           "landcolor": "#E5ECF6",
           "showlakes": true,
           "showland": true,
           "subunitcolor": "white"
          },
          "hoverlabel": {
           "align": "left"
          },
          "hovermode": "closest",
          "mapbox": {
           "style": "light"
          },
          "paper_bgcolor": "white",
          "plot_bgcolor": "#E5ECF6",
          "polar": {
           "angularaxis": {
            "gridcolor": "white",
            "linecolor": "white",
            "ticks": ""
           },
           "bgcolor": "#E5ECF6",
           "radialaxis": {
            "gridcolor": "white",
            "linecolor": "white",
            "ticks": ""
           }
          },
          "scene": {
           "xaxis": {
            "backgroundcolor": "#E5ECF6",
            "gridcolor": "white",
            "gridwidth": 2,
            "linecolor": "white",
            "showbackground": true,
            "ticks": "",
            "zerolinecolor": "white"
           },
           "yaxis": {
            "backgroundcolor": "#E5ECF6",
            "gridcolor": "white",
            "gridwidth": 2,
            "linecolor": "white",
            "showbackground": true,
            "ticks": "",
            "zerolinecolor": "white"
           },
           "zaxis": {
            "backgroundcolor": "#E5ECF6",
            "gridcolor": "white",
            "gridwidth": 2,
            "linecolor": "white",
            "showbackground": true,
            "ticks": "",
            "zerolinecolor": "white"
           }
          },
          "shapedefaults": {
           "line": {
            "color": "#2a3f5f"
           }
          },
          "ternary": {
           "aaxis": {
            "gridcolor": "white",
            "linecolor": "white",
            "ticks": ""
           },
           "baxis": {
            "gridcolor": "white",
            "linecolor": "white",
            "ticks": ""
           },
           "bgcolor": "#E5ECF6",
           "caxis": {
            "gridcolor": "white",
            "linecolor": "white",
            "ticks": ""
           }
          },
          "title": {
           "x": 0.05
          },
          "xaxis": {
           "automargin": true,
           "gridcolor": "white",
           "linecolor": "white",
           "ticks": "",
           "title": {
            "standoff": 15
           },
           "zerolinecolor": "white",
           "zerolinewidth": 2
          },
          "yaxis": {
           "automargin": true,
           "gridcolor": "white",
           "linecolor": "white",
           "ticks": "",
           "title": {
            "standoff": 15
           },
           "zerolinecolor": "white",
           "zerolinewidth": 2
          }
         }
        },
        "title": {
         "text": "Runtime of the Programs on Netflix"
        },
        "xaxis": {
         "anchor": "y",
         "domain": [
          0,
          1
         ],
         "title": {
          "text": "Runtime"
         }
        },
        "yaxis": {
         "anchor": "x",
         "domain": [
          0,
          1
         ],
         "title": {
          "text": "count"
         }
        }
       }
      }
     },
     "metadata": {}
    }
   ],
   "metadata": {}
  },
  {
   "cell_type": "code",
   "execution_count": 21,
   "source": [
    "fig = px.box(data , x='Runtime' , hover_data=data[['Title' , 'Genre']])\r\n",
    "fig.update_traces(quartilemethod=\"inclusive\")\r\n",
    "fig.show()"
   ],
   "outputs": [
    {
     "output_type": "display_data",
     "data": {
      "application/vnd.plotly.v1+json": {
       "config": {
        "plotlyServerURL": "https://plot.ly"
       },
       "data": [
        {
         "alignmentgroup": "True",
         "customdata": [
          [
           "Enter the Anime",
           "Documentary"
          ],
          [
           "Dark Forces",
           "Thriller"
          ],
          [
           "The App",
           "Science fiction/Drama"
          ],
          [
           "The Open House",
           "Horror thriller"
          ],
          [
           "Kaali Khuhi",
           "Mystery"
          ],
          [
           "Drive",
           "Action"
          ],
          [
           "Leyla Everlasting",
           "Comedy"
          ],
          [
           "The Last Days of American Crime",
           "Heist film/Thriller"
          ],
          [
           "Paradox",
           "Musical/Western/Fantasy"
          ],
          [
           "Sardar Ka Grandson",
           "Comedy"
          ],
          [
           "Searching for Sheela",
           "Documentary"
          ],
          [
           "The Call",
           "Drama"
          ],
          [
           "Whipped",
           "Romantic comedy"
          ],
          [
           "All Because of You",
           "Action comedy"
          ],
          [
           "Mercy",
           "Thriller"
          ],
          [
           "After the Raid",
           "Documentary"
          ],
          [
           "Ghost Stories",
           "Horror anthology"
          ],
          [
           "The Last Thing He Wanted",
           "Political thriller"
          ],
          [
           "What Happened to Mr. Cha?",
           "Comedy"
          ],
          [
           "Death Note",
           "Horror thriller"
          ],
          [
           "Hello Privilege. It's Me, Chelsea",
           "Documentary"
          ],
          [
           "Secret Obsession",
           "Thriller"
          ],
          [
           "Sextuplets",
           "Comedy"
          ],
          [
           "The Girl on the Train",
           "Thriller"
          ],
          [
           "Thunder Force",
           "Superhero-Comedy"
          ],
          [
           "Fatal Affair",
           "Thriller"
          ],
          [
           "Just Say Yes",
           "Romantic comedy"
          ],
          [
           "Seriously Single",
           "Comedy"
          ],
          [
           "The Misadventures of Hedi and Cokeman",
           "Comedy"
          ],
          [
           "5 Star Christmas",
           "Comedy"
          ],
          [
           "After Maria",
           "Documentary"
          ],
          [
           "I Am the Pretty Thing That Lives in the House",
           "Horror"
          ],
          [
           "Paris Is Us",
           "Romance drama"
          ],
          [
           "Porta dos Fundos: The First Temptation of Christ",
           "Comedy"
          ],
          [
           "Rattlesnake",
           "Horror"
          ],
          [
           "The Players",
           "Comedy"
          ],
          [
           "We Are One",
           "Documentary"
          ],
          [
           "Finding Agnes",
           "Drama"
          ],
          [
           "IO",
           "Science fiction/Drama"
          ],
          [
           "Sentinelle",
           "Action"
          ],
          [
           "Sol Levante",
           "Anime / Short"
          ],
          [
           "The Binding",
           "Drama"
          ],
          [
           "We Can Be Heroes",
           "Superhero"
          ],
          [
           "Christmas Crossfire",
           "Thriller"
          ],
          [
           "Coin Heist",
           "Heist"
          ],
          [
           "Mrs. Serial Killer",
           "Thriller"
          ],
          [
           "Nobody Sleeps in the Woods Tonight",
           "Horror"
          ],
          [
           "Take the 10",
           "Comedy"
          ],
          [
           "The Main Event",
           "Comedy"
          ],
          [
           "The Ridiculous 6",
           "Western"
          ],
          [
           "Earth and Blood",
           "Action"
          ],
          [
           "Fearless",
           "Animation/Superhero"
          ],
          [
           "Holiday Rush",
           "Family film"
          ],
          [
           "The Day of the Lord",
           "Drama"
          ],
          [
           "Airplane Mode",
           "Comedy"
          ],
          [
           "How It Ends",
           "Action-thriller"
          ],
          [
           "Love Like the Falling Rain",
           "Drama"
          ],
          [
           "Rebirth",
           "Thriller"
          ],
          [
           "Squared Love",
           "Romantic comedy"
          ],
          [
           "Cadaver",
           "Horror"
          ],
          [
           "Clinical",
           "Thriller"
          ],
          [
           "Coffee & Kareem",
           "Action comedy"
          ],
          [
           "Dude",
           "Teen comedy-drama"
          ],
          [
           "Geez & Ann",
           "Romantic drama"
          ],
          [
           "The Larva Island Movie",
           "Animation"
          ],
          [
           "#REALITYHIGH",
           "Comedy"
          ],
          [
           "American Factory: A Conversation with the Obamas ",
           "Aftershow / Interview"
          ],
          [
           "Desperados",
           "Romantic comedy"
          ],
          [
           "Dolly Parton's Christmas on the Square",
           "Christmas musical"
          ],
          [
           "Father of the Year",
           "Comedy"
          ],
          [
           "Firebrand",
           "Drama"
          ],
          [
           "Ghost Lab",
           "Horror"
          ],
          [
           "Girlfriend's Day",
           "Comedy"
          ],
          [
           "Handsome: A Netflix Mystery Movie",
           "Comedy"
          ],
          [
           "Hubie Halloween",
           "Comedy"
          ],
          [
           "Ibiza",
           "Comedy"
          ],
          [
           "Rim of the World",
           "Science fiction adventure"
          ],
          [
           "Sandy Wexler",
           "Comedy"
          ],
          [
           "See You Yesterday",
           "Science fiction"
          ],
          [
           "Still Laugh-In: The Stars Celebrate",
           "Variety show"
          ],
          [
           "Strip Down, Rise Up",
           "Documentary"
          ],
          [
           "Tall Girl",
           "Comedy-drama"
          ],
          [
           "The Beast",
           "Drama"
          ],
          [
           "The Week Of",
           "Comedy"
          ],
          [
           "A Christmas Prince: The Royal Wedding",
           "Romantic comedy"
          ],
          [
           "Back to School",
           "Comedy"
          ],
          [
           "Dangerous Lies",
           "Thriller"
          ],
          [
           "Gunjan Saxena: The Kargil Girl",
           "Drama"
          ],
          [
           "Intuition",
           "Thriller"
          ],
          [
           "The Most Assassinated Woman in the World",
           "Thriller"
          ],
          [
           "Things Heard & Seen",
           "Horror"
          ],
          [
           "To Each, Her Own",
           "Romantic comedy"
          ],
          [
           "Who Would You Take to a Deserted Island?",
           "Drama"
          ],
          [
           "XOXO",
           "Drama"
          ],
          [
           "A Babysitter's Guide to Monster Hunting",
           "Comedy/Fantasy/Family"
          ],
          [
           "A Christmas Prince: The Royal Baby",
           "Romantic comedy"
          ],
          [
           "Despite Everything",
           "Comedy"
          ],
          [
           "Dolly Kitty and Those Twinkling Stars",
           "Drama"
          ],
          [
           "Freaks: You're One of Us",
           "Supernatural drama"
          ],
          [
           "Game Over, Man!",
           "Action/Comedy"
          ],
          [
           "Guilty",
           "Thriller"
          ],
          [
           "In the Tall Grass",
           "Horror"
          ],
          [
           "Madame Claude",
           "Drama"
          ],
          [
           "Naked",
           "Comedy"
          ],
          [
           "Outside the Wire",
           "Action/Science fiction"
          ],
          [
           "The Princess Switch: Switched Again",
           "Romantic comedy"
          ],
          [
           "Under the Riccione Sun",
           "Romantic teenage drama"
          ],
          [
           "A Very Murray Christmas",
           "Comedy / Musical"
          ],
          [
           "Been So Long",
           "Musical"
          ],
          [
           "Dead Kids",
           "Thriller"
          ],
          [
           "Get the Grift",
           "Comedy"
          ],
          [
           "Ghosts of Sugar Land",
           "Documentary"
          ],
          [
           "House Arrest",
           "Comedy"
          ],
          [
           "Kevin Hart's Guide to Black History",
           "Variety show"
          ],
          [
           "Love Wedding Repeat",
           "Romantic comedy"
          ],
          [
           "Mute",
           "Science fiction/Mystery"
          ],
          [
           "Òlòt?ré",
           "Crime drama"
          ],
          [
           "Red Dot",
           "Thriller"
          ],
          [
           "Ride or Die",
           "Psychological thriller drama"
          ],
          [
           "Step Sisters",
           "Comedy"
          ],
          [
           "The Cloverfield Paradox",
           "Science fiction"
          ],
          [
           "The Knight Before Christmas",
           "Romantic comedy"
          ],
          [
           "The Legacy of a Whitetail Deer Hunter",
           "Adventure/Comedy"
          ],
          [
           "The Package",
           "Black comedy"
          ],
          [
           "Unicorn Store",
           "Comedy"
          ],
          [
           "Wine Country",
           "Comedy"
          ],
          [
           "Bomb Scared",
           "Black comedy"
          ],
          [
           "Brahman Naman",
           "Comedy"
          ],
          [
           "Double Dad",
           "Comedy-drama"
          ],
          [
           "Falling Inn Love",
           "Romantic comedy"
          ],
          [
           "Hold the Dark",
           "Thriller"
          ],
          [
           "Love, Guaranteed",
           "Romantic comedy"
          ],
          [
           "One-Way to Tomorrow",
           "Romance"
          ],
          [
           "Sarah Cooper: Everything's Fine",
           "Variety show"
          ],
          [
           "The Last Laugh",
           "Comedy-drama"
          ],
          [
           "The Last Paradiso",
           "Romantic drama"
          ],
          [
           "The Midnight Sky",
           "Science fiction"
          ],
          [
           "The Paramedic",
           "Thriller"
          ],
          [
           "The Sleepover",
           "Comedy"
          ],
          [
           "Vampires vs. the Bronx",
           "Horror comedy"
          ],
          [
           "Why Did You Kill Me?",
           "Documentary"
          ],
          [
           "A Week Away",
           "Christian musical"
          ],
          [
           "Caught by a Wave",
           "Romantic teen drama"
          ],
          [
           "Christmas Inheritance",
           "Romantic drama"
          ],
          [
           "Dad Wanted",
           "Family"
          ],
          [
           "El Camino Christmas",
           "Dark comedy"
          ],
          [
           "Eli",
           "Horror"
          ],
          [
           "Ginny Weds Sunny",
           "Romantic comedy"
          ],
          [
           "Good Sam",
           "Drama"
          ],
          [
           "Lionheart",
           "Comedy"
          ],
          [
           "Little Evil",
           "Comedy horror"
          ],
          [
           "One Take",
           "Documentary"
          ],
          [
           "Out of Many, One",
           "Documentary"
          ],
          [
           "Point Blank",
           "Action"
          ],
          [
           "Prime Time",
           "Thriller"
          ],
          [
           "The Do-Over",
           "Action comedy"
          ],
          [
           "The Holiday Calendar",
           "Romantic comedy"
          ],
          [
           "The Woman in the Window",
           "Psychological thriller"
          ],
          [
           "The Wrong Missy",
           "Comedy"
          ],
          [
           "Velvet Buzzsaw",
           "Thriller"
          ],
          [
           "Yes Day",
           "Comedy"
          ],
          [
           "15 August",
           "Comedy-drama"
          ],
          [
           "A California Christmas",
           "Romantic comedy"
          ],
          [
           "A Christmas Prince",
           "Romantic comedy"
          ],
          [
           "All Day and a Night",
           "Drama"
          ],
          [
           "American Son",
           "Drama"
          ],
          [
           "Barry",
           "Biopic"
          ],
          [
           "Candy Jar",
           "Comedy"
          ],
          [
           "Choked: Paisa Bolta Hai",
           "Drama"
          ],
          [
           "Class of '83",
           "Drama"
          ],
          [
           "Extinction",
           "Science fiction/Thriller"
          ],
          [
           "Happy Anniversary",
           "Romantic comedy"
          ],
          [
           "I Am All Girls",
           "Thriller"
          ],
          [
           "Let It Snow",
           "Romantic comedy"
          ],
          [
           "Mascots",
           "Mockumentary"
          ],
          [
           "Operation Christmas Drop",
           "Romantic comedy"
          ],
          [
           "Rajma Chawal",
           "Comedy-drama"
          ],
          [
           "Rich in Love",
           "Romantic comedy"
          ],
          [
           "Rising High",
           "Satire"
          ],
          [
           "Rodney King",
           "One-man show"
          ],
          [
           "Sierra Burgess Is a Loser",
           "Romantic comedy-drama"
          ],
          [
           "Small Crimes",
           "Dark comedy"
          ],
          [
           "Special Correspondents",
           "Satire"
          ],
          [
           "TAU",
           "Science fiction/Thriller"
          ],
          [
           "The After Party",
           "Comedy"
          ],
          [
           "The Babysitter: Killer Queen",
           "Comedy/Horror"
          ],
          [
           "The Claus Family",
           "Fantasy"
          ],
          [
           "The Kissing Booth 2",
           "Romantic comedy"
          ],
          [
           "The Perfect Date",
           "Romantic comedy"
          ],
          [
           "What We Wanted",
           "Drama"
          ],
          [
           "You've Got This",
           "Romantic comedy"
          ],
          [
           "6 Balloons",
           "Drama"
          ],
          [
           "A Fall from Grace",
           "Thriller"
          ],
          [
           "Amateur",
           "Sports-drama"
          ],
          [
           "Army of the Dead",
           "Zombie/Heist"
          ],
          [
           "Cam",
           "Psychological horror"
          ],
          [
           "Earthquake Bird",
           "Mystery"
          ],
          [
           "Frankenstein's Monster's Monster, Frankenstein",
           "Mockumentary"
          ],
          [
           "Horse Girl",
           "Drama"
          ],
          [
           "Notes from Dunblane: Lesson from a School Shooting",
           "Documentary"
          ],
          [
           "Maska",
           "Romantic comedy"
          ],
          [
           "The Decline",
           "Thriller"
          ],
          [
           "The Minimalists: Less Is Now",
           "Documentary"
          ],
          [
           "The Polka King",
           "Comedy-drama"
          ],
          [
           "The Prom",
           "Musical"
          ],
          [
           "True Memoirs of an International Assassin",
           "Action comedy"
          ],
          [
           "Ultras",
           "Sports film"
          ],
          [
           "Come Sunday",
           "Biopic"
          ],
          [
           "Forgive Us Our Debts",
           "Drama"
          ],
          [
           "iBoy",
           "Science fiction/Thriller"
          ],
          [
           "Lovefucked",
           "Drama"
          ],
          [
           "Juanita",
           "Drama"
          ],
          [
           "Murder Mystery",
           "Comedy mystery"
          ],
          [
           "Project Power",
           "Superhero"
          ],
          [
           "Rebecca",
           "Romantic thriller"
          ],
          [
           "The Christmas Chronicles: Part Two",
           "Christmas comedy"
          ],
          [
           "The Kissing Booth",
           "Romantic comedy"
          ],
          [
           "The Princess Switch",
           "Romantic comedy"
          ],
          [
           "To All the Boys: P.S. I Still Love You",
           "Romantic comedy"
          ],
          [
           "War Machine",
           "War-Comedy"
          ],
          [
           "6 Underground",
           "Action"
          ],
          [
           "Between Two Ferns: The Movie",
           "Comedy"
          ],
          [
           "Burning Sands",
           "Drama"
          ],
          [
           "Casting JonBenet",
           "Documentary"
          ],
          [
           "Deidra & Laney Rob a Train",
           "Drama"
          ],
          [
           "Finding 'Ohana",
           "Family"
          ],
          [
           "Holidate",
           "Romantic comedy/Holiday"
          ],
          [
           "Holiday in the Wild",
           "Adventure-romance"
          ],
          [
           "Hot Girls Wanted",
           "Documentary"
          ],
          [
           "Like Father",
           "Comedy"
          ],
          [
           "Lost Girls",
           "Crime drama"
          ],
          [
           "Otherhood",
           "Comedy"
          ],
          [
           "Pee-wee's Big Holiday",
           "Adventure"
          ],
          [
           "Rogue City",
           "Crime drama"
          ],
          [
           "Sergio",
           "Biopic"
          ],
          [
           "Stuck Apart",
           "Drama"
          ],
          [
           "Tersanjung the Movie",
           "Drama"
          ],
          [
           "The Killer",
           "Western"
          ],
          [
           "The Lovebirds",
           "Romantic comedy"
          ],
          [
           "The Most Hated Woman in America",
           "Biopic"
          ],
          [
           "The Perfection",
           "Horror-thriller"
          ],
          [
           "Tribhanga  Tedhi Medhi Crazy",
           "Drama"
          ],
          [
           "Unknown Origins",
           "Thriller"
          ],
          [
           "Work It",
           "Dance comedy"
          ],
          [
           "Alien Xmas",
           "Stop Motion"
          ],
          [
           "Baggio: The Divine Ponytail",
           "Biopic"
          ],
          [
           "Below Zero",
           "Drama"
          ],
          [
           "Citation",
           "Drama"
          ],
          [
           "Crazy Awesome Teachers",
           "Comedy-drama"
          ],
          [
           "Have You Ever Seen Fireflies?",
           "Comedy"
          ],
          [
           "High Flying Bird",
           "Sports-drama"
          ],
          [
           "In the Shadow of the Moon",
           "Thriller"
          ],
          [
           "Lost Bullet",
           "Thriller"
          ],
          [
           "Octonauts & the Caves of Sac Actun",
           "Animation"
          ],
          [
           "Offering to the Storm",
           "Thriller"
          ],
          [
           "Roxanne Roxanne",
           "Biopic"
          ],
          [
           "Someone Great",
           "Romantic comedy"
          ],
          [
           "Spenser Confidential",
           "Action comedy"
          ],
          [
           "The Land of Steady Habits",
           "Drama"
          ],
          [
           "The Rachel Divide",
           "Documentary"
          ],
          [
           "Voyuer ",
           "Documentary"
          ],
          [
           "Win It All",
           "Comedy"
          ],
          [
           "1922",
           "Horror/Crime drama"
          ],
          [
           "A Tale of Two Kitchens",
           "Documentary"
          ],
          [
           "Alex Strangelove",
           "Romantic comedy"
          ],
          [
           "Apostle",
           "Horror-thriller"
          ],
          [
           "Benji",
           "Family film"
          ],
          [
           "Bright",
           "Urban fantasy"
          ],
          [
           "Cargo",
           "Drama/Horror"
          ],
          [
           "Concrete Cowboy",
           "Drama"
          ],
          [
           "Feel the Beat",
           "Family/Comedy-drama"
          ],
          [
           "Get the Goat",
           "Comedy"
          ],
          [
           "I Am Not an Easy Man",
           "Romantic comedy"
          ],
          [
           "June & Kopi",
           "Drama"
          ],
          [
           "Music Teacher",
           "Drama"
          ],
          [
           "Nail Bomber: Manhunt",
           "Documentary"
          ],
          [
           "Notes for My Son",
           "Drama"
          ],
          [
           "Polar",
           "Action"
          ],
          [
           "Porta dos Fundos: The Last Hangover",
           "Comedy"
          ],
          [
           "Sand Castle",
           "War"
          ],
          [
           "Shimmer Lake",
           "Crime thriller"
          ],
          [
           "Spectral",
           "Science fiction/Action"
          ],
          [
           "The Babysitter",
           "Teen comedy horror"
          ],
          [
           "The Discovery",
           "Science fiction/Drama"
          ],
          [
           "The Forest of Love",
           "Drama"
          ],
          [
           "The Laundromat",
           "Comedy-drama"
          ],
          [
           "The Legend of Cocaine Island",
           "Documentary"
          ],
          [
           "The Outsider",
           "Crime drama"
          ],
          [
           "Time to Hunt",
           "Thriller"
          ],
          [
           "To All the Boys: Always and Forever",
           "Romantic comedy"
          ],
          [
           "Travis Scott: Look Mom I Can Fly",
           "Documentary"
          ],
          [
           "Uncorked",
           "Drama"
          ],
          [
           "Anelka: Misunderstood",
           "Documentary"
          ],
          [
           "Ariana Grande: Excuse Me, I Love You",
           "Concert Film"
          ],
          [
           "ARQ",
           "Science fiction/Thriller"
          ],
          [
           "Birders",
           "Documentary"
          ],
          [
           "Como Caído del Cielo",
           "Musical comedy"
          ],
          [
           "First Match",
           "Sports-drama"
          ],
          [
           "Fractured",
           "Thriller"
          ],
          [
           "Irreplaceable You",
           "Drama"
          ],
          [
           "Isi & Ossi",
           "Romantic comedy"
          ],
          [
           "John Was Trying to Contact Aliens",
           "Documentary"
          ],
          [
           "Layla Majnun",
           "Romantic drama"
          ],
          [
           "Murder to Mercy: The Cyntoia Brown Story",
           "Documentary"
          ],
          [
           "My Own Man",
           "Documentary"
          ],
          [
           "Nappily Ever After",
           "Comedy-drama"
          ],
          [
           "Over the Moon",
           "Animation/Musical/Adventure"
          ],
          [
           "Street Flow",
           "Drama"
          ],
          [
           "Strong Island",
           "Documentary"
          ],
          [
           "Sturgill Simpson Presents: Sound & Fury",
           "Animation / Musicial"
          ],
          [
           "Take Your Pills",
           "Documentary"
          ],
          [
           "The Heartbreak Club",
           "Comedy-drama"
          ],
          [
           "The Mars Generation",
           "Documentary"
          ],
          [
           "The Occupant",
           "Thriller"
          ],
          [
           "The Willoughbys",
           "Animation/Comedy/Adventure"
          ],
          [
           "Triple Frontier",
           "Action-thriller"
          ],
          [
           "Two Catalonias",
           "Documentary"
          ],
          [
           "Walk. Ride. Rodeo.",
           "Drama"
          ],
          [
           "Wheelman",
           "Action thriller"
          ],
          [
           "When We First Met",
           "Romantic comedy"
          ],
          [
           "A 3 Minute Hug",
           "Documentary"
          ],
          [
           "All the Bright Places",
           "Romance"
          ],
          [
           "All Together Now",
           "Drama"
          ],
          [
           "Altered Carbon: Resleeved",
           "Anime/Science fiction"
          ],
          [
           "Antoine Griezmann: The Making of a Legend",
           "Documentary"
          ],
          [
           "Canvas ",
           "Animation / Short"
          ],
          [
           "Chadwick Boseman: Portrait of an Artist",
           "Documentary"
          ],
          [
           "Chopsticks",
           "Comedy"
          ],
          [
           "Da 5 Bloods",
           "War drama"
          ],
          [
           "Dolly Parton: A MusiCares Tribute",
           "Documentary"
          ],
          [
           "Eurovision Song Contest: The Story of Fire Saga",
           "Musical comedy"
          ],
          [
           "Gerald's Game",
           "Horror thriller"
          ],
          [
           "His House",
           "Thriller"
          ],
          [
           "Jingle Jangle: A Christmas Journey",
           "Family/Christmas musical"
          ],
          [
           "Life Overtakes Me",
           "Documentary"
          ],
          [
           "Lust Stories",
           "Drama"
          ],
          [
           "Monster",
           "Drama"
          ],
          [
           "Mowgli: Legend of the Jungle",
           "Adventure"
          ],
          [
           "Nobody Knows I'm Here",
           "Drama"
          ],
          [
           "Nobody Speak: Trials of the Free Press",
           "Documentary"
          ],
          [
           "Oxygen",
           "Science fiction thriller"
          ],
          [
           "Set It Up",
           "Romantic comedy"
          ],
          [
           "The Incredible Jessica James",
           "Comedy"
          ],
          [
           "Tigertail",
           "Drama"
          ],
          [
           "Tramps",
           "Romance"
          ],
          [
           "What Did Jack Do?",
           "Drama / Short"
          ],
          [
           "Bad Trip",
           "Hidden-camera prank comedy"
          ],
          [
           "Bird Box",
           "Psychological thriller"
          ],
          [
           "Bulbbul",
           "Horror"
          ],
          [
           "Crazy About Her",
           "Romantic comedy"
          ],
          [
           "Elisa & Marcela",
           "Romance"
          ],
          [
           "I'll Sleep When I'm Dead",
           "Documentary"
          ],
          [
           "I'm Thinking of Ending Things",
           "Psychological thriller"
          ],
          [
           "It Takes a Lunatic",
           "Documentary"
          ],
          [
           "Milestone",
           "Drama"
          ],
          [
           "Recovery Boys",
           "Documentary"
          ],
          [
           "ReMastered: Who Killed Jam Master Jay?",
           "Documentary"
          ],
          [
           "Shawn Mendes: In Wonder",
           "Documentary"
          ],
          [
           "Space Sweepers",
           "Science fiction"
          ],
          [
           "The American Meme",
           "Documentary"
          ],
          [
           "The Angel",
           "Spy thriller"
          ],
          [
           "The Crimes That Bind",
           "Crime drama"
          ],
          [
           "The Red Sea Diving Resort",
           "Spy thriller"
          ],
          [
           "What Would Sophia Loren Do?",
           "Documentary"
          ],
          [
           "A Whisker Away",
           "Anime/Fantasy"
          ],
          [
           "Ajeeb Daastaans",
           "Drama"
          ],
          [
           "Arlo the Alligator Boy",
           "Animated musical comedy"
          ],
          [
           "Bikram: Yogi, Guru, Predator",
           "Documentary"
          ],
          [
           "Blame!",
           "Anime/Science fiction"
          ],
          [
           "Blue Miracle",
           "Drama"
          ],
          [
           "CounterPunch ",
           "Documentary"
          ],
          [
           "Crack: Cocaine, Corruption & Conspiracy",
           "Documentary"
          ],
          [
           "Extraction",
           "Action"
          ],
          [
           "Giving Voice",
           "Documentary"
          ],
          [
           "Hillbilly Elegy",
           "Drama"
          ],
          [
           "Hope Frozen: A Quest to Live Twice",
           "Documentary"
          ],
          [
           "Imperial Dreams",
           "Drama"
          ],
          [
           "Just Another Christmas",
           "Comedy"
          ],
          [
           "Little Miss Sumo",
           "Documentary"
          ],
          [
           "Malcolm & Marie",
           "Romantic drama"
          ],
          [
           "Michael Bolton's Big, Sexy, Valentine's Day Special",
           "Variety Show"
          ],
          [
           "Moxie",
           "Drama"
          ],
          [
           "Night in Paradise",
           "Drama"
          ],
          [
           "Paper Lives",
           "Drama"
          ],
          [
           "Parchis: The Documentary",
           "Documentary"
          ],
          [
           "Tallulah",
           "Comedy-drama"
          ],
          [
           "The Old Guard",
           "Superhero/Action"
          ],
          [
           "Tony Robbins: I Am Not Your Guru",
           "Documentary"
          ],
          [
           "Upstarts",
           "Drama"
          ],
          [
           "22 July",
           "Drama"
          ],
          [
           "7 años",
           "Drama"
          ],
          [
           "A Futile and Stupid Gesture",
           "Biographical/Comedy"
          ],
          [
           "A Life of Speed: The Juan Manuel Fangio Story",
           "Documentary"
          ],
          [
           "A Love Song for Latasha",
           "Documentary"
          ],
          [
           "All in My Family",
           "Documentary"
          ],
          [
           "Always Be My Maybe",
           "Romantic comedy"
          ],
          [
           "Becoming",
           "Documentary"
          ],
          [
           "Long Live Brij Mohan",
           "Comedy"
          ],
          [
           "Calibre",
           "Thriller"
          ],
          [
           "Death to 2020",
           "Comedy"
          ],
          [
           "GIMS: On the Record",
           "Documentary"
          ],
          [
           "Have a Good Trip: Adventures in Psychedelics",
           "Documentary"
          ],
          [
           "Heroin(e) ",
           "Documentary"
          ],
          [
           "Mercury 13",
           "Documentary"
          ],
          [
           "Saving Capitalism",
           "Documentary"
          ],
          [
           "Serious Men",
           "Drama"
          ],
          [
           "The Boys in the Band",
           "Drama"
          ],
          [
           "The Boys in the Band: Something Personal",
           "Aftershow / Interview"
          ],
          [
           "The Life Ahead",
           "Drama"
          ],
          [
           "The Other Side of the Wind",
           "Drama"
          ],
          [
           "The Trader",
           "Documentary"
          ],
          [
           "To the Bone",
           "Drama"
          ],
          [
           "Tony Parker: The Final Shot",
           "Documentary"
          ],
          [
           "AK vs AK",
           "Thriller"
          ],
          [
           "Amanda Knox",
           "Documentary"
          ],
          [
           "Bigflo & Oil: Hip Hop Frenzy",
           "Documentary"
          ],
          [
           "Biggie: I Got a Story to Tell",
           "Documentary"
          ],
          [
           "Cops and Robbers",
           "Animation / Short"
          ],
          [
           "I Don't Feel at Home in This World Anymore",
           "Drama"
          ],
          [
           "Laerte-se",
           "Documentary"
          ],
          [
           "Mank",
           "Biopic"
          ],
          [
           "Our Souls at Night",
           "Romance"
          ],
          [
           "Outlaw King",
           "Historical-epic"
          ],
          [
           "Pagglait",
           "Comedy-drama"
          ],
          [
           "ReMastered: Who Shot the Sheriff?",
           "Documentary"
          ],
          [
           "Seeing Allred",
           "Documentary"
          ],
          [
           "Spelling the Dream",
           "Documentary"
          ],
          [
           "The Claudia Kishi Club",
           "Documentary"
          ],
          [
           "The Half of It",
           "Romance"
          ],
          [
           "The Highwaymen",
           "Crime drama"
          ],
          [
           "The Lonely Island Presents: The Unauthorized Bash Brothers Experience",
           "Comedy / Musical"
          ],
          [
           "The Meyerowitz Stories (New and Selected)",
           "Comedy-drama"
          ],
          [
           "Feminists: What Were They Thinking?",
           "Documentary"
          ],
          [
           "Gaga: Five Foot Two",
           "Documentary"
          ],
          [
           "I'm No Longer Here: A Discussion with Guillermo del Toro and Alfonso Cuaron",
           "Aftershow / Interview"
          ],
          [
           "Kingdom of Us",
           "Documentary"
          ],
          [
           "Lorena, Light-Footed Woman",
           "Documentary"
          ],
          [
           "Los Tigres del Norte at Folsom Prison",
           "Documentary"
          ],
          [
           "Ma Rainey's Black Bottom",
           "Drama"
          ],
          [
           "Ma Rainey's Black Bottom: A Legacy Brought to Screen",
           "Aftershow / Interview"
          ],
          [
           "Operation Varsity Blues: The College Admissions Scandal",
           "Documentary"
          ],
          [
           "Pele",
           "Documentary"
          ],
          [
           "ReMastered: Devil at the Crossroads",
           "Documentary"
          ],
          [
           "ReMastered: The Lion's Share",
           "Documentary"
          ],
          [
           "ReMastered: The Miami Showband Massacre",
           "Documentary"
          ],
          [
           "Resurface",
           "Documentary"
          ],
          [
           "Rocko's Modern Life: Static Cling",
           "Animation / Comedy"
          ],
          [
           "Rose Island",
           "Comedy"
          ],
          [
           "The Christmas Chronicles",
           "Christmas/Fantasy/Adventure/Comedy"
          ],
          [
           "The Dirt",
           "Biopic"
          ],
          [
           "The Night Comes for Us",
           "Action-thriller"
          ],
          [
           "13th: A Conversation with Oprah Winfrey & Ava DuVernay",
           "Aftershow / Interview"
          ],
          [
           "Angela's Christmas",
           "Animation"
          ],
          [
           "Angela's Christmas Wish",
           "Animation"
          ],
          [
           "Beats",
           "Drama"
          ],
          [
           "Circus of Books",
           "Documentary"
          ],
          [
           "Dance Dreams: Hot Chocolate Nutcracker",
           "Documentary"
          ],
          [
           "Derren Brown: Sacrifice",
           "Mentalism special"
          ],
          [
           "El Pepe: A Supreme Life",
           "Documentary"
          ],
          [
           "End Game",
           "Documentary"
          ],
          [
           "Evelyn",
           "Documentary"
          ],
          [
           "Ferry",
           "Crime drama"
          ],
          [
           "Grass Is Greener",
           "Documentary"
          ],
          [
           "Guillermo Vilas: Settling the Score",
           "Documentary"
          ],
          [
           "Joshua: Teenager vs. Superpower",
           "Documentary"
          ],
          [
           "Keith Richards: Under the Influence",
           "Documentary"
          ],
          [
           "Knock Down the House",
           "Documentary"
          ],
          [
           "Loudon Wainwright III: Surviving Twin",
           "One-man show"
          ],
          [
           "My Beautiful Broken Brain",
           "Documentary"
          ],
          [
           "One of Us",
           "Documentary"
          ],
          [
           "Pieces of a Woman",
           "Drama"
          ],
          [
           "Ram Dass, Going Home",
           "Documentary"
          ],
          [
           "ReMastered: Tricky Dick & the Man in Black",
           "Documentary"
          ],
          [
           "Rooting for Roona",
           "Documentary"
          ],
          [
           "The Devil All the Time",
           "Psychological thriller"
          ],
          [
           "The Dig",
           "Drama"
          ],
          [
           "The Great Hack",
           "Documentary"
          ],
          [
           "The White Tiger",
           "Drama"
          ],
          [
           "To All the Boys I've Loved Before",
           "Romantic comedy"
          ],
          [
           "American Murder: The Family Next Door",
           "Documentary"
          ],
          [
           "Audrie & Daisy",
           "Documentary"
          ],
          [
           "First They Killed My Father",
           "Drama"
          ],
          [
           "Fyre: The Greatest Party That Never Happened",
           "Documentary"
          ],
          [
           "Into the Inferno",
           "Documentary"
          ],
          [
           "LA Originals",
           "Documentary"
          ],
          [
           "Ladies First",
           "Documentary"
          ],
          [
           "Love per Square Foot",
           "Romantic comedy"
          ],
          [
           "Paddleton",
           "Drama-Comedy"
          ],
          [
           "Private Life",
           "Drama"
          ],
          [
           "Seventeen",
           "Coming-of-age comedy-drama"
          ],
          [
           "Sometimes",
           "Drama"
          ],
          [
           "Soni",
           "Crime drama"
          ],
          [
           "The 40-Year-Old Version",
           "Comedy"
          ],
          [
           "The Disciple",
           "Drama"
          ],
          [
           "The Edge of Democracy",
           "Documentary"
          ],
          [
           "The King",
           "Historical drama"
          ],
          [
           "The Road to El Camino: A Breaking Bad Movie",
           "Making-of"
          ],
          [
           "The Siege of Jadotville",
           "War"
          ],
          [
           "Zion ",
           "Documentary"
          ],
          [
           "Dolemite Is My Name",
           "Biopic"
          ],
          [
           "El Camino: A Breaking Bad Movie",
           "Crime drama"
          ],
          [
           "Extremis",
           "Documentary"
          ],
          [
           "Father Soldier Son",
           "Documentary"
          ],
          [
           "Get Me Roger Stone",
           "Documentary"
          ],
          [
           "I'm No Longer Here",
           "Drama"
          ],
          [
           "Mucho Mucho Amor: The Legend of Walter Mercado ",
           "Documentary"
          ],
          [
           "Octonauts & the Great Barrier Reef",
           "Animation"
          ],
          [
           "Okja",
           "Action-adventure"
          ],
          [
           "On My Skin",
           "Crime drama"
          ],
          [
           "Raat Akeli Hai",
           "Thriller"
          ],
          [
           "ReMastered: Massacre at the Stadium",
           "Documentary"
          ],
          [
           "ReMastered: The Two Killings of Sam Cooke",
           "Documentary"
          ],
          [
           "Secrets of the Saqqara Tomb",
           "Documentary"
          ],
          [
           "Sitara: Let Girls Dream",
           "Animation / Short"
          ],
          [
           "Sky Ladder: The Art of Cai Guo-Qiang",
           "Documentary"
          ],
          [
           "Team Foxcatcher",
           "Documentary"
          ],
          [
           "The Ballad of Buster Scruggs",
           "Western"
          ],
          [
           "The Death and Life of Marsha P. Johnson",
           "Documentary"
          ],
          [
           "The Fundamentals of Caring",
           "Comedy-drama"
          ],
          [
           "The Other One: The Long Strange Trip of Bob Weir",
           "Documentary"
          ],
          [
           "American Factory",
           "Documentary"
          ],
          [
           "Fire in Paradise",
           "Documentary"
          ],
          [
           "Long Shot",
           "Documentary"
          ],
          [
           "Miss Americana",
           "Documentary"
          ],
          [
           "Period. End of Sentence.",
           "Documentary"
          ],
          [
           "Shawn Mendes: Live in Concert",
           "Concert Film"
          ],
          [
           "Shirkers",
           "Documentary"
          ],
          [
           "The Black Godfather",
           "Documentary"
          ],
          [
           "The Irishman: In Conversation",
           "Aftershow / Interview"
          ],
          [
           "The Speed Cubers",
           "Documentary"
          ],
          [
           "They'll Love Me When I'm Dead",
           "Documentary"
          ],
          [
           "Tig",
           "Documentary"
          ],
          [
           "Barbra: The Music, The Mem'ries, The Magic!",
           "Concert Film"
          ],
          [
           "Blackpink: Light Up the Sky",
           "Documentary"
          ],
          [
           "City of Joy",
           "Documentary"
          ],
          [
           "Dick Johnson Is Dead",
           "Documentary"
          ],
          [
           "Homecoming: A Film by Beyonce ",
           "Documentary"
          ],
          [
           "Invader Zim: Enter the Florpus",
           "Animation / Science Fiction"
          ],
          [
           "Joan Didion: The Center Will Not Hold",
           "Documentary"
          ],
          [
           "John Mulaney & the Sack Lunch Bunch",
           "Variety show"
          ],
          [
           "Reversing Roe",
           "Documentary"
          ],
          [
           "The White Helmets",
           "Documentary"
          ],
          [
           "Athlete A",
           "Documentary"
          ],
          [
           "Ludo",
           "Anthology/Dark comedy"
          ],
          [
           "Quincy",
           "Documentary"
          ],
          [
           "Rolling Thunder Revue: A bob Dylan Story by Martin Scorsere",
           "Documentary"
          ],
          [
           "Tell Me Who I Am",
           "Documentary"
          ],
          [
           "The Bleeding Edge",
           "Documentary"
          ],
          [
           "The Social Dilemma",
           "Documentary"
          ],
          [
           "The Two Popes",
           "Drama"
          ],
          [
           "What Happened, Miss Simone?",
           "Documentary"
          ],
          [
           "Yeh Ballet",
           "Drama"
          ],
          [
           "Anima",
           "Musical / Short"
          ],
          [
           "Beasts of No Nation",
           "War drama"
          ],
          [
           "Brene Brown: The Call to Courage",
           "Documentary"
          ],
          [
           "Crip Camp: A Disability Revolution",
           "Documentary"
          ],
          [
           "Jim & Andy: The Great Beyond - Featuring a Very Special, Contractually Obligated Mention of Tony Cliffton ",
           "Documentary"
          ],
          [
           "Justin Timberlake + The Tennessee Kids",
           "Concert Film"
          ],
          [
           "Road to Roma",
           "Making-of"
          ],
          [
           "Roma",
           "Drama"
          ],
          [
           "If Anything Happens I Love You",
           "Animation / Short"
          ],
          [
           "The Irishman",
           "Crime drama"
          ],
          [
           "The Trial of the Chicago 7",
           "Drama"
          ],
          [
           "A Secret Love",
           "Documentary"
          ],
          [
           "Icarus",
           "Documentary"
          ],
          [
           "Marriage Story",
           "Drama"
          ],
          [
           "The Ivory Game",
           "Documentary"
          ],
          [
           "Struggle: The Life and Lost Art of Szukaiski",
           "Documentary"
          ],
          [
           "Chasing Coral ",
           "Documentary"
          ],
          [
           "My Octopus Teacher",
           "Documentary"
          ],
          [
           "Rising Phoenix",
           "Documentary"
          ],
          [
           "13th",
           "Documentary"
          ],
          [
           "Disclosure: Trans Lives on Screen",
           "Documentary"
          ],
          [
           "Klaus",
           "Animation/Christmas/Comedy/Adventure"
          ],
          [
           "Seaspiracy",
           "Documentary"
          ],
          [
           "The Three Deaths of Marisela Escobedo",
           "Documentary"
          ],
          [
           "Cuba and the Cameraman ",
           "Documentary"
          ],
          [
           "Dancing with the Birds",
           "Documentary"
          ],
          [
           "Ben Platt: Live from Radio City Music Hall",
           "Concert Film"
          ],
          [
           "Taylor Swift: Reputation Stadium Tour",
           "Concert Film"
          ],
          [
           "Winter on Fire: Ukraine's Fight for Freedom",
           "Documentary"
          ],
          [
           "Springsteen on Broadway",
           "One-man show"
          ],
          [
           "Emicida: AmarElo - It's All For Yesterday",
           "Documentary"
          ],
          [
           "David Attenborough: A Life on Our Planet",
           "Documentary"
          ]
         ],
         "hovertemplate": "Runtime=%{x}<br>Title=%{customdata[0]}<br>Genre=%{customdata[1]}<extra></extra>",
         "legendgroup": "",
         "marker": {
          "color": "#636efa"
         },
         "name": "",
         "notched": false,
         "offsetgroup": "",
         "orientation": "h",
         "quartilemethod": "inclusive",
         "showlegend": false,
         "type": "box",
         "x": [
          58,
          81,
          79,
          94,
          90,
          147,
          112,
          149,
          73,
          139,
          58,
          112,
          97,
          101,
          90,
          25,
          144,
          115,
          102,
          100,
          64,
          97,
          99,
          120,
          105,
          89,
          97,
          107,
          99,
          95,
          37,
          89,
          83,
          46,
          85,
          88,
          86,
          105,
          95,
          80,
          4,
          93,
          100,
          106,
          97,
          106,
          103,
          80,
          101,
          119,
          80,
          89,
          94,
          93,
          96,
          113,
          86,
          100,
          102,
          86,
          104,
          88,
          97,
          105,
          90,
          99,
          10,
          106,
          98,
          94,
          112,
          117,
          70,
          81,
          103,
          94,
          98,
          131,
          87,
          60,
          112,
          102,
          99,
          116,
          92,
          83,
          97,
          112,
          116,
          102,
          121,
          95,
          93,
          92,
          98,
          85,
          78,
          120,
          92,
          101,
          119,
          101,
          112,
          96,
          114,
          97,
          101,
          56,
          100,
          94,
          94,
          21,
          104,
          63,
          100,
          126,
          106,
          86,
          142,
          108,
          102,
          92,
          83,
          94,
          92,
          103,
          89,
          95,
          103,
          97,
          125,
          91,
          90,
          49,
          98,
          107,
          118,
          94,
          103,
          86,
          83,
          97,
          99,
          104,
          102,
          89,
          98,
          125,
          89,
          94,
          94,
          85,
          34,
          86,
          91,
          108,
          95,
          100,
          90,
          112,
          86,
          124,
          107,
          92,
          121,
          90,
          104,
          92,
          114,
          98,
          95,
          78,
          107,
          92,
          95,
          96,
          118,
          105,
          94,
          52,
          105,
          95,
          100,
          97,
          89,
          102,
          96,
          131,
          89,
          93,
          111,
          75,
          120,
          96,
          148,
          94,
          107,
          32,
          104,
          23,
          111,
          83,
          53,
          95,
          132,
          98,
          108,
          106,
          104,
          90,
          106,
          90,
          97,
          113,
          123,
          115,
          105,
          101,
          102,
          122,
          128,
          82,
          102,
          80,
          94,
          123,
          104,
          85,
          84,
          103,
          95,
          100,
          89,
          116,
          118,
          96,
          114,
          99,
          87,
          92,
          90,
          95,
          96,
          93,
          42,
          92,
          106,
          151,
          101,
          114,
          90,
          115,
          92,
          72,
          139,
          98,
          92,
          111,
          98,
          104,
          95,
          88,
          102,
          30,
          99,
          129,
          87,
          117,
          104,
          111,
          107,
          97,
          98,
          90,
          101,
          72,
          83,
          118,
          44,
          113,
          86,
          108,
          85,
          102,
          151,
          98,
          87,
          120,
          134,
          109,
          85,
          103,
          94,
          97,
          88,
          37,
          112,
          102,
          100,
          96,
          113,
          16,
          119,
          97,
          81,
          98,
          95,
          96,
          107,
          41,
          87,
          101,
          97,
          103,
          90,
          125,
          116,
          99,
          82,
          97,
          28,
          108,
          93,
          74,
          60,
          9,
          21,
          100,
          155,
          55,
          123,
          103,
          93,
          119,
          40,
          120,
          98,
          104,
          91,
          95,
          101,
          105,
          83,
          91,
          83,
          17,
          86,
          124,
          94,
          102,
          118,
          79,
          134,
          126,
          98,
          89,
          58,
          83,
          136,
          98,
          114,
          99,
          130,
          32,
          104,
          142,
          92,
          86,
          106,
          95,
          91,
          89,
          117,
          90,
          117,
          80,
          87,
          101,
          19,
          106,
          54,
          111,
          132,
          97,
          106,
          111,
          124,
          116,
          112,
          144,
          76,
          101,
          92,
          19,
          39,
          102,
          89,
          105,
          101,
          70,
          96,
          85,
          39,
          79,
          73,
          114,
          121,
          28,
          95,
          122,
          23,
          107,
          98,
          108,
          92,
          100,
          97,
          7,
          96,
          100,
          132,
          103,
          121,
          114,
          57,
          95,
          83,
          17,
          105,
          131,
          30,
          112,
          86,
          100,
          14,
          109,
          28,
          64,
          94,
          31,
          99,
          108,
          48,
          84,
          70,
          27,
          45,
          117,
          104,
          108,
          121,
          36,
          30,
          47,
          110,
          92,
          80,
          49,
          73,
          40,
          96,
          106,
          97,
          94,
          78,
          81,
          87,
          91,
          91,
          95,
          126,
          31,
          58,
          41,
          138,
          112,
          114,
          125,
          99,
          82,
          98,
          136,
          97,
          107,
          92,
          39,
          133,
          89,
          124,
          99,
          101,
          97,
          124,
          129,
          121,
          140,
          13,
          108,
          11,
          118,
          121,
          24,
          100,
          101,
          105,
          96,
          47,
          121,
          100,
          149,
          64,
          64,
          114,
          15,
          79,
          90,
          132,
          105,
          97,
          83,
          110,
          39,
          40,
          85,
          26,
          87,
          97,
          118,
          23,
          40,
          98,
          80,
          108,
          79,
          74,
          90,
          137,
          71,
          98,
          70,
          99,
          40,
          104,
          149,
          124,
          144,
          85,
          100,
          94,
          125,
          84,
          117,
          15,
          136,
          76,
          108,
          94,
          90,
          72,
          135,
          12,
          209,
          130,
          82,
          120,
          136,
          112,
          105,
          89,
          85,
          106,
          100,
          107,
          97,
          89,
          109,
          114,
          51,
          85,
          125,
          91,
          153,
          89,
          83
         ],
         "x0": " ",
         "xaxis": "x",
         "y0": " ",
         "yaxis": "y"
        }
       ],
       "layout": {
        "boxmode": "group",
        "legend": {
         "tracegroupgap": 0
        },
        "margin": {
         "t": 60
        },
        "template": {
         "data": {
          "bar": [
           {
            "error_x": {
             "color": "#2a3f5f"
            },
            "error_y": {
             "color": "#2a3f5f"
            },
            "marker": {
             "line": {
              "color": "#E5ECF6",
              "width": 0.5
             }
            },
            "type": "bar"
           }
          ],
          "barpolar": [
           {
            "marker": {
             "line": {
              "color": "#E5ECF6",
              "width": 0.5
             }
            },
            "type": "barpolar"
           }
          ],
          "carpet": [
           {
            "aaxis": {
             "endlinecolor": "#2a3f5f",
             "gridcolor": "white",
             "linecolor": "white",
             "minorgridcolor": "white",
             "startlinecolor": "#2a3f5f"
            },
            "baxis": {
             "endlinecolor": "#2a3f5f",
             "gridcolor": "white",
             "linecolor": "white",
             "minorgridcolor": "white",
             "startlinecolor": "#2a3f5f"
            },
            "type": "carpet"
           }
          ],
          "choropleth": [
           {
            "colorbar": {
             "outlinewidth": 0,
             "ticks": ""
            },
            "type": "choropleth"
           }
          ],
          "contour": [
           {
            "colorbar": {
             "outlinewidth": 0,
             "ticks": ""
            },
            "colorscale": [
             [
              0,
              "#0d0887"
             ],
             [
              0.1111111111111111,
              "#46039f"
             ],
             [
              0.2222222222222222,
              "#7201a8"
             ],
             [
              0.3333333333333333,
              "#9c179e"
             ],
             [
              0.4444444444444444,
              "#bd3786"
             ],
             [
              0.5555555555555556,
              "#d8576b"
             ],
             [
              0.6666666666666666,
              "#ed7953"
             ],
             [
              0.7777777777777778,
              "#fb9f3a"
             ],
             [
              0.8888888888888888,
              "#fdca26"
             ],
             [
              1,
              "#f0f921"
             ]
            ],
            "type": "contour"
           }
          ],
          "contourcarpet": [
           {
            "colorbar": {
             "outlinewidth": 0,
             "ticks": ""
            },
            "type": "contourcarpet"
           }
          ],
          "heatmap": [
           {
            "colorbar": {
             "outlinewidth": 0,
             "ticks": ""
            },
            "colorscale": [
             [
              0,
              "#0d0887"
             ],
             [
              0.1111111111111111,
              "#46039f"
             ],
             [
              0.2222222222222222,
              "#7201a8"
             ],
             [
              0.3333333333333333,
              "#9c179e"
             ],
             [
              0.4444444444444444,
              "#bd3786"
             ],
             [
              0.5555555555555556,
              "#d8576b"
             ],
             [
              0.6666666666666666,
              "#ed7953"
             ],
             [
              0.7777777777777778,
              "#fb9f3a"
             ],
             [
              0.8888888888888888,
              "#fdca26"
             ],
             [
              1,
              "#f0f921"
             ]
            ],
            "type": "heatmap"
           }
          ],
          "heatmapgl": [
           {
            "colorbar": {
             "outlinewidth": 0,
             "ticks": ""
            },
            "colorscale": [
             [
              0,
              "#0d0887"
             ],
             [
              0.1111111111111111,
              "#46039f"
             ],
             [
              0.2222222222222222,
              "#7201a8"
             ],
             [
              0.3333333333333333,
              "#9c179e"
             ],
             [
              0.4444444444444444,
              "#bd3786"
             ],
             [
              0.5555555555555556,
              "#d8576b"
             ],
             [
              0.6666666666666666,
              "#ed7953"
             ],
             [
              0.7777777777777778,
              "#fb9f3a"
             ],
             [
              0.8888888888888888,
              "#fdca26"
             ],
             [
              1,
              "#f0f921"
             ]
            ],
            "type": "heatmapgl"
           }
          ],
          "histogram": [
           {
            "marker": {
             "colorbar": {
              "outlinewidth": 0,
              "ticks": ""
             }
            },
            "type": "histogram"
           }
          ],
          "histogram2d": [
           {
            "colorbar": {
             "outlinewidth": 0,
             "ticks": ""
            },
            "colorscale": [
             [
              0,
              "#0d0887"
             ],
             [
              0.1111111111111111,
              "#46039f"
             ],
             [
              0.2222222222222222,
              "#7201a8"
             ],
             [
              0.3333333333333333,
              "#9c179e"
             ],
             [
              0.4444444444444444,
              "#bd3786"
             ],
             [
              0.5555555555555556,
              "#d8576b"
             ],
             [
              0.6666666666666666,
              "#ed7953"
             ],
             [
              0.7777777777777778,
              "#fb9f3a"
             ],
             [
              0.8888888888888888,
              "#fdca26"
             ],
             [
              1,
              "#f0f921"
             ]
            ],
            "type": "histogram2d"
           }
          ],
          "histogram2dcontour": [
           {
            "colorbar": {
             "outlinewidth": 0,
             "ticks": ""
            },
            "colorscale": [
             [
              0,
              "#0d0887"
             ],
             [
              0.1111111111111111,
              "#46039f"
             ],
             [
              0.2222222222222222,
              "#7201a8"
             ],
             [
              0.3333333333333333,
              "#9c179e"
             ],
             [
              0.4444444444444444,
              "#bd3786"
             ],
             [
              0.5555555555555556,
              "#d8576b"
             ],
             [
              0.6666666666666666,
              "#ed7953"
             ],
             [
              0.7777777777777778,
              "#fb9f3a"
             ],
             [
              0.8888888888888888,
              "#fdca26"
             ],
             [
              1,
              "#f0f921"
             ]
            ],
            "type": "histogram2dcontour"
           }
          ],
          "mesh3d": [
           {
            "colorbar": {
             "outlinewidth": 0,
             "ticks": ""
            },
            "type": "mesh3d"
           }
          ],
          "parcoords": [
           {
            "line": {
             "colorbar": {
              "outlinewidth": 0,
              "ticks": ""
             }
            },
            "type": "parcoords"
           }
          ],
          "pie": [
           {
            "automargin": true,
            "type": "pie"
           }
          ],
          "scatter": [
           {
            "marker": {
             "colorbar": {
              "outlinewidth": 0,
              "ticks": ""
             }
            },
            "type": "scatter"
           }
          ],
          "scatter3d": [
           {
            "line": {
             "colorbar": {
              "outlinewidth": 0,
              "ticks": ""
             }
            },
            "marker": {
             "colorbar": {
              "outlinewidth": 0,
              "ticks": ""
             }
            },
            "type": "scatter3d"
           }
          ],
          "scattercarpet": [
           {
            "marker": {
             "colorbar": {
              "outlinewidth": 0,
              "ticks": ""
             }
            },
            "type": "scattercarpet"
           }
          ],
          "scattergeo": [
           {
            "marker": {
             "colorbar": {
              "outlinewidth": 0,
              "ticks": ""
             }
            },
            "type": "scattergeo"
           }
          ],
          "scattergl": [
           {
            "marker": {
             "colorbar": {
              "outlinewidth": 0,
              "ticks": ""
             }
            },
            "type": "scattergl"
           }
          ],
          "scattermapbox": [
           {
            "marker": {
             "colorbar": {
              "outlinewidth": 0,
              "ticks": ""
             }
            },
            "type": "scattermapbox"
           }
          ],
          "scatterpolar": [
           {
            "marker": {
             "colorbar": {
              "outlinewidth": 0,
              "ticks": ""
             }
            },
            "type": "scatterpolar"
           }
          ],
          "scatterpolargl": [
           {
            "marker": {
             "colorbar": {
              "outlinewidth": 0,
              "ticks": ""
             }
            },
            "type": "scatterpolargl"
           }
          ],
          "scatterternary": [
           {
            "marker": {
             "colorbar": {
              "outlinewidth": 0,
              "ticks": ""
             }
            },
            "type": "scatterternary"
           }
          ],
          "surface": [
           {
            "colorbar": {
             "outlinewidth": 0,
             "ticks": ""
            },
            "colorscale": [
             [
              0,
              "#0d0887"
             ],
             [
              0.1111111111111111,
              "#46039f"
             ],
             [
              0.2222222222222222,
              "#7201a8"
             ],
             [
              0.3333333333333333,
              "#9c179e"
             ],
             [
              0.4444444444444444,
              "#bd3786"
             ],
             [
              0.5555555555555556,
              "#d8576b"
             ],
             [
              0.6666666666666666,
              "#ed7953"
             ],
             [
              0.7777777777777778,
              "#fb9f3a"
             ],
             [
              0.8888888888888888,
              "#fdca26"
             ],
             [
              1,
              "#f0f921"
             ]
            ],
            "type": "surface"
           }
          ],
          "table": [
           {
            "cells": {
             "fill": {
              "color": "#EBF0F8"
             },
             "line": {
              "color": "white"
             }
            },
            "header": {
             "fill": {
              "color": "#C8D4E3"
             },
             "line": {
              "color": "white"
             }
            },
            "type": "table"
           }
          ]
         },
         "layout": {
          "annotationdefaults": {
           "arrowcolor": "#2a3f5f",
           "arrowhead": 0,
           "arrowwidth": 1
          },
          "autotypenumbers": "strict",
          "coloraxis": {
           "colorbar": {
            "outlinewidth": 0,
            "ticks": ""
           }
          },
          "colorscale": {
           "diverging": [
            [
             0,
             "#8e0152"
            ],
            [
             0.1,
             "#c51b7d"
            ],
            [
             0.2,
             "#de77ae"
            ],
            [
             0.3,
             "#f1b6da"
            ],
            [
             0.4,
             "#fde0ef"
            ],
            [
             0.5,
             "#f7f7f7"
            ],
            [
             0.6,
             "#e6f5d0"
            ],
            [
             0.7,
             "#b8e186"
            ],
            [
             0.8,
             "#7fbc41"
            ],
            [
             0.9,
             "#4d9221"
            ],
            [
             1,
             "#276419"
            ]
           ],
           "sequential": [
            [
             0,
             "#0d0887"
            ],
            [
             0.1111111111111111,
             "#46039f"
            ],
            [
             0.2222222222222222,
             "#7201a8"
            ],
            [
             0.3333333333333333,
             "#9c179e"
            ],
            [
             0.4444444444444444,
             "#bd3786"
            ],
            [
             0.5555555555555556,
             "#d8576b"
            ],
            [
             0.6666666666666666,
             "#ed7953"
            ],
            [
             0.7777777777777778,
             "#fb9f3a"
            ],
            [
             0.8888888888888888,
             "#fdca26"
            ],
            [
             1,
             "#f0f921"
            ]
           ],
           "sequentialminus": [
            [
             0,
             "#0d0887"
            ],
            [
             0.1111111111111111,
             "#46039f"
            ],
            [
             0.2222222222222222,
             "#7201a8"
            ],
            [
             0.3333333333333333,
             "#9c179e"
            ],
            [
             0.4444444444444444,
             "#bd3786"
            ],
            [
             0.5555555555555556,
             "#d8576b"
            ],
            [
             0.6666666666666666,
             "#ed7953"
            ],
            [
             0.7777777777777778,
             "#fb9f3a"
            ],
            [
             0.8888888888888888,
             "#fdca26"
            ],
            [
             1,
             "#f0f921"
            ]
           ]
          },
          "colorway": [
           "#636efa",
           "#EF553B",
           "#00cc96",
           "#ab63fa",
           "#FFA15A",
           "#19d3f3",
           "#FF6692",
           "#B6E880",
           "#FF97FF",
           "#FECB52"
          ],
          "font": {
           "color": "#2a3f5f"
          },
          "geo": {
           "bgcolor": "white",
           "lakecolor": "white",
           "landcolor": "#E5ECF6",
           "showlakes": true,
           "showland": true,
           "subunitcolor": "white"
          },
          "hoverlabel": {
           "align": "left"
          },
          "hovermode": "closest",
          "mapbox": {
           "style": "light"
          },
          "paper_bgcolor": "white",
          "plot_bgcolor": "#E5ECF6",
          "polar": {
           "angularaxis": {
            "gridcolor": "white",
            "linecolor": "white",
            "ticks": ""
           },
           "bgcolor": "#E5ECF6",
           "radialaxis": {
            "gridcolor": "white",
            "linecolor": "white",
            "ticks": ""
           }
          },
          "scene": {
           "xaxis": {
            "backgroundcolor": "#E5ECF6",
            "gridcolor": "white",
            "gridwidth": 2,
            "linecolor": "white",
            "showbackground": true,
            "ticks": "",
            "zerolinecolor": "white"
           },
           "yaxis": {
            "backgroundcolor": "#E5ECF6",
            "gridcolor": "white",
            "gridwidth": 2,
            "linecolor": "white",
            "showbackground": true,
            "ticks": "",
            "zerolinecolor": "white"
           },
           "zaxis": {
            "backgroundcolor": "#E5ECF6",
            "gridcolor": "white",
            "gridwidth": 2,
            "linecolor": "white",
            "showbackground": true,
            "ticks": "",
            "zerolinecolor": "white"
           }
          },
          "shapedefaults": {
           "line": {
            "color": "#2a3f5f"
           }
          },
          "ternary": {
           "aaxis": {
            "gridcolor": "white",
            "linecolor": "white",
            "ticks": ""
           },
           "baxis": {
            "gridcolor": "white",
            "linecolor": "white",
            "ticks": ""
           },
           "bgcolor": "#E5ECF6",
           "caxis": {
            "gridcolor": "white",
            "linecolor": "white",
            "ticks": ""
           }
          },
          "title": {
           "x": 0.05
          },
          "xaxis": {
           "automargin": true,
           "gridcolor": "white",
           "linecolor": "white",
           "ticks": "",
           "title": {
            "standoff": 15
           },
           "zerolinecolor": "white",
           "zerolinewidth": 2
          },
          "yaxis": {
           "automargin": true,
           "gridcolor": "white",
           "linecolor": "white",
           "ticks": "",
           "title": {
            "standoff": 15
           },
           "zerolinecolor": "white",
           "zerolinewidth": 2
          }
         }
        },
        "xaxis": {
         "anchor": "y",
         "domain": [
          0,
          1
         ],
         "title": {
          "text": "Runtime"
         }
        },
        "yaxis": {
         "anchor": "x",
         "domain": [
          0,
          1
         ]
        }
       }
      }
     },
     "metadata": {}
    }
   ],
   "metadata": {}
  },
  {
   "cell_type": "markdown",
   "source": [
    "## EDA of IMDB Score"
   ],
   "metadata": {}
  },
  {
   "cell_type": "code",
   "execution_count": 22,
   "source": [
    "data[\"IMDB Score\"].describe()"
   ],
   "outputs": [
    {
     "output_type": "execute_result",
     "data": {
      "text/plain": [
       "count    584.000000\n",
       "mean       6.271747\n",
       "std        0.979256\n",
       "min        2.500000\n",
       "25%        5.700000\n",
       "50%        6.350000\n",
       "75%        7.000000\n",
       "max        9.000000\n",
       "Name: IMDB Score, dtype: float64"
      ]
     },
     "metadata": {},
     "execution_count": 22
    }
   ],
   "metadata": {}
  },
  {
   "cell_type": "code",
   "execution_count": 23,
   "source": [
    "fig = px.histogram(data, x='IMDB Score',title=\"IMDB Scores of Netflix Originals\", color_discrete_sequence=['green'])\r\n",
    "fig.update_layout(bargap=0.1)\r\n",
    "fig.show()\r\n"
   ],
   "outputs": [
    {
     "output_type": "display_data",
     "data": {
      "application/vnd.plotly.v1+json": {
       "config": {
        "plotlyServerURL": "https://plot.ly"
       },
       "data": [
        {
         "alignmentgroup": "True",
         "bingroup": "x",
         "hovertemplate": "IMDB Score=%{x}<br>count=%{y}<extra></extra>",
         "legendgroup": "",
         "marker": {
          "color": "green"
         },
         "name": "",
         "offsetgroup": "",
         "orientation": "v",
         "showlegend": false,
         "type": "histogram",
         "x": [
          2.5,
          2.6,
          2.6,
          3.2,
          3.4,
          3.5,
          3.7,
          3.7,
          3.9,
          4.1,
          4.1,
          4.1,
          4.1,
          4.2,
          4.2,
          4.3,
          4.3,
          4.3,
          4.3,
          4.4,
          4.4,
          4.4,
          4.4,
          4.4,
          4.4,
          4.5,
          4.5,
          4.5,
          4.5,
          4.6,
          4.6,
          4.6,
          4.6,
          4.6,
          4.6,
          4.6,
          4.6,
          4.7,
          4.7,
          4.7,
          4.7,
          4.7,
          4.7,
          4.8,
          4.8,
          4.8,
          4.8,
          4.8,
          4.8,
          4.8,
          4.9,
          4.9,
          4.9,
          4.9,
          5,
          5,
          5,
          5,
          5,
          5.1,
          5.1,
          5.1,
          5.1,
          5.1,
          5.1,
          5.2,
          5.2,
          5.2,
          5.2,
          5.2,
          5.2,
          5.2,
          5.2,
          5.2,
          5.2,
          5.2,
          5.2,
          5.2,
          5.2,
          5.2,
          5.2,
          5.2,
          5.2,
          5.2,
          5.3,
          5.3,
          5.3,
          5.3,
          5.3,
          5.3,
          5.3,
          5.3,
          5.3,
          5.3,
          5.4,
          5.4,
          5.4,
          5.4,
          5.4,
          5.4,
          5.4,
          5.4,
          5.4,
          5.4,
          5.4,
          5.4,
          5.4,
          5.5,
          5.5,
          5.5,
          5.5,
          5.5,
          5.5,
          5.5,
          5.5,
          5.5,
          5.5,
          5.5,
          5.5,
          5.5,
          5.5,
          5.5,
          5.5,
          5.5,
          5.5,
          5.5,
          5.6,
          5.6,
          5.6,
          5.6,
          5.6,
          5.6,
          5.6,
          5.6,
          5.6,
          5.6,
          5.6,
          5.6,
          5.6,
          5.6,
          5.6,
          5.7,
          5.7,
          5.7,
          5.7,
          5.7,
          5.7,
          5.7,
          5.7,
          5.7,
          5.7,
          5.7,
          5.7,
          5.7,
          5.7,
          5.7,
          5.7,
          5.7,
          5.7,
          5.7,
          5.7,
          5.8,
          5.8,
          5.8,
          5.8,
          5.8,
          5.8,
          5.8,
          5.8,
          5.8,
          5.8,
          5.8,
          5.8,
          5.8,
          5.8,
          5.8,
          5.8,
          5.8,
          5.8,
          5.8,
          5.8,
          5.8,
          5.8,
          5.8,
          5.8,
          5.8,
          5.8,
          5.8,
          5.8,
          5.8,
          5.8,
          5.9,
          5.9,
          5.9,
          5.9,
          5.9,
          5.9,
          5.9,
          5.9,
          5.9,
          5.9,
          5.9,
          5.9,
          5.9,
          5.9,
          5.9,
          5.9,
          6,
          6,
          6,
          6,
          6,
          6,
          6,
          6,
          6,
          6,
          6,
          6,
          6,
          6.1,
          6.1,
          6.1,
          6.1,
          6.1,
          6.1,
          6.1,
          6.1,
          6.1,
          6.1,
          6.1,
          6.1,
          6.1,
          6.1,
          6.1,
          6.1,
          6.1,
          6.1,
          6.1,
          6.1,
          6.1,
          6.1,
          6.1,
          6.1,
          6.2,
          6.2,
          6.2,
          6.2,
          6.2,
          6.2,
          6.2,
          6.2,
          6.2,
          6.2,
          6.2,
          6.2,
          6.2,
          6.2,
          6.2,
          6.2,
          6.2,
          6.2,
          6.3,
          6.3,
          6.3,
          6.3,
          6.3,
          6.3,
          6.3,
          6.3,
          6.3,
          6.3,
          6.3,
          6.3,
          6.3,
          6.3,
          6.3,
          6.3,
          6.3,
          6.3,
          6.3,
          6.3,
          6.3,
          6.3,
          6.3,
          6.3,
          6.3,
          6.3,
          6.3,
          6.3,
          6.3,
          6.3,
          6.4,
          6.4,
          6.4,
          6.4,
          6.4,
          6.4,
          6.4,
          6.4,
          6.4,
          6.4,
          6.4,
          6.4,
          6.4,
          6.4,
          6.4,
          6.4,
          6.4,
          6.4,
          6.4,
          6.4,
          6.4,
          6.4,
          6.4,
          6.4,
          6.4,
          6.4,
          6.4,
          6.4,
          6.5,
          6.5,
          6.5,
          6.5,
          6.5,
          6.5,
          6.5,
          6.5,
          6.5,
          6.5,
          6.5,
          6.5,
          6.5,
          6.5,
          6.5,
          6.5,
          6.5,
          6.5,
          6.5,
          6.5,
          6.5,
          6.5,
          6.5,
          6.5,
          6.5,
          6.5,
          6.6,
          6.6,
          6.6,
          6.6,
          6.6,
          6.6,
          6.6,
          6.6,
          6.6,
          6.6,
          6.6,
          6.6,
          6.6,
          6.6,
          6.6,
          6.6,
          6.6,
          6.6,
          6.7,
          6.7,
          6.7,
          6.7,
          6.7,
          6.7,
          6.7,
          6.7,
          6.7,
          6.7,
          6.7,
          6.7,
          6.7,
          6.7,
          6.7,
          6.7,
          6.7,
          6.7,
          6.7,
          6.7,
          6.7,
          6.7,
          6.7,
          6.7,
          6.7,
          6.8,
          6.8,
          6.8,
          6.8,
          6.8,
          6.8,
          6.8,
          6.8,
          6.8,
          6.8,
          6.8,
          6.8,
          6.8,
          6.8,
          6.8,
          6.8,
          6.8,
          6.8,
          6.8,
          6.8,
          6.8,
          6.8,
          6.8,
          6.8,
          6.9,
          6.9,
          6.9,
          6.9,
          6.9,
          6.9,
          6.9,
          6.9,
          6.9,
          6.9,
          6.9,
          6.9,
          6.9,
          6.9,
          6.9,
          6.9,
          6.9,
          6.9,
          6.9,
          7,
          7,
          7,
          7,
          7,
          7,
          7,
          7,
          7,
          7,
          7,
          7,
          7,
          7,
          7,
          7,
          7,
          7,
          7,
          7.1,
          7.1,
          7.1,
          7.1,
          7.1,
          7.1,
          7.1,
          7.1,
          7.1,
          7.1,
          7.1,
          7.1,
          7.1,
          7.1,
          7.1,
          7.1,
          7.1,
          7.1,
          7.1,
          7.1,
          7.1,
          7.1,
          7.1,
          7.1,
          7.1,
          7.1,
          7.1,
          7.1,
          7.2,
          7.2,
          7.2,
          7.2,
          7.2,
          7.2,
          7.2,
          7.2,
          7.2,
          7.2,
          7.2,
          7.2,
          7.2,
          7.2,
          7.2,
          7.2,
          7.2,
          7.2,
          7.2,
          7.2,
          7.3,
          7.3,
          7.3,
          7.3,
          7.3,
          7.3,
          7.3,
          7.3,
          7.3,
          7.3,
          7.3,
          7.3,
          7.3,
          7.3,
          7.3,
          7.3,
          7.3,
          7.3,
          7.3,
          7.3,
          7.3,
          7.4,
          7.4,
          7.4,
          7.4,
          7.4,
          7.4,
          7.4,
          7.4,
          7.4,
          7.4,
          7.4,
          7.4,
          7.5,
          7.5,
          7.5,
          7.5,
          7.5,
          7.5,
          7.5,
          7.5,
          7.5,
          7.5,
          7.6,
          7.6,
          7.6,
          7.6,
          7.6,
          7.6,
          7.6,
          7.6,
          7.6,
          7.6,
          7.7,
          7.7,
          7.7,
          7.7,
          7.7,
          7.7,
          7.7,
          7.7,
          7.8,
          7.8,
          7.8,
          7.9,
          7.9,
          7.9,
          7.9,
          8,
          8.1,
          8.1,
          8.1,
          8.2,
          8.2,
          8.2,
          8.2,
          8.2,
          8.3,
          8.3,
          8.4,
          8.4,
          8.4,
          8.5,
          8.6,
          9
         ],
         "xaxis": "x",
         "yaxis": "y"
        }
       ],
       "layout": {
        "bargap": 0.1,
        "barmode": "relative",
        "legend": {
         "tracegroupgap": 0
        },
        "template": {
         "data": {
          "bar": [
           {
            "error_x": {
             "color": "#2a3f5f"
            },
            "error_y": {
             "color": "#2a3f5f"
            },
            "marker": {
             "line": {
              "color": "#E5ECF6",
              "width": 0.5
             }
            },
            "type": "bar"
           }
          ],
          "barpolar": [
           {
            "marker": {
             "line": {
              "color": "#E5ECF6",
              "width": 0.5
             }
            },
            "type": "barpolar"
           }
          ],
          "carpet": [
           {
            "aaxis": {
             "endlinecolor": "#2a3f5f",
             "gridcolor": "white",
             "linecolor": "white",
             "minorgridcolor": "white",
             "startlinecolor": "#2a3f5f"
            },
            "baxis": {
             "endlinecolor": "#2a3f5f",
             "gridcolor": "white",
             "linecolor": "white",
             "minorgridcolor": "white",
             "startlinecolor": "#2a3f5f"
            },
            "type": "carpet"
           }
          ],
          "choropleth": [
           {
            "colorbar": {
             "outlinewidth": 0,
             "ticks": ""
            },
            "type": "choropleth"
           }
          ],
          "contour": [
           {
            "colorbar": {
             "outlinewidth": 0,
             "ticks": ""
            },
            "colorscale": [
             [
              0,
              "#0d0887"
             ],
             [
              0.1111111111111111,
              "#46039f"
             ],
             [
              0.2222222222222222,
              "#7201a8"
             ],
             [
              0.3333333333333333,
              "#9c179e"
             ],
             [
              0.4444444444444444,
              "#bd3786"
             ],
             [
              0.5555555555555556,
              "#d8576b"
             ],
             [
              0.6666666666666666,
              "#ed7953"
             ],
             [
              0.7777777777777778,
              "#fb9f3a"
             ],
             [
              0.8888888888888888,
              "#fdca26"
             ],
             [
              1,
              "#f0f921"
             ]
            ],
            "type": "contour"
           }
          ],
          "contourcarpet": [
           {
            "colorbar": {
             "outlinewidth": 0,
             "ticks": ""
            },
            "type": "contourcarpet"
           }
          ],
          "heatmap": [
           {
            "colorbar": {
             "outlinewidth": 0,
             "ticks": ""
            },
            "colorscale": [
             [
              0,
              "#0d0887"
             ],
             [
              0.1111111111111111,
              "#46039f"
             ],
             [
              0.2222222222222222,
              "#7201a8"
             ],
             [
              0.3333333333333333,
              "#9c179e"
             ],
             [
              0.4444444444444444,
              "#bd3786"
             ],
             [
              0.5555555555555556,
              "#d8576b"
             ],
             [
              0.6666666666666666,
              "#ed7953"
             ],
             [
              0.7777777777777778,
              "#fb9f3a"
             ],
             [
              0.8888888888888888,
              "#fdca26"
             ],
             [
              1,
              "#f0f921"
             ]
            ],
            "type": "heatmap"
           }
          ],
          "heatmapgl": [
           {
            "colorbar": {
             "outlinewidth": 0,
             "ticks": ""
            },
            "colorscale": [
             [
              0,
              "#0d0887"
             ],
             [
              0.1111111111111111,
              "#46039f"
             ],
             [
              0.2222222222222222,
              "#7201a8"
             ],
             [
              0.3333333333333333,
              "#9c179e"
             ],
             [
              0.4444444444444444,
              "#bd3786"
             ],
             [
              0.5555555555555556,
              "#d8576b"
             ],
             [
              0.6666666666666666,
              "#ed7953"
             ],
             [
              0.7777777777777778,
              "#fb9f3a"
             ],
             [
              0.8888888888888888,
              "#fdca26"
             ],
             [
              1,
              "#f0f921"
             ]
            ],
            "type": "heatmapgl"
           }
          ],
          "histogram": [
           {
            "marker": {
             "colorbar": {
              "outlinewidth": 0,
              "ticks": ""
             }
            },
            "type": "histogram"
           }
          ],
          "histogram2d": [
           {
            "colorbar": {
             "outlinewidth": 0,
             "ticks": ""
            },
            "colorscale": [
             [
              0,
              "#0d0887"
             ],
             [
              0.1111111111111111,
              "#46039f"
             ],
             [
              0.2222222222222222,
              "#7201a8"
             ],
             [
              0.3333333333333333,
              "#9c179e"
             ],
             [
              0.4444444444444444,
              "#bd3786"
             ],
             [
              0.5555555555555556,
              "#d8576b"
             ],
             [
              0.6666666666666666,
              "#ed7953"
             ],
             [
              0.7777777777777778,
              "#fb9f3a"
             ],
             [
              0.8888888888888888,
              "#fdca26"
             ],
             [
              1,
              "#f0f921"
             ]
            ],
            "type": "histogram2d"
           }
          ],
          "histogram2dcontour": [
           {
            "colorbar": {
             "outlinewidth": 0,
             "ticks": ""
            },
            "colorscale": [
             [
              0,
              "#0d0887"
             ],
             [
              0.1111111111111111,
              "#46039f"
             ],
             [
              0.2222222222222222,
              "#7201a8"
             ],
             [
              0.3333333333333333,
              "#9c179e"
             ],
             [
              0.4444444444444444,
              "#bd3786"
             ],
             [
              0.5555555555555556,
              "#d8576b"
             ],
             [
              0.6666666666666666,
              "#ed7953"
             ],
             [
              0.7777777777777778,
              "#fb9f3a"
             ],
             [
              0.8888888888888888,
              "#fdca26"
             ],
             [
              1,
              "#f0f921"
             ]
            ],
            "type": "histogram2dcontour"
           }
          ],
          "mesh3d": [
           {
            "colorbar": {
             "outlinewidth": 0,
             "ticks": ""
            },
            "type": "mesh3d"
           }
          ],
          "parcoords": [
           {
            "line": {
             "colorbar": {
              "outlinewidth": 0,
              "ticks": ""
             }
            },
            "type": "parcoords"
           }
          ],
          "pie": [
           {
            "automargin": true,
            "type": "pie"
           }
          ],
          "scatter": [
           {
            "marker": {
             "colorbar": {
              "outlinewidth": 0,
              "ticks": ""
             }
            },
            "type": "scatter"
           }
          ],
          "scatter3d": [
           {
            "line": {
             "colorbar": {
              "outlinewidth": 0,
              "ticks": ""
             }
            },
            "marker": {
             "colorbar": {
              "outlinewidth": 0,
              "ticks": ""
             }
            },
            "type": "scatter3d"
           }
          ],
          "scattercarpet": [
           {
            "marker": {
             "colorbar": {
              "outlinewidth": 0,
              "ticks": ""
             }
            },
            "type": "scattercarpet"
           }
          ],
          "scattergeo": [
           {
            "marker": {
             "colorbar": {
              "outlinewidth": 0,
              "ticks": ""
             }
            },
            "type": "scattergeo"
           }
          ],
          "scattergl": [
           {
            "marker": {
             "colorbar": {
              "outlinewidth": 0,
              "ticks": ""
             }
            },
            "type": "scattergl"
           }
          ],
          "scattermapbox": [
           {
            "marker": {
             "colorbar": {
              "outlinewidth": 0,
              "ticks": ""
             }
            },
            "type": "scattermapbox"
           }
          ],
          "scatterpolar": [
           {
            "marker": {
             "colorbar": {
              "outlinewidth": 0,
              "ticks": ""
             }
            },
            "type": "scatterpolar"
           }
          ],
          "scatterpolargl": [
           {
            "marker": {
             "colorbar": {
              "outlinewidth": 0,
              "ticks": ""
             }
            },
            "type": "scatterpolargl"
           }
          ],
          "scatterternary": [
           {
            "marker": {
             "colorbar": {
              "outlinewidth": 0,
              "ticks": ""
             }
            },
            "type": "scatterternary"
           }
          ],
          "surface": [
           {
            "colorbar": {
             "outlinewidth": 0,
             "ticks": ""
            },
            "colorscale": [
             [
              0,
              "#0d0887"
             ],
             [
              0.1111111111111111,
              "#46039f"
             ],
             [
              0.2222222222222222,
              "#7201a8"
             ],
             [
              0.3333333333333333,
              "#9c179e"
             ],
             [
              0.4444444444444444,
              "#bd3786"
             ],
             [
              0.5555555555555556,
              "#d8576b"
             ],
             [
              0.6666666666666666,
              "#ed7953"
             ],
             [
              0.7777777777777778,
              "#fb9f3a"
             ],
             [
              0.8888888888888888,
              "#fdca26"
             ],
             [
              1,
              "#f0f921"
             ]
            ],
            "type": "surface"
           }
          ],
          "table": [
           {
            "cells": {
             "fill": {
              "color": "#EBF0F8"
             },
             "line": {
              "color": "white"
             }
            },
            "header": {
             "fill": {
              "color": "#C8D4E3"
             },
             "line": {
              "color": "white"
             }
            },
            "type": "table"
           }
          ]
         },
         "layout": {
          "annotationdefaults": {
           "arrowcolor": "#2a3f5f",
           "arrowhead": 0,
           "arrowwidth": 1
          },
          "autotypenumbers": "strict",
          "coloraxis": {
           "colorbar": {
            "outlinewidth": 0,
            "ticks": ""
           }
          },
          "colorscale": {
           "diverging": [
            [
             0,
             "#8e0152"
            ],
            [
             0.1,
             "#c51b7d"
            ],
            [
             0.2,
             "#de77ae"
            ],
            [
             0.3,
             "#f1b6da"
            ],
            [
             0.4,
             "#fde0ef"
            ],
            [
             0.5,
             "#f7f7f7"
            ],
            [
             0.6,
             "#e6f5d0"
            ],
            [
             0.7,
             "#b8e186"
            ],
            [
             0.8,
             "#7fbc41"
            ],
            [
             0.9,
             "#4d9221"
            ],
            [
             1,
             "#276419"
            ]
           ],
           "sequential": [
            [
             0,
             "#0d0887"
            ],
            [
             0.1111111111111111,
             "#46039f"
            ],
            [
             0.2222222222222222,
             "#7201a8"
            ],
            [
             0.3333333333333333,
             "#9c179e"
            ],
            [
             0.4444444444444444,
             "#bd3786"
            ],
            [
             0.5555555555555556,
             "#d8576b"
            ],
            [
             0.6666666666666666,
             "#ed7953"
            ],
            [
             0.7777777777777778,
             "#fb9f3a"
            ],
            [
             0.8888888888888888,
             "#fdca26"
            ],
            [
             1,
             "#f0f921"
            ]
           ],
           "sequentialminus": [
            [
             0,
             "#0d0887"
            ],
            [
             0.1111111111111111,
             "#46039f"
            ],
            [
             0.2222222222222222,
             "#7201a8"
            ],
            [
             0.3333333333333333,
             "#9c179e"
            ],
            [
             0.4444444444444444,
             "#bd3786"
            ],
            [
             0.5555555555555556,
             "#d8576b"
            ],
            [
             0.6666666666666666,
             "#ed7953"
            ],
            [
             0.7777777777777778,
             "#fb9f3a"
            ],
            [
             0.8888888888888888,
             "#fdca26"
            ],
            [
             1,
             "#f0f921"
            ]
           ]
          },
          "colorway": [
           "#636efa",
           "#EF553B",
           "#00cc96",
           "#ab63fa",
           "#FFA15A",
           "#19d3f3",
           "#FF6692",
           "#B6E880",
           "#FF97FF",
           "#FECB52"
          ],
          "font": {
           "color": "#2a3f5f"
          },
          "geo": {
           "bgcolor": "white",
           "lakecolor": "white",
           "landcolor": "#E5ECF6",
           "showlakes": true,
           "showland": true,
           "subunitcolor": "white"
          },
          "hoverlabel": {
           "align": "left"
          },
          "hovermode": "closest",
          "mapbox": {
           "style": "light"
          },
          "paper_bgcolor": "white",
          "plot_bgcolor": "#E5ECF6",
          "polar": {
           "angularaxis": {
            "gridcolor": "white",
            "linecolor": "white",
            "ticks": ""
           },
           "bgcolor": "#E5ECF6",
           "radialaxis": {
            "gridcolor": "white",
            "linecolor": "white",
            "ticks": ""
           }
          },
          "scene": {
           "xaxis": {
            "backgroundcolor": "#E5ECF6",
            "gridcolor": "white",
            "gridwidth": 2,
            "linecolor": "white",
            "showbackground": true,
            "ticks": "",
            "zerolinecolor": "white"
           },
           "yaxis": {
            "backgroundcolor": "#E5ECF6",
            "gridcolor": "white",
            "gridwidth": 2,
            "linecolor": "white",
            "showbackground": true,
            "ticks": "",
            "zerolinecolor": "white"
           },
           "zaxis": {
            "backgroundcolor": "#E5ECF6",
            "gridcolor": "white",
            "gridwidth": 2,
            "linecolor": "white",
            "showbackground": true,
            "ticks": "",
            "zerolinecolor": "white"
           }
          },
          "shapedefaults": {
           "line": {
            "color": "#2a3f5f"
           }
          },
          "ternary": {
           "aaxis": {
            "gridcolor": "white",
            "linecolor": "white",
            "ticks": ""
           },
           "baxis": {
            "gridcolor": "white",
            "linecolor": "white",
            "ticks": ""
           },
           "bgcolor": "#E5ECF6",
           "caxis": {
            "gridcolor": "white",
            "linecolor": "white",
            "ticks": ""
           }
          },
          "title": {
           "x": 0.05
          },
          "xaxis": {
           "automargin": true,
           "gridcolor": "white",
           "linecolor": "white",
           "ticks": "",
           "title": {
            "standoff": 15
           },
           "zerolinecolor": "white",
           "zerolinewidth": 2
          },
          "yaxis": {
           "automargin": true,
           "gridcolor": "white",
           "linecolor": "white",
           "ticks": "",
           "title": {
            "standoff": 15
           },
           "zerolinecolor": "white",
           "zerolinewidth": 2
          }
         }
        },
        "title": {
         "text": "IMDB Scores of Netflix Originals"
        },
        "xaxis": {
         "anchor": "y",
         "domain": [
          0,
          1
         ],
         "title": {
          "text": "IMDB Score"
         }
        },
        "yaxis": {
         "anchor": "x",
         "domain": [
          0,
          1
         ],
         "title": {
          "text": "count"
         }
        }
       }
      }
     },
     "metadata": {}
    }
   ],
   "metadata": {}
  },
  {
   "cell_type": "code",
   "execution_count": 24,
   "source": [
    "fig = px.box(data , x='IMDB Score' , hover_data=data[['Title', 'Genre']])\r\n",
    "fig.update_traces(quartilemethod=\"inclusive\")\r\n",
    "fig.show()"
   ],
   "outputs": [
    {
     "output_type": "display_data",
     "data": {
      "application/vnd.plotly.v1+json": {
       "config": {
        "plotlyServerURL": "https://plot.ly"
       },
       "data": [
        {
         "alignmentgroup": "True",
         "customdata": [
          [
           "Enter the Anime",
           "Documentary"
          ],
          [
           "Dark Forces",
           "Thriller"
          ],
          [
           "The App",
           "Science fiction/Drama"
          ],
          [
           "The Open House",
           "Horror thriller"
          ],
          [
           "Kaali Khuhi",
           "Mystery"
          ],
          [
           "Drive",
           "Action"
          ],
          [
           "Leyla Everlasting",
           "Comedy"
          ],
          [
           "The Last Days of American Crime",
           "Heist film/Thriller"
          ],
          [
           "Paradox",
           "Musical/Western/Fantasy"
          ],
          [
           "Sardar Ka Grandson",
           "Comedy"
          ],
          [
           "Searching for Sheela",
           "Documentary"
          ],
          [
           "The Call",
           "Drama"
          ],
          [
           "Whipped",
           "Romantic comedy"
          ],
          [
           "All Because of You",
           "Action comedy"
          ],
          [
           "Mercy",
           "Thriller"
          ],
          [
           "After the Raid",
           "Documentary"
          ],
          [
           "Ghost Stories",
           "Horror anthology"
          ],
          [
           "The Last Thing He Wanted",
           "Political thriller"
          ],
          [
           "What Happened to Mr. Cha?",
           "Comedy"
          ],
          [
           "Death Note",
           "Horror thriller"
          ],
          [
           "Hello Privilege. It's Me, Chelsea",
           "Documentary"
          ],
          [
           "Secret Obsession",
           "Thriller"
          ],
          [
           "Sextuplets",
           "Comedy"
          ],
          [
           "The Girl on the Train",
           "Thriller"
          ],
          [
           "Thunder Force",
           "Superhero-Comedy"
          ],
          [
           "Fatal Affair",
           "Thriller"
          ],
          [
           "Just Say Yes",
           "Romantic comedy"
          ],
          [
           "Seriously Single",
           "Comedy"
          ],
          [
           "The Misadventures of Hedi and Cokeman",
           "Comedy"
          ],
          [
           "5 Star Christmas",
           "Comedy"
          ],
          [
           "After Maria",
           "Documentary"
          ],
          [
           "I Am the Pretty Thing That Lives in the House",
           "Horror"
          ],
          [
           "Paris Is Us",
           "Romance drama"
          ],
          [
           "Porta dos Fundos: The First Temptation of Christ",
           "Comedy"
          ],
          [
           "Rattlesnake",
           "Horror"
          ],
          [
           "The Players",
           "Comedy"
          ],
          [
           "We Are One",
           "Documentary"
          ],
          [
           "Finding Agnes",
           "Drama"
          ],
          [
           "IO",
           "Science fiction/Drama"
          ],
          [
           "Sentinelle",
           "Action"
          ],
          [
           "Sol Levante",
           "Anime / Short"
          ],
          [
           "The Binding",
           "Drama"
          ],
          [
           "We Can Be Heroes",
           "Superhero"
          ],
          [
           "Christmas Crossfire",
           "Thriller"
          ],
          [
           "Coin Heist",
           "Heist"
          ],
          [
           "Mrs. Serial Killer",
           "Thriller"
          ],
          [
           "Nobody Sleeps in the Woods Tonight",
           "Horror"
          ],
          [
           "Take the 10",
           "Comedy"
          ],
          [
           "The Main Event",
           "Comedy"
          ],
          [
           "The Ridiculous 6",
           "Western"
          ],
          [
           "Earth and Blood",
           "Action"
          ],
          [
           "Fearless",
           "Animation/Superhero"
          ],
          [
           "Holiday Rush",
           "Family film"
          ],
          [
           "The Day of the Lord",
           "Drama"
          ],
          [
           "Airplane Mode",
           "Comedy"
          ],
          [
           "How It Ends",
           "Action-thriller"
          ],
          [
           "Love Like the Falling Rain",
           "Drama"
          ],
          [
           "Rebirth",
           "Thriller"
          ],
          [
           "Squared Love",
           "Romantic comedy"
          ],
          [
           "Cadaver",
           "Horror"
          ],
          [
           "Clinical",
           "Thriller"
          ],
          [
           "Coffee & Kareem",
           "Action comedy"
          ],
          [
           "Dude",
           "Teen comedy-drama"
          ],
          [
           "Geez & Ann",
           "Romantic drama"
          ],
          [
           "The Larva Island Movie",
           "Animation"
          ],
          [
           "#REALITYHIGH",
           "Comedy"
          ],
          [
           "American Factory: A Conversation with the Obamas ",
           "Aftershow / Interview"
          ],
          [
           "Desperados",
           "Romantic comedy"
          ],
          [
           "Dolly Parton's Christmas on the Square",
           "Christmas musical"
          ],
          [
           "Father of the Year",
           "Comedy"
          ],
          [
           "Firebrand",
           "Drama"
          ],
          [
           "Ghost Lab",
           "Horror"
          ],
          [
           "Girlfriend's Day",
           "Comedy"
          ],
          [
           "Handsome: A Netflix Mystery Movie",
           "Comedy"
          ],
          [
           "Hubie Halloween",
           "Comedy"
          ],
          [
           "Ibiza",
           "Comedy"
          ],
          [
           "Rim of the World",
           "Science fiction adventure"
          ],
          [
           "Sandy Wexler",
           "Comedy"
          ],
          [
           "See You Yesterday",
           "Science fiction"
          ],
          [
           "Still Laugh-In: The Stars Celebrate",
           "Variety show"
          ],
          [
           "Strip Down, Rise Up",
           "Documentary"
          ],
          [
           "Tall Girl",
           "Comedy-drama"
          ],
          [
           "The Beast",
           "Drama"
          ],
          [
           "The Week Of",
           "Comedy"
          ],
          [
           "A Christmas Prince: The Royal Wedding",
           "Romantic comedy"
          ],
          [
           "Back to School",
           "Comedy"
          ],
          [
           "Dangerous Lies",
           "Thriller"
          ],
          [
           "Gunjan Saxena: The Kargil Girl",
           "Drama"
          ],
          [
           "Intuition",
           "Thriller"
          ],
          [
           "The Most Assassinated Woman in the World",
           "Thriller"
          ],
          [
           "Things Heard & Seen",
           "Horror"
          ],
          [
           "To Each, Her Own",
           "Romantic comedy"
          ],
          [
           "Who Would You Take to a Deserted Island?",
           "Drama"
          ],
          [
           "XOXO",
           "Drama"
          ],
          [
           "A Babysitter's Guide to Monster Hunting",
           "Comedy/Fantasy/Family"
          ],
          [
           "A Christmas Prince: The Royal Baby",
           "Romantic comedy"
          ],
          [
           "Despite Everything",
           "Comedy"
          ],
          [
           "Dolly Kitty and Those Twinkling Stars",
           "Drama"
          ],
          [
           "Freaks: You're One of Us",
           "Supernatural drama"
          ],
          [
           "Game Over, Man!",
           "Action/Comedy"
          ],
          [
           "Guilty",
           "Thriller"
          ],
          [
           "In the Tall Grass",
           "Horror"
          ],
          [
           "Madame Claude",
           "Drama"
          ],
          [
           "Naked",
           "Comedy"
          ],
          [
           "Outside the Wire",
           "Action/Science fiction"
          ],
          [
           "The Princess Switch: Switched Again",
           "Romantic comedy"
          ],
          [
           "Under the Riccione Sun",
           "Romantic teenage drama"
          ],
          [
           "A Very Murray Christmas",
           "Comedy / Musical"
          ],
          [
           "Been So Long",
           "Musical"
          ],
          [
           "Dead Kids",
           "Thriller"
          ],
          [
           "Get the Grift",
           "Comedy"
          ],
          [
           "Ghosts of Sugar Land",
           "Documentary"
          ],
          [
           "House Arrest",
           "Comedy"
          ],
          [
           "Kevin Hart's Guide to Black History",
           "Variety show"
          ],
          [
           "Love Wedding Repeat",
           "Romantic comedy"
          ],
          [
           "Mute",
           "Science fiction/Mystery"
          ],
          [
           "Òlòt?ré",
           "Crime drama"
          ],
          [
           "Red Dot",
           "Thriller"
          ],
          [
           "Ride or Die",
           "Psychological thriller drama"
          ],
          [
           "Step Sisters",
           "Comedy"
          ],
          [
           "The Cloverfield Paradox",
           "Science fiction"
          ],
          [
           "The Knight Before Christmas",
           "Romantic comedy"
          ],
          [
           "The Legacy of a Whitetail Deer Hunter",
           "Adventure/Comedy"
          ],
          [
           "The Package",
           "Black comedy"
          ],
          [
           "Unicorn Store",
           "Comedy"
          ],
          [
           "Wine Country",
           "Comedy"
          ],
          [
           "Bomb Scared",
           "Black comedy"
          ],
          [
           "Brahman Naman",
           "Comedy"
          ],
          [
           "Double Dad",
           "Comedy-drama"
          ],
          [
           "Falling Inn Love",
           "Romantic comedy"
          ],
          [
           "Hold the Dark",
           "Thriller"
          ],
          [
           "Love, Guaranteed",
           "Romantic comedy"
          ],
          [
           "One-Way to Tomorrow",
           "Romance"
          ],
          [
           "Sarah Cooper: Everything's Fine",
           "Variety show"
          ],
          [
           "The Last Laugh",
           "Comedy-drama"
          ],
          [
           "The Last Paradiso",
           "Romantic drama"
          ],
          [
           "The Midnight Sky",
           "Science fiction"
          ],
          [
           "The Paramedic",
           "Thriller"
          ],
          [
           "The Sleepover",
           "Comedy"
          ],
          [
           "Vampires vs. the Bronx",
           "Horror comedy"
          ],
          [
           "Why Did You Kill Me?",
           "Documentary"
          ],
          [
           "A Week Away",
           "Christian musical"
          ],
          [
           "Caught by a Wave",
           "Romantic teen drama"
          ],
          [
           "Christmas Inheritance",
           "Romantic drama"
          ],
          [
           "Dad Wanted",
           "Family"
          ],
          [
           "El Camino Christmas",
           "Dark comedy"
          ],
          [
           "Eli",
           "Horror"
          ],
          [
           "Ginny Weds Sunny",
           "Romantic comedy"
          ],
          [
           "Good Sam",
           "Drama"
          ],
          [
           "Lionheart",
           "Comedy"
          ],
          [
           "Little Evil",
           "Comedy horror"
          ],
          [
           "One Take",
           "Documentary"
          ],
          [
           "Out of Many, One",
           "Documentary"
          ],
          [
           "Point Blank",
           "Action"
          ],
          [
           "Prime Time",
           "Thriller"
          ],
          [
           "The Do-Over",
           "Action comedy"
          ],
          [
           "The Holiday Calendar",
           "Romantic comedy"
          ],
          [
           "The Woman in the Window",
           "Psychological thriller"
          ],
          [
           "The Wrong Missy",
           "Comedy"
          ],
          [
           "Velvet Buzzsaw",
           "Thriller"
          ],
          [
           "Yes Day",
           "Comedy"
          ],
          [
           "15 August",
           "Comedy-drama"
          ],
          [
           "A California Christmas",
           "Romantic comedy"
          ],
          [
           "A Christmas Prince",
           "Romantic comedy"
          ],
          [
           "All Day and a Night",
           "Drama"
          ],
          [
           "American Son",
           "Drama"
          ],
          [
           "Barry",
           "Biopic"
          ],
          [
           "Candy Jar",
           "Comedy"
          ],
          [
           "Choked: Paisa Bolta Hai",
           "Drama"
          ],
          [
           "Class of '83",
           "Drama"
          ],
          [
           "Extinction",
           "Science fiction/Thriller"
          ],
          [
           "Happy Anniversary",
           "Romantic comedy"
          ],
          [
           "I Am All Girls",
           "Thriller"
          ],
          [
           "Let It Snow",
           "Romantic comedy"
          ],
          [
           "Mascots",
           "Mockumentary"
          ],
          [
           "Operation Christmas Drop",
           "Romantic comedy"
          ],
          [
           "Rajma Chawal",
           "Comedy-drama"
          ],
          [
           "Rich in Love",
           "Romantic comedy"
          ],
          [
           "Rising High",
           "Satire"
          ],
          [
           "Rodney King",
           "One-man show"
          ],
          [
           "Sierra Burgess Is a Loser",
           "Romantic comedy-drama"
          ],
          [
           "Small Crimes",
           "Dark comedy"
          ],
          [
           "Special Correspondents",
           "Satire"
          ],
          [
           "TAU",
           "Science fiction/Thriller"
          ],
          [
           "The After Party",
           "Comedy"
          ],
          [
           "The Babysitter: Killer Queen",
           "Comedy/Horror"
          ],
          [
           "The Claus Family",
           "Fantasy"
          ],
          [
           "The Kissing Booth 2",
           "Romantic comedy"
          ],
          [
           "The Perfect Date",
           "Romantic comedy"
          ],
          [
           "What We Wanted",
           "Drama"
          ],
          [
           "You've Got This",
           "Romantic comedy"
          ],
          [
           "6 Balloons",
           "Drama"
          ],
          [
           "A Fall from Grace",
           "Thriller"
          ],
          [
           "Amateur",
           "Sports-drama"
          ],
          [
           "Army of the Dead",
           "Zombie/Heist"
          ],
          [
           "Cam",
           "Psychological horror"
          ],
          [
           "Earthquake Bird",
           "Mystery"
          ],
          [
           "Frankenstein's Monster's Monster, Frankenstein",
           "Mockumentary"
          ],
          [
           "Horse Girl",
           "Drama"
          ],
          [
           "Notes from Dunblane: Lesson from a School Shooting",
           "Documentary"
          ],
          [
           "Maska",
           "Romantic comedy"
          ],
          [
           "The Decline",
           "Thriller"
          ],
          [
           "The Minimalists: Less Is Now",
           "Documentary"
          ],
          [
           "The Polka King",
           "Comedy-drama"
          ],
          [
           "The Prom",
           "Musical"
          ],
          [
           "True Memoirs of an International Assassin",
           "Action comedy"
          ],
          [
           "Ultras",
           "Sports film"
          ],
          [
           "Come Sunday",
           "Biopic"
          ],
          [
           "Forgive Us Our Debts",
           "Drama"
          ],
          [
           "iBoy",
           "Science fiction/Thriller"
          ],
          [
           "Lovefucked",
           "Drama"
          ],
          [
           "Juanita",
           "Drama"
          ],
          [
           "Murder Mystery",
           "Comedy mystery"
          ],
          [
           "Project Power",
           "Superhero"
          ],
          [
           "Rebecca",
           "Romantic thriller"
          ],
          [
           "The Christmas Chronicles: Part Two",
           "Christmas comedy"
          ],
          [
           "The Kissing Booth",
           "Romantic comedy"
          ],
          [
           "The Princess Switch",
           "Romantic comedy"
          ],
          [
           "To All the Boys: P.S. I Still Love You",
           "Romantic comedy"
          ],
          [
           "War Machine",
           "War-Comedy"
          ],
          [
           "6 Underground",
           "Action"
          ],
          [
           "Between Two Ferns: The Movie",
           "Comedy"
          ],
          [
           "Burning Sands",
           "Drama"
          ],
          [
           "Casting JonBenet",
           "Documentary"
          ],
          [
           "Deidra & Laney Rob a Train",
           "Drama"
          ],
          [
           "Finding 'Ohana",
           "Family"
          ],
          [
           "Holidate",
           "Romantic comedy/Holiday"
          ],
          [
           "Holiday in the Wild",
           "Adventure-romance"
          ],
          [
           "Hot Girls Wanted",
           "Documentary"
          ],
          [
           "Like Father",
           "Comedy"
          ],
          [
           "Lost Girls",
           "Crime drama"
          ],
          [
           "Otherhood",
           "Comedy"
          ],
          [
           "Pee-wee's Big Holiday",
           "Adventure"
          ],
          [
           "Rogue City",
           "Crime drama"
          ],
          [
           "Sergio",
           "Biopic"
          ],
          [
           "Stuck Apart",
           "Drama"
          ],
          [
           "Tersanjung the Movie",
           "Drama"
          ],
          [
           "The Killer",
           "Western"
          ],
          [
           "The Lovebirds",
           "Romantic comedy"
          ],
          [
           "The Most Hated Woman in America",
           "Biopic"
          ],
          [
           "The Perfection",
           "Horror-thriller"
          ],
          [
           "Tribhanga  Tedhi Medhi Crazy",
           "Drama"
          ],
          [
           "Unknown Origins",
           "Thriller"
          ],
          [
           "Work It",
           "Dance comedy"
          ],
          [
           "Alien Xmas",
           "Stop Motion"
          ],
          [
           "Baggio: The Divine Ponytail",
           "Biopic"
          ],
          [
           "Below Zero",
           "Drama"
          ],
          [
           "Citation",
           "Drama"
          ],
          [
           "Crazy Awesome Teachers",
           "Comedy-drama"
          ],
          [
           "Have You Ever Seen Fireflies?",
           "Comedy"
          ],
          [
           "High Flying Bird",
           "Sports-drama"
          ],
          [
           "In the Shadow of the Moon",
           "Thriller"
          ],
          [
           "Lost Bullet",
           "Thriller"
          ],
          [
           "Octonauts & the Caves of Sac Actun",
           "Animation"
          ],
          [
           "Offering to the Storm",
           "Thriller"
          ],
          [
           "Roxanne Roxanne",
           "Biopic"
          ],
          [
           "Someone Great",
           "Romantic comedy"
          ],
          [
           "Spenser Confidential",
           "Action comedy"
          ],
          [
           "The Land of Steady Habits",
           "Drama"
          ],
          [
           "The Rachel Divide",
           "Documentary"
          ],
          [
           "Voyuer ",
           "Documentary"
          ],
          [
           "Win It All",
           "Comedy"
          ],
          [
           "1922",
           "Horror/Crime drama"
          ],
          [
           "A Tale of Two Kitchens",
           "Documentary"
          ],
          [
           "Alex Strangelove",
           "Romantic comedy"
          ],
          [
           "Apostle",
           "Horror-thriller"
          ],
          [
           "Benji",
           "Family film"
          ],
          [
           "Bright",
           "Urban fantasy"
          ],
          [
           "Cargo",
           "Drama/Horror"
          ],
          [
           "Concrete Cowboy",
           "Drama"
          ],
          [
           "Feel the Beat",
           "Family/Comedy-drama"
          ],
          [
           "Get the Goat",
           "Comedy"
          ],
          [
           "I Am Not an Easy Man",
           "Romantic comedy"
          ],
          [
           "June & Kopi",
           "Drama"
          ],
          [
           "Music Teacher",
           "Drama"
          ],
          [
           "Nail Bomber: Manhunt",
           "Documentary"
          ],
          [
           "Notes for My Son",
           "Drama"
          ],
          [
           "Polar",
           "Action"
          ],
          [
           "Porta dos Fundos: The Last Hangover",
           "Comedy"
          ],
          [
           "Sand Castle",
           "War"
          ],
          [
           "Shimmer Lake",
           "Crime thriller"
          ],
          [
           "Spectral",
           "Science fiction/Action"
          ],
          [
           "The Babysitter",
           "Teen comedy horror"
          ],
          [
           "The Discovery",
           "Science fiction/Drama"
          ],
          [
           "The Forest of Love",
           "Drama"
          ],
          [
           "The Laundromat",
           "Comedy-drama"
          ],
          [
           "The Legend of Cocaine Island",
           "Documentary"
          ],
          [
           "The Outsider",
           "Crime drama"
          ],
          [
           "Time to Hunt",
           "Thriller"
          ],
          [
           "To All the Boys: Always and Forever",
           "Romantic comedy"
          ],
          [
           "Travis Scott: Look Mom I Can Fly",
           "Documentary"
          ],
          [
           "Uncorked",
           "Drama"
          ],
          [
           "Anelka: Misunderstood",
           "Documentary"
          ],
          [
           "Ariana Grande: Excuse Me, I Love You",
           "Concert Film"
          ],
          [
           "ARQ",
           "Science fiction/Thriller"
          ],
          [
           "Birders",
           "Documentary"
          ],
          [
           "Como Caído del Cielo",
           "Musical comedy"
          ],
          [
           "First Match",
           "Sports-drama"
          ],
          [
           "Fractured",
           "Thriller"
          ],
          [
           "Irreplaceable You",
           "Drama"
          ],
          [
           "Isi & Ossi",
           "Romantic comedy"
          ],
          [
           "John Was Trying to Contact Aliens",
           "Documentary"
          ],
          [
           "Layla Majnun",
           "Romantic drama"
          ],
          [
           "Murder to Mercy: The Cyntoia Brown Story",
           "Documentary"
          ],
          [
           "My Own Man",
           "Documentary"
          ],
          [
           "Nappily Ever After",
           "Comedy-drama"
          ],
          [
           "Over the Moon",
           "Animation/Musical/Adventure"
          ],
          [
           "Street Flow",
           "Drama"
          ],
          [
           "Strong Island",
           "Documentary"
          ],
          [
           "Sturgill Simpson Presents: Sound & Fury",
           "Animation / Musicial"
          ],
          [
           "Take Your Pills",
           "Documentary"
          ],
          [
           "The Heartbreak Club",
           "Comedy-drama"
          ],
          [
           "The Mars Generation",
           "Documentary"
          ],
          [
           "The Occupant",
           "Thriller"
          ],
          [
           "The Willoughbys",
           "Animation/Comedy/Adventure"
          ],
          [
           "Triple Frontier",
           "Action-thriller"
          ],
          [
           "Two Catalonias",
           "Documentary"
          ],
          [
           "Walk. Ride. Rodeo.",
           "Drama"
          ],
          [
           "Wheelman",
           "Action thriller"
          ],
          [
           "When We First Met",
           "Romantic comedy"
          ],
          [
           "A 3 Minute Hug",
           "Documentary"
          ],
          [
           "All the Bright Places",
           "Romance"
          ],
          [
           "All Together Now",
           "Drama"
          ],
          [
           "Altered Carbon: Resleeved",
           "Anime/Science fiction"
          ],
          [
           "Antoine Griezmann: The Making of a Legend",
           "Documentary"
          ],
          [
           "Canvas ",
           "Animation / Short"
          ],
          [
           "Chadwick Boseman: Portrait of an Artist",
           "Documentary"
          ],
          [
           "Chopsticks",
           "Comedy"
          ],
          [
           "Da 5 Bloods",
           "War drama"
          ],
          [
           "Dolly Parton: A MusiCares Tribute",
           "Documentary"
          ],
          [
           "Eurovision Song Contest: The Story of Fire Saga",
           "Musical comedy"
          ],
          [
           "Gerald's Game",
           "Horror thriller"
          ],
          [
           "His House",
           "Thriller"
          ],
          [
           "Jingle Jangle: A Christmas Journey",
           "Family/Christmas musical"
          ],
          [
           "Life Overtakes Me",
           "Documentary"
          ],
          [
           "Lust Stories",
           "Drama"
          ],
          [
           "Monster",
           "Drama"
          ],
          [
           "Mowgli: Legend of the Jungle",
           "Adventure"
          ],
          [
           "Nobody Knows I'm Here",
           "Drama"
          ],
          [
           "Nobody Speak: Trials of the Free Press",
           "Documentary"
          ],
          [
           "Oxygen",
           "Science fiction thriller"
          ],
          [
           "Set It Up",
           "Romantic comedy"
          ],
          [
           "The Incredible Jessica James",
           "Comedy"
          ],
          [
           "Tigertail",
           "Drama"
          ],
          [
           "Tramps",
           "Romance"
          ],
          [
           "What Did Jack Do?",
           "Drama / Short"
          ],
          [
           "Bad Trip",
           "Hidden-camera prank comedy"
          ],
          [
           "Bird Box",
           "Psychological thriller"
          ],
          [
           "Bulbbul",
           "Horror"
          ],
          [
           "Crazy About Her",
           "Romantic comedy"
          ],
          [
           "Elisa & Marcela",
           "Romance"
          ],
          [
           "I'll Sleep When I'm Dead",
           "Documentary"
          ],
          [
           "I'm Thinking of Ending Things",
           "Psychological thriller"
          ],
          [
           "It Takes a Lunatic",
           "Documentary"
          ],
          [
           "Milestone",
           "Drama"
          ],
          [
           "Recovery Boys",
           "Documentary"
          ],
          [
           "ReMastered: Who Killed Jam Master Jay?",
           "Documentary"
          ],
          [
           "Shawn Mendes: In Wonder",
           "Documentary"
          ],
          [
           "Space Sweepers",
           "Science fiction"
          ],
          [
           "The American Meme",
           "Documentary"
          ],
          [
           "The Angel",
           "Spy thriller"
          ],
          [
           "The Crimes That Bind",
           "Crime drama"
          ],
          [
           "The Red Sea Diving Resort",
           "Spy thriller"
          ],
          [
           "What Would Sophia Loren Do?",
           "Documentary"
          ],
          [
           "A Whisker Away",
           "Anime/Fantasy"
          ],
          [
           "Ajeeb Daastaans",
           "Drama"
          ],
          [
           "Arlo the Alligator Boy",
           "Animated musical comedy"
          ],
          [
           "Bikram: Yogi, Guru, Predator",
           "Documentary"
          ],
          [
           "Blame!",
           "Anime/Science fiction"
          ],
          [
           "Blue Miracle",
           "Drama"
          ],
          [
           "CounterPunch ",
           "Documentary"
          ],
          [
           "Crack: Cocaine, Corruption & Conspiracy",
           "Documentary"
          ],
          [
           "Extraction",
           "Action"
          ],
          [
           "Giving Voice",
           "Documentary"
          ],
          [
           "Hillbilly Elegy",
           "Drama"
          ],
          [
           "Hope Frozen: A Quest to Live Twice",
           "Documentary"
          ],
          [
           "Imperial Dreams",
           "Drama"
          ],
          [
           "Just Another Christmas",
           "Comedy"
          ],
          [
           "Little Miss Sumo",
           "Documentary"
          ],
          [
           "Malcolm & Marie",
           "Romantic drama"
          ],
          [
           "Michael Bolton's Big, Sexy, Valentine's Day Special",
           "Variety Show"
          ],
          [
           "Moxie",
           "Drama"
          ],
          [
           "Night in Paradise",
           "Drama"
          ],
          [
           "Paper Lives",
           "Drama"
          ],
          [
           "Parchis: The Documentary",
           "Documentary"
          ],
          [
           "Tallulah",
           "Comedy-drama"
          ],
          [
           "The Old Guard",
           "Superhero/Action"
          ],
          [
           "Tony Robbins: I Am Not Your Guru",
           "Documentary"
          ],
          [
           "Upstarts",
           "Drama"
          ],
          [
           "22 July",
           "Drama"
          ],
          [
           "7 años",
           "Drama"
          ],
          [
           "A Futile and Stupid Gesture",
           "Biographical/Comedy"
          ],
          [
           "A Life of Speed: The Juan Manuel Fangio Story",
           "Documentary"
          ],
          [
           "A Love Song for Latasha",
           "Documentary"
          ],
          [
           "All in My Family",
           "Documentary"
          ],
          [
           "Always Be My Maybe",
           "Romantic comedy"
          ],
          [
           "Becoming",
           "Documentary"
          ],
          [
           "Long Live Brij Mohan",
           "Comedy"
          ],
          [
           "Calibre",
           "Thriller"
          ],
          [
           "Death to 2020",
           "Comedy"
          ],
          [
           "GIMS: On the Record",
           "Documentary"
          ],
          [
           "Have a Good Trip: Adventures in Psychedelics",
           "Documentary"
          ],
          [
           "Heroin(e) ",
           "Documentary"
          ],
          [
           "Mercury 13",
           "Documentary"
          ],
          [
           "Saving Capitalism",
           "Documentary"
          ],
          [
           "Serious Men",
           "Drama"
          ],
          [
           "The Boys in the Band",
           "Drama"
          ],
          [
           "The Boys in the Band: Something Personal",
           "Aftershow / Interview"
          ],
          [
           "The Life Ahead",
           "Drama"
          ],
          [
           "The Other Side of the Wind",
           "Drama"
          ],
          [
           "The Trader",
           "Documentary"
          ],
          [
           "To the Bone",
           "Drama"
          ],
          [
           "Tony Parker: The Final Shot",
           "Documentary"
          ],
          [
           "AK vs AK",
           "Thriller"
          ],
          [
           "Amanda Knox",
           "Documentary"
          ],
          [
           "Bigflo & Oil: Hip Hop Frenzy",
           "Documentary"
          ],
          [
           "Biggie: I Got a Story to Tell",
           "Documentary"
          ],
          [
           "Cops and Robbers",
           "Animation / Short"
          ],
          [
           "I Don't Feel at Home in This World Anymore",
           "Drama"
          ],
          [
           "Laerte-se",
           "Documentary"
          ],
          [
           "Mank",
           "Biopic"
          ],
          [
           "Our Souls at Night",
           "Romance"
          ],
          [
           "Outlaw King",
           "Historical-epic"
          ],
          [
           "Pagglait",
           "Comedy-drama"
          ],
          [
           "ReMastered: Who Shot the Sheriff?",
           "Documentary"
          ],
          [
           "Seeing Allred",
           "Documentary"
          ],
          [
           "Spelling the Dream",
           "Documentary"
          ],
          [
           "The Claudia Kishi Club",
           "Documentary"
          ],
          [
           "The Half of It",
           "Romance"
          ],
          [
           "The Highwaymen",
           "Crime drama"
          ],
          [
           "The Lonely Island Presents: The Unauthorized Bash Brothers Experience",
           "Comedy / Musical"
          ],
          [
           "The Meyerowitz Stories (New and Selected)",
           "Comedy-drama"
          ],
          [
           "Feminists: What Were They Thinking?",
           "Documentary"
          ],
          [
           "Gaga: Five Foot Two",
           "Documentary"
          ],
          [
           "I'm No Longer Here: A Discussion with Guillermo del Toro and Alfonso Cuaron",
           "Aftershow / Interview"
          ],
          [
           "Kingdom of Us",
           "Documentary"
          ],
          [
           "Lorena, Light-Footed Woman",
           "Documentary"
          ],
          [
           "Los Tigres del Norte at Folsom Prison",
           "Documentary"
          ],
          [
           "Ma Rainey's Black Bottom",
           "Drama"
          ],
          [
           "Ma Rainey's Black Bottom: A Legacy Brought to Screen",
           "Aftershow / Interview"
          ],
          [
           "Operation Varsity Blues: The College Admissions Scandal",
           "Documentary"
          ],
          [
           "Pele",
           "Documentary"
          ],
          [
           "ReMastered: Devil at the Crossroads",
           "Documentary"
          ],
          [
           "ReMastered: The Lion's Share",
           "Documentary"
          ],
          [
           "ReMastered: The Miami Showband Massacre",
           "Documentary"
          ],
          [
           "Resurface",
           "Documentary"
          ],
          [
           "Rocko's Modern Life: Static Cling",
           "Animation / Comedy"
          ],
          [
           "Rose Island",
           "Comedy"
          ],
          [
           "The Christmas Chronicles",
           "Christmas/Fantasy/Adventure/Comedy"
          ],
          [
           "The Dirt",
           "Biopic"
          ],
          [
           "The Night Comes for Us",
           "Action-thriller"
          ],
          [
           "13th: A Conversation with Oprah Winfrey & Ava DuVernay",
           "Aftershow / Interview"
          ],
          [
           "Angela's Christmas",
           "Animation"
          ],
          [
           "Angela's Christmas Wish",
           "Animation"
          ],
          [
           "Beats",
           "Drama"
          ],
          [
           "Circus of Books",
           "Documentary"
          ],
          [
           "Dance Dreams: Hot Chocolate Nutcracker",
           "Documentary"
          ],
          [
           "Derren Brown: Sacrifice",
           "Mentalism special"
          ],
          [
           "El Pepe: A Supreme Life",
           "Documentary"
          ],
          [
           "End Game",
           "Documentary"
          ],
          [
           "Evelyn",
           "Documentary"
          ],
          [
           "Ferry",
           "Crime drama"
          ],
          [
           "Grass Is Greener",
           "Documentary"
          ],
          [
           "Guillermo Vilas: Settling the Score",
           "Documentary"
          ],
          [
           "Joshua: Teenager vs. Superpower",
           "Documentary"
          ],
          [
           "Keith Richards: Under the Influence",
           "Documentary"
          ],
          [
           "Knock Down the House",
           "Documentary"
          ],
          [
           "Loudon Wainwright III: Surviving Twin",
           "One-man show"
          ],
          [
           "My Beautiful Broken Brain",
           "Documentary"
          ],
          [
           "One of Us",
           "Documentary"
          ],
          [
           "Pieces of a Woman",
           "Drama"
          ],
          [
           "Ram Dass, Going Home",
           "Documentary"
          ],
          [
           "ReMastered: Tricky Dick & the Man in Black",
           "Documentary"
          ],
          [
           "Rooting for Roona",
           "Documentary"
          ],
          [
           "The Devil All the Time",
           "Psychological thriller"
          ],
          [
           "The Dig",
           "Drama"
          ],
          [
           "The Great Hack",
           "Documentary"
          ],
          [
           "The White Tiger",
           "Drama"
          ],
          [
           "To All the Boys I've Loved Before",
           "Romantic comedy"
          ],
          [
           "American Murder: The Family Next Door",
           "Documentary"
          ],
          [
           "Audrie & Daisy",
           "Documentary"
          ],
          [
           "First They Killed My Father",
           "Drama"
          ],
          [
           "Fyre: The Greatest Party That Never Happened",
           "Documentary"
          ],
          [
           "Into the Inferno",
           "Documentary"
          ],
          [
           "LA Originals",
           "Documentary"
          ],
          [
           "Ladies First",
           "Documentary"
          ],
          [
           "Love per Square Foot",
           "Romantic comedy"
          ],
          [
           "Paddleton",
           "Drama-Comedy"
          ],
          [
           "Private Life",
           "Drama"
          ],
          [
           "Seventeen",
           "Coming-of-age comedy-drama"
          ],
          [
           "Sometimes",
           "Drama"
          ],
          [
           "Soni",
           "Crime drama"
          ],
          [
           "The 40-Year-Old Version",
           "Comedy"
          ],
          [
           "The Disciple",
           "Drama"
          ],
          [
           "The Edge of Democracy",
           "Documentary"
          ],
          [
           "The King",
           "Historical drama"
          ],
          [
           "The Road to El Camino: A Breaking Bad Movie",
           "Making-of"
          ],
          [
           "The Siege of Jadotville",
           "War"
          ],
          [
           "Zion ",
           "Documentary"
          ],
          [
           "Dolemite Is My Name",
           "Biopic"
          ],
          [
           "El Camino: A Breaking Bad Movie",
           "Crime drama"
          ],
          [
           "Extremis",
           "Documentary"
          ],
          [
           "Father Soldier Son",
           "Documentary"
          ],
          [
           "Get Me Roger Stone",
           "Documentary"
          ],
          [
           "I'm No Longer Here",
           "Drama"
          ],
          [
           "Mucho Mucho Amor: The Legend of Walter Mercado ",
           "Documentary"
          ],
          [
           "Octonauts & the Great Barrier Reef",
           "Animation"
          ],
          [
           "Okja",
           "Action-adventure"
          ],
          [
           "On My Skin",
           "Crime drama"
          ],
          [
           "Raat Akeli Hai",
           "Thriller"
          ],
          [
           "ReMastered: Massacre at the Stadium",
           "Documentary"
          ],
          [
           "ReMastered: The Two Killings of Sam Cooke",
           "Documentary"
          ],
          [
           "Secrets of the Saqqara Tomb",
           "Documentary"
          ],
          [
           "Sitara: Let Girls Dream",
           "Animation / Short"
          ],
          [
           "Sky Ladder: The Art of Cai Guo-Qiang",
           "Documentary"
          ],
          [
           "Team Foxcatcher",
           "Documentary"
          ],
          [
           "The Ballad of Buster Scruggs",
           "Western"
          ],
          [
           "The Death and Life of Marsha P. Johnson",
           "Documentary"
          ],
          [
           "The Fundamentals of Caring",
           "Comedy-drama"
          ],
          [
           "The Other One: The Long Strange Trip of Bob Weir",
           "Documentary"
          ],
          [
           "American Factory",
           "Documentary"
          ],
          [
           "Fire in Paradise",
           "Documentary"
          ],
          [
           "Long Shot",
           "Documentary"
          ],
          [
           "Miss Americana",
           "Documentary"
          ],
          [
           "Period. End of Sentence.",
           "Documentary"
          ],
          [
           "Shawn Mendes: Live in Concert",
           "Concert Film"
          ],
          [
           "Shirkers",
           "Documentary"
          ],
          [
           "The Black Godfather",
           "Documentary"
          ],
          [
           "The Irishman: In Conversation",
           "Aftershow / Interview"
          ],
          [
           "The Speed Cubers",
           "Documentary"
          ],
          [
           "They'll Love Me When I'm Dead",
           "Documentary"
          ],
          [
           "Tig",
           "Documentary"
          ],
          [
           "Barbra: The Music, The Mem'ries, The Magic!",
           "Concert Film"
          ],
          [
           "Blackpink: Light Up the Sky",
           "Documentary"
          ],
          [
           "City of Joy",
           "Documentary"
          ],
          [
           "Dick Johnson Is Dead",
           "Documentary"
          ],
          [
           "Homecoming: A Film by Beyonce ",
           "Documentary"
          ],
          [
           "Invader Zim: Enter the Florpus",
           "Animation / Science Fiction"
          ],
          [
           "Joan Didion: The Center Will Not Hold",
           "Documentary"
          ],
          [
           "John Mulaney & the Sack Lunch Bunch",
           "Variety show"
          ],
          [
           "Reversing Roe",
           "Documentary"
          ],
          [
           "The White Helmets",
           "Documentary"
          ],
          [
           "Athlete A",
           "Documentary"
          ],
          [
           "Ludo",
           "Anthology/Dark comedy"
          ],
          [
           "Quincy",
           "Documentary"
          ],
          [
           "Rolling Thunder Revue: A bob Dylan Story by Martin Scorsere",
           "Documentary"
          ],
          [
           "Tell Me Who I Am",
           "Documentary"
          ],
          [
           "The Bleeding Edge",
           "Documentary"
          ],
          [
           "The Social Dilemma",
           "Documentary"
          ],
          [
           "The Two Popes",
           "Drama"
          ],
          [
           "What Happened, Miss Simone?",
           "Documentary"
          ],
          [
           "Yeh Ballet",
           "Drama"
          ],
          [
           "Anima",
           "Musical / Short"
          ],
          [
           "Beasts of No Nation",
           "War drama"
          ],
          [
           "Brene Brown: The Call to Courage",
           "Documentary"
          ],
          [
           "Crip Camp: A Disability Revolution",
           "Documentary"
          ],
          [
           "Jim & Andy: The Great Beyond - Featuring a Very Special, Contractually Obligated Mention of Tony Cliffton ",
           "Documentary"
          ],
          [
           "Justin Timberlake + The Tennessee Kids",
           "Concert Film"
          ],
          [
           "Road to Roma",
           "Making-of"
          ],
          [
           "Roma",
           "Drama"
          ],
          [
           "If Anything Happens I Love You",
           "Animation / Short"
          ],
          [
           "The Irishman",
           "Crime drama"
          ],
          [
           "The Trial of the Chicago 7",
           "Drama"
          ],
          [
           "A Secret Love",
           "Documentary"
          ],
          [
           "Icarus",
           "Documentary"
          ],
          [
           "Marriage Story",
           "Drama"
          ],
          [
           "The Ivory Game",
           "Documentary"
          ],
          [
           "Struggle: The Life and Lost Art of Szukaiski",
           "Documentary"
          ],
          [
           "Chasing Coral ",
           "Documentary"
          ],
          [
           "My Octopus Teacher",
           "Documentary"
          ],
          [
           "Rising Phoenix",
           "Documentary"
          ],
          [
           "13th",
           "Documentary"
          ],
          [
           "Disclosure: Trans Lives on Screen",
           "Documentary"
          ],
          [
           "Klaus",
           "Animation/Christmas/Comedy/Adventure"
          ],
          [
           "Seaspiracy",
           "Documentary"
          ],
          [
           "The Three Deaths of Marisela Escobedo",
           "Documentary"
          ],
          [
           "Cuba and the Cameraman ",
           "Documentary"
          ],
          [
           "Dancing with the Birds",
           "Documentary"
          ],
          [
           "Ben Platt: Live from Radio City Music Hall",
           "Concert Film"
          ],
          [
           "Taylor Swift: Reputation Stadium Tour",
           "Concert Film"
          ],
          [
           "Winter on Fire: Ukraine's Fight for Freedom",
           "Documentary"
          ],
          [
           "Springsteen on Broadway",
           "One-man show"
          ],
          [
           "Emicida: AmarElo - It's All For Yesterday",
           "Documentary"
          ],
          [
           "David Attenborough: A Life on Our Planet",
           "Documentary"
          ]
         ],
         "hovertemplate": "IMDB Score=%{x}<br>Title=%{customdata[0]}<br>Genre=%{customdata[1]}<extra></extra>",
         "legendgroup": "",
         "marker": {
          "color": "#636efa"
         },
         "name": "",
         "notched": false,
         "offsetgroup": "",
         "orientation": "h",
         "quartilemethod": "inclusive",
         "showlegend": false,
         "type": "box",
         "x": [
          2.5,
          2.6,
          2.6,
          3.2,
          3.4,
          3.5,
          3.7,
          3.7,
          3.9,
          4.1,
          4.1,
          4.1,
          4.1,
          4.2,
          4.2,
          4.3,
          4.3,
          4.3,
          4.3,
          4.4,
          4.4,
          4.4,
          4.4,
          4.4,
          4.4,
          4.5,
          4.5,
          4.5,
          4.5,
          4.6,
          4.6,
          4.6,
          4.6,
          4.6,
          4.6,
          4.6,
          4.6,
          4.7,
          4.7,
          4.7,
          4.7,
          4.7,
          4.7,
          4.8,
          4.8,
          4.8,
          4.8,
          4.8,
          4.8,
          4.8,
          4.9,
          4.9,
          4.9,
          4.9,
          5,
          5,
          5,
          5,
          5,
          5.1,
          5.1,
          5.1,
          5.1,
          5.1,
          5.1,
          5.2,
          5.2,
          5.2,
          5.2,
          5.2,
          5.2,
          5.2,
          5.2,
          5.2,
          5.2,
          5.2,
          5.2,
          5.2,
          5.2,
          5.2,
          5.2,
          5.2,
          5.2,
          5.2,
          5.3,
          5.3,
          5.3,
          5.3,
          5.3,
          5.3,
          5.3,
          5.3,
          5.3,
          5.3,
          5.4,
          5.4,
          5.4,
          5.4,
          5.4,
          5.4,
          5.4,
          5.4,
          5.4,
          5.4,
          5.4,
          5.4,
          5.4,
          5.5,
          5.5,
          5.5,
          5.5,
          5.5,
          5.5,
          5.5,
          5.5,
          5.5,
          5.5,
          5.5,
          5.5,
          5.5,
          5.5,
          5.5,
          5.5,
          5.5,
          5.5,
          5.5,
          5.6,
          5.6,
          5.6,
          5.6,
          5.6,
          5.6,
          5.6,
          5.6,
          5.6,
          5.6,
          5.6,
          5.6,
          5.6,
          5.6,
          5.6,
          5.7,
          5.7,
          5.7,
          5.7,
          5.7,
          5.7,
          5.7,
          5.7,
          5.7,
          5.7,
          5.7,
          5.7,
          5.7,
          5.7,
          5.7,
          5.7,
          5.7,
          5.7,
          5.7,
          5.7,
          5.8,
          5.8,
          5.8,
          5.8,
          5.8,
          5.8,
          5.8,
          5.8,
          5.8,
          5.8,
          5.8,
          5.8,
          5.8,
          5.8,
          5.8,
          5.8,
          5.8,
          5.8,
          5.8,
          5.8,
          5.8,
          5.8,
          5.8,
          5.8,
          5.8,
          5.8,
          5.8,
          5.8,
          5.8,
          5.8,
          5.9,
          5.9,
          5.9,
          5.9,
          5.9,
          5.9,
          5.9,
          5.9,
          5.9,
          5.9,
          5.9,
          5.9,
          5.9,
          5.9,
          5.9,
          5.9,
          6,
          6,
          6,
          6,
          6,
          6,
          6,
          6,
          6,
          6,
          6,
          6,
          6,
          6.1,
          6.1,
          6.1,
          6.1,
          6.1,
          6.1,
          6.1,
          6.1,
          6.1,
          6.1,
          6.1,
          6.1,
          6.1,
          6.1,
          6.1,
          6.1,
          6.1,
          6.1,
          6.1,
          6.1,
          6.1,
          6.1,
          6.1,
          6.1,
          6.2,
          6.2,
          6.2,
          6.2,
          6.2,
          6.2,
          6.2,
          6.2,
          6.2,
          6.2,
          6.2,
          6.2,
          6.2,
          6.2,
          6.2,
          6.2,
          6.2,
          6.2,
          6.3,
          6.3,
          6.3,
          6.3,
          6.3,
          6.3,
          6.3,
          6.3,
          6.3,
          6.3,
          6.3,
          6.3,
          6.3,
          6.3,
          6.3,
          6.3,
          6.3,
          6.3,
          6.3,
          6.3,
          6.3,
          6.3,
          6.3,
          6.3,
          6.3,
          6.3,
          6.3,
          6.3,
          6.3,
          6.3,
          6.4,
          6.4,
          6.4,
          6.4,
          6.4,
          6.4,
          6.4,
          6.4,
          6.4,
          6.4,
          6.4,
          6.4,
          6.4,
          6.4,
          6.4,
          6.4,
          6.4,
          6.4,
          6.4,
          6.4,
          6.4,
          6.4,
          6.4,
          6.4,
          6.4,
          6.4,
          6.4,
          6.4,
          6.5,
          6.5,
          6.5,
          6.5,
          6.5,
          6.5,
          6.5,
          6.5,
          6.5,
          6.5,
          6.5,
          6.5,
          6.5,
          6.5,
          6.5,
          6.5,
          6.5,
          6.5,
          6.5,
          6.5,
          6.5,
          6.5,
          6.5,
          6.5,
          6.5,
          6.5,
          6.6,
          6.6,
          6.6,
          6.6,
          6.6,
          6.6,
          6.6,
          6.6,
          6.6,
          6.6,
          6.6,
          6.6,
          6.6,
          6.6,
          6.6,
          6.6,
          6.6,
          6.6,
          6.7,
          6.7,
          6.7,
          6.7,
          6.7,
          6.7,
          6.7,
          6.7,
          6.7,
          6.7,
          6.7,
          6.7,
          6.7,
          6.7,
          6.7,
          6.7,
          6.7,
          6.7,
          6.7,
          6.7,
          6.7,
          6.7,
          6.7,
          6.7,
          6.7,
          6.8,
          6.8,
          6.8,
          6.8,
          6.8,
          6.8,
          6.8,
          6.8,
          6.8,
          6.8,
          6.8,
          6.8,
          6.8,
          6.8,
          6.8,
          6.8,
          6.8,
          6.8,
          6.8,
          6.8,
          6.8,
          6.8,
          6.8,
          6.8,
          6.9,
          6.9,
          6.9,
          6.9,
          6.9,
          6.9,
          6.9,
          6.9,
          6.9,
          6.9,
          6.9,
          6.9,
          6.9,
          6.9,
          6.9,
          6.9,
          6.9,
          6.9,
          6.9,
          7,
          7,
          7,
          7,
          7,
          7,
          7,
          7,
          7,
          7,
          7,
          7,
          7,
          7,
          7,
          7,
          7,
          7,
          7,
          7.1,
          7.1,
          7.1,
          7.1,
          7.1,
          7.1,
          7.1,
          7.1,
          7.1,
          7.1,
          7.1,
          7.1,
          7.1,
          7.1,
          7.1,
          7.1,
          7.1,
          7.1,
          7.1,
          7.1,
          7.1,
          7.1,
          7.1,
          7.1,
          7.1,
          7.1,
          7.1,
          7.1,
          7.2,
          7.2,
          7.2,
          7.2,
          7.2,
          7.2,
          7.2,
          7.2,
          7.2,
          7.2,
          7.2,
          7.2,
          7.2,
          7.2,
          7.2,
          7.2,
          7.2,
          7.2,
          7.2,
          7.2,
          7.3,
          7.3,
          7.3,
          7.3,
          7.3,
          7.3,
          7.3,
          7.3,
          7.3,
          7.3,
          7.3,
          7.3,
          7.3,
          7.3,
          7.3,
          7.3,
          7.3,
          7.3,
          7.3,
          7.3,
          7.3,
          7.4,
          7.4,
          7.4,
          7.4,
          7.4,
          7.4,
          7.4,
          7.4,
          7.4,
          7.4,
          7.4,
          7.4,
          7.5,
          7.5,
          7.5,
          7.5,
          7.5,
          7.5,
          7.5,
          7.5,
          7.5,
          7.5,
          7.6,
          7.6,
          7.6,
          7.6,
          7.6,
          7.6,
          7.6,
          7.6,
          7.6,
          7.6,
          7.7,
          7.7,
          7.7,
          7.7,
          7.7,
          7.7,
          7.7,
          7.7,
          7.8,
          7.8,
          7.8,
          7.9,
          7.9,
          7.9,
          7.9,
          8,
          8.1,
          8.1,
          8.1,
          8.2,
          8.2,
          8.2,
          8.2,
          8.2,
          8.3,
          8.3,
          8.4,
          8.4,
          8.4,
          8.5,
          8.6,
          9
         ],
         "x0": " ",
         "xaxis": "x",
         "y0": " ",
         "yaxis": "y"
        }
       ],
       "layout": {
        "boxmode": "group",
        "legend": {
         "tracegroupgap": 0
        },
        "margin": {
         "t": 60
        },
        "template": {
         "data": {
          "bar": [
           {
            "error_x": {
             "color": "#2a3f5f"
            },
            "error_y": {
             "color": "#2a3f5f"
            },
            "marker": {
             "line": {
              "color": "#E5ECF6",
              "width": 0.5
             }
            },
            "type": "bar"
           }
          ],
          "barpolar": [
           {
            "marker": {
             "line": {
              "color": "#E5ECF6",
              "width": 0.5
             }
            },
            "type": "barpolar"
           }
          ],
          "carpet": [
           {
            "aaxis": {
             "endlinecolor": "#2a3f5f",
             "gridcolor": "white",
             "linecolor": "white",
             "minorgridcolor": "white",
             "startlinecolor": "#2a3f5f"
            },
            "baxis": {
             "endlinecolor": "#2a3f5f",
             "gridcolor": "white",
             "linecolor": "white",
             "minorgridcolor": "white",
             "startlinecolor": "#2a3f5f"
            },
            "type": "carpet"
           }
          ],
          "choropleth": [
           {
            "colorbar": {
             "outlinewidth": 0,
             "ticks": ""
            },
            "type": "choropleth"
           }
          ],
          "contour": [
           {
            "colorbar": {
             "outlinewidth": 0,
             "ticks": ""
            },
            "colorscale": [
             [
              0,
              "#0d0887"
             ],
             [
              0.1111111111111111,
              "#46039f"
             ],
             [
              0.2222222222222222,
              "#7201a8"
             ],
             [
              0.3333333333333333,
              "#9c179e"
             ],
             [
              0.4444444444444444,
              "#bd3786"
             ],
             [
              0.5555555555555556,
              "#d8576b"
             ],
             [
              0.6666666666666666,
              "#ed7953"
             ],
             [
              0.7777777777777778,
              "#fb9f3a"
             ],
             [
              0.8888888888888888,
              "#fdca26"
             ],
             [
              1,
              "#f0f921"
             ]
            ],
            "type": "contour"
           }
          ],
          "contourcarpet": [
           {
            "colorbar": {
             "outlinewidth": 0,
             "ticks": ""
            },
            "type": "contourcarpet"
           }
          ],
          "heatmap": [
           {
            "colorbar": {
             "outlinewidth": 0,
             "ticks": ""
            },
            "colorscale": [
             [
              0,
              "#0d0887"
             ],
             [
              0.1111111111111111,
              "#46039f"
             ],
             [
              0.2222222222222222,
              "#7201a8"
             ],
             [
              0.3333333333333333,
              "#9c179e"
             ],
             [
              0.4444444444444444,
              "#bd3786"
             ],
             [
              0.5555555555555556,
              "#d8576b"
             ],
             [
              0.6666666666666666,
              "#ed7953"
             ],
             [
              0.7777777777777778,
              "#fb9f3a"
             ],
             [
              0.8888888888888888,
              "#fdca26"
             ],
             [
              1,
              "#f0f921"
             ]
            ],
            "type": "heatmap"
           }
          ],
          "heatmapgl": [
           {
            "colorbar": {
             "outlinewidth": 0,
             "ticks": ""
            },
            "colorscale": [
             [
              0,
              "#0d0887"
             ],
             [
              0.1111111111111111,
              "#46039f"
             ],
             [
              0.2222222222222222,
              "#7201a8"
             ],
             [
              0.3333333333333333,
              "#9c179e"
             ],
             [
              0.4444444444444444,
              "#bd3786"
             ],
             [
              0.5555555555555556,
              "#d8576b"
             ],
             [
              0.6666666666666666,
              "#ed7953"
             ],
             [
              0.7777777777777778,
              "#fb9f3a"
             ],
             [
              0.8888888888888888,
              "#fdca26"
             ],
             [
              1,
              "#f0f921"
             ]
            ],
            "type": "heatmapgl"
           }
          ],
          "histogram": [
           {
            "marker": {
             "colorbar": {
              "outlinewidth": 0,
              "ticks": ""
             }
            },
            "type": "histogram"
           }
          ],
          "histogram2d": [
           {
            "colorbar": {
             "outlinewidth": 0,
             "ticks": ""
            },
            "colorscale": [
             [
              0,
              "#0d0887"
             ],
             [
              0.1111111111111111,
              "#46039f"
             ],
             [
              0.2222222222222222,
              "#7201a8"
             ],
             [
              0.3333333333333333,
              "#9c179e"
             ],
             [
              0.4444444444444444,
              "#bd3786"
             ],
             [
              0.5555555555555556,
              "#d8576b"
             ],
             [
              0.6666666666666666,
              "#ed7953"
             ],
             [
              0.7777777777777778,
              "#fb9f3a"
             ],
             [
              0.8888888888888888,
              "#fdca26"
             ],
             [
              1,
              "#f0f921"
             ]
            ],
            "type": "histogram2d"
           }
          ],
          "histogram2dcontour": [
           {
            "colorbar": {
             "outlinewidth": 0,
             "ticks": ""
            },
            "colorscale": [
             [
              0,
              "#0d0887"
             ],
             [
              0.1111111111111111,
              "#46039f"
             ],
             [
              0.2222222222222222,
              "#7201a8"
             ],
             [
              0.3333333333333333,
              "#9c179e"
             ],
             [
              0.4444444444444444,
              "#bd3786"
             ],
             [
              0.5555555555555556,
              "#d8576b"
             ],
             [
              0.6666666666666666,
              "#ed7953"
             ],
             [
              0.7777777777777778,
              "#fb9f3a"
             ],
             [
              0.8888888888888888,
              "#fdca26"
             ],
             [
              1,
              "#f0f921"
             ]
            ],
            "type": "histogram2dcontour"
           }
          ],
          "mesh3d": [
           {
            "colorbar": {
             "outlinewidth": 0,
             "ticks": ""
            },
            "type": "mesh3d"
           }
          ],
          "parcoords": [
           {
            "line": {
             "colorbar": {
              "outlinewidth": 0,
              "ticks": ""
             }
            },
            "type": "parcoords"
           }
          ],
          "pie": [
           {
            "automargin": true,
            "type": "pie"
           }
          ],
          "scatter": [
           {
            "marker": {
             "colorbar": {
              "outlinewidth": 0,
              "ticks": ""
             }
            },
            "type": "scatter"
           }
          ],
          "scatter3d": [
           {
            "line": {
             "colorbar": {
              "outlinewidth": 0,
              "ticks": ""
             }
            },
            "marker": {
             "colorbar": {
              "outlinewidth": 0,
              "ticks": ""
             }
            },
            "type": "scatter3d"
           }
          ],
          "scattercarpet": [
           {
            "marker": {
             "colorbar": {
              "outlinewidth": 0,
              "ticks": ""
             }
            },
            "type": "scattercarpet"
           }
          ],
          "scattergeo": [
           {
            "marker": {
             "colorbar": {
              "outlinewidth": 0,
              "ticks": ""
             }
            },
            "type": "scattergeo"
           }
          ],
          "scattergl": [
           {
            "marker": {
             "colorbar": {
              "outlinewidth": 0,
              "ticks": ""
             }
            },
            "type": "scattergl"
           }
          ],
          "scattermapbox": [
           {
            "marker": {
             "colorbar": {
              "outlinewidth": 0,
              "ticks": ""
             }
            },
            "type": "scattermapbox"
           }
          ],
          "scatterpolar": [
           {
            "marker": {
             "colorbar": {
              "outlinewidth": 0,
              "ticks": ""
             }
            },
            "type": "scatterpolar"
           }
          ],
          "scatterpolargl": [
           {
            "marker": {
             "colorbar": {
              "outlinewidth": 0,
              "ticks": ""
             }
            },
            "type": "scatterpolargl"
           }
          ],
          "scatterternary": [
           {
            "marker": {
             "colorbar": {
              "outlinewidth": 0,
              "ticks": ""
             }
            },
            "type": "scatterternary"
           }
          ],
          "surface": [
           {
            "colorbar": {
             "outlinewidth": 0,
             "ticks": ""
            },
            "colorscale": [
             [
              0,
              "#0d0887"
             ],
             [
              0.1111111111111111,
              "#46039f"
             ],
             [
              0.2222222222222222,
              "#7201a8"
             ],
             [
              0.3333333333333333,
              "#9c179e"
             ],
             [
              0.4444444444444444,
              "#bd3786"
             ],
             [
              0.5555555555555556,
              "#d8576b"
             ],
             [
              0.6666666666666666,
              "#ed7953"
             ],
             [
              0.7777777777777778,
              "#fb9f3a"
             ],
             [
              0.8888888888888888,
              "#fdca26"
             ],
             [
              1,
              "#f0f921"
             ]
            ],
            "type": "surface"
           }
          ],
          "table": [
           {
            "cells": {
             "fill": {
              "color": "#EBF0F8"
             },
             "line": {
              "color": "white"
             }
            },
            "header": {
             "fill": {
              "color": "#C8D4E3"
             },
             "line": {
              "color": "white"
             }
            },
            "type": "table"
           }
          ]
         },
         "layout": {
          "annotationdefaults": {
           "arrowcolor": "#2a3f5f",
           "arrowhead": 0,
           "arrowwidth": 1
          },
          "autotypenumbers": "strict",
          "coloraxis": {
           "colorbar": {
            "outlinewidth": 0,
            "ticks": ""
           }
          },
          "colorscale": {
           "diverging": [
            [
             0,
             "#8e0152"
            ],
            [
             0.1,
             "#c51b7d"
            ],
            [
             0.2,
             "#de77ae"
            ],
            [
             0.3,
             "#f1b6da"
            ],
            [
             0.4,
             "#fde0ef"
            ],
            [
             0.5,
             "#f7f7f7"
            ],
            [
             0.6,
             "#e6f5d0"
            ],
            [
             0.7,
             "#b8e186"
            ],
            [
             0.8,
             "#7fbc41"
            ],
            [
             0.9,
             "#4d9221"
            ],
            [
             1,
             "#276419"
            ]
           ],
           "sequential": [
            [
             0,
             "#0d0887"
            ],
            [
             0.1111111111111111,
             "#46039f"
            ],
            [
             0.2222222222222222,
             "#7201a8"
            ],
            [
             0.3333333333333333,
             "#9c179e"
            ],
            [
             0.4444444444444444,
             "#bd3786"
            ],
            [
             0.5555555555555556,
             "#d8576b"
            ],
            [
             0.6666666666666666,
             "#ed7953"
            ],
            [
             0.7777777777777778,
             "#fb9f3a"
            ],
            [
             0.8888888888888888,
             "#fdca26"
            ],
            [
             1,
             "#f0f921"
            ]
           ],
           "sequentialminus": [
            [
             0,
             "#0d0887"
            ],
            [
             0.1111111111111111,
             "#46039f"
            ],
            [
             0.2222222222222222,
             "#7201a8"
            ],
            [
             0.3333333333333333,
             "#9c179e"
            ],
            [
             0.4444444444444444,
             "#bd3786"
            ],
            [
             0.5555555555555556,
             "#d8576b"
            ],
            [
             0.6666666666666666,
             "#ed7953"
            ],
            [
             0.7777777777777778,
             "#fb9f3a"
            ],
            [
             0.8888888888888888,
             "#fdca26"
            ],
            [
             1,
             "#f0f921"
            ]
           ]
          },
          "colorway": [
           "#636efa",
           "#EF553B",
           "#00cc96",
           "#ab63fa",
           "#FFA15A",
           "#19d3f3",
           "#FF6692",
           "#B6E880",
           "#FF97FF",
           "#FECB52"
          ],
          "font": {
           "color": "#2a3f5f"
          },
          "geo": {
           "bgcolor": "white",
           "lakecolor": "white",
           "landcolor": "#E5ECF6",
           "showlakes": true,
           "showland": true,
           "subunitcolor": "white"
          },
          "hoverlabel": {
           "align": "left"
          },
          "hovermode": "closest",
          "mapbox": {
           "style": "light"
          },
          "paper_bgcolor": "white",
          "plot_bgcolor": "#E5ECF6",
          "polar": {
           "angularaxis": {
            "gridcolor": "white",
            "linecolor": "white",
            "ticks": ""
           },
           "bgcolor": "#E5ECF6",
           "radialaxis": {
            "gridcolor": "white",
            "linecolor": "white",
            "ticks": ""
           }
          },
          "scene": {
           "xaxis": {
            "backgroundcolor": "#E5ECF6",
            "gridcolor": "white",
            "gridwidth": 2,
            "linecolor": "white",
            "showbackground": true,
            "ticks": "",
            "zerolinecolor": "white"
           },
           "yaxis": {
            "backgroundcolor": "#E5ECF6",
            "gridcolor": "white",
            "gridwidth": 2,
            "linecolor": "white",
            "showbackground": true,
            "ticks": "",
            "zerolinecolor": "white"
           },
           "zaxis": {
            "backgroundcolor": "#E5ECF6",
            "gridcolor": "white",
            "gridwidth": 2,
            "linecolor": "white",
            "showbackground": true,
            "ticks": "",
            "zerolinecolor": "white"
           }
          },
          "shapedefaults": {
           "line": {
            "color": "#2a3f5f"
           }
          },
          "ternary": {
           "aaxis": {
            "gridcolor": "white",
            "linecolor": "white",
            "ticks": ""
           },
           "baxis": {
            "gridcolor": "white",
            "linecolor": "white",
            "ticks": ""
           },
           "bgcolor": "#E5ECF6",
           "caxis": {
            "gridcolor": "white",
            "linecolor": "white",
            "ticks": ""
           }
          },
          "title": {
           "x": 0.05
          },
          "xaxis": {
           "automargin": true,
           "gridcolor": "white",
           "linecolor": "white",
           "ticks": "",
           "title": {
            "standoff": 15
           },
           "zerolinecolor": "white",
           "zerolinewidth": 2
          },
          "yaxis": {
           "automargin": true,
           "gridcolor": "white",
           "linecolor": "white",
           "ticks": "",
           "title": {
            "standoff": 15
           },
           "zerolinecolor": "white",
           "zerolinewidth": 2
          }
         }
        },
        "xaxis": {
         "anchor": "y",
         "domain": [
          0,
          1
         ],
         "title": {
          "text": "IMDB Score"
         }
        },
        "yaxis": {
         "anchor": "x",
         "domain": [
          0,
          1
         ]
        }
       }
      }
     },
     "metadata": {}
    }
   ],
   "metadata": {}
  },
  {
   "cell_type": "markdown",
   "source": [
    "## Correlation between Runtime & IMDB scores"
   ],
   "metadata": {}
  },
  {
   "cell_type": "code",
   "execution_count": 25,
   "source": [
    "runtime_scores_corr = data[['Runtime' , 'IMDB Score']].corr()\r\n",
    "runtime_scores_corr"
   ],
   "outputs": [
    {
     "output_type": "execute_result",
     "data": {
      "text/html": [
       "<div>\n",
       "<style scoped>\n",
       "    .dataframe tbody tr th:only-of-type {\n",
       "        vertical-align: middle;\n",
       "    }\n",
       "\n",
       "    .dataframe tbody tr th {\n",
       "        vertical-align: top;\n",
       "    }\n",
       "\n",
       "    .dataframe thead th {\n",
       "        text-align: right;\n",
       "    }\n",
       "</style>\n",
       "<table border=\"1\" class=\"dataframe\">\n",
       "  <thead>\n",
       "    <tr style=\"text-align: right;\">\n",
       "      <th></th>\n",
       "      <th>Runtime</th>\n",
       "      <th>IMDB Score</th>\n",
       "    </tr>\n",
       "  </thead>\n",
       "  <tbody>\n",
       "    <tr>\n",
       "      <th>Runtime</th>\n",
       "      <td>1.000000</td>\n",
       "      <td>-0.040896</td>\n",
       "    </tr>\n",
       "    <tr>\n",
       "      <th>IMDB Score</th>\n",
       "      <td>-0.040896</td>\n",
       "      <td>1.000000</td>\n",
       "    </tr>\n",
       "  </tbody>\n",
       "</table>\n",
       "</div>"
      ],
      "text/plain": [
       "             Runtime  IMDB Score\n",
       "Runtime     1.000000   -0.040896\n",
       "IMDB Score -0.040896    1.000000"
      ]
     },
     "metadata": {},
     "execution_count": 25
    }
   ],
   "metadata": {}
  },
  {
   "cell_type": "code",
   "execution_count": 26,
   "source": [
    "fig = px.scatter(data , x='IMDB Score' , y='Runtime' , hover_data=data[['Title'  ,'Genre']])\r\n",
    "fig.show()"
   ],
   "outputs": [
    {
     "output_type": "display_data",
     "data": {
      "application/vnd.plotly.v1+json": {
       "config": {
        "plotlyServerURL": "https://plot.ly"
       },
       "data": [
        {
         "customdata": [
          [
           "Enter the Anime",
           "Documentary"
          ],
          [
           "Dark Forces",
           "Thriller"
          ],
          [
           "The App",
           "Science fiction/Drama"
          ],
          [
           "The Open House",
           "Horror thriller"
          ],
          [
           "Kaali Khuhi",
           "Mystery"
          ],
          [
           "Drive",
           "Action"
          ],
          [
           "Leyla Everlasting",
           "Comedy"
          ],
          [
           "The Last Days of American Crime",
           "Heist film/Thriller"
          ],
          [
           "Paradox",
           "Musical/Western/Fantasy"
          ],
          [
           "Sardar Ka Grandson",
           "Comedy"
          ],
          [
           "Searching for Sheela",
           "Documentary"
          ],
          [
           "The Call",
           "Drama"
          ],
          [
           "Whipped",
           "Romantic comedy"
          ],
          [
           "All Because of You",
           "Action comedy"
          ],
          [
           "Mercy",
           "Thriller"
          ],
          [
           "After the Raid",
           "Documentary"
          ],
          [
           "Ghost Stories",
           "Horror anthology"
          ],
          [
           "The Last Thing He Wanted",
           "Political thriller"
          ],
          [
           "What Happened to Mr. Cha?",
           "Comedy"
          ],
          [
           "Death Note",
           "Horror thriller"
          ],
          [
           "Hello Privilege. It's Me, Chelsea",
           "Documentary"
          ],
          [
           "Secret Obsession",
           "Thriller"
          ],
          [
           "Sextuplets",
           "Comedy"
          ],
          [
           "The Girl on the Train",
           "Thriller"
          ],
          [
           "Thunder Force",
           "Superhero-Comedy"
          ],
          [
           "Fatal Affair",
           "Thriller"
          ],
          [
           "Just Say Yes",
           "Romantic comedy"
          ],
          [
           "Seriously Single",
           "Comedy"
          ],
          [
           "The Misadventures of Hedi and Cokeman",
           "Comedy"
          ],
          [
           "5 Star Christmas",
           "Comedy"
          ],
          [
           "After Maria",
           "Documentary"
          ],
          [
           "I Am the Pretty Thing That Lives in the House",
           "Horror"
          ],
          [
           "Paris Is Us",
           "Romance drama"
          ],
          [
           "Porta dos Fundos: The First Temptation of Christ",
           "Comedy"
          ],
          [
           "Rattlesnake",
           "Horror"
          ],
          [
           "The Players",
           "Comedy"
          ],
          [
           "We Are One",
           "Documentary"
          ],
          [
           "Finding Agnes",
           "Drama"
          ],
          [
           "IO",
           "Science fiction/Drama"
          ],
          [
           "Sentinelle",
           "Action"
          ],
          [
           "Sol Levante",
           "Anime / Short"
          ],
          [
           "The Binding",
           "Drama"
          ],
          [
           "We Can Be Heroes",
           "Superhero"
          ],
          [
           "Christmas Crossfire",
           "Thriller"
          ],
          [
           "Coin Heist",
           "Heist"
          ],
          [
           "Mrs. Serial Killer",
           "Thriller"
          ],
          [
           "Nobody Sleeps in the Woods Tonight",
           "Horror"
          ],
          [
           "Take the 10",
           "Comedy"
          ],
          [
           "The Main Event",
           "Comedy"
          ],
          [
           "The Ridiculous 6",
           "Western"
          ],
          [
           "Earth and Blood",
           "Action"
          ],
          [
           "Fearless",
           "Animation/Superhero"
          ],
          [
           "Holiday Rush",
           "Family film"
          ],
          [
           "The Day of the Lord",
           "Drama"
          ],
          [
           "Airplane Mode",
           "Comedy"
          ],
          [
           "How It Ends",
           "Action-thriller"
          ],
          [
           "Love Like the Falling Rain",
           "Drama"
          ],
          [
           "Rebirth",
           "Thriller"
          ],
          [
           "Squared Love",
           "Romantic comedy"
          ],
          [
           "Cadaver",
           "Horror"
          ],
          [
           "Clinical",
           "Thriller"
          ],
          [
           "Coffee & Kareem",
           "Action comedy"
          ],
          [
           "Dude",
           "Teen comedy-drama"
          ],
          [
           "Geez & Ann",
           "Romantic drama"
          ],
          [
           "The Larva Island Movie",
           "Animation"
          ],
          [
           "#REALITYHIGH",
           "Comedy"
          ],
          [
           "American Factory: A Conversation with the Obamas ",
           "Aftershow / Interview"
          ],
          [
           "Desperados",
           "Romantic comedy"
          ],
          [
           "Dolly Parton's Christmas on the Square",
           "Christmas musical"
          ],
          [
           "Father of the Year",
           "Comedy"
          ],
          [
           "Firebrand",
           "Drama"
          ],
          [
           "Ghost Lab",
           "Horror"
          ],
          [
           "Girlfriend's Day",
           "Comedy"
          ],
          [
           "Handsome: A Netflix Mystery Movie",
           "Comedy"
          ],
          [
           "Hubie Halloween",
           "Comedy"
          ],
          [
           "Ibiza",
           "Comedy"
          ],
          [
           "Rim of the World",
           "Science fiction adventure"
          ],
          [
           "Sandy Wexler",
           "Comedy"
          ],
          [
           "See You Yesterday",
           "Science fiction"
          ],
          [
           "Still Laugh-In: The Stars Celebrate",
           "Variety show"
          ],
          [
           "Strip Down, Rise Up",
           "Documentary"
          ],
          [
           "Tall Girl",
           "Comedy-drama"
          ],
          [
           "The Beast",
           "Drama"
          ],
          [
           "The Week Of",
           "Comedy"
          ],
          [
           "A Christmas Prince: The Royal Wedding",
           "Romantic comedy"
          ],
          [
           "Back to School",
           "Comedy"
          ],
          [
           "Dangerous Lies",
           "Thriller"
          ],
          [
           "Gunjan Saxena: The Kargil Girl",
           "Drama"
          ],
          [
           "Intuition",
           "Thriller"
          ],
          [
           "The Most Assassinated Woman in the World",
           "Thriller"
          ],
          [
           "Things Heard & Seen",
           "Horror"
          ],
          [
           "To Each, Her Own",
           "Romantic comedy"
          ],
          [
           "Who Would You Take to a Deserted Island?",
           "Drama"
          ],
          [
           "XOXO",
           "Drama"
          ],
          [
           "A Babysitter's Guide to Monster Hunting",
           "Comedy/Fantasy/Family"
          ],
          [
           "A Christmas Prince: The Royal Baby",
           "Romantic comedy"
          ],
          [
           "Despite Everything",
           "Comedy"
          ],
          [
           "Dolly Kitty and Those Twinkling Stars",
           "Drama"
          ],
          [
           "Freaks: You're One of Us",
           "Supernatural drama"
          ],
          [
           "Game Over, Man!",
           "Action/Comedy"
          ],
          [
           "Guilty",
           "Thriller"
          ],
          [
           "In the Tall Grass",
           "Horror"
          ],
          [
           "Madame Claude",
           "Drama"
          ],
          [
           "Naked",
           "Comedy"
          ],
          [
           "Outside the Wire",
           "Action/Science fiction"
          ],
          [
           "The Princess Switch: Switched Again",
           "Romantic comedy"
          ],
          [
           "Under the Riccione Sun",
           "Romantic teenage drama"
          ],
          [
           "A Very Murray Christmas",
           "Comedy / Musical"
          ],
          [
           "Been So Long",
           "Musical"
          ],
          [
           "Dead Kids",
           "Thriller"
          ],
          [
           "Get the Grift",
           "Comedy"
          ],
          [
           "Ghosts of Sugar Land",
           "Documentary"
          ],
          [
           "House Arrest",
           "Comedy"
          ],
          [
           "Kevin Hart's Guide to Black History",
           "Variety show"
          ],
          [
           "Love Wedding Repeat",
           "Romantic comedy"
          ],
          [
           "Mute",
           "Science fiction/Mystery"
          ],
          [
           "Òlòt?ré",
           "Crime drama"
          ],
          [
           "Red Dot",
           "Thriller"
          ],
          [
           "Ride or Die",
           "Psychological thriller drama"
          ],
          [
           "Step Sisters",
           "Comedy"
          ],
          [
           "The Cloverfield Paradox",
           "Science fiction"
          ],
          [
           "The Knight Before Christmas",
           "Romantic comedy"
          ],
          [
           "The Legacy of a Whitetail Deer Hunter",
           "Adventure/Comedy"
          ],
          [
           "The Package",
           "Black comedy"
          ],
          [
           "Unicorn Store",
           "Comedy"
          ],
          [
           "Wine Country",
           "Comedy"
          ],
          [
           "Bomb Scared",
           "Black comedy"
          ],
          [
           "Brahman Naman",
           "Comedy"
          ],
          [
           "Double Dad",
           "Comedy-drama"
          ],
          [
           "Falling Inn Love",
           "Romantic comedy"
          ],
          [
           "Hold the Dark",
           "Thriller"
          ],
          [
           "Love, Guaranteed",
           "Romantic comedy"
          ],
          [
           "One-Way to Tomorrow",
           "Romance"
          ],
          [
           "Sarah Cooper: Everything's Fine",
           "Variety show"
          ],
          [
           "The Last Laugh",
           "Comedy-drama"
          ],
          [
           "The Last Paradiso",
           "Romantic drama"
          ],
          [
           "The Midnight Sky",
           "Science fiction"
          ],
          [
           "The Paramedic",
           "Thriller"
          ],
          [
           "The Sleepover",
           "Comedy"
          ],
          [
           "Vampires vs. the Bronx",
           "Horror comedy"
          ],
          [
           "Why Did You Kill Me?",
           "Documentary"
          ],
          [
           "A Week Away",
           "Christian musical"
          ],
          [
           "Caught by a Wave",
           "Romantic teen drama"
          ],
          [
           "Christmas Inheritance",
           "Romantic drama"
          ],
          [
           "Dad Wanted",
           "Family"
          ],
          [
           "El Camino Christmas",
           "Dark comedy"
          ],
          [
           "Eli",
           "Horror"
          ],
          [
           "Ginny Weds Sunny",
           "Romantic comedy"
          ],
          [
           "Good Sam",
           "Drama"
          ],
          [
           "Lionheart",
           "Comedy"
          ],
          [
           "Little Evil",
           "Comedy horror"
          ],
          [
           "One Take",
           "Documentary"
          ],
          [
           "Out of Many, One",
           "Documentary"
          ],
          [
           "Point Blank",
           "Action"
          ],
          [
           "Prime Time",
           "Thriller"
          ],
          [
           "The Do-Over",
           "Action comedy"
          ],
          [
           "The Holiday Calendar",
           "Romantic comedy"
          ],
          [
           "The Woman in the Window",
           "Psychological thriller"
          ],
          [
           "The Wrong Missy",
           "Comedy"
          ],
          [
           "Velvet Buzzsaw",
           "Thriller"
          ],
          [
           "Yes Day",
           "Comedy"
          ],
          [
           "15 August",
           "Comedy-drama"
          ],
          [
           "A California Christmas",
           "Romantic comedy"
          ],
          [
           "A Christmas Prince",
           "Romantic comedy"
          ],
          [
           "All Day and a Night",
           "Drama"
          ],
          [
           "American Son",
           "Drama"
          ],
          [
           "Barry",
           "Biopic"
          ],
          [
           "Candy Jar",
           "Comedy"
          ],
          [
           "Choked: Paisa Bolta Hai",
           "Drama"
          ],
          [
           "Class of '83",
           "Drama"
          ],
          [
           "Extinction",
           "Science fiction/Thriller"
          ],
          [
           "Happy Anniversary",
           "Romantic comedy"
          ],
          [
           "I Am All Girls",
           "Thriller"
          ],
          [
           "Let It Snow",
           "Romantic comedy"
          ],
          [
           "Mascots",
           "Mockumentary"
          ],
          [
           "Operation Christmas Drop",
           "Romantic comedy"
          ],
          [
           "Rajma Chawal",
           "Comedy-drama"
          ],
          [
           "Rich in Love",
           "Romantic comedy"
          ],
          [
           "Rising High",
           "Satire"
          ],
          [
           "Rodney King",
           "One-man show"
          ],
          [
           "Sierra Burgess Is a Loser",
           "Romantic comedy-drama"
          ],
          [
           "Small Crimes",
           "Dark comedy"
          ],
          [
           "Special Correspondents",
           "Satire"
          ],
          [
           "TAU",
           "Science fiction/Thriller"
          ],
          [
           "The After Party",
           "Comedy"
          ],
          [
           "The Babysitter: Killer Queen",
           "Comedy/Horror"
          ],
          [
           "The Claus Family",
           "Fantasy"
          ],
          [
           "The Kissing Booth 2",
           "Romantic comedy"
          ],
          [
           "The Perfect Date",
           "Romantic comedy"
          ],
          [
           "What We Wanted",
           "Drama"
          ],
          [
           "You've Got This",
           "Romantic comedy"
          ],
          [
           "6 Balloons",
           "Drama"
          ],
          [
           "A Fall from Grace",
           "Thriller"
          ],
          [
           "Amateur",
           "Sports-drama"
          ],
          [
           "Army of the Dead",
           "Zombie/Heist"
          ],
          [
           "Cam",
           "Psychological horror"
          ],
          [
           "Earthquake Bird",
           "Mystery"
          ],
          [
           "Frankenstein's Monster's Monster, Frankenstein",
           "Mockumentary"
          ],
          [
           "Horse Girl",
           "Drama"
          ],
          [
           "Notes from Dunblane: Lesson from a School Shooting",
           "Documentary"
          ],
          [
           "Maska",
           "Romantic comedy"
          ],
          [
           "The Decline",
           "Thriller"
          ],
          [
           "The Minimalists: Less Is Now",
           "Documentary"
          ],
          [
           "The Polka King",
           "Comedy-drama"
          ],
          [
           "The Prom",
           "Musical"
          ],
          [
           "True Memoirs of an International Assassin",
           "Action comedy"
          ],
          [
           "Ultras",
           "Sports film"
          ],
          [
           "Come Sunday",
           "Biopic"
          ],
          [
           "Forgive Us Our Debts",
           "Drama"
          ],
          [
           "iBoy",
           "Science fiction/Thriller"
          ],
          [
           "Lovefucked",
           "Drama"
          ],
          [
           "Juanita",
           "Drama"
          ],
          [
           "Murder Mystery",
           "Comedy mystery"
          ],
          [
           "Project Power",
           "Superhero"
          ],
          [
           "Rebecca",
           "Romantic thriller"
          ],
          [
           "The Christmas Chronicles: Part Two",
           "Christmas comedy"
          ],
          [
           "The Kissing Booth",
           "Romantic comedy"
          ],
          [
           "The Princess Switch",
           "Romantic comedy"
          ],
          [
           "To All the Boys: P.S. I Still Love You",
           "Romantic comedy"
          ],
          [
           "War Machine",
           "War-Comedy"
          ],
          [
           "6 Underground",
           "Action"
          ],
          [
           "Between Two Ferns: The Movie",
           "Comedy"
          ],
          [
           "Burning Sands",
           "Drama"
          ],
          [
           "Casting JonBenet",
           "Documentary"
          ],
          [
           "Deidra & Laney Rob a Train",
           "Drama"
          ],
          [
           "Finding 'Ohana",
           "Family"
          ],
          [
           "Holidate",
           "Romantic comedy/Holiday"
          ],
          [
           "Holiday in the Wild",
           "Adventure-romance"
          ],
          [
           "Hot Girls Wanted",
           "Documentary"
          ],
          [
           "Like Father",
           "Comedy"
          ],
          [
           "Lost Girls",
           "Crime drama"
          ],
          [
           "Otherhood",
           "Comedy"
          ],
          [
           "Pee-wee's Big Holiday",
           "Adventure"
          ],
          [
           "Rogue City",
           "Crime drama"
          ],
          [
           "Sergio",
           "Biopic"
          ],
          [
           "Stuck Apart",
           "Drama"
          ],
          [
           "Tersanjung the Movie",
           "Drama"
          ],
          [
           "The Killer",
           "Western"
          ],
          [
           "The Lovebirds",
           "Romantic comedy"
          ],
          [
           "The Most Hated Woman in America",
           "Biopic"
          ],
          [
           "The Perfection",
           "Horror-thriller"
          ],
          [
           "Tribhanga  Tedhi Medhi Crazy",
           "Drama"
          ],
          [
           "Unknown Origins",
           "Thriller"
          ],
          [
           "Work It",
           "Dance comedy"
          ],
          [
           "Alien Xmas",
           "Stop Motion"
          ],
          [
           "Baggio: The Divine Ponytail",
           "Biopic"
          ],
          [
           "Below Zero",
           "Drama"
          ],
          [
           "Citation",
           "Drama"
          ],
          [
           "Crazy Awesome Teachers",
           "Comedy-drama"
          ],
          [
           "Have You Ever Seen Fireflies?",
           "Comedy"
          ],
          [
           "High Flying Bird",
           "Sports-drama"
          ],
          [
           "In the Shadow of the Moon",
           "Thriller"
          ],
          [
           "Lost Bullet",
           "Thriller"
          ],
          [
           "Octonauts & the Caves of Sac Actun",
           "Animation"
          ],
          [
           "Offering to the Storm",
           "Thriller"
          ],
          [
           "Roxanne Roxanne",
           "Biopic"
          ],
          [
           "Someone Great",
           "Romantic comedy"
          ],
          [
           "Spenser Confidential",
           "Action comedy"
          ],
          [
           "The Land of Steady Habits",
           "Drama"
          ],
          [
           "The Rachel Divide",
           "Documentary"
          ],
          [
           "Voyuer ",
           "Documentary"
          ],
          [
           "Win It All",
           "Comedy"
          ],
          [
           "1922",
           "Horror/Crime drama"
          ],
          [
           "A Tale of Two Kitchens",
           "Documentary"
          ],
          [
           "Alex Strangelove",
           "Romantic comedy"
          ],
          [
           "Apostle",
           "Horror-thriller"
          ],
          [
           "Benji",
           "Family film"
          ],
          [
           "Bright",
           "Urban fantasy"
          ],
          [
           "Cargo",
           "Drama/Horror"
          ],
          [
           "Concrete Cowboy",
           "Drama"
          ],
          [
           "Feel the Beat",
           "Family/Comedy-drama"
          ],
          [
           "Get the Goat",
           "Comedy"
          ],
          [
           "I Am Not an Easy Man",
           "Romantic comedy"
          ],
          [
           "June & Kopi",
           "Drama"
          ],
          [
           "Music Teacher",
           "Drama"
          ],
          [
           "Nail Bomber: Manhunt",
           "Documentary"
          ],
          [
           "Notes for My Son",
           "Drama"
          ],
          [
           "Polar",
           "Action"
          ],
          [
           "Porta dos Fundos: The Last Hangover",
           "Comedy"
          ],
          [
           "Sand Castle",
           "War"
          ],
          [
           "Shimmer Lake",
           "Crime thriller"
          ],
          [
           "Spectral",
           "Science fiction/Action"
          ],
          [
           "The Babysitter",
           "Teen comedy horror"
          ],
          [
           "The Discovery",
           "Science fiction/Drama"
          ],
          [
           "The Forest of Love",
           "Drama"
          ],
          [
           "The Laundromat",
           "Comedy-drama"
          ],
          [
           "The Legend of Cocaine Island",
           "Documentary"
          ],
          [
           "The Outsider",
           "Crime drama"
          ],
          [
           "Time to Hunt",
           "Thriller"
          ],
          [
           "To All the Boys: Always and Forever",
           "Romantic comedy"
          ],
          [
           "Travis Scott: Look Mom I Can Fly",
           "Documentary"
          ],
          [
           "Uncorked",
           "Drama"
          ],
          [
           "Anelka: Misunderstood",
           "Documentary"
          ],
          [
           "Ariana Grande: Excuse Me, I Love You",
           "Concert Film"
          ],
          [
           "ARQ",
           "Science fiction/Thriller"
          ],
          [
           "Birders",
           "Documentary"
          ],
          [
           "Como Caído del Cielo",
           "Musical comedy"
          ],
          [
           "First Match",
           "Sports-drama"
          ],
          [
           "Fractured",
           "Thriller"
          ],
          [
           "Irreplaceable You",
           "Drama"
          ],
          [
           "Isi & Ossi",
           "Romantic comedy"
          ],
          [
           "John Was Trying to Contact Aliens",
           "Documentary"
          ],
          [
           "Layla Majnun",
           "Romantic drama"
          ],
          [
           "Murder to Mercy: The Cyntoia Brown Story",
           "Documentary"
          ],
          [
           "My Own Man",
           "Documentary"
          ],
          [
           "Nappily Ever After",
           "Comedy-drama"
          ],
          [
           "Over the Moon",
           "Animation/Musical/Adventure"
          ],
          [
           "Street Flow",
           "Drama"
          ],
          [
           "Strong Island",
           "Documentary"
          ],
          [
           "Sturgill Simpson Presents: Sound & Fury",
           "Animation / Musicial"
          ],
          [
           "Take Your Pills",
           "Documentary"
          ],
          [
           "The Heartbreak Club",
           "Comedy-drama"
          ],
          [
           "The Mars Generation",
           "Documentary"
          ],
          [
           "The Occupant",
           "Thriller"
          ],
          [
           "The Willoughbys",
           "Animation/Comedy/Adventure"
          ],
          [
           "Triple Frontier",
           "Action-thriller"
          ],
          [
           "Two Catalonias",
           "Documentary"
          ],
          [
           "Walk. Ride. Rodeo.",
           "Drama"
          ],
          [
           "Wheelman",
           "Action thriller"
          ],
          [
           "When We First Met",
           "Romantic comedy"
          ],
          [
           "A 3 Minute Hug",
           "Documentary"
          ],
          [
           "All the Bright Places",
           "Romance"
          ],
          [
           "All Together Now",
           "Drama"
          ],
          [
           "Altered Carbon: Resleeved",
           "Anime/Science fiction"
          ],
          [
           "Antoine Griezmann: The Making of a Legend",
           "Documentary"
          ],
          [
           "Canvas ",
           "Animation / Short"
          ],
          [
           "Chadwick Boseman: Portrait of an Artist",
           "Documentary"
          ],
          [
           "Chopsticks",
           "Comedy"
          ],
          [
           "Da 5 Bloods",
           "War drama"
          ],
          [
           "Dolly Parton: A MusiCares Tribute",
           "Documentary"
          ],
          [
           "Eurovision Song Contest: The Story of Fire Saga",
           "Musical comedy"
          ],
          [
           "Gerald's Game",
           "Horror thriller"
          ],
          [
           "His House",
           "Thriller"
          ],
          [
           "Jingle Jangle: A Christmas Journey",
           "Family/Christmas musical"
          ],
          [
           "Life Overtakes Me",
           "Documentary"
          ],
          [
           "Lust Stories",
           "Drama"
          ],
          [
           "Monster",
           "Drama"
          ],
          [
           "Mowgli: Legend of the Jungle",
           "Adventure"
          ],
          [
           "Nobody Knows I'm Here",
           "Drama"
          ],
          [
           "Nobody Speak: Trials of the Free Press",
           "Documentary"
          ],
          [
           "Oxygen",
           "Science fiction thriller"
          ],
          [
           "Set It Up",
           "Romantic comedy"
          ],
          [
           "The Incredible Jessica James",
           "Comedy"
          ],
          [
           "Tigertail",
           "Drama"
          ],
          [
           "Tramps",
           "Romance"
          ],
          [
           "What Did Jack Do?",
           "Drama / Short"
          ],
          [
           "Bad Trip",
           "Hidden-camera prank comedy"
          ],
          [
           "Bird Box",
           "Psychological thriller"
          ],
          [
           "Bulbbul",
           "Horror"
          ],
          [
           "Crazy About Her",
           "Romantic comedy"
          ],
          [
           "Elisa & Marcela",
           "Romance"
          ],
          [
           "I'll Sleep When I'm Dead",
           "Documentary"
          ],
          [
           "I'm Thinking of Ending Things",
           "Psychological thriller"
          ],
          [
           "It Takes a Lunatic",
           "Documentary"
          ],
          [
           "Milestone",
           "Drama"
          ],
          [
           "Recovery Boys",
           "Documentary"
          ],
          [
           "ReMastered: Who Killed Jam Master Jay?",
           "Documentary"
          ],
          [
           "Shawn Mendes: In Wonder",
           "Documentary"
          ],
          [
           "Space Sweepers",
           "Science fiction"
          ],
          [
           "The American Meme",
           "Documentary"
          ],
          [
           "The Angel",
           "Spy thriller"
          ],
          [
           "The Crimes That Bind",
           "Crime drama"
          ],
          [
           "The Red Sea Diving Resort",
           "Spy thriller"
          ],
          [
           "What Would Sophia Loren Do?",
           "Documentary"
          ],
          [
           "A Whisker Away",
           "Anime/Fantasy"
          ],
          [
           "Ajeeb Daastaans",
           "Drama"
          ],
          [
           "Arlo the Alligator Boy",
           "Animated musical comedy"
          ],
          [
           "Bikram: Yogi, Guru, Predator",
           "Documentary"
          ],
          [
           "Blame!",
           "Anime/Science fiction"
          ],
          [
           "Blue Miracle",
           "Drama"
          ],
          [
           "CounterPunch ",
           "Documentary"
          ],
          [
           "Crack: Cocaine, Corruption & Conspiracy",
           "Documentary"
          ],
          [
           "Extraction",
           "Action"
          ],
          [
           "Giving Voice",
           "Documentary"
          ],
          [
           "Hillbilly Elegy",
           "Drama"
          ],
          [
           "Hope Frozen: A Quest to Live Twice",
           "Documentary"
          ],
          [
           "Imperial Dreams",
           "Drama"
          ],
          [
           "Just Another Christmas",
           "Comedy"
          ],
          [
           "Little Miss Sumo",
           "Documentary"
          ],
          [
           "Malcolm & Marie",
           "Romantic drama"
          ],
          [
           "Michael Bolton's Big, Sexy, Valentine's Day Special",
           "Variety Show"
          ],
          [
           "Moxie",
           "Drama"
          ],
          [
           "Night in Paradise",
           "Drama"
          ],
          [
           "Paper Lives",
           "Drama"
          ],
          [
           "Parchis: The Documentary",
           "Documentary"
          ],
          [
           "Tallulah",
           "Comedy-drama"
          ],
          [
           "The Old Guard",
           "Superhero/Action"
          ],
          [
           "Tony Robbins: I Am Not Your Guru",
           "Documentary"
          ],
          [
           "Upstarts",
           "Drama"
          ],
          [
           "22 July",
           "Drama"
          ],
          [
           "7 años",
           "Drama"
          ],
          [
           "A Futile and Stupid Gesture",
           "Biographical/Comedy"
          ],
          [
           "A Life of Speed: The Juan Manuel Fangio Story",
           "Documentary"
          ],
          [
           "A Love Song for Latasha",
           "Documentary"
          ],
          [
           "All in My Family",
           "Documentary"
          ],
          [
           "Always Be My Maybe",
           "Romantic comedy"
          ],
          [
           "Becoming",
           "Documentary"
          ],
          [
           "Long Live Brij Mohan",
           "Comedy"
          ],
          [
           "Calibre",
           "Thriller"
          ],
          [
           "Death to 2020",
           "Comedy"
          ],
          [
           "GIMS: On the Record",
           "Documentary"
          ],
          [
           "Have a Good Trip: Adventures in Psychedelics",
           "Documentary"
          ],
          [
           "Heroin(e) ",
           "Documentary"
          ],
          [
           "Mercury 13",
           "Documentary"
          ],
          [
           "Saving Capitalism",
           "Documentary"
          ],
          [
           "Serious Men",
           "Drama"
          ],
          [
           "The Boys in the Band",
           "Drama"
          ],
          [
           "The Boys in the Band: Something Personal",
           "Aftershow / Interview"
          ],
          [
           "The Life Ahead",
           "Drama"
          ],
          [
           "The Other Side of the Wind",
           "Drama"
          ],
          [
           "The Trader",
           "Documentary"
          ],
          [
           "To the Bone",
           "Drama"
          ],
          [
           "Tony Parker: The Final Shot",
           "Documentary"
          ],
          [
           "AK vs AK",
           "Thriller"
          ],
          [
           "Amanda Knox",
           "Documentary"
          ],
          [
           "Bigflo & Oil: Hip Hop Frenzy",
           "Documentary"
          ],
          [
           "Biggie: I Got a Story to Tell",
           "Documentary"
          ],
          [
           "Cops and Robbers",
           "Animation / Short"
          ],
          [
           "I Don't Feel at Home in This World Anymore",
           "Drama"
          ],
          [
           "Laerte-se",
           "Documentary"
          ],
          [
           "Mank",
           "Biopic"
          ],
          [
           "Our Souls at Night",
           "Romance"
          ],
          [
           "Outlaw King",
           "Historical-epic"
          ],
          [
           "Pagglait",
           "Comedy-drama"
          ],
          [
           "ReMastered: Who Shot the Sheriff?",
           "Documentary"
          ],
          [
           "Seeing Allred",
           "Documentary"
          ],
          [
           "Spelling the Dream",
           "Documentary"
          ],
          [
           "The Claudia Kishi Club",
           "Documentary"
          ],
          [
           "The Half of It",
           "Romance"
          ],
          [
           "The Highwaymen",
           "Crime drama"
          ],
          [
           "The Lonely Island Presents: The Unauthorized Bash Brothers Experience",
           "Comedy / Musical"
          ],
          [
           "The Meyerowitz Stories (New and Selected)",
           "Comedy-drama"
          ],
          [
           "Feminists: What Were They Thinking?",
           "Documentary"
          ],
          [
           "Gaga: Five Foot Two",
           "Documentary"
          ],
          [
           "I'm No Longer Here: A Discussion with Guillermo del Toro and Alfonso Cuaron",
           "Aftershow / Interview"
          ],
          [
           "Kingdom of Us",
           "Documentary"
          ],
          [
           "Lorena, Light-Footed Woman",
           "Documentary"
          ],
          [
           "Los Tigres del Norte at Folsom Prison",
           "Documentary"
          ],
          [
           "Ma Rainey's Black Bottom",
           "Drama"
          ],
          [
           "Ma Rainey's Black Bottom: A Legacy Brought to Screen",
           "Aftershow / Interview"
          ],
          [
           "Operation Varsity Blues: The College Admissions Scandal",
           "Documentary"
          ],
          [
           "Pele",
           "Documentary"
          ],
          [
           "ReMastered: Devil at the Crossroads",
           "Documentary"
          ],
          [
           "ReMastered: The Lion's Share",
           "Documentary"
          ],
          [
           "ReMastered: The Miami Showband Massacre",
           "Documentary"
          ],
          [
           "Resurface",
           "Documentary"
          ],
          [
           "Rocko's Modern Life: Static Cling",
           "Animation / Comedy"
          ],
          [
           "Rose Island",
           "Comedy"
          ],
          [
           "The Christmas Chronicles",
           "Christmas/Fantasy/Adventure/Comedy"
          ],
          [
           "The Dirt",
           "Biopic"
          ],
          [
           "The Night Comes for Us",
           "Action-thriller"
          ],
          [
           "13th: A Conversation with Oprah Winfrey & Ava DuVernay",
           "Aftershow / Interview"
          ],
          [
           "Angela's Christmas",
           "Animation"
          ],
          [
           "Angela's Christmas Wish",
           "Animation"
          ],
          [
           "Beats",
           "Drama"
          ],
          [
           "Circus of Books",
           "Documentary"
          ],
          [
           "Dance Dreams: Hot Chocolate Nutcracker",
           "Documentary"
          ],
          [
           "Derren Brown: Sacrifice",
           "Mentalism special"
          ],
          [
           "El Pepe: A Supreme Life",
           "Documentary"
          ],
          [
           "End Game",
           "Documentary"
          ],
          [
           "Evelyn",
           "Documentary"
          ],
          [
           "Ferry",
           "Crime drama"
          ],
          [
           "Grass Is Greener",
           "Documentary"
          ],
          [
           "Guillermo Vilas: Settling the Score",
           "Documentary"
          ],
          [
           "Joshua: Teenager vs. Superpower",
           "Documentary"
          ],
          [
           "Keith Richards: Under the Influence",
           "Documentary"
          ],
          [
           "Knock Down the House",
           "Documentary"
          ],
          [
           "Loudon Wainwright III: Surviving Twin",
           "One-man show"
          ],
          [
           "My Beautiful Broken Brain",
           "Documentary"
          ],
          [
           "One of Us",
           "Documentary"
          ],
          [
           "Pieces of a Woman",
           "Drama"
          ],
          [
           "Ram Dass, Going Home",
           "Documentary"
          ],
          [
           "ReMastered: Tricky Dick & the Man in Black",
           "Documentary"
          ],
          [
           "Rooting for Roona",
           "Documentary"
          ],
          [
           "The Devil All the Time",
           "Psychological thriller"
          ],
          [
           "The Dig",
           "Drama"
          ],
          [
           "The Great Hack",
           "Documentary"
          ],
          [
           "The White Tiger",
           "Drama"
          ],
          [
           "To All the Boys I've Loved Before",
           "Romantic comedy"
          ],
          [
           "American Murder: The Family Next Door",
           "Documentary"
          ],
          [
           "Audrie & Daisy",
           "Documentary"
          ],
          [
           "First They Killed My Father",
           "Drama"
          ],
          [
           "Fyre: The Greatest Party That Never Happened",
           "Documentary"
          ],
          [
           "Into the Inferno",
           "Documentary"
          ],
          [
           "LA Originals",
           "Documentary"
          ],
          [
           "Ladies First",
           "Documentary"
          ],
          [
           "Love per Square Foot",
           "Romantic comedy"
          ],
          [
           "Paddleton",
           "Drama-Comedy"
          ],
          [
           "Private Life",
           "Drama"
          ],
          [
           "Seventeen",
           "Coming-of-age comedy-drama"
          ],
          [
           "Sometimes",
           "Drama"
          ],
          [
           "Soni",
           "Crime drama"
          ],
          [
           "The 40-Year-Old Version",
           "Comedy"
          ],
          [
           "The Disciple",
           "Drama"
          ],
          [
           "The Edge of Democracy",
           "Documentary"
          ],
          [
           "The King",
           "Historical drama"
          ],
          [
           "The Road to El Camino: A Breaking Bad Movie",
           "Making-of"
          ],
          [
           "The Siege of Jadotville",
           "War"
          ],
          [
           "Zion ",
           "Documentary"
          ],
          [
           "Dolemite Is My Name",
           "Biopic"
          ],
          [
           "El Camino: A Breaking Bad Movie",
           "Crime drama"
          ],
          [
           "Extremis",
           "Documentary"
          ],
          [
           "Father Soldier Son",
           "Documentary"
          ],
          [
           "Get Me Roger Stone",
           "Documentary"
          ],
          [
           "I'm No Longer Here",
           "Drama"
          ],
          [
           "Mucho Mucho Amor: The Legend of Walter Mercado ",
           "Documentary"
          ],
          [
           "Octonauts & the Great Barrier Reef",
           "Animation"
          ],
          [
           "Okja",
           "Action-adventure"
          ],
          [
           "On My Skin",
           "Crime drama"
          ],
          [
           "Raat Akeli Hai",
           "Thriller"
          ],
          [
           "ReMastered: Massacre at the Stadium",
           "Documentary"
          ],
          [
           "ReMastered: The Two Killings of Sam Cooke",
           "Documentary"
          ],
          [
           "Secrets of the Saqqara Tomb",
           "Documentary"
          ],
          [
           "Sitara: Let Girls Dream",
           "Animation / Short"
          ],
          [
           "Sky Ladder: The Art of Cai Guo-Qiang",
           "Documentary"
          ],
          [
           "Team Foxcatcher",
           "Documentary"
          ],
          [
           "The Ballad of Buster Scruggs",
           "Western"
          ],
          [
           "The Death and Life of Marsha P. Johnson",
           "Documentary"
          ],
          [
           "The Fundamentals of Caring",
           "Comedy-drama"
          ],
          [
           "The Other One: The Long Strange Trip of Bob Weir",
           "Documentary"
          ],
          [
           "American Factory",
           "Documentary"
          ],
          [
           "Fire in Paradise",
           "Documentary"
          ],
          [
           "Long Shot",
           "Documentary"
          ],
          [
           "Miss Americana",
           "Documentary"
          ],
          [
           "Period. End of Sentence.",
           "Documentary"
          ],
          [
           "Shawn Mendes: Live in Concert",
           "Concert Film"
          ],
          [
           "Shirkers",
           "Documentary"
          ],
          [
           "The Black Godfather",
           "Documentary"
          ],
          [
           "The Irishman: In Conversation",
           "Aftershow / Interview"
          ],
          [
           "The Speed Cubers",
           "Documentary"
          ],
          [
           "They'll Love Me When I'm Dead",
           "Documentary"
          ],
          [
           "Tig",
           "Documentary"
          ],
          [
           "Barbra: The Music, The Mem'ries, The Magic!",
           "Concert Film"
          ],
          [
           "Blackpink: Light Up the Sky",
           "Documentary"
          ],
          [
           "City of Joy",
           "Documentary"
          ],
          [
           "Dick Johnson Is Dead",
           "Documentary"
          ],
          [
           "Homecoming: A Film by Beyonce ",
           "Documentary"
          ],
          [
           "Invader Zim: Enter the Florpus",
           "Animation / Science Fiction"
          ],
          [
           "Joan Didion: The Center Will Not Hold",
           "Documentary"
          ],
          [
           "John Mulaney & the Sack Lunch Bunch",
           "Variety show"
          ],
          [
           "Reversing Roe",
           "Documentary"
          ],
          [
           "The White Helmets",
           "Documentary"
          ],
          [
           "Athlete A",
           "Documentary"
          ],
          [
           "Ludo",
           "Anthology/Dark comedy"
          ],
          [
           "Quincy",
           "Documentary"
          ],
          [
           "Rolling Thunder Revue: A bob Dylan Story by Martin Scorsere",
           "Documentary"
          ],
          [
           "Tell Me Who I Am",
           "Documentary"
          ],
          [
           "The Bleeding Edge",
           "Documentary"
          ],
          [
           "The Social Dilemma",
           "Documentary"
          ],
          [
           "The Two Popes",
           "Drama"
          ],
          [
           "What Happened, Miss Simone?",
           "Documentary"
          ],
          [
           "Yeh Ballet",
           "Drama"
          ],
          [
           "Anima",
           "Musical / Short"
          ],
          [
           "Beasts of No Nation",
           "War drama"
          ],
          [
           "Brene Brown: The Call to Courage",
           "Documentary"
          ],
          [
           "Crip Camp: A Disability Revolution",
           "Documentary"
          ],
          [
           "Jim & Andy: The Great Beyond - Featuring a Very Special, Contractually Obligated Mention of Tony Cliffton ",
           "Documentary"
          ],
          [
           "Justin Timberlake + The Tennessee Kids",
           "Concert Film"
          ],
          [
           "Road to Roma",
           "Making-of"
          ],
          [
           "Roma",
           "Drama"
          ],
          [
           "If Anything Happens I Love You",
           "Animation / Short"
          ],
          [
           "The Irishman",
           "Crime drama"
          ],
          [
           "The Trial of the Chicago 7",
           "Drama"
          ],
          [
           "A Secret Love",
           "Documentary"
          ],
          [
           "Icarus",
           "Documentary"
          ],
          [
           "Marriage Story",
           "Drama"
          ],
          [
           "The Ivory Game",
           "Documentary"
          ],
          [
           "Struggle: The Life and Lost Art of Szukaiski",
           "Documentary"
          ],
          [
           "Chasing Coral ",
           "Documentary"
          ],
          [
           "My Octopus Teacher",
           "Documentary"
          ],
          [
           "Rising Phoenix",
           "Documentary"
          ],
          [
           "13th",
           "Documentary"
          ],
          [
           "Disclosure: Trans Lives on Screen",
           "Documentary"
          ],
          [
           "Klaus",
           "Animation/Christmas/Comedy/Adventure"
          ],
          [
           "Seaspiracy",
           "Documentary"
          ],
          [
           "The Three Deaths of Marisela Escobedo",
           "Documentary"
          ],
          [
           "Cuba and the Cameraman ",
           "Documentary"
          ],
          [
           "Dancing with the Birds",
           "Documentary"
          ],
          [
           "Ben Platt: Live from Radio City Music Hall",
           "Concert Film"
          ],
          [
           "Taylor Swift: Reputation Stadium Tour",
           "Concert Film"
          ],
          [
           "Winter on Fire: Ukraine's Fight for Freedom",
           "Documentary"
          ],
          [
           "Springsteen on Broadway",
           "One-man show"
          ],
          [
           "Emicida: AmarElo - It's All For Yesterday",
           "Documentary"
          ],
          [
           "David Attenborough: A Life on Our Planet",
           "Documentary"
          ]
         ],
         "hovertemplate": "IMDB Score=%{x}<br>Runtime=%{y}<br>Title=%{customdata[0]}<br>Genre=%{customdata[1]}<extra></extra>",
         "legendgroup": "",
         "marker": {
          "color": "#636efa",
          "symbol": "circle"
         },
         "mode": "markers",
         "name": "",
         "orientation": "v",
         "showlegend": false,
         "type": "scatter",
         "x": [
          2.5,
          2.6,
          2.6,
          3.2,
          3.4,
          3.5,
          3.7,
          3.7,
          3.9,
          4.1,
          4.1,
          4.1,
          4.1,
          4.2,
          4.2,
          4.3,
          4.3,
          4.3,
          4.3,
          4.4,
          4.4,
          4.4,
          4.4,
          4.4,
          4.4,
          4.5,
          4.5,
          4.5,
          4.5,
          4.6,
          4.6,
          4.6,
          4.6,
          4.6,
          4.6,
          4.6,
          4.6,
          4.7,
          4.7,
          4.7,
          4.7,
          4.7,
          4.7,
          4.8,
          4.8,
          4.8,
          4.8,
          4.8,
          4.8,
          4.8,
          4.9,
          4.9,
          4.9,
          4.9,
          5,
          5,
          5,
          5,
          5,
          5.1,
          5.1,
          5.1,
          5.1,
          5.1,
          5.1,
          5.2,
          5.2,
          5.2,
          5.2,
          5.2,
          5.2,
          5.2,
          5.2,
          5.2,
          5.2,
          5.2,
          5.2,
          5.2,
          5.2,
          5.2,
          5.2,
          5.2,
          5.2,
          5.2,
          5.3,
          5.3,
          5.3,
          5.3,
          5.3,
          5.3,
          5.3,
          5.3,
          5.3,
          5.3,
          5.4,
          5.4,
          5.4,
          5.4,
          5.4,
          5.4,
          5.4,
          5.4,
          5.4,
          5.4,
          5.4,
          5.4,
          5.4,
          5.5,
          5.5,
          5.5,
          5.5,
          5.5,
          5.5,
          5.5,
          5.5,
          5.5,
          5.5,
          5.5,
          5.5,
          5.5,
          5.5,
          5.5,
          5.5,
          5.5,
          5.5,
          5.5,
          5.6,
          5.6,
          5.6,
          5.6,
          5.6,
          5.6,
          5.6,
          5.6,
          5.6,
          5.6,
          5.6,
          5.6,
          5.6,
          5.6,
          5.6,
          5.7,
          5.7,
          5.7,
          5.7,
          5.7,
          5.7,
          5.7,
          5.7,
          5.7,
          5.7,
          5.7,
          5.7,
          5.7,
          5.7,
          5.7,
          5.7,
          5.7,
          5.7,
          5.7,
          5.7,
          5.8,
          5.8,
          5.8,
          5.8,
          5.8,
          5.8,
          5.8,
          5.8,
          5.8,
          5.8,
          5.8,
          5.8,
          5.8,
          5.8,
          5.8,
          5.8,
          5.8,
          5.8,
          5.8,
          5.8,
          5.8,
          5.8,
          5.8,
          5.8,
          5.8,
          5.8,
          5.8,
          5.8,
          5.8,
          5.8,
          5.9,
          5.9,
          5.9,
          5.9,
          5.9,
          5.9,
          5.9,
          5.9,
          5.9,
          5.9,
          5.9,
          5.9,
          5.9,
          5.9,
          5.9,
          5.9,
          6,
          6,
          6,
          6,
          6,
          6,
          6,
          6,
          6,
          6,
          6,
          6,
          6,
          6.1,
          6.1,
          6.1,
          6.1,
          6.1,
          6.1,
          6.1,
          6.1,
          6.1,
          6.1,
          6.1,
          6.1,
          6.1,
          6.1,
          6.1,
          6.1,
          6.1,
          6.1,
          6.1,
          6.1,
          6.1,
          6.1,
          6.1,
          6.1,
          6.2,
          6.2,
          6.2,
          6.2,
          6.2,
          6.2,
          6.2,
          6.2,
          6.2,
          6.2,
          6.2,
          6.2,
          6.2,
          6.2,
          6.2,
          6.2,
          6.2,
          6.2,
          6.3,
          6.3,
          6.3,
          6.3,
          6.3,
          6.3,
          6.3,
          6.3,
          6.3,
          6.3,
          6.3,
          6.3,
          6.3,
          6.3,
          6.3,
          6.3,
          6.3,
          6.3,
          6.3,
          6.3,
          6.3,
          6.3,
          6.3,
          6.3,
          6.3,
          6.3,
          6.3,
          6.3,
          6.3,
          6.3,
          6.4,
          6.4,
          6.4,
          6.4,
          6.4,
          6.4,
          6.4,
          6.4,
          6.4,
          6.4,
          6.4,
          6.4,
          6.4,
          6.4,
          6.4,
          6.4,
          6.4,
          6.4,
          6.4,
          6.4,
          6.4,
          6.4,
          6.4,
          6.4,
          6.4,
          6.4,
          6.4,
          6.4,
          6.5,
          6.5,
          6.5,
          6.5,
          6.5,
          6.5,
          6.5,
          6.5,
          6.5,
          6.5,
          6.5,
          6.5,
          6.5,
          6.5,
          6.5,
          6.5,
          6.5,
          6.5,
          6.5,
          6.5,
          6.5,
          6.5,
          6.5,
          6.5,
          6.5,
          6.5,
          6.6,
          6.6,
          6.6,
          6.6,
          6.6,
          6.6,
          6.6,
          6.6,
          6.6,
          6.6,
          6.6,
          6.6,
          6.6,
          6.6,
          6.6,
          6.6,
          6.6,
          6.6,
          6.7,
          6.7,
          6.7,
          6.7,
          6.7,
          6.7,
          6.7,
          6.7,
          6.7,
          6.7,
          6.7,
          6.7,
          6.7,
          6.7,
          6.7,
          6.7,
          6.7,
          6.7,
          6.7,
          6.7,
          6.7,
          6.7,
          6.7,
          6.7,
          6.7,
          6.8,
          6.8,
          6.8,
          6.8,
          6.8,
          6.8,
          6.8,
          6.8,
          6.8,
          6.8,
          6.8,
          6.8,
          6.8,
          6.8,
          6.8,
          6.8,
          6.8,
          6.8,
          6.8,
          6.8,
          6.8,
          6.8,
          6.8,
          6.8,
          6.9,
          6.9,
          6.9,
          6.9,
          6.9,
          6.9,
          6.9,
          6.9,
          6.9,
          6.9,
          6.9,
          6.9,
          6.9,
          6.9,
          6.9,
          6.9,
          6.9,
          6.9,
          6.9,
          7,
          7,
          7,
          7,
          7,
          7,
          7,
          7,
          7,
          7,
          7,
          7,
          7,
          7,
          7,
          7,
          7,
          7,
          7,
          7.1,
          7.1,
          7.1,
          7.1,
          7.1,
          7.1,
          7.1,
          7.1,
          7.1,
          7.1,
          7.1,
          7.1,
          7.1,
          7.1,
          7.1,
          7.1,
          7.1,
          7.1,
          7.1,
          7.1,
          7.1,
          7.1,
          7.1,
          7.1,
          7.1,
          7.1,
          7.1,
          7.1,
          7.2,
          7.2,
          7.2,
          7.2,
          7.2,
          7.2,
          7.2,
          7.2,
          7.2,
          7.2,
          7.2,
          7.2,
          7.2,
          7.2,
          7.2,
          7.2,
          7.2,
          7.2,
          7.2,
          7.2,
          7.3,
          7.3,
          7.3,
          7.3,
          7.3,
          7.3,
          7.3,
          7.3,
          7.3,
          7.3,
          7.3,
          7.3,
          7.3,
          7.3,
          7.3,
          7.3,
          7.3,
          7.3,
          7.3,
          7.3,
          7.3,
          7.4,
          7.4,
          7.4,
          7.4,
          7.4,
          7.4,
          7.4,
          7.4,
          7.4,
          7.4,
          7.4,
          7.4,
          7.5,
          7.5,
          7.5,
          7.5,
          7.5,
          7.5,
          7.5,
          7.5,
          7.5,
          7.5,
          7.6,
          7.6,
          7.6,
          7.6,
          7.6,
          7.6,
          7.6,
          7.6,
          7.6,
          7.6,
          7.7,
          7.7,
          7.7,
          7.7,
          7.7,
          7.7,
          7.7,
          7.7,
          7.8,
          7.8,
          7.8,
          7.9,
          7.9,
          7.9,
          7.9,
          8,
          8.1,
          8.1,
          8.1,
          8.2,
          8.2,
          8.2,
          8.2,
          8.2,
          8.3,
          8.3,
          8.4,
          8.4,
          8.4,
          8.5,
          8.6,
          9
         ],
         "xaxis": "x",
         "y": [
          58,
          81,
          79,
          94,
          90,
          147,
          112,
          149,
          73,
          139,
          58,
          112,
          97,
          101,
          90,
          25,
          144,
          115,
          102,
          100,
          64,
          97,
          99,
          120,
          105,
          89,
          97,
          107,
          99,
          95,
          37,
          89,
          83,
          46,
          85,
          88,
          86,
          105,
          95,
          80,
          4,
          93,
          100,
          106,
          97,
          106,
          103,
          80,
          101,
          119,
          80,
          89,
          94,
          93,
          96,
          113,
          86,
          100,
          102,
          86,
          104,
          88,
          97,
          105,
          90,
          99,
          10,
          106,
          98,
          94,
          112,
          117,
          70,
          81,
          103,
          94,
          98,
          131,
          87,
          60,
          112,
          102,
          99,
          116,
          92,
          83,
          97,
          112,
          116,
          102,
          121,
          95,
          93,
          92,
          98,
          85,
          78,
          120,
          92,
          101,
          119,
          101,
          112,
          96,
          114,
          97,
          101,
          56,
          100,
          94,
          94,
          21,
          104,
          63,
          100,
          126,
          106,
          86,
          142,
          108,
          102,
          92,
          83,
          94,
          92,
          103,
          89,
          95,
          103,
          97,
          125,
          91,
          90,
          49,
          98,
          107,
          118,
          94,
          103,
          86,
          83,
          97,
          99,
          104,
          102,
          89,
          98,
          125,
          89,
          94,
          94,
          85,
          34,
          86,
          91,
          108,
          95,
          100,
          90,
          112,
          86,
          124,
          107,
          92,
          121,
          90,
          104,
          92,
          114,
          98,
          95,
          78,
          107,
          92,
          95,
          96,
          118,
          105,
          94,
          52,
          105,
          95,
          100,
          97,
          89,
          102,
          96,
          131,
          89,
          93,
          111,
          75,
          120,
          96,
          148,
          94,
          107,
          32,
          104,
          23,
          111,
          83,
          53,
          95,
          132,
          98,
          108,
          106,
          104,
          90,
          106,
          90,
          97,
          113,
          123,
          115,
          105,
          101,
          102,
          122,
          128,
          82,
          102,
          80,
          94,
          123,
          104,
          85,
          84,
          103,
          95,
          100,
          89,
          116,
          118,
          96,
          114,
          99,
          87,
          92,
          90,
          95,
          96,
          93,
          42,
          92,
          106,
          151,
          101,
          114,
          90,
          115,
          92,
          72,
          139,
          98,
          92,
          111,
          98,
          104,
          95,
          88,
          102,
          30,
          99,
          129,
          87,
          117,
          104,
          111,
          107,
          97,
          98,
          90,
          101,
          72,
          83,
          118,
          44,
          113,
          86,
          108,
          85,
          102,
          151,
          98,
          87,
          120,
          134,
          109,
          85,
          103,
          94,
          97,
          88,
          37,
          112,
          102,
          100,
          96,
          113,
          16,
          119,
          97,
          81,
          98,
          95,
          96,
          107,
          41,
          87,
          101,
          97,
          103,
          90,
          125,
          116,
          99,
          82,
          97,
          28,
          108,
          93,
          74,
          60,
          9,
          21,
          100,
          155,
          55,
          123,
          103,
          93,
          119,
          40,
          120,
          98,
          104,
          91,
          95,
          101,
          105,
          83,
          91,
          83,
          17,
          86,
          124,
          94,
          102,
          118,
          79,
          134,
          126,
          98,
          89,
          58,
          83,
          136,
          98,
          114,
          99,
          130,
          32,
          104,
          142,
          92,
          86,
          106,
          95,
          91,
          89,
          117,
          90,
          117,
          80,
          87,
          101,
          19,
          106,
          54,
          111,
          132,
          97,
          106,
          111,
          124,
          116,
          112,
          144,
          76,
          101,
          92,
          19,
          39,
          102,
          89,
          105,
          101,
          70,
          96,
          85,
          39,
          79,
          73,
          114,
          121,
          28,
          95,
          122,
          23,
          107,
          98,
          108,
          92,
          100,
          97,
          7,
          96,
          100,
          132,
          103,
          121,
          114,
          57,
          95,
          83,
          17,
          105,
          131,
          30,
          112,
          86,
          100,
          14,
          109,
          28,
          64,
          94,
          31,
          99,
          108,
          48,
          84,
          70,
          27,
          45,
          117,
          104,
          108,
          121,
          36,
          30,
          47,
          110,
          92,
          80,
          49,
          73,
          40,
          96,
          106,
          97,
          94,
          78,
          81,
          87,
          91,
          91,
          95,
          126,
          31,
          58,
          41,
          138,
          112,
          114,
          125,
          99,
          82,
          98,
          136,
          97,
          107,
          92,
          39,
          133,
          89,
          124,
          99,
          101,
          97,
          124,
          129,
          121,
          140,
          13,
          108,
          11,
          118,
          121,
          24,
          100,
          101,
          105,
          96,
          47,
          121,
          100,
          149,
          64,
          64,
          114,
          15,
          79,
          90,
          132,
          105,
          97,
          83,
          110,
          39,
          40,
          85,
          26,
          87,
          97,
          118,
          23,
          40,
          98,
          80,
          108,
          79,
          74,
          90,
          137,
          71,
          98,
          70,
          99,
          40,
          104,
          149,
          124,
          144,
          85,
          100,
          94,
          125,
          84,
          117,
          15,
          136,
          76,
          108,
          94,
          90,
          72,
          135,
          12,
          209,
          130,
          82,
          120,
          136,
          112,
          105,
          89,
          85,
          106,
          100,
          107,
          97,
          89,
          109,
          114,
          51,
          85,
          125,
          91,
          153,
          89,
          83
         ],
         "yaxis": "y"
        }
       ],
       "layout": {
        "legend": {
         "tracegroupgap": 0
        },
        "margin": {
         "t": 60
        },
        "template": {
         "data": {
          "bar": [
           {
            "error_x": {
             "color": "#2a3f5f"
            },
            "error_y": {
             "color": "#2a3f5f"
            },
            "marker": {
             "line": {
              "color": "#E5ECF6",
              "width": 0.5
             }
            },
            "type": "bar"
           }
          ],
          "barpolar": [
           {
            "marker": {
             "line": {
              "color": "#E5ECF6",
              "width": 0.5
             }
            },
            "type": "barpolar"
           }
          ],
          "carpet": [
           {
            "aaxis": {
             "endlinecolor": "#2a3f5f",
             "gridcolor": "white",
             "linecolor": "white",
             "minorgridcolor": "white",
             "startlinecolor": "#2a3f5f"
            },
            "baxis": {
             "endlinecolor": "#2a3f5f",
             "gridcolor": "white",
             "linecolor": "white",
             "minorgridcolor": "white",
             "startlinecolor": "#2a3f5f"
            },
            "type": "carpet"
           }
          ],
          "choropleth": [
           {
            "colorbar": {
             "outlinewidth": 0,
             "ticks": ""
            },
            "type": "choropleth"
           }
          ],
          "contour": [
           {
            "colorbar": {
             "outlinewidth": 0,
             "ticks": ""
            },
            "colorscale": [
             [
              0,
              "#0d0887"
             ],
             [
              0.1111111111111111,
              "#46039f"
             ],
             [
              0.2222222222222222,
              "#7201a8"
             ],
             [
              0.3333333333333333,
              "#9c179e"
             ],
             [
              0.4444444444444444,
              "#bd3786"
             ],
             [
              0.5555555555555556,
              "#d8576b"
             ],
             [
              0.6666666666666666,
              "#ed7953"
             ],
             [
              0.7777777777777778,
              "#fb9f3a"
             ],
             [
              0.8888888888888888,
              "#fdca26"
             ],
             [
              1,
              "#f0f921"
             ]
            ],
            "type": "contour"
           }
          ],
          "contourcarpet": [
           {
            "colorbar": {
             "outlinewidth": 0,
             "ticks": ""
            },
            "type": "contourcarpet"
           }
          ],
          "heatmap": [
           {
            "colorbar": {
             "outlinewidth": 0,
             "ticks": ""
            },
            "colorscale": [
             [
              0,
              "#0d0887"
             ],
             [
              0.1111111111111111,
              "#46039f"
             ],
             [
              0.2222222222222222,
              "#7201a8"
             ],
             [
              0.3333333333333333,
              "#9c179e"
             ],
             [
              0.4444444444444444,
              "#bd3786"
             ],
             [
              0.5555555555555556,
              "#d8576b"
             ],
             [
              0.6666666666666666,
              "#ed7953"
             ],
             [
              0.7777777777777778,
              "#fb9f3a"
             ],
             [
              0.8888888888888888,
              "#fdca26"
             ],
             [
              1,
              "#f0f921"
             ]
            ],
            "type": "heatmap"
           }
          ],
          "heatmapgl": [
           {
            "colorbar": {
             "outlinewidth": 0,
             "ticks": ""
            },
            "colorscale": [
             [
              0,
              "#0d0887"
             ],
             [
              0.1111111111111111,
              "#46039f"
             ],
             [
              0.2222222222222222,
              "#7201a8"
             ],
             [
              0.3333333333333333,
              "#9c179e"
             ],
             [
              0.4444444444444444,
              "#bd3786"
             ],
             [
              0.5555555555555556,
              "#d8576b"
             ],
             [
              0.6666666666666666,
              "#ed7953"
             ],
             [
              0.7777777777777778,
              "#fb9f3a"
             ],
             [
              0.8888888888888888,
              "#fdca26"
             ],
             [
              1,
              "#f0f921"
             ]
            ],
            "type": "heatmapgl"
           }
          ],
          "histogram": [
           {
            "marker": {
             "colorbar": {
              "outlinewidth": 0,
              "ticks": ""
             }
            },
            "type": "histogram"
           }
          ],
          "histogram2d": [
           {
            "colorbar": {
             "outlinewidth": 0,
             "ticks": ""
            },
            "colorscale": [
             [
              0,
              "#0d0887"
             ],
             [
              0.1111111111111111,
              "#46039f"
             ],
             [
              0.2222222222222222,
              "#7201a8"
             ],
             [
              0.3333333333333333,
              "#9c179e"
             ],
             [
              0.4444444444444444,
              "#bd3786"
             ],
             [
              0.5555555555555556,
              "#d8576b"
             ],
             [
              0.6666666666666666,
              "#ed7953"
             ],
             [
              0.7777777777777778,
              "#fb9f3a"
             ],
             [
              0.8888888888888888,
              "#fdca26"
             ],
             [
              1,
              "#f0f921"
             ]
            ],
            "type": "histogram2d"
           }
          ],
          "histogram2dcontour": [
           {
            "colorbar": {
             "outlinewidth": 0,
             "ticks": ""
            },
            "colorscale": [
             [
              0,
              "#0d0887"
             ],
             [
              0.1111111111111111,
              "#46039f"
             ],
             [
              0.2222222222222222,
              "#7201a8"
             ],
             [
              0.3333333333333333,
              "#9c179e"
             ],
             [
              0.4444444444444444,
              "#bd3786"
             ],
             [
              0.5555555555555556,
              "#d8576b"
             ],
             [
              0.6666666666666666,
              "#ed7953"
             ],
             [
              0.7777777777777778,
              "#fb9f3a"
             ],
             [
              0.8888888888888888,
              "#fdca26"
             ],
             [
              1,
              "#f0f921"
             ]
            ],
            "type": "histogram2dcontour"
           }
          ],
          "mesh3d": [
           {
            "colorbar": {
             "outlinewidth": 0,
             "ticks": ""
            },
            "type": "mesh3d"
           }
          ],
          "parcoords": [
           {
            "line": {
             "colorbar": {
              "outlinewidth": 0,
              "ticks": ""
             }
            },
            "type": "parcoords"
           }
          ],
          "pie": [
           {
            "automargin": true,
            "type": "pie"
           }
          ],
          "scatter": [
           {
            "marker": {
             "colorbar": {
              "outlinewidth": 0,
              "ticks": ""
             }
            },
            "type": "scatter"
           }
          ],
          "scatter3d": [
           {
            "line": {
             "colorbar": {
              "outlinewidth": 0,
              "ticks": ""
             }
            },
            "marker": {
             "colorbar": {
              "outlinewidth": 0,
              "ticks": ""
             }
            },
            "type": "scatter3d"
           }
          ],
          "scattercarpet": [
           {
            "marker": {
             "colorbar": {
              "outlinewidth": 0,
              "ticks": ""
             }
            },
            "type": "scattercarpet"
           }
          ],
          "scattergeo": [
           {
            "marker": {
             "colorbar": {
              "outlinewidth": 0,
              "ticks": ""
             }
            },
            "type": "scattergeo"
           }
          ],
          "scattergl": [
           {
            "marker": {
             "colorbar": {
              "outlinewidth": 0,
              "ticks": ""
             }
            },
            "type": "scattergl"
           }
          ],
          "scattermapbox": [
           {
            "marker": {
             "colorbar": {
              "outlinewidth": 0,
              "ticks": ""
             }
            },
            "type": "scattermapbox"
           }
          ],
          "scatterpolar": [
           {
            "marker": {
             "colorbar": {
              "outlinewidth": 0,
              "ticks": ""
             }
            },
            "type": "scatterpolar"
           }
          ],
          "scatterpolargl": [
           {
            "marker": {
             "colorbar": {
              "outlinewidth": 0,
              "ticks": ""
             }
            },
            "type": "scatterpolargl"
           }
          ],
          "scatterternary": [
           {
            "marker": {
             "colorbar": {
              "outlinewidth": 0,
              "ticks": ""
             }
            },
            "type": "scatterternary"
           }
          ],
          "surface": [
           {
            "colorbar": {
             "outlinewidth": 0,
             "ticks": ""
            },
            "colorscale": [
             [
              0,
              "#0d0887"
             ],
             [
              0.1111111111111111,
              "#46039f"
             ],
             [
              0.2222222222222222,
              "#7201a8"
             ],
             [
              0.3333333333333333,
              "#9c179e"
             ],
             [
              0.4444444444444444,
              "#bd3786"
             ],
             [
              0.5555555555555556,
              "#d8576b"
             ],
             [
              0.6666666666666666,
              "#ed7953"
             ],
             [
              0.7777777777777778,
              "#fb9f3a"
             ],
             [
              0.8888888888888888,
              "#fdca26"
             ],
             [
              1,
              "#f0f921"
             ]
            ],
            "type": "surface"
           }
          ],
          "table": [
           {
            "cells": {
             "fill": {
              "color": "#EBF0F8"
             },
             "line": {
              "color": "white"
             }
            },
            "header": {
             "fill": {
              "color": "#C8D4E3"
             },
             "line": {
              "color": "white"
             }
            },
            "type": "table"
           }
          ]
         },
         "layout": {
          "annotationdefaults": {
           "arrowcolor": "#2a3f5f",
           "arrowhead": 0,
           "arrowwidth": 1
          },
          "autotypenumbers": "strict",
          "coloraxis": {
           "colorbar": {
            "outlinewidth": 0,
            "ticks": ""
           }
          },
          "colorscale": {
           "diverging": [
            [
             0,
             "#8e0152"
            ],
            [
             0.1,
             "#c51b7d"
            ],
            [
             0.2,
             "#de77ae"
            ],
            [
             0.3,
             "#f1b6da"
            ],
            [
             0.4,
             "#fde0ef"
            ],
            [
             0.5,
             "#f7f7f7"
            ],
            [
             0.6,
             "#e6f5d0"
            ],
            [
             0.7,
             "#b8e186"
            ],
            [
             0.8,
             "#7fbc41"
            ],
            [
             0.9,
             "#4d9221"
            ],
            [
             1,
             "#276419"
            ]
           ],
           "sequential": [
            [
             0,
             "#0d0887"
            ],
            [
             0.1111111111111111,
             "#46039f"
            ],
            [
             0.2222222222222222,
             "#7201a8"
            ],
            [
             0.3333333333333333,
             "#9c179e"
            ],
            [
             0.4444444444444444,
             "#bd3786"
            ],
            [
             0.5555555555555556,
             "#d8576b"
            ],
            [
             0.6666666666666666,
             "#ed7953"
            ],
            [
             0.7777777777777778,
             "#fb9f3a"
            ],
            [
             0.8888888888888888,
             "#fdca26"
            ],
            [
             1,
             "#f0f921"
            ]
           ],
           "sequentialminus": [
            [
             0,
             "#0d0887"
            ],
            [
             0.1111111111111111,
             "#46039f"
            ],
            [
             0.2222222222222222,
             "#7201a8"
            ],
            [
             0.3333333333333333,
             "#9c179e"
            ],
            [
             0.4444444444444444,
             "#bd3786"
            ],
            [
             0.5555555555555556,
             "#d8576b"
            ],
            [
             0.6666666666666666,
             "#ed7953"
            ],
            [
             0.7777777777777778,
             "#fb9f3a"
            ],
            [
             0.8888888888888888,
             "#fdca26"
            ],
            [
             1,
             "#f0f921"
            ]
           ]
          },
          "colorway": [
           "#636efa",
           "#EF553B",
           "#00cc96",
           "#ab63fa",
           "#FFA15A",
           "#19d3f3",
           "#FF6692",
           "#B6E880",
           "#FF97FF",
           "#FECB52"
          ],
          "font": {
           "color": "#2a3f5f"
          },
          "geo": {
           "bgcolor": "white",
           "lakecolor": "white",
           "landcolor": "#E5ECF6",
           "showlakes": true,
           "showland": true,
           "subunitcolor": "white"
          },
          "hoverlabel": {
           "align": "left"
          },
          "hovermode": "closest",
          "mapbox": {
           "style": "light"
          },
          "paper_bgcolor": "white",
          "plot_bgcolor": "#E5ECF6",
          "polar": {
           "angularaxis": {
            "gridcolor": "white",
            "linecolor": "white",
            "ticks": ""
           },
           "bgcolor": "#E5ECF6",
           "radialaxis": {
            "gridcolor": "white",
            "linecolor": "white",
            "ticks": ""
           }
          },
          "scene": {
           "xaxis": {
            "backgroundcolor": "#E5ECF6",
            "gridcolor": "white",
            "gridwidth": 2,
            "linecolor": "white",
            "showbackground": true,
            "ticks": "",
            "zerolinecolor": "white"
           },
           "yaxis": {
            "backgroundcolor": "#E5ECF6",
            "gridcolor": "white",
            "gridwidth": 2,
            "linecolor": "white",
            "showbackground": true,
            "ticks": "",
            "zerolinecolor": "white"
           },
           "zaxis": {
            "backgroundcolor": "#E5ECF6",
            "gridcolor": "white",
            "gridwidth": 2,
            "linecolor": "white",
            "showbackground": true,
            "ticks": "",
            "zerolinecolor": "white"
           }
          },
          "shapedefaults": {
           "line": {
            "color": "#2a3f5f"
           }
          },
          "ternary": {
           "aaxis": {
            "gridcolor": "white",
            "linecolor": "white",
            "ticks": ""
           },
           "baxis": {
            "gridcolor": "white",
            "linecolor": "white",
            "ticks": ""
           },
           "bgcolor": "#E5ECF6",
           "caxis": {
            "gridcolor": "white",
            "linecolor": "white",
            "ticks": ""
           }
          },
          "title": {
           "x": 0.05
          },
          "xaxis": {
           "automargin": true,
           "gridcolor": "white",
           "linecolor": "white",
           "ticks": "",
           "title": {
            "standoff": 15
           },
           "zerolinecolor": "white",
           "zerolinewidth": 2
          },
          "yaxis": {
           "automargin": true,
           "gridcolor": "white",
           "linecolor": "white",
           "ticks": "",
           "title": {
            "standoff": 15
           },
           "zerolinecolor": "white",
           "zerolinewidth": 2
          }
         }
        },
        "xaxis": {
         "anchor": "y",
         "domain": [
          0,
          1
         ],
         "title": {
          "text": "IMDB Score"
         }
        },
        "yaxis": {
         "anchor": "x",
         "domain": [
          0,
          1
         ],
         "title": {
          "text": "Runtime"
         }
        }
       }
      }
     },
     "metadata": {}
    }
   ],
   "metadata": {}
  },
  {
   "cell_type": "markdown",
   "source": [
    "## EDA of Dates"
   ],
   "metadata": {}
  },
  {
   "cell_type": "markdown",
   "source": [
    "### EDA of Year"
   ],
   "metadata": {}
  },
  {
   "cell_type": "code",
   "execution_count": 27,
   "source": [
    "year = data['year'].value_counts()\r\n",
    "year"
   ],
   "outputs": [
    {
     "output_type": "execute_result",
     "data": {
      "text/plain": [
       "2020    183\n",
       "2019    125\n",
       "2018     99\n",
       "2021     71\n",
       "2017     66\n",
       "2016     30\n",
       "2015      9\n",
       "2014      1\n",
       "Name: year, dtype: int64"
      ]
     },
     "metadata": {},
     "execution_count": 27
    }
   ],
   "metadata": {}
  },
  {
   "cell_type": "code",
   "execution_count": 28,
   "source": [
    "fig = px.bar(year , x=year.index , y=year.values , labels={'y':'Count of Movies each year' , 'index':'Year'} ,color_discrete_sequence=['pink'])\r\n",
    "\r\n",
    "fig.update_layout(xaxis={'categoryorder' : 'total descending'})\r\n",
    "fig.show()"
   ],
   "outputs": [
    {
     "output_type": "display_data",
     "data": {
      "application/vnd.plotly.v1+json": {
       "config": {
        "plotlyServerURL": "https://plot.ly"
       },
       "data": [
        {
         "alignmentgroup": "True",
         "hovertemplate": "Year=%{x}<br>Count of Movies each year=%{y}<extra></extra>",
         "legendgroup": "",
         "marker": {
          "color": "pink"
         },
         "name": "",
         "offsetgroup": "",
         "orientation": "v",
         "showlegend": false,
         "textposition": "auto",
         "type": "bar",
         "x": [
          2020,
          2019,
          2018,
          2021,
          2017,
          2016,
          2015,
          2014
         ],
         "xaxis": "x",
         "y": [
          183,
          125,
          99,
          71,
          66,
          30,
          9,
          1
         ],
         "yaxis": "y"
        }
       ],
       "layout": {
        "barmode": "relative",
        "legend": {
         "tracegroupgap": 0
        },
        "margin": {
         "t": 60
        },
        "template": {
         "data": {
          "bar": [
           {
            "error_x": {
             "color": "#2a3f5f"
            },
            "error_y": {
             "color": "#2a3f5f"
            },
            "marker": {
             "line": {
              "color": "#E5ECF6",
              "width": 0.5
             }
            },
            "type": "bar"
           }
          ],
          "barpolar": [
           {
            "marker": {
             "line": {
              "color": "#E5ECF6",
              "width": 0.5
             }
            },
            "type": "barpolar"
           }
          ],
          "carpet": [
           {
            "aaxis": {
             "endlinecolor": "#2a3f5f",
             "gridcolor": "white",
             "linecolor": "white",
             "minorgridcolor": "white",
             "startlinecolor": "#2a3f5f"
            },
            "baxis": {
             "endlinecolor": "#2a3f5f",
             "gridcolor": "white",
             "linecolor": "white",
             "minorgridcolor": "white",
             "startlinecolor": "#2a3f5f"
            },
            "type": "carpet"
           }
          ],
          "choropleth": [
           {
            "colorbar": {
             "outlinewidth": 0,
             "ticks": ""
            },
            "type": "choropleth"
           }
          ],
          "contour": [
           {
            "colorbar": {
             "outlinewidth": 0,
             "ticks": ""
            },
            "colorscale": [
             [
              0,
              "#0d0887"
             ],
             [
              0.1111111111111111,
              "#46039f"
             ],
             [
              0.2222222222222222,
              "#7201a8"
             ],
             [
              0.3333333333333333,
              "#9c179e"
             ],
             [
              0.4444444444444444,
              "#bd3786"
             ],
             [
              0.5555555555555556,
              "#d8576b"
             ],
             [
              0.6666666666666666,
              "#ed7953"
             ],
             [
              0.7777777777777778,
              "#fb9f3a"
             ],
             [
              0.8888888888888888,
              "#fdca26"
             ],
             [
              1,
              "#f0f921"
             ]
            ],
            "type": "contour"
           }
          ],
          "contourcarpet": [
           {
            "colorbar": {
             "outlinewidth": 0,
             "ticks": ""
            },
            "type": "contourcarpet"
           }
          ],
          "heatmap": [
           {
            "colorbar": {
             "outlinewidth": 0,
             "ticks": ""
            },
            "colorscale": [
             [
              0,
              "#0d0887"
             ],
             [
              0.1111111111111111,
              "#46039f"
             ],
             [
              0.2222222222222222,
              "#7201a8"
             ],
             [
              0.3333333333333333,
              "#9c179e"
             ],
             [
              0.4444444444444444,
              "#bd3786"
             ],
             [
              0.5555555555555556,
              "#d8576b"
             ],
             [
              0.6666666666666666,
              "#ed7953"
             ],
             [
              0.7777777777777778,
              "#fb9f3a"
             ],
             [
              0.8888888888888888,
              "#fdca26"
             ],
             [
              1,
              "#f0f921"
             ]
            ],
            "type": "heatmap"
           }
          ],
          "heatmapgl": [
           {
            "colorbar": {
             "outlinewidth": 0,
             "ticks": ""
            },
            "colorscale": [
             [
              0,
              "#0d0887"
             ],
             [
              0.1111111111111111,
              "#46039f"
             ],
             [
              0.2222222222222222,
              "#7201a8"
             ],
             [
              0.3333333333333333,
              "#9c179e"
             ],
             [
              0.4444444444444444,
              "#bd3786"
             ],
             [
              0.5555555555555556,
              "#d8576b"
             ],
             [
              0.6666666666666666,
              "#ed7953"
             ],
             [
              0.7777777777777778,
              "#fb9f3a"
             ],
             [
              0.8888888888888888,
              "#fdca26"
             ],
             [
              1,
              "#f0f921"
             ]
            ],
            "type": "heatmapgl"
           }
          ],
          "histogram": [
           {
            "marker": {
             "colorbar": {
              "outlinewidth": 0,
              "ticks": ""
             }
            },
            "type": "histogram"
           }
          ],
          "histogram2d": [
           {
            "colorbar": {
             "outlinewidth": 0,
             "ticks": ""
            },
            "colorscale": [
             [
              0,
              "#0d0887"
             ],
             [
              0.1111111111111111,
              "#46039f"
             ],
             [
              0.2222222222222222,
              "#7201a8"
             ],
             [
              0.3333333333333333,
              "#9c179e"
             ],
             [
              0.4444444444444444,
              "#bd3786"
             ],
             [
              0.5555555555555556,
              "#d8576b"
             ],
             [
              0.6666666666666666,
              "#ed7953"
             ],
             [
              0.7777777777777778,
              "#fb9f3a"
             ],
             [
              0.8888888888888888,
              "#fdca26"
             ],
             [
              1,
              "#f0f921"
             ]
            ],
            "type": "histogram2d"
           }
          ],
          "histogram2dcontour": [
           {
            "colorbar": {
             "outlinewidth": 0,
             "ticks": ""
            },
            "colorscale": [
             [
              0,
              "#0d0887"
             ],
             [
              0.1111111111111111,
              "#46039f"
             ],
             [
              0.2222222222222222,
              "#7201a8"
             ],
             [
              0.3333333333333333,
              "#9c179e"
             ],
             [
              0.4444444444444444,
              "#bd3786"
             ],
             [
              0.5555555555555556,
              "#d8576b"
             ],
             [
              0.6666666666666666,
              "#ed7953"
             ],
             [
              0.7777777777777778,
              "#fb9f3a"
             ],
             [
              0.8888888888888888,
              "#fdca26"
             ],
             [
              1,
              "#f0f921"
             ]
            ],
            "type": "histogram2dcontour"
           }
          ],
          "mesh3d": [
           {
            "colorbar": {
             "outlinewidth": 0,
             "ticks": ""
            },
            "type": "mesh3d"
           }
          ],
          "parcoords": [
           {
            "line": {
             "colorbar": {
              "outlinewidth": 0,
              "ticks": ""
             }
            },
            "type": "parcoords"
           }
          ],
          "pie": [
           {
            "automargin": true,
            "type": "pie"
           }
          ],
          "scatter": [
           {
            "marker": {
             "colorbar": {
              "outlinewidth": 0,
              "ticks": ""
             }
            },
            "type": "scatter"
           }
          ],
          "scatter3d": [
           {
            "line": {
             "colorbar": {
              "outlinewidth": 0,
              "ticks": ""
             }
            },
            "marker": {
             "colorbar": {
              "outlinewidth": 0,
              "ticks": ""
             }
            },
            "type": "scatter3d"
           }
          ],
          "scattercarpet": [
           {
            "marker": {
             "colorbar": {
              "outlinewidth": 0,
              "ticks": ""
             }
            },
            "type": "scattercarpet"
           }
          ],
          "scattergeo": [
           {
            "marker": {
             "colorbar": {
              "outlinewidth": 0,
              "ticks": ""
             }
            },
            "type": "scattergeo"
           }
          ],
          "scattergl": [
           {
            "marker": {
             "colorbar": {
              "outlinewidth": 0,
              "ticks": ""
             }
            },
            "type": "scattergl"
           }
          ],
          "scattermapbox": [
           {
            "marker": {
             "colorbar": {
              "outlinewidth": 0,
              "ticks": ""
             }
            },
            "type": "scattermapbox"
           }
          ],
          "scatterpolar": [
           {
            "marker": {
             "colorbar": {
              "outlinewidth": 0,
              "ticks": ""
             }
            },
            "type": "scatterpolar"
           }
          ],
          "scatterpolargl": [
           {
            "marker": {
             "colorbar": {
              "outlinewidth": 0,
              "ticks": ""
             }
            },
            "type": "scatterpolargl"
           }
          ],
          "scatterternary": [
           {
            "marker": {
             "colorbar": {
              "outlinewidth": 0,
              "ticks": ""
             }
            },
            "type": "scatterternary"
           }
          ],
          "surface": [
           {
            "colorbar": {
             "outlinewidth": 0,
             "ticks": ""
            },
            "colorscale": [
             [
              0,
              "#0d0887"
             ],
             [
              0.1111111111111111,
              "#46039f"
             ],
             [
              0.2222222222222222,
              "#7201a8"
             ],
             [
              0.3333333333333333,
              "#9c179e"
             ],
             [
              0.4444444444444444,
              "#bd3786"
             ],
             [
              0.5555555555555556,
              "#d8576b"
             ],
             [
              0.6666666666666666,
              "#ed7953"
             ],
             [
              0.7777777777777778,
              "#fb9f3a"
             ],
             [
              0.8888888888888888,
              "#fdca26"
             ],
             [
              1,
              "#f0f921"
             ]
            ],
            "type": "surface"
           }
          ],
          "table": [
           {
            "cells": {
             "fill": {
              "color": "#EBF0F8"
             },
             "line": {
              "color": "white"
             }
            },
            "header": {
             "fill": {
              "color": "#C8D4E3"
             },
             "line": {
              "color": "white"
             }
            },
            "type": "table"
           }
          ]
         },
         "layout": {
          "annotationdefaults": {
           "arrowcolor": "#2a3f5f",
           "arrowhead": 0,
           "arrowwidth": 1
          },
          "autotypenumbers": "strict",
          "coloraxis": {
           "colorbar": {
            "outlinewidth": 0,
            "ticks": ""
           }
          },
          "colorscale": {
           "diverging": [
            [
             0,
             "#8e0152"
            ],
            [
             0.1,
             "#c51b7d"
            ],
            [
             0.2,
             "#de77ae"
            ],
            [
             0.3,
             "#f1b6da"
            ],
            [
             0.4,
             "#fde0ef"
            ],
            [
             0.5,
             "#f7f7f7"
            ],
            [
             0.6,
             "#e6f5d0"
            ],
            [
             0.7,
             "#b8e186"
            ],
            [
             0.8,
             "#7fbc41"
            ],
            [
             0.9,
             "#4d9221"
            ],
            [
             1,
             "#276419"
            ]
           ],
           "sequential": [
            [
             0,
             "#0d0887"
            ],
            [
             0.1111111111111111,
             "#46039f"
            ],
            [
             0.2222222222222222,
             "#7201a8"
            ],
            [
             0.3333333333333333,
             "#9c179e"
            ],
            [
             0.4444444444444444,
             "#bd3786"
            ],
            [
             0.5555555555555556,
             "#d8576b"
            ],
            [
             0.6666666666666666,
             "#ed7953"
            ],
            [
             0.7777777777777778,
             "#fb9f3a"
            ],
            [
             0.8888888888888888,
             "#fdca26"
            ],
            [
             1,
             "#f0f921"
            ]
           ],
           "sequentialminus": [
            [
             0,
             "#0d0887"
            ],
            [
             0.1111111111111111,
             "#46039f"
            ],
            [
             0.2222222222222222,
             "#7201a8"
            ],
            [
             0.3333333333333333,
             "#9c179e"
            ],
            [
             0.4444444444444444,
             "#bd3786"
            ],
            [
             0.5555555555555556,
             "#d8576b"
            ],
            [
             0.6666666666666666,
             "#ed7953"
            ],
            [
             0.7777777777777778,
             "#fb9f3a"
            ],
            [
             0.8888888888888888,
             "#fdca26"
            ],
            [
             1,
             "#f0f921"
            ]
           ]
          },
          "colorway": [
           "#636efa",
           "#EF553B",
           "#00cc96",
           "#ab63fa",
           "#FFA15A",
           "#19d3f3",
           "#FF6692",
           "#B6E880",
           "#FF97FF",
           "#FECB52"
          ],
          "font": {
           "color": "#2a3f5f"
          },
          "geo": {
           "bgcolor": "white",
           "lakecolor": "white",
           "landcolor": "#E5ECF6",
           "showlakes": true,
           "showland": true,
           "subunitcolor": "white"
          },
          "hoverlabel": {
           "align": "left"
          },
          "hovermode": "closest",
          "mapbox": {
           "style": "light"
          },
          "paper_bgcolor": "white",
          "plot_bgcolor": "#E5ECF6",
          "polar": {
           "angularaxis": {
            "gridcolor": "white",
            "linecolor": "white",
            "ticks": ""
           },
           "bgcolor": "#E5ECF6",
           "radialaxis": {
            "gridcolor": "white",
            "linecolor": "white",
            "ticks": ""
           }
          },
          "scene": {
           "xaxis": {
            "backgroundcolor": "#E5ECF6",
            "gridcolor": "white",
            "gridwidth": 2,
            "linecolor": "white",
            "showbackground": true,
            "ticks": "",
            "zerolinecolor": "white"
           },
           "yaxis": {
            "backgroundcolor": "#E5ECF6",
            "gridcolor": "white",
            "gridwidth": 2,
            "linecolor": "white",
            "showbackground": true,
            "ticks": "",
            "zerolinecolor": "white"
           },
           "zaxis": {
            "backgroundcolor": "#E5ECF6",
            "gridcolor": "white",
            "gridwidth": 2,
            "linecolor": "white",
            "showbackground": true,
            "ticks": "",
            "zerolinecolor": "white"
           }
          },
          "shapedefaults": {
           "line": {
            "color": "#2a3f5f"
           }
          },
          "ternary": {
           "aaxis": {
            "gridcolor": "white",
            "linecolor": "white",
            "ticks": ""
           },
           "baxis": {
            "gridcolor": "white",
            "linecolor": "white",
            "ticks": ""
           },
           "bgcolor": "#E5ECF6",
           "caxis": {
            "gridcolor": "white",
            "linecolor": "white",
            "ticks": ""
           }
          },
          "title": {
           "x": 0.05
          },
          "xaxis": {
           "automargin": true,
           "gridcolor": "white",
           "linecolor": "white",
           "ticks": "",
           "title": {
            "standoff": 15
           },
           "zerolinecolor": "white",
           "zerolinewidth": 2
          },
          "yaxis": {
           "automargin": true,
           "gridcolor": "white",
           "linecolor": "white",
           "ticks": "",
           "title": {
            "standoff": 15
           },
           "zerolinecolor": "white",
           "zerolinewidth": 2
          }
         }
        },
        "xaxis": {
         "anchor": "y",
         "categoryorder": "total descending",
         "domain": [
          0,
          1
         ],
         "title": {
          "text": "Year"
         }
        },
        "yaxis": {
         "anchor": "x",
         "domain": [
          0,
          1
         ],
         "title": {
          "text": "Count of Movies each year"
         }
        }
       }
      }
     },
     "metadata": {}
    }
   ],
   "metadata": {}
  },
  {
   "cell_type": "markdown",
   "source": [
    "### EDA of Month"
   ],
   "metadata": {}
  },
  {
   "cell_type": "code",
   "execution_count": 29,
   "source": [
    "month = data['month'].value_counts(sort=False)\r\n",
    "month"
   ],
   "outputs": [
    {
     "output_type": "execute_result",
     "data": {
      "text/plain": [
       "8     37\n",
       "12    51\n",
       "1     37\n",
       "10    77\n",
       "11    57\n",
       "6     35\n",
       "3     48\n",
       "5     53\n",
       "4     63\n",
       "9     53\n",
       "2     39\n",
       "7     34\n",
       "Name: month, dtype: int64"
      ]
     },
     "metadata": {},
     "execution_count": 29
    }
   ],
   "metadata": {}
  },
  {
   "cell_type": "code",
   "execution_count": 30,
   "source": [
    "months = ['Jan', 'Feb', 'Mar', 'Apr', 'May', 'Jun','Jul', 'Aug', 'Sep', 'Oct', 'Nov', 'Dec']\r\n",
    "\r\n",
    "fig = px.bar(month, x=months, y=month.values, labels={'y': 'Count of movies of released each month', 'x': 'Month'}, color_discrete_sequence=['darkblue'])\r\n",
    "\r\n",
    "fig.show()\r\n"
   ],
   "outputs": [
    {
     "output_type": "display_data",
     "data": {
      "application/vnd.plotly.v1+json": {
       "config": {
        "plotlyServerURL": "https://plot.ly"
       },
       "data": [
        {
         "alignmentgroup": "True",
         "hovertemplate": "Month=%{x}<br>Count of movies of released each month=%{y}<extra></extra>",
         "legendgroup": "",
         "marker": {
          "color": "darkblue"
         },
         "name": "",
         "offsetgroup": "",
         "orientation": "v",
         "showlegend": false,
         "textposition": "auto",
         "type": "bar",
         "x": [
          "Jan",
          "Feb",
          "Mar",
          "Apr",
          "May",
          "Jun",
          "Jul",
          "Aug",
          "Sep",
          "Oct",
          "Nov",
          "Dec"
         ],
         "xaxis": "x",
         "y": [
          37,
          51,
          37,
          77,
          57,
          35,
          48,
          53,
          63,
          53,
          39,
          34
         ],
         "yaxis": "y"
        }
       ],
       "layout": {
        "barmode": "relative",
        "legend": {
         "tracegroupgap": 0
        },
        "margin": {
         "t": 60
        },
        "template": {
         "data": {
          "bar": [
           {
            "error_x": {
             "color": "#2a3f5f"
            },
            "error_y": {
             "color": "#2a3f5f"
            },
            "marker": {
             "line": {
              "color": "#E5ECF6",
              "width": 0.5
             }
            },
            "type": "bar"
           }
          ],
          "barpolar": [
           {
            "marker": {
             "line": {
              "color": "#E5ECF6",
              "width": 0.5
             }
            },
            "type": "barpolar"
           }
          ],
          "carpet": [
           {
            "aaxis": {
             "endlinecolor": "#2a3f5f",
             "gridcolor": "white",
             "linecolor": "white",
             "minorgridcolor": "white",
             "startlinecolor": "#2a3f5f"
            },
            "baxis": {
             "endlinecolor": "#2a3f5f",
             "gridcolor": "white",
             "linecolor": "white",
             "minorgridcolor": "white",
             "startlinecolor": "#2a3f5f"
            },
            "type": "carpet"
           }
          ],
          "choropleth": [
           {
            "colorbar": {
             "outlinewidth": 0,
             "ticks": ""
            },
            "type": "choropleth"
           }
          ],
          "contour": [
           {
            "colorbar": {
             "outlinewidth": 0,
             "ticks": ""
            },
            "colorscale": [
             [
              0,
              "#0d0887"
             ],
             [
              0.1111111111111111,
              "#46039f"
             ],
             [
              0.2222222222222222,
              "#7201a8"
             ],
             [
              0.3333333333333333,
              "#9c179e"
             ],
             [
              0.4444444444444444,
              "#bd3786"
             ],
             [
              0.5555555555555556,
              "#d8576b"
             ],
             [
              0.6666666666666666,
              "#ed7953"
             ],
             [
              0.7777777777777778,
              "#fb9f3a"
             ],
             [
              0.8888888888888888,
              "#fdca26"
             ],
             [
              1,
              "#f0f921"
             ]
            ],
            "type": "contour"
           }
          ],
          "contourcarpet": [
           {
            "colorbar": {
             "outlinewidth": 0,
             "ticks": ""
            },
            "type": "contourcarpet"
           }
          ],
          "heatmap": [
           {
            "colorbar": {
             "outlinewidth": 0,
             "ticks": ""
            },
            "colorscale": [
             [
              0,
              "#0d0887"
             ],
             [
              0.1111111111111111,
              "#46039f"
             ],
             [
              0.2222222222222222,
              "#7201a8"
             ],
             [
              0.3333333333333333,
              "#9c179e"
             ],
             [
              0.4444444444444444,
              "#bd3786"
             ],
             [
              0.5555555555555556,
              "#d8576b"
             ],
             [
              0.6666666666666666,
              "#ed7953"
             ],
             [
              0.7777777777777778,
              "#fb9f3a"
             ],
             [
              0.8888888888888888,
              "#fdca26"
             ],
             [
              1,
              "#f0f921"
             ]
            ],
            "type": "heatmap"
           }
          ],
          "heatmapgl": [
           {
            "colorbar": {
             "outlinewidth": 0,
             "ticks": ""
            },
            "colorscale": [
             [
              0,
              "#0d0887"
             ],
             [
              0.1111111111111111,
              "#46039f"
             ],
             [
              0.2222222222222222,
              "#7201a8"
             ],
             [
              0.3333333333333333,
              "#9c179e"
             ],
             [
              0.4444444444444444,
              "#bd3786"
             ],
             [
              0.5555555555555556,
              "#d8576b"
             ],
             [
              0.6666666666666666,
              "#ed7953"
             ],
             [
              0.7777777777777778,
              "#fb9f3a"
             ],
             [
              0.8888888888888888,
              "#fdca26"
             ],
             [
              1,
              "#f0f921"
             ]
            ],
            "type": "heatmapgl"
           }
          ],
          "histogram": [
           {
            "marker": {
             "colorbar": {
              "outlinewidth": 0,
              "ticks": ""
             }
            },
            "type": "histogram"
           }
          ],
          "histogram2d": [
           {
            "colorbar": {
             "outlinewidth": 0,
             "ticks": ""
            },
            "colorscale": [
             [
              0,
              "#0d0887"
             ],
             [
              0.1111111111111111,
              "#46039f"
             ],
             [
              0.2222222222222222,
              "#7201a8"
             ],
             [
              0.3333333333333333,
              "#9c179e"
             ],
             [
              0.4444444444444444,
              "#bd3786"
             ],
             [
              0.5555555555555556,
              "#d8576b"
             ],
             [
              0.6666666666666666,
              "#ed7953"
             ],
             [
              0.7777777777777778,
              "#fb9f3a"
             ],
             [
              0.8888888888888888,
              "#fdca26"
             ],
             [
              1,
              "#f0f921"
             ]
            ],
            "type": "histogram2d"
           }
          ],
          "histogram2dcontour": [
           {
            "colorbar": {
             "outlinewidth": 0,
             "ticks": ""
            },
            "colorscale": [
             [
              0,
              "#0d0887"
             ],
             [
              0.1111111111111111,
              "#46039f"
             ],
             [
              0.2222222222222222,
              "#7201a8"
             ],
             [
              0.3333333333333333,
              "#9c179e"
             ],
             [
              0.4444444444444444,
              "#bd3786"
             ],
             [
              0.5555555555555556,
              "#d8576b"
             ],
             [
              0.6666666666666666,
              "#ed7953"
             ],
             [
              0.7777777777777778,
              "#fb9f3a"
             ],
             [
              0.8888888888888888,
              "#fdca26"
             ],
             [
              1,
              "#f0f921"
             ]
            ],
            "type": "histogram2dcontour"
           }
          ],
          "mesh3d": [
           {
            "colorbar": {
             "outlinewidth": 0,
             "ticks": ""
            },
            "type": "mesh3d"
           }
          ],
          "parcoords": [
           {
            "line": {
             "colorbar": {
              "outlinewidth": 0,
              "ticks": ""
             }
            },
            "type": "parcoords"
           }
          ],
          "pie": [
           {
            "automargin": true,
            "type": "pie"
           }
          ],
          "scatter": [
           {
            "marker": {
             "colorbar": {
              "outlinewidth": 0,
              "ticks": ""
             }
            },
            "type": "scatter"
           }
          ],
          "scatter3d": [
           {
            "line": {
             "colorbar": {
              "outlinewidth": 0,
              "ticks": ""
             }
            },
            "marker": {
             "colorbar": {
              "outlinewidth": 0,
              "ticks": ""
             }
            },
            "type": "scatter3d"
           }
          ],
          "scattercarpet": [
           {
            "marker": {
             "colorbar": {
              "outlinewidth": 0,
              "ticks": ""
             }
            },
            "type": "scattercarpet"
           }
          ],
          "scattergeo": [
           {
            "marker": {
             "colorbar": {
              "outlinewidth": 0,
              "ticks": ""
             }
            },
            "type": "scattergeo"
           }
          ],
          "scattergl": [
           {
            "marker": {
             "colorbar": {
              "outlinewidth": 0,
              "ticks": ""
             }
            },
            "type": "scattergl"
           }
          ],
          "scattermapbox": [
           {
            "marker": {
             "colorbar": {
              "outlinewidth": 0,
              "ticks": ""
             }
            },
            "type": "scattermapbox"
           }
          ],
          "scatterpolar": [
           {
            "marker": {
             "colorbar": {
              "outlinewidth": 0,
              "ticks": ""
             }
            },
            "type": "scatterpolar"
           }
          ],
          "scatterpolargl": [
           {
            "marker": {
             "colorbar": {
              "outlinewidth": 0,
              "ticks": ""
             }
            },
            "type": "scatterpolargl"
           }
          ],
          "scatterternary": [
           {
            "marker": {
             "colorbar": {
              "outlinewidth": 0,
              "ticks": ""
             }
            },
            "type": "scatterternary"
           }
          ],
          "surface": [
           {
            "colorbar": {
             "outlinewidth": 0,
             "ticks": ""
            },
            "colorscale": [
             [
              0,
              "#0d0887"
             ],
             [
              0.1111111111111111,
              "#46039f"
             ],
             [
              0.2222222222222222,
              "#7201a8"
             ],
             [
              0.3333333333333333,
              "#9c179e"
             ],
             [
              0.4444444444444444,
              "#bd3786"
             ],
             [
              0.5555555555555556,
              "#d8576b"
             ],
             [
              0.6666666666666666,
              "#ed7953"
             ],
             [
              0.7777777777777778,
              "#fb9f3a"
             ],
             [
              0.8888888888888888,
              "#fdca26"
             ],
             [
              1,
              "#f0f921"
             ]
            ],
            "type": "surface"
           }
          ],
          "table": [
           {
            "cells": {
             "fill": {
              "color": "#EBF0F8"
             },
             "line": {
              "color": "white"
             }
            },
            "header": {
             "fill": {
              "color": "#C8D4E3"
             },
             "line": {
              "color": "white"
             }
            },
            "type": "table"
           }
          ]
         },
         "layout": {
          "annotationdefaults": {
           "arrowcolor": "#2a3f5f",
           "arrowhead": 0,
           "arrowwidth": 1
          },
          "autotypenumbers": "strict",
          "coloraxis": {
           "colorbar": {
            "outlinewidth": 0,
            "ticks": ""
           }
          },
          "colorscale": {
           "diverging": [
            [
             0,
             "#8e0152"
            ],
            [
             0.1,
             "#c51b7d"
            ],
            [
             0.2,
             "#de77ae"
            ],
            [
             0.3,
             "#f1b6da"
            ],
            [
             0.4,
             "#fde0ef"
            ],
            [
             0.5,
             "#f7f7f7"
            ],
            [
             0.6,
             "#e6f5d0"
            ],
            [
             0.7,
             "#b8e186"
            ],
            [
             0.8,
             "#7fbc41"
            ],
            [
             0.9,
             "#4d9221"
            ],
            [
             1,
             "#276419"
            ]
           ],
           "sequential": [
            [
             0,
             "#0d0887"
            ],
            [
             0.1111111111111111,
             "#46039f"
            ],
            [
             0.2222222222222222,
             "#7201a8"
            ],
            [
             0.3333333333333333,
             "#9c179e"
            ],
            [
             0.4444444444444444,
             "#bd3786"
            ],
            [
             0.5555555555555556,
             "#d8576b"
            ],
            [
             0.6666666666666666,
             "#ed7953"
            ],
            [
             0.7777777777777778,
             "#fb9f3a"
            ],
            [
             0.8888888888888888,
             "#fdca26"
            ],
            [
             1,
             "#f0f921"
            ]
           ],
           "sequentialminus": [
            [
             0,
             "#0d0887"
            ],
            [
             0.1111111111111111,
             "#46039f"
            ],
            [
             0.2222222222222222,
             "#7201a8"
            ],
            [
             0.3333333333333333,
             "#9c179e"
            ],
            [
             0.4444444444444444,
             "#bd3786"
            ],
            [
             0.5555555555555556,
             "#d8576b"
            ],
            [
             0.6666666666666666,
             "#ed7953"
            ],
            [
             0.7777777777777778,
             "#fb9f3a"
            ],
            [
             0.8888888888888888,
             "#fdca26"
            ],
            [
             1,
             "#f0f921"
            ]
           ]
          },
          "colorway": [
           "#636efa",
           "#EF553B",
           "#00cc96",
           "#ab63fa",
           "#FFA15A",
           "#19d3f3",
           "#FF6692",
           "#B6E880",
           "#FF97FF",
           "#FECB52"
          ],
          "font": {
           "color": "#2a3f5f"
          },
          "geo": {
           "bgcolor": "white",
           "lakecolor": "white",
           "landcolor": "#E5ECF6",
           "showlakes": true,
           "showland": true,
           "subunitcolor": "white"
          },
          "hoverlabel": {
           "align": "left"
          },
          "hovermode": "closest",
          "mapbox": {
           "style": "light"
          },
          "paper_bgcolor": "white",
          "plot_bgcolor": "#E5ECF6",
          "polar": {
           "angularaxis": {
            "gridcolor": "white",
            "linecolor": "white",
            "ticks": ""
           },
           "bgcolor": "#E5ECF6",
           "radialaxis": {
            "gridcolor": "white",
            "linecolor": "white",
            "ticks": ""
           }
          },
          "scene": {
           "xaxis": {
            "backgroundcolor": "#E5ECF6",
            "gridcolor": "white",
            "gridwidth": 2,
            "linecolor": "white",
            "showbackground": true,
            "ticks": "",
            "zerolinecolor": "white"
           },
           "yaxis": {
            "backgroundcolor": "#E5ECF6",
            "gridcolor": "white",
            "gridwidth": 2,
            "linecolor": "white",
            "showbackground": true,
            "ticks": "",
            "zerolinecolor": "white"
           },
           "zaxis": {
            "backgroundcolor": "#E5ECF6",
            "gridcolor": "white",
            "gridwidth": 2,
            "linecolor": "white",
            "showbackground": true,
            "ticks": "",
            "zerolinecolor": "white"
           }
          },
          "shapedefaults": {
           "line": {
            "color": "#2a3f5f"
           }
          },
          "ternary": {
           "aaxis": {
            "gridcolor": "white",
            "linecolor": "white",
            "ticks": ""
           },
           "baxis": {
            "gridcolor": "white",
            "linecolor": "white",
            "ticks": ""
           },
           "bgcolor": "#E5ECF6",
           "caxis": {
            "gridcolor": "white",
            "linecolor": "white",
            "ticks": ""
           }
          },
          "title": {
           "x": 0.05
          },
          "xaxis": {
           "automargin": true,
           "gridcolor": "white",
           "linecolor": "white",
           "ticks": "",
           "title": {
            "standoff": 15
           },
           "zerolinecolor": "white",
           "zerolinewidth": 2
          },
          "yaxis": {
           "automargin": true,
           "gridcolor": "white",
           "linecolor": "white",
           "ticks": "",
           "title": {
            "standoff": 15
           },
           "zerolinecolor": "white",
           "zerolinewidth": 2
          }
         }
        },
        "xaxis": {
         "anchor": "y",
         "domain": [
          0,
          1
         ],
         "title": {
          "text": "Month"
         }
        },
        "yaxis": {
         "anchor": "x",
         "domain": [
          0,
          1
         ],
         "title": {
          "text": "Count of movies of released each month"
         }
        }
       }
      }
     },
     "metadata": {}
    }
   ],
   "metadata": {}
  },
  {
   "cell_type": "markdown",
   "source": [
    "### EDA of Day"
   ],
   "metadata": {}
  },
  {
   "cell_type": "code",
   "execution_count": 31,
   "source": [
    "day = data['day'].value_counts(sort=False)\r\n",
    "day"
   ],
   "outputs": [
    {
     "output_type": "execute_result",
     "data": {
      "text/plain": [
       "0     17\n",
       "4    383\n",
       "3     59\n",
       "1     29\n",
       "2     82\n",
       "6      9\n",
       "5      5\n",
       "Name: day, dtype: int64"
      ]
     },
     "metadata": {},
     "execution_count": 31
    }
   ],
   "metadata": {}
  },
  {
   "cell_type": "code",
   "execution_count": 32,
   "source": [
    "days = ['Mon', 'Tues' , 'Wed' , 'Thurs' , 'Fri' , 'Sat' , 'Sun']\r\n",
    "\r\n",
    "fig = px.bar(day, x=days, y=day.values, labels={'y': 'Count of Movies released each Day', 'x': 'Day'}, color_discrete_sequence=['brown'])\r\n",
    "\r\n",
    "fig.show()\r\n"
   ],
   "outputs": [
    {
     "output_type": "display_data",
     "data": {
      "application/vnd.plotly.v1+json": {
       "config": {
        "plotlyServerURL": "https://plot.ly"
       },
       "data": [
        {
         "alignmentgroup": "True",
         "hovertemplate": "Day=%{x}<br>Count of Movies released each Day=%{y}<extra></extra>",
         "legendgroup": "",
         "marker": {
          "color": "brown"
         },
         "name": "",
         "offsetgroup": "",
         "orientation": "v",
         "showlegend": false,
         "textposition": "auto",
         "type": "bar",
         "x": [
          "Mon",
          "Tues",
          "Wed",
          "Thurs",
          "Fri",
          "Sat",
          "Sun"
         ],
         "xaxis": "x",
         "y": [
          17,
          383,
          59,
          29,
          82,
          9,
          5
         ],
         "yaxis": "y"
        }
       ],
       "layout": {
        "barmode": "relative",
        "legend": {
         "tracegroupgap": 0
        },
        "margin": {
         "t": 60
        },
        "template": {
         "data": {
          "bar": [
           {
            "error_x": {
             "color": "#2a3f5f"
            },
            "error_y": {
             "color": "#2a3f5f"
            },
            "marker": {
             "line": {
              "color": "#E5ECF6",
              "width": 0.5
             }
            },
            "type": "bar"
           }
          ],
          "barpolar": [
           {
            "marker": {
             "line": {
              "color": "#E5ECF6",
              "width": 0.5
             }
            },
            "type": "barpolar"
           }
          ],
          "carpet": [
           {
            "aaxis": {
             "endlinecolor": "#2a3f5f",
             "gridcolor": "white",
             "linecolor": "white",
             "minorgridcolor": "white",
             "startlinecolor": "#2a3f5f"
            },
            "baxis": {
             "endlinecolor": "#2a3f5f",
             "gridcolor": "white",
             "linecolor": "white",
             "minorgridcolor": "white",
             "startlinecolor": "#2a3f5f"
            },
            "type": "carpet"
           }
          ],
          "choropleth": [
           {
            "colorbar": {
             "outlinewidth": 0,
             "ticks": ""
            },
            "type": "choropleth"
           }
          ],
          "contour": [
           {
            "colorbar": {
             "outlinewidth": 0,
             "ticks": ""
            },
            "colorscale": [
             [
              0,
              "#0d0887"
             ],
             [
              0.1111111111111111,
              "#46039f"
             ],
             [
              0.2222222222222222,
              "#7201a8"
             ],
             [
              0.3333333333333333,
              "#9c179e"
             ],
             [
              0.4444444444444444,
              "#bd3786"
             ],
             [
              0.5555555555555556,
              "#d8576b"
             ],
             [
              0.6666666666666666,
              "#ed7953"
             ],
             [
              0.7777777777777778,
              "#fb9f3a"
             ],
             [
              0.8888888888888888,
              "#fdca26"
             ],
             [
              1,
              "#f0f921"
             ]
            ],
            "type": "contour"
           }
          ],
          "contourcarpet": [
           {
            "colorbar": {
             "outlinewidth": 0,
             "ticks": ""
            },
            "type": "contourcarpet"
           }
          ],
          "heatmap": [
           {
            "colorbar": {
             "outlinewidth": 0,
             "ticks": ""
            },
            "colorscale": [
             [
              0,
              "#0d0887"
             ],
             [
              0.1111111111111111,
              "#46039f"
             ],
             [
              0.2222222222222222,
              "#7201a8"
             ],
             [
              0.3333333333333333,
              "#9c179e"
             ],
             [
              0.4444444444444444,
              "#bd3786"
             ],
             [
              0.5555555555555556,
              "#d8576b"
             ],
             [
              0.6666666666666666,
              "#ed7953"
             ],
             [
              0.7777777777777778,
              "#fb9f3a"
             ],
             [
              0.8888888888888888,
              "#fdca26"
             ],
             [
              1,
              "#f0f921"
             ]
            ],
            "type": "heatmap"
           }
          ],
          "heatmapgl": [
           {
            "colorbar": {
             "outlinewidth": 0,
             "ticks": ""
            },
            "colorscale": [
             [
              0,
              "#0d0887"
             ],
             [
              0.1111111111111111,
              "#46039f"
             ],
             [
              0.2222222222222222,
              "#7201a8"
             ],
             [
              0.3333333333333333,
              "#9c179e"
             ],
             [
              0.4444444444444444,
              "#bd3786"
             ],
             [
              0.5555555555555556,
              "#d8576b"
             ],
             [
              0.6666666666666666,
              "#ed7953"
             ],
             [
              0.7777777777777778,
              "#fb9f3a"
             ],
             [
              0.8888888888888888,
              "#fdca26"
             ],
             [
              1,
              "#f0f921"
             ]
            ],
            "type": "heatmapgl"
           }
          ],
          "histogram": [
           {
            "marker": {
             "colorbar": {
              "outlinewidth": 0,
              "ticks": ""
             }
            },
            "type": "histogram"
           }
          ],
          "histogram2d": [
           {
            "colorbar": {
             "outlinewidth": 0,
             "ticks": ""
            },
            "colorscale": [
             [
              0,
              "#0d0887"
             ],
             [
              0.1111111111111111,
              "#46039f"
             ],
             [
              0.2222222222222222,
              "#7201a8"
             ],
             [
              0.3333333333333333,
              "#9c179e"
             ],
             [
              0.4444444444444444,
              "#bd3786"
             ],
             [
              0.5555555555555556,
              "#d8576b"
             ],
             [
              0.6666666666666666,
              "#ed7953"
             ],
             [
              0.7777777777777778,
              "#fb9f3a"
             ],
             [
              0.8888888888888888,
              "#fdca26"
             ],
             [
              1,
              "#f0f921"
             ]
            ],
            "type": "histogram2d"
           }
          ],
          "histogram2dcontour": [
           {
            "colorbar": {
             "outlinewidth": 0,
             "ticks": ""
            },
            "colorscale": [
             [
              0,
              "#0d0887"
             ],
             [
              0.1111111111111111,
              "#46039f"
             ],
             [
              0.2222222222222222,
              "#7201a8"
             ],
             [
              0.3333333333333333,
              "#9c179e"
             ],
             [
              0.4444444444444444,
              "#bd3786"
             ],
             [
              0.5555555555555556,
              "#d8576b"
             ],
             [
              0.6666666666666666,
              "#ed7953"
             ],
             [
              0.7777777777777778,
              "#fb9f3a"
             ],
             [
              0.8888888888888888,
              "#fdca26"
             ],
             [
              1,
              "#f0f921"
             ]
            ],
            "type": "histogram2dcontour"
           }
          ],
          "mesh3d": [
           {
            "colorbar": {
             "outlinewidth": 0,
             "ticks": ""
            },
            "type": "mesh3d"
           }
          ],
          "parcoords": [
           {
            "line": {
             "colorbar": {
              "outlinewidth": 0,
              "ticks": ""
             }
            },
            "type": "parcoords"
           }
          ],
          "pie": [
           {
            "automargin": true,
            "type": "pie"
           }
          ],
          "scatter": [
           {
            "marker": {
             "colorbar": {
              "outlinewidth": 0,
              "ticks": ""
             }
            },
            "type": "scatter"
           }
          ],
          "scatter3d": [
           {
            "line": {
             "colorbar": {
              "outlinewidth": 0,
              "ticks": ""
             }
            },
            "marker": {
             "colorbar": {
              "outlinewidth": 0,
              "ticks": ""
             }
            },
            "type": "scatter3d"
           }
          ],
          "scattercarpet": [
           {
            "marker": {
             "colorbar": {
              "outlinewidth": 0,
              "ticks": ""
             }
            },
            "type": "scattercarpet"
           }
          ],
          "scattergeo": [
           {
            "marker": {
             "colorbar": {
              "outlinewidth": 0,
              "ticks": ""
             }
            },
            "type": "scattergeo"
           }
          ],
          "scattergl": [
           {
            "marker": {
             "colorbar": {
              "outlinewidth": 0,
              "ticks": ""
             }
            },
            "type": "scattergl"
           }
          ],
          "scattermapbox": [
           {
            "marker": {
             "colorbar": {
              "outlinewidth": 0,
              "ticks": ""
             }
            },
            "type": "scattermapbox"
           }
          ],
          "scatterpolar": [
           {
            "marker": {
             "colorbar": {
              "outlinewidth": 0,
              "ticks": ""
             }
            },
            "type": "scatterpolar"
           }
          ],
          "scatterpolargl": [
           {
            "marker": {
             "colorbar": {
              "outlinewidth": 0,
              "ticks": ""
             }
            },
            "type": "scatterpolargl"
           }
          ],
          "scatterternary": [
           {
            "marker": {
             "colorbar": {
              "outlinewidth": 0,
              "ticks": ""
             }
            },
            "type": "scatterternary"
           }
          ],
          "surface": [
           {
            "colorbar": {
             "outlinewidth": 0,
             "ticks": ""
            },
            "colorscale": [
             [
              0,
              "#0d0887"
             ],
             [
              0.1111111111111111,
              "#46039f"
             ],
             [
              0.2222222222222222,
              "#7201a8"
             ],
             [
              0.3333333333333333,
              "#9c179e"
             ],
             [
              0.4444444444444444,
              "#bd3786"
             ],
             [
              0.5555555555555556,
              "#d8576b"
             ],
             [
              0.6666666666666666,
              "#ed7953"
             ],
             [
              0.7777777777777778,
              "#fb9f3a"
             ],
             [
              0.8888888888888888,
              "#fdca26"
             ],
             [
              1,
              "#f0f921"
             ]
            ],
            "type": "surface"
           }
          ],
          "table": [
           {
            "cells": {
             "fill": {
              "color": "#EBF0F8"
             },
             "line": {
              "color": "white"
             }
            },
            "header": {
             "fill": {
              "color": "#C8D4E3"
             },
             "line": {
              "color": "white"
             }
            },
            "type": "table"
           }
          ]
         },
         "layout": {
          "annotationdefaults": {
           "arrowcolor": "#2a3f5f",
           "arrowhead": 0,
           "arrowwidth": 1
          },
          "autotypenumbers": "strict",
          "coloraxis": {
           "colorbar": {
            "outlinewidth": 0,
            "ticks": ""
           }
          },
          "colorscale": {
           "diverging": [
            [
             0,
             "#8e0152"
            ],
            [
             0.1,
             "#c51b7d"
            ],
            [
             0.2,
             "#de77ae"
            ],
            [
             0.3,
             "#f1b6da"
            ],
            [
             0.4,
             "#fde0ef"
            ],
            [
             0.5,
             "#f7f7f7"
            ],
            [
             0.6,
             "#e6f5d0"
            ],
            [
             0.7,
             "#b8e186"
            ],
            [
             0.8,
             "#7fbc41"
            ],
            [
             0.9,
             "#4d9221"
            ],
            [
             1,
             "#276419"
            ]
           ],
           "sequential": [
            [
             0,
             "#0d0887"
            ],
            [
             0.1111111111111111,
             "#46039f"
            ],
            [
             0.2222222222222222,
             "#7201a8"
            ],
            [
             0.3333333333333333,
             "#9c179e"
            ],
            [
             0.4444444444444444,
             "#bd3786"
            ],
            [
             0.5555555555555556,
             "#d8576b"
            ],
            [
             0.6666666666666666,
             "#ed7953"
            ],
            [
             0.7777777777777778,
             "#fb9f3a"
            ],
            [
             0.8888888888888888,
             "#fdca26"
            ],
            [
             1,
             "#f0f921"
            ]
           ],
           "sequentialminus": [
            [
             0,
             "#0d0887"
            ],
            [
             0.1111111111111111,
             "#46039f"
            ],
            [
             0.2222222222222222,
             "#7201a8"
            ],
            [
             0.3333333333333333,
             "#9c179e"
            ],
            [
             0.4444444444444444,
             "#bd3786"
            ],
            [
             0.5555555555555556,
             "#d8576b"
            ],
            [
             0.6666666666666666,
             "#ed7953"
            ],
            [
             0.7777777777777778,
             "#fb9f3a"
            ],
            [
             0.8888888888888888,
             "#fdca26"
            ],
            [
             1,
             "#f0f921"
            ]
           ]
          },
          "colorway": [
           "#636efa",
           "#EF553B",
           "#00cc96",
           "#ab63fa",
           "#FFA15A",
           "#19d3f3",
           "#FF6692",
           "#B6E880",
           "#FF97FF",
           "#FECB52"
          ],
          "font": {
           "color": "#2a3f5f"
          },
          "geo": {
           "bgcolor": "white",
           "lakecolor": "white",
           "landcolor": "#E5ECF6",
           "showlakes": true,
           "showland": true,
           "subunitcolor": "white"
          },
          "hoverlabel": {
           "align": "left"
          },
          "hovermode": "closest",
          "mapbox": {
           "style": "light"
          },
          "paper_bgcolor": "white",
          "plot_bgcolor": "#E5ECF6",
          "polar": {
           "angularaxis": {
            "gridcolor": "white",
            "linecolor": "white",
            "ticks": ""
           },
           "bgcolor": "#E5ECF6",
           "radialaxis": {
            "gridcolor": "white",
            "linecolor": "white",
            "ticks": ""
           }
          },
          "scene": {
           "xaxis": {
            "backgroundcolor": "#E5ECF6",
            "gridcolor": "white",
            "gridwidth": 2,
            "linecolor": "white",
            "showbackground": true,
            "ticks": "",
            "zerolinecolor": "white"
           },
           "yaxis": {
            "backgroundcolor": "#E5ECF6",
            "gridcolor": "white",
            "gridwidth": 2,
            "linecolor": "white",
            "showbackground": true,
            "ticks": "",
            "zerolinecolor": "white"
           },
           "zaxis": {
            "backgroundcolor": "#E5ECF6",
            "gridcolor": "white",
            "gridwidth": 2,
            "linecolor": "white",
            "showbackground": true,
            "ticks": "",
            "zerolinecolor": "white"
           }
          },
          "shapedefaults": {
           "line": {
            "color": "#2a3f5f"
           }
          },
          "ternary": {
           "aaxis": {
            "gridcolor": "white",
            "linecolor": "white",
            "ticks": ""
           },
           "baxis": {
            "gridcolor": "white",
            "linecolor": "white",
            "ticks": ""
           },
           "bgcolor": "#E5ECF6",
           "caxis": {
            "gridcolor": "white",
            "linecolor": "white",
            "ticks": ""
           }
          },
          "title": {
           "x": 0.05
          },
          "xaxis": {
           "automargin": true,
           "gridcolor": "white",
           "linecolor": "white",
           "ticks": "",
           "title": {
            "standoff": 15
           },
           "zerolinecolor": "white",
           "zerolinewidth": 2
          },
          "yaxis": {
           "automargin": true,
           "gridcolor": "white",
           "linecolor": "white",
           "ticks": "",
           "title": {
            "standoff": 15
           },
           "zerolinecolor": "white",
           "zerolinewidth": 2
          }
         }
        },
        "xaxis": {
         "anchor": "y",
         "domain": [
          0,
          1
         ],
         "title": {
          "text": "Day"
         }
        },
        "yaxis": {
         "anchor": "x",
         "domain": [
          0,
          1
         ],
         "title": {
          "text": "Count of Movies released each Day"
         }
        }
       }
      }
     },
     "metadata": {}
    }
   ],
   "metadata": {}
  },
  {
   "cell_type": "markdown",
   "source": [
    "## Top Entries"
   ],
   "metadata": {}
  },
  {
   "cell_type": "code",
   "execution_count": 33,
   "source": [
    "top_10_rating_bygenre = data.groupby('Genre')['IMDB Score'].mean().sort_values(ascending=False)[:10]\r\n",
    "\r\n",
    "top_10_rating_bygenre"
   ],
   "outputs": [
    {
     "output_type": "execute_result",
     "data": {
      "text/plain": [
       "Genre\n",
       "Animation/Christmas/Comedy/Adventure    8.200000\n",
       "Musical / Short                         7.700000\n",
       "Concert Film                            7.633333\n",
       "Anthology/Dark comedy                   7.600000\n",
       "Animation / Science Fiction             7.500000\n",
       "Making-of                               7.450000\n",
       "Action-adventure                        7.300000\n",
       "Historical drama                        7.200000\n",
       "Coming-of-age comedy-drama              7.200000\n",
       "Drama-Comedy                            7.200000\n",
       "Name: IMDB Score, dtype: float64"
      ]
     },
     "metadata": {},
     "execution_count": 33
    }
   ],
   "metadata": {}
  },
  {
   "cell_type": "code",
   "execution_count": 34,
   "source": [
    "fig = px.bar(top_10_rating_bygenre, x=top_10_rating_bygenre.index, y=top_10_rating_bygenre.values,labels={'y': 'Average Rating Score', 'x': 'Genre'}, color_discrete_sequence=['pink'])\r\n",
    "\r\n",
    "fig.show()\r\n"
   ],
   "outputs": [
    {
     "output_type": "display_data",
     "data": {
      "application/vnd.plotly.v1+json": {
       "config": {
        "plotlyServerURL": "https://plot.ly"
       },
       "data": [
        {
         "alignmentgroup": "True",
         "hovertemplate": "Genre=%{x}<br>Average Rating Score=%{y}<extra></extra>",
         "legendgroup": "",
         "marker": {
          "color": "pink"
         },
         "name": "",
         "offsetgroup": "",
         "orientation": "v",
         "showlegend": false,
         "textposition": "auto",
         "type": "bar",
         "x": [
          "Animation/Christmas/Comedy/Adventure",
          "Musical / Short",
          "Concert Film",
          "Anthology/Dark comedy",
          "Animation / Science Fiction",
          "Making-of",
          "Action-adventure",
          "Historical drama",
          "Coming-of-age comedy-drama",
          "Drama-Comedy"
         ],
         "xaxis": "x",
         "y": [
          8.2,
          7.7,
          7.633333333333334,
          7.6,
          7.5,
          7.45,
          7.3,
          7.2,
          7.2,
          7.2
         ],
         "yaxis": "y"
        }
       ],
       "layout": {
        "barmode": "relative",
        "legend": {
         "tracegroupgap": 0
        },
        "margin": {
         "t": 60
        },
        "template": {
         "data": {
          "bar": [
           {
            "error_x": {
             "color": "#2a3f5f"
            },
            "error_y": {
             "color": "#2a3f5f"
            },
            "marker": {
             "line": {
              "color": "#E5ECF6",
              "width": 0.5
             }
            },
            "type": "bar"
           }
          ],
          "barpolar": [
           {
            "marker": {
             "line": {
              "color": "#E5ECF6",
              "width": 0.5
             }
            },
            "type": "barpolar"
           }
          ],
          "carpet": [
           {
            "aaxis": {
             "endlinecolor": "#2a3f5f",
             "gridcolor": "white",
             "linecolor": "white",
             "minorgridcolor": "white",
             "startlinecolor": "#2a3f5f"
            },
            "baxis": {
             "endlinecolor": "#2a3f5f",
             "gridcolor": "white",
             "linecolor": "white",
             "minorgridcolor": "white",
             "startlinecolor": "#2a3f5f"
            },
            "type": "carpet"
           }
          ],
          "choropleth": [
           {
            "colorbar": {
             "outlinewidth": 0,
             "ticks": ""
            },
            "type": "choropleth"
           }
          ],
          "contour": [
           {
            "colorbar": {
             "outlinewidth": 0,
             "ticks": ""
            },
            "colorscale": [
             [
              0,
              "#0d0887"
             ],
             [
              0.1111111111111111,
              "#46039f"
             ],
             [
              0.2222222222222222,
              "#7201a8"
             ],
             [
              0.3333333333333333,
              "#9c179e"
             ],
             [
              0.4444444444444444,
              "#bd3786"
             ],
             [
              0.5555555555555556,
              "#d8576b"
             ],
             [
              0.6666666666666666,
              "#ed7953"
             ],
             [
              0.7777777777777778,
              "#fb9f3a"
             ],
             [
              0.8888888888888888,
              "#fdca26"
             ],
             [
              1,
              "#f0f921"
             ]
            ],
            "type": "contour"
           }
          ],
          "contourcarpet": [
           {
            "colorbar": {
             "outlinewidth": 0,
             "ticks": ""
            },
            "type": "contourcarpet"
           }
          ],
          "heatmap": [
           {
            "colorbar": {
             "outlinewidth": 0,
             "ticks": ""
            },
            "colorscale": [
             [
              0,
              "#0d0887"
             ],
             [
              0.1111111111111111,
              "#46039f"
             ],
             [
              0.2222222222222222,
              "#7201a8"
             ],
             [
              0.3333333333333333,
              "#9c179e"
             ],
             [
              0.4444444444444444,
              "#bd3786"
             ],
             [
              0.5555555555555556,
              "#d8576b"
             ],
             [
              0.6666666666666666,
              "#ed7953"
             ],
             [
              0.7777777777777778,
              "#fb9f3a"
             ],
             [
              0.8888888888888888,
              "#fdca26"
             ],
             [
              1,
              "#f0f921"
             ]
            ],
            "type": "heatmap"
           }
          ],
          "heatmapgl": [
           {
            "colorbar": {
             "outlinewidth": 0,
             "ticks": ""
            },
            "colorscale": [
             [
              0,
              "#0d0887"
             ],
             [
              0.1111111111111111,
              "#46039f"
             ],
             [
              0.2222222222222222,
              "#7201a8"
             ],
             [
              0.3333333333333333,
              "#9c179e"
             ],
             [
              0.4444444444444444,
              "#bd3786"
             ],
             [
              0.5555555555555556,
              "#d8576b"
             ],
             [
              0.6666666666666666,
              "#ed7953"
             ],
             [
              0.7777777777777778,
              "#fb9f3a"
             ],
             [
              0.8888888888888888,
              "#fdca26"
             ],
             [
              1,
              "#f0f921"
             ]
            ],
            "type": "heatmapgl"
           }
          ],
          "histogram": [
           {
            "marker": {
             "colorbar": {
              "outlinewidth": 0,
              "ticks": ""
             }
            },
            "type": "histogram"
           }
          ],
          "histogram2d": [
           {
            "colorbar": {
             "outlinewidth": 0,
             "ticks": ""
            },
            "colorscale": [
             [
              0,
              "#0d0887"
             ],
             [
              0.1111111111111111,
              "#46039f"
             ],
             [
              0.2222222222222222,
              "#7201a8"
             ],
             [
              0.3333333333333333,
              "#9c179e"
             ],
             [
              0.4444444444444444,
              "#bd3786"
             ],
             [
              0.5555555555555556,
              "#d8576b"
             ],
             [
              0.6666666666666666,
              "#ed7953"
             ],
             [
              0.7777777777777778,
              "#fb9f3a"
             ],
             [
              0.8888888888888888,
              "#fdca26"
             ],
             [
              1,
              "#f0f921"
             ]
            ],
            "type": "histogram2d"
           }
          ],
          "histogram2dcontour": [
           {
            "colorbar": {
             "outlinewidth": 0,
             "ticks": ""
            },
            "colorscale": [
             [
              0,
              "#0d0887"
             ],
             [
              0.1111111111111111,
              "#46039f"
             ],
             [
              0.2222222222222222,
              "#7201a8"
             ],
             [
              0.3333333333333333,
              "#9c179e"
             ],
             [
              0.4444444444444444,
              "#bd3786"
             ],
             [
              0.5555555555555556,
              "#d8576b"
             ],
             [
              0.6666666666666666,
              "#ed7953"
             ],
             [
              0.7777777777777778,
              "#fb9f3a"
             ],
             [
              0.8888888888888888,
              "#fdca26"
             ],
             [
              1,
              "#f0f921"
             ]
            ],
            "type": "histogram2dcontour"
           }
          ],
          "mesh3d": [
           {
            "colorbar": {
             "outlinewidth": 0,
             "ticks": ""
            },
            "type": "mesh3d"
           }
          ],
          "parcoords": [
           {
            "line": {
             "colorbar": {
              "outlinewidth": 0,
              "ticks": ""
             }
            },
            "type": "parcoords"
           }
          ],
          "pie": [
           {
            "automargin": true,
            "type": "pie"
           }
          ],
          "scatter": [
           {
            "marker": {
             "colorbar": {
              "outlinewidth": 0,
              "ticks": ""
             }
            },
            "type": "scatter"
           }
          ],
          "scatter3d": [
           {
            "line": {
             "colorbar": {
              "outlinewidth": 0,
              "ticks": ""
             }
            },
            "marker": {
             "colorbar": {
              "outlinewidth": 0,
              "ticks": ""
             }
            },
            "type": "scatter3d"
           }
          ],
          "scattercarpet": [
           {
            "marker": {
             "colorbar": {
              "outlinewidth": 0,
              "ticks": ""
             }
            },
            "type": "scattercarpet"
           }
          ],
          "scattergeo": [
           {
            "marker": {
             "colorbar": {
              "outlinewidth": 0,
              "ticks": ""
             }
            },
            "type": "scattergeo"
           }
          ],
          "scattergl": [
           {
            "marker": {
             "colorbar": {
              "outlinewidth": 0,
              "ticks": ""
             }
            },
            "type": "scattergl"
           }
          ],
          "scattermapbox": [
           {
            "marker": {
             "colorbar": {
              "outlinewidth": 0,
              "ticks": ""
             }
            },
            "type": "scattermapbox"
           }
          ],
          "scatterpolar": [
           {
            "marker": {
             "colorbar": {
              "outlinewidth": 0,
              "ticks": ""
             }
            },
            "type": "scatterpolar"
           }
          ],
          "scatterpolargl": [
           {
            "marker": {
             "colorbar": {
              "outlinewidth": 0,
              "ticks": ""
             }
            },
            "type": "scatterpolargl"
           }
          ],
          "scatterternary": [
           {
            "marker": {
             "colorbar": {
              "outlinewidth": 0,
              "ticks": ""
             }
            },
            "type": "scatterternary"
           }
          ],
          "surface": [
           {
            "colorbar": {
             "outlinewidth": 0,
             "ticks": ""
            },
            "colorscale": [
             [
              0,
              "#0d0887"
             ],
             [
              0.1111111111111111,
              "#46039f"
             ],
             [
              0.2222222222222222,
              "#7201a8"
             ],
             [
              0.3333333333333333,
              "#9c179e"
             ],
             [
              0.4444444444444444,
              "#bd3786"
             ],
             [
              0.5555555555555556,
              "#d8576b"
             ],
             [
              0.6666666666666666,
              "#ed7953"
             ],
             [
              0.7777777777777778,
              "#fb9f3a"
             ],
             [
              0.8888888888888888,
              "#fdca26"
             ],
             [
              1,
              "#f0f921"
             ]
            ],
            "type": "surface"
           }
          ],
          "table": [
           {
            "cells": {
             "fill": {
              "color": "#EBF0F8"
             },
             "line": {
              "color": "white"
             }
            },
            "header": {
             "fill": {
              "color": "#C8D4E3"
             },
             "line": {
              "color": "white"
             }
            },
            "type": "table"
           }
          ]
         },
         "layout": {
          "annotationdefaults": {
           "arrowcolor": "#2a3f5f",
           "arrowhead": 0,
           "arrowwidth": 1
          },
          "autotypenumbers": "strict",
          "coloraxis": {
           "colorbar": {
            "outlinewidth": 0,
            "ticks": ""
           }
          },
          "colorscale": {
           "diverging": [
            [
             0,
             "#8e0152"
            ],
            [
             0.1,
             "#c51b7d"
            ],
            [
             0.2,
             "#de77ae"
            ],
            [
             0.3,
             "#f1b6da"
            ],
            [
             0.4,
             "#fde0ef"
            ],
            [
             0.5,
             "#f7f7f7"
            ],
            [
             0.6,
             "#e6f5d0"
            ],
            [
             0.7,
             "#b8e186"
            ],
            [
             0.8,
             "#7fbc41"
            ],
            [
             0.9,
             "#4d9221"
            ],
            [
             1,
             "#276419"
            ]
           ],
           "sequential": [
            [
             0,
             "#0d0887"
            ],
            [
             0.1111111111111111,
             "#46039f"
            ],
            [
             0.2222222222222222,
             "#7201a8"
            ],
            [
             0.3333333333333333,
             "#9c179e"
            ],
            [
             0.4444444444444444,
             "#bd3786"
            ],
            [
             0.5555555555555556,
             "#d8576b"
            ],
            [
             0.6666666666666666,
             "#ed7953"
            ],
            [
             0.7777777777777778,
             "#fb9f3a"
            ],
            [
             0.8888888888888888,
             "#fdca26"
            ],
            [
             1,
             "#f0f921"
            ]
           ],
           "sequentialminus": [
            [
             0,
             "#0d0887"
            ],
            [
             0.1111111111111111,
             "#46039f"
            ],
            [
             0.2222222222222222,
             "#7201a8"
            ],
            [
             0.3333333333333333,
             "#9c179e"
            ],
            [
             0.4444444444444444,
             "#bd3786"
            ],
            [
             0.5555555555555556,
             "#d8576b"
            ],
            [
             0.6666666666666666,
             "#ed7953"
            ],
            [
             0.7777777777777778,
             "#fb9f3a"
            ],
            [
             0.8888888888888888,
             "#fdca26"
            ],
            [
             1,
             "#f0f921"
            ]
           ]
          },
          "colorway": [
           "#636efa",
           "#EF553B",
           "#00cc96",
           "#ab63fa",
           "#FFA15A",
           "#19d3f3",
           "#FF6692",
           "#B6E880",
           "#FF97FF",
           "#FECB52"
          ],
          "font": {
           "color": "#2a3f5f"
          },
          "geo": {
           "bgcolor": "white",
           "lakecolor": "white",
           "landcolor": "#E5ECF6",
           "showlakes": true,
           "showland": true,
           "subunitcolor": "white"
          },
          "hoverlabel": {
           "align": "left"
          },
          "hovermode": "closest",
          "mapbox": {
           "style": "light"
          },
          "paper_bgcolor": "white",
          "plot_bgcolor": "#E5ECF6",
          "polar": {
           "angularaxis": {
            "gridcolor": "white",
            "linecolor": "white",
            "ticks": ""
           },
           "bgcolor": "#E5ECF6",
           "radialaxis": {
            "gridcolor": "white",
            "linecolor": "white",
            "ticks": ""
           }
          },
          "scene": {
           "xaxis": {
            "backgroundcolor": "#E5ECF6",
            "gridcolor": "white",
            "gridwidth": 2,
            "linecolor": "white",
            "showbackground": true,
            "ticks": "",
            "zerolinecolor": "white"
           },
           "yaxis": {
            "backgroundcolor": "#E5ECF6",
            "gridcolor": "white",
            "gridwidth": 2,
            "linecolor": "white",
            "showbackground": true,
            "ticks": "",
            "zerolinecolor": "white"
           },
           "zaxis": {
            "backgroundcolor": "#E5ECF6",
            "gridcolor": "white",
            "gridwidth": 2,
            "linecolor": "white",
            "showbackground": true,
            "ticks": "",
            "zerolinecolor": "white"
           }
          },
          "shapedefaults": {
           "line": {
            "color": "#2a3f5f"
           }
          },
          "ternary": {
           "aaxis": {
            "gridcolor": "white",
            "linecolor": "white",
            "ticks": ""
           },
           "baxis": {
            "gridcolor": "white",
            "linecolor": "white",
            "ticks": ""
           },
           "bgcolor": "#E5ECF6",
           "caxis": {
            "gridcolor": "white",
            "linecolor": "white",
            "ticks": ""
           }
          },
          "title": {
           "x": 0.05
          },
          "xaxis": {
           "automargin": true,
           "gridcolor": "white",
           "linecolor": "white",
           "ticks": "",
           "title": {
            "standoff": 15
           },
           "zerolinecolor": "white",
           "zerolinewidth": 2
          },
          "yaxis": {
           "automargin": true,
           "gridcolor": "white",
           "linecolor": "white",
           "ticks": "",
           "title": {
            "standoff": 15
           },
           "zerolinecolor": "white",
           "zerolinewidth": 2
          }
         }
        },
        "xaxis": {
         "anchor": "y",
         "domain": [
          0,
          1
         ],
         "title": {
          "text": "Genre"
         }
        },
        "yaxis": {
         "anchor": "x",
         "domain": [
          0,
          1
         ],
         "title": {
          "text": "Average Rating Score"
         }
        }
       }
      }
     },
     "metadata": {}
    }
   ],
   "metadata": {}
  },
  {
   "cell_type": "code",
   "execution_count": 35,
   "source": [
    "bottom_10_ratings_by_genre = data.groupby('Genre')['IMDB Score'].mean().sort_values()[:10]\r\n",
    "\r\n",
    "bottom_10_ratings_by_genre\r\n"
   ],
   "outputs": [
    {
     "output_type": "execute_result",
     "data": {
      "text/plain": [
       "Genre\n",
       "Heist film/Thriller        3.700000\n",
       "Musical/Western/Fantasy    3.900000\n",
       "Horror anthology           4.300000\n",
       "Political thriller         4.300000\n",
       "Superhero-Comedy           4.400000\n",
       "Science fiction/Drama      4.533333\n",
       "Romance drama              4.600000\n",
       "Mystery                    4.650000\n",
       "Horror thriller            4.700000\n",
       "Anime / Short              4.700000\n",
       "Name: IMDB Score, dtype: float64"
      ]
     },
     "metadata": {},
     "execution_count": 35
    }
   ],
   "metadata": {}
  },
  {
   "cell_type": "code",
   "execution_count": 36,
   "source": [
    "fig = px.bar(bottom_10_ratings_by_genre, x=bottom_10_ratings_by_genre.index, y=bottom_10_ratings_by_genre.values,labels={'y': 'Average Rating Score', 'x': 'Genre'}, color_discrete_sequence=['purple'])\r\n",
    "\r\n",
    "fig.show()\r\n"
   ],
   "outputs": [
    {
     "output_type": "display_data",
     "data": {
      "application/vnd.plotly.v1+json": {
       "config": {
        "plotlyServerURL": "https://plot.ly"
       },
       "data": [
        {
         "alignmentgroup": "True",
         "hovertemplate": "Genre=%{x}<br>Average Rating Score=%{y}<extra></extra>",
         "legendgroup": "",
         "marker": {
          "color": "purple"
         },
         "name": "",
         "offsetgroup": "",
         "orientation": "v",
         "showlegend": false,
         "textposition": "auto",
         "type": "bar",
         "x": [
          "Heist film/Thriller",
          "Musical/Western/Fantasy",
          "Horror anthology",
          "Political thriller",
          "Superhero-Comedy",
          "Science fiction/Drama",
          "Romance drama",
          "Mystery",
          "Horror thriller",
          "Anime / Short"
         ],
         "xaxis": "x",
         "y": [
          3.7,
          3.9,
          4.3,
          4.3,
          4.4,
          4.533333333333333,
          4.6,
          4.65,
          4.7,
          4.7
         ],
         "yaxis": "y"
        }
       ],
       "layout": {
        "barmode": "relative",
        "legend": {
         "tracegroupgap": 0
        },
        "margin": {
         "t": 60
        },
        "template": {
         "data": {
          "bar": [
           {
            "error_x": {
             "color": "#2a3f5f"
            },
            "error_y": {
             "color": "#2a3f5f"
            },
            "marker": {
             "line": {
              "color": "#E5ECF6",
              "width": 0.5
             }
            },
            "type": "bar"
           }
          ],
          "barpolar": [
           {
            "marker": {
             "line": {
              "color": "#E5ECF6",
              "width": 0.5
             }
            },
            "type": "barpolar"
           }
          ],
          "carpet": [
           {
            "aaxis": {
             "endlinecolor": "#2a3f5f",
             "gridcolor": "white",
             "linecolor": "white",
             "minorgridcolor": "white",
             "startlinecolor": "#2a3f5f"
            },
            "baxis": {
             "endlinecolor": "#2a3f5f",
             "gridcolor": "white",
             "linecolor": "white",
             "minorgridcolor": "white",
             "startlinecolor": "#2a3f5f"
            },
            "type": "carpet"
           }
          ],
          "choropleth": [
           {
            "colorbar": {
             "outlinewidth": 0,
             "ticks": ""
            },
            "type": "choropleth"
           }
          ],
          "contour": [
           {
            "colorbar": {
             "outlinewidth": 0,
             "ticks": ""
            },
            "colorscale": [
             [
              0,
              "#0d0887"
             ],
             [
              0.1111111111111111,
              "#46039f"
             ],
             [
              0.2222222222222222,
              "#7201a8"
             ],
             [
              0.3333333333333333,
              "#9c179e"
             ],
             [
              0.4444444444444444,
              "#bd3786"
             ],
             [
              0.5555555555555556,
              "#d8576b"
             ],
             [
              0.6666666666666666,
              "#ed7953"
             ],
             [
              0.7777777777777778,
              "#fb9f3a"
             ],
             [
              0.8888888888888888,
              "#fdca26"
             ],
             [
              1,
              "#f0f921"
             ]
            ],
            "type": "contour"
           }
          ],
          "contourcarpet": [
           {
            "colorbar": {
             "outlinewidth": 0,
             "ticks": ""
            },
            "type": "contourcarpet"
           }
          ],
          "heatmap": [
           {
            "colorbar": {
             "outlinewidth": 0,
             "ticks": ""
            },
            "colorscale": [
             [
              0,
              "#0d0887"
             ],
             [
              0.1111111111111111,
              "#46039f"
             ],
             [
              0.2222222222222222,
              "#7201a8"
             ],
             [
              0.3333333333333333,
              "#9c179e"
             ],
             [
              0.4444444444444444,
              "#bd3786"
             ],
             [
              0.5555555555555556,
              "#d8576b"
             ],
             [
              0.6666666666666666,
              "#ed7953"
             ],
             [
              0.7777777777777778,
              "#fb9f3a"
             ],
             [
              0.8888888888888888,
              "#fdca26"
             ],
             [
              1,
              "#f0f921"
             ]
            ],
            "type": "heatmap"
           }
          ],
          "heatmapgl": [
           {
            "colorbar": {
             "outlinewidth": 0,
             "ticks": ""
            },
            "colorscale": [
             [
              0,
              "#0d0887"
             ],
             [
              0.1111111111111111,
              "#46039f"
             ],
             [
              0.2222222222222222,
              "#7201a8"
             ],
             [
              0.3333333333333333,
              "#9c179e"
             ],
             [
              0.4444444444444444,
              "#bd3786"
             ],
             [
              0.5555555555555556,
              "#d8576b"
             ],
             [
              0.6666666666666666,
              "#ed7953"
             ],
             [
              0.7777777777777778,
              "#fb9f3a"
             ],
             [
              0.8888888888888888,
              "#fdca26"
             ],
             [
              1,
              "#f0f921"
             ]
            ],
            "type": "heatmapgl"
           }
          ],
          "histogram": [
           {
            "marker": {
             "colorbar": {
              "outlinewidth": 0,
              "ticks": ""
             }
            },
            "type": "histogram"
           }
          ],
          "histogram2d": [
           {
            "colorbar": {
             "outlinewidth": 0,
             "ticks": ""
            },
            "colorscale": [
             [
              0,
              "#0d0887"
             ],
             [
              0.1111111111111111,
              "#46039f"
             ],
             [
              0.2222222222222222,
              "#7201a8"
             ],
             [
              0.3333333333333333,
              "#9c179e"
             ],
             [
              0.4444444444444444,
              "#bd3786"
             ],
             [
              0.5555555555555556,
              "#d8576b"
             ],
             [
              0.6666666666666666,
              "#ed7953"
             ],
             [
              0.7777777777777778,
              "#fb9f3a"
             ],
             [
              0.8888888888888888,
              "#fdca26"
             ],
             [
              1,
              "#f0f921"
             ]
            ],
            "type": "histogram2d"
           }
          ],
          "histogram2dcontour": [
           {
            "colorbar": {
             "outlinewidth": 0,
             "ticks": ""
            },
            "colorscale": [
             [
              0,
              "#0d0887"
             ],
             [
              0.1111111111111111,
              "#46039f"
             ],
             [
              0.2222222222222222,
              "#7201a8"
             ],
             [
              0.3333333333333333,
              "#9c179e"
             ],
             [
              0.4444444444444444,
              "#bd3786"
             ],
             [
              0.5555555555555556,
              "#d8576b"
             ],
             [
              0.6666666666666666,
              "#ed7953"
             ],
             [
              0.7777777777777778,
              "#fb9f3a"
             ],
             [
              0.8888888888888888,
              "#fdca26"
             ],
             [
              1,
              "#f0f921"
             ]
            ],
            "type": "histogram2dcontour"
           }
          ],
          "mesh3d": [
           {
            "colorbar": {
             "outlinewidth": 0,
             "ticks": ""
            },
            "type": "mesh3d"
           }
          ],
          "parcoords": [
           {
            "line": {
             "colorbar": {
              "outlinewidth": 0,
              "ticks": ""
             }
            },
            "type": "parcoords"
           }
          ],
          "pie": [
           {
            "automargin": true,
            "type": "pie"
           }
          ],
          "scatter": [
           {
            "marker": {
             "colorbar": {
              "outlinewidth": 0,
              "ticks": ""
             }
            },
            "type": "scatter"
           }
          ],
          "scatter3d": [
           {
            "line": {
             "colorbar": {
              "outlinewidth": 0,
              "ticks": ""
             }
            },
            "marker": {
             "colorbar": {
              "outlinewidth": 0,
              "ticks": ""
             }
            },
            "type": "scatter3d"
           }
          ],
          "scattercarpet": [
           {
            "marker": {
             "colorbar": {
              "outlinewidth": 0,
              "ticks": ""
             }
            },
            "type": "scattercarpet"
           }
          ],
          "scattergeo": [
           {
            "marker": {
             "colorbar": {
              "outlinewidth": 0,
              "ticks": ""
             }
            },
            "type": "scattergeo"
           }
          ],
          "scattergl": [
           {
            "marker": {
             "colorbar": {
              "outlinewidth": 0,
              "ticks": ""
             }
            },
            "type": "scattergl"
           }
          ],
          "scattermapbox": [
           {
            "marker": {
             "colorbar": {
              "outlinewidth": 0,
              "ticks": ""
             }
            },
            "type": "scattermapbox"
           }
          ],
          "scatterpolar": [
           {
            "marker": {
             "colorbar": {
              "outlinewidth": 0,
              "ticks": ""
             }
            },
            "type": "scatterpolar"
           }
          ],
          "scatterpolargl": [
           {
            "marker": {
             "colorbar": {
              "outlinewidth": 0,
              "ticks": ""
             }
            },
            "type": "scatterpolargl"
           }
          ],
          "scatterternary": [
           {
            "marker": {
             "colorbar": {
              "outlinewidth": 0,
              "ticks": ""
             }
            },
            "type": "scatterternary"
           }
          ],
          "surface": [
           {
            "colorbar": {
             "outlinewidth": 0,
             "ticks": ""
            },
            "colorscale": [
             [
              0,
              "#0d0887"
             ],
             [
              0.1111111111111111,
              "#46039f"
             ],
             [
              0.2222222222222222,
              "#7201a8"
             ],
             [
              0.3333333333333333,
              "#9c179e"
             ],
             [
              0.4444444444444444,
              "#bd3786"
             ],
             [
              0.5555555555555556,
              "#d8576b"
             ],
             [
              0.6666666666666666,
              "#ed7953"
             ],
             [
              0.7777777777777778,
              "#fb9f3a"
             ],
             [
              0.8888888888888888,
              "#fdca26"
             ],
             [
              1,
              "#f0f921"
             ]
            ],
            "type": "surface"
           }
          ],
          "table": [
           {
            "cells": {
             "fill": {
              "color": "#EBF0F8"
             },
             "line": {
              "color": "white"
             }
            },
            "header": {
             "fill": {
              "color": "#C8D4E3"
             },
             "line": {
              "color": "white"
             }
            },
            "type": "table"
           }
          ]
         },
         "layout": {
          "annotationdefaults": {
           "arrowcolor": "#2a3f5f",
           "arrowhead": 0,
           "arrowwidth": 1
          },
          "autotypenumbers": "strict",
          "coloraxis": {
           "colorbar": {
            "outlinewidth": 0,
            "ticks": ""
           }
          },
          "colorscale": {
           "diverging": [
            [
             0,
             "#8e0152"
            ],
            [
             0.1,
             "#c51b7d"
            ],
            [
             0.2,
             "#de77ae"
            ],
            [
             0.3,
             "#f1b6da"
            ],
            [
             0.4,
             "#fde0ef"
            ],
            [
             0.5,
             "#f7f7f7"
            ],
            [
             0.6,
             "#e6f5d0"
            ],
            [
             0.7,
             "#b8e186"
            ],
            [
             0.8,
             "#7fbc41"
            ],
            [
             0.9,
             "#4d9221"
            ],
            [
             1,
             "#276419"
            ]
           ],
           "sequential": [
            [
             0,
             "#0d0887"
            ],
            [
             0.1111111111111111,
             "#46039f"
            ],
            [
             0.2222222222222222,
             "#7201a8"
            ],
            [
             0.3333333333333333,
             "#9c179e"
            ],
            [
             0.4444444444444444,
             "#bd3786"
            ],
            [
             0.5555555555555556,
             "#d8576b"
            ],
            [
             0.6666666666666666,
             "#ed7953"
            ],
            [
             0.7777777777777778,
             "#fb9f3a"
            ],
            [
             0.8888888888888888,
             "#fdca26"
            ],
            [
             1,
             "#f0f921"
            ]
           ],
           "sequentialminus": [
            [
             0,
             "#0d0887"
            ],
            [
             0.1111111111111111,
             "#46039f"
            ],
            [
             0.2222222222222222,
             "#7201a8"
            ],
            [
             0.3333333333333333,
             "#9c179e"
            ],
            [
             0.4444444444444444,
             "#bd3786"
            ],
            [
             0.5555555555555556,
             "#d8576b"
            ],
            [
             0.6666666666666666,
             "#ed7953"
            ],
            [
             0.7777777777777778,
             "#fb9f3a"
            ],
            [
             0.8888888888888888,
             "#fdca26"
            ],
            [
             1,
             "#f0f921"
            ]
           ]
          },
          "colorway": [
           "#636efa",
           "#EF553B",
           "#00cc96",
           "#ab63fa",
           "#FFA15A",
           "#19d3f3",
           "#FF6692",
           "#B6E880",
           "#FF97FF",
           "#FECB52"
          ],
          "font": {
           "color": "#2a3f5f"
          },
          "geo": {
           "bgcolor": "white",
           "lakecolor": "white",
           "landcolor": "#E5ECF6",
           "showlakes": true,
           "showland": true,
           "subunitcolor": "white"
          },
          "hoverlabel": {
           "align": "left"
          },
          "hovermode": "closest",
          "mapbox": {
           "style": "light"
          },
          "paper_bgcolor": "white",
          "plot_bgcolor": "#E5ECF6",
          "polar": {
           "angularaxis": {
            "gridcolor": "white",
            "linecolor": "white",
            "ticks": ""
           },
           "bgcolor": "#E5ECF6",
           "radialaxis": {
            "gridcolor": "white",
            "linecolor": "white",
            "ticks": ""
           }
          },
          "scene": {
           "xaxis": {
            "backgroundcolor": "#E5ECF6",
            "gridcolor": "white",
            "gridwidth": 2,
            "linecolor": "white",
            "showbackground": true,
            "ticks": "",
            "zerolinecolor": "white"
           },
           "yaxis": {
            "backgroundcolor": "#E5ECF6",
            "gridcolor": "white",
            "gridwidth": 2,
            "linecolor": "white",
            "showbackground": true,
            "ticks": "",
            "zerolinecolor": "white"
           },
           "zaxis": {
            "backgroundcolor": "#E5ECF6",
            "gridcolor": "white",
            "gridwidth": 2,
            "linecolor": "white",
            "showbackground": true,
            "ticks": "",
            "zerolinecolor": "white"
           }
          },
          "shapedefaults": {
           "line": {
            "color": "#2a3f5f"
           }
          },
          "ternary": {
           "aaxis": {
            "gridcolor": "white",
            "linecolor": "white",
            "ticks": ""
           },
           "baxis": {
            "gridcolor": "white",
            "linecolor": "white",
            "ticks": ""
           },
           "bgcolor": "#E5ECF6",
           "caxis": {
            "gridcolor": "white",
            "linecolor": "white",
            "ticks": ""
           }
          },
          "title": {
           "x": 0.05
          },
          "xaxis": {
           "automargin": true,
           "gridcolor": "white",
           "linecolor": "white",
           "ticks": "",
           "title": {
            "standoff": 15
           },
           "zerolinecolor": "white",
           "zerolinewidth": 2
          },
          "yaxis": {
           "automargin": true,
           "gridcolor": "white",
           "linecolor": "white",
           "ticks": "",
           "title": {
            "standoff": 15
           },
           "zerolinecolor": "white",
           "zerolinewidth": 2
          }
         }
        },
        "xaxis": {
         "anchor": "y",
         "domain": [
          0,
          1
         ],
         "title": {
          "text": "Genre"
         }
        },
        "yaxis": {
         "anchor": "x",
         "domain": [
          0,
          1
         ],
         "title": {
          "text": "Average Rating Score"
         }
        }
       }
      }
     },
     "metadata": {}
    }
   ],
   "metadata": {}
  },
  {
   "cell_type": "markdown",
   "source": [
    "## Top 20 high rating movies"
   ],
   "metadata": {}
  },
  {
   "cell_type": "code",
   "execution_count": 37,
   "source": [
    "top_20_movies = data[['IMDB Score', 'Title', 'Genre', 'year', 'Language']].sort_values(['IMDB Score'] , ascending=False)[:20]\r\n",
    "\r\n",
    "top_20_movies\r\n"
   ],
   "outputs": [
    {
     "output_type": "execute_result",
     "data": {
      "text/html": [
       "<div>\n",
       "<style scoped>\n",
       "    .dataframe tbody tr th:only-of-type {\n",
       "        vertical-align: middle;\n",
       "    }\n",
       "\n",
       "    .dataframe tbody tr th {\n",
       "        vertical-align: top;\n",
       "    }\n",
       "\n",
       "    .dataframe thead th {\n",
       "        text-align: right;\n",
       "    }\n",
       "</style>\n",
       "<table border=\"1\" class=\"dataframe\">\n",
       "  <thead>\n",
       "    <tr style=\"text-align: right;\">\n",
       "      <th></th>\n",
       "      <th>IMDB Score</th>\n",
       "      <th>Title</th>\n",
       "      <th>Genre</th>\n",
       "      <th>year</th>\n",
       "      <th>Language</th>\n",
       "    </tr>\n",
       "  </thead>\n",
       "  <tbody>\n",
       "    <tr>\n",
       "      <th>583</th>\n",
       "      <td>9.0</td>\n",
       "      <td>David Attenborough: A Life on Our Planet</td>\n",
       "      <td>Documentary</td>\n",
       "      <td>2020</td>\n",
       "      <td>English</td>\n",
       "    </tr>\n",
       "    <tr>\n",
       "      <th>582</th>\n",
       "      <td>8.6</td>\n",
       "      <td>Emicida: AmarElo - It's All For Yesterday</td>\n",
       "      <td>Documentary</td>\n",
       "      <td>2020</td>\n",
       "      <td>Portuguese</td>\n",
       "    </tr>\n",
       "    <tr>\n",
       "      <th>581</th>\n",
       "      <td>8.5</td>\n",
       "      <td>Springsteen on Broadway</td>\n",
       "      <td>One-man show</td>\n",
       "      <td>2018</td>\n",
       "      <td>English</td>\n",
       "    </tr>\n",
       "    <tr>\n",
       "      <th>580</th>\n",
       "      <td>8.4</td>\n",
       "      <td>Winter on Fire: Ukraine's Fight for Freedom</td>\n",
       "      <td>Documentary</td>\n",
       "      <td>2015</td>\n",
       "      <td>English/Ukranian/Russian</td>\n",
       "    </tr>\n",
       "    <tr>\n",
       "      <th>579</th>\n",
       "      <td>8.4</td>\n",
       "      <td>Taylor Swift: Reputation Stadium Tour</td>\n",
       "      <td>Concert Film</td>\n",
       "      <td>2018</td>\n",
       "      <td>English</td>\n",
       "    </tr>\n",
       "    <tr>\n",
       "      <th>578</th>\n",
       "      <td>8.4</td>\n",
       "      <td>Ben Platt: Live from Radio City Music Hall</td>\n",
       "      <td>Concert Film</td>\n",
       "      <td>2020</td>\n",
       "      <td>English</td>\n",
       "    </tr>\n",
       "    <tr>\n",
       "      <th>577</th>\n",
       "      <td>8.3</td>\n",
       "      <td>Dancing with the Birds</td>\n",
       "      <td>Documentary</td>\n",
       "      <td>2019</td>\n",
       "      <td>English</td>\n",
       "    </tr>\n",
       "    <tr>\n",
       "      <th>576</th>\n",
       "      <td>8.3</td>\n",
       "      <td>Cuba and the Cameraman</td>\n",
       "      <td>Documentary</td>\n",
       "      <td>2017</td>\n",
       "      <td>English</td>\n",
       "    </tr>\n",
       "    <tr>\n",
       "      <th>573</th>\n",
       "      <td>8.2</td>\n",
       "      <td>Klaus</td>\n",
       "      <td>Animation/Christmas/Comedy/Adventure</td>\n",
       "      <td>2019</td>\n",
       "      <td>English</td>\n",
       "    </tr>\n",
       "    <tr>\n",
       "      <th>571</th>\n",
       "      <td>8.2</td>\n",
       "      <td>13th</td>\n",
       "      <td>Documentary</td>\n",
       "      <td>2016</td>\n",
       "      <td>English</td>\n",
       "    </tr>\n",
       "    <tr>\n",
       "      <th>572</th>\n",
       "      <td>8.2</td>\n",
       "      <td>Disclosure: Trans Lives on Screen</td>\n",
       "      <td>Documentary</td>\n",
       "      <td>2020</td>\n",
       "      <td>English</td>\n",
       "    </tr>\n",
       "    <tr>\n",
       "      <th>575</th>\n",
       "      <td>8.2</td>\n",
       "      <td>The Three Deaths of Marisela Escobedo</td>\n",
       "      <td>Documentary</td>\n",
       "      <td>2020</td>\n",
       "      <td>Spanish</td>\n",
       "    </tr>\n",
       "    <tr>\n",
       "      <th>574</th>\n",
       "      <td>8.2</td>\n",
       "      <td>Seaspiracy</td>\n",
       "      <td>Documentary</td>\n",
       "      <td>2021</td>\n",
       "      <td>English</td>\n",
       "    </tr>\n",
       "    <tr>\n",
       "      <th>570</th>\n",
       "      <td>8.1</td>\n",
       "      <td>Rising Phoenix</td>\n",
       "      <td>Documentary</td>\n",
       "      <td>2020</td>\n",
       "      <td>English</td>\n",
       "    </tr>\n",
       "    <tr>\n",
       "      <th>569</th>\n",
       "      <td>8.1</td>\n",
       "      <td>My Octopus Teacher</td>\n",
       "      <td>Documentary</td>\n",
       "      <td>2020</td>\n",
       "      <td>English</td>\n",
       "    </tr>\n",
       "    <tr>\n",
       "      <th>568</th>\n",
       "      <td>8.1</td>\n",
       "      <td>Chasing Coral</td>\n",
       "      <td>Documentary</td>\n",
       "      <td>2017</td>\n",
       "      <td>English</td>\n",
       "    </tr>\n",
       "    <tr>\n",
       "      <th>567</th>\n",
       "      <td>8.0</td>\n",
       "      <td>Struggle: The Life and Lost Art of Szukaiski</td>\n",
       "      <td>Documentary</td>\n",
       "      <td>2018</td>\n",
       "      <td>English</td>\n",
       "    </tr>\n",
       "    <tr>\n",
       "      <th>564</th>\n",
       "      <td>7.9</td>\n",
       "      <td>Icarus</td>\n",
       "      <td>Documentary</td>\n",
       "      <td>2017</td>\n",
       "      <td>English</td>\n",
       "    </tr>\n",
       "    <tr>\n",
       "      <th>563</th>\n",
       "      <td>7.9</td>\n",
       "      <td>A Secret Love</td>\n",
       "      <td>Documentary</td>\n",
       "      <td>2020</td>\n",
       "      <td>English</td>\n",
       "    </tr>\n",
       "    <tr>\n",
       "      <th>566</th>\n",
       "      <td>7.9</td>\n",
       "      <td>The Ivory Game</td>\n",
       "      <td>Documentary</td>\n",
       "      <td>2016</td>\n",
       "      <td>English</td>\n",
       "    </tr>\n",
       "  </tbody>\n",
       "</table>\n",
       "</div>"
      ],
      "text/plain": [
       "     IMDB Score                                         Title  \\\n",
       "583         9.0      David Attenborough: A Life on Our Planet   \n",
       "582         8.6     Emicida: AmarElo - It's All For Yesterday   \n",
       "581         8.5                       Springsteen on Broadway   \n",
       "580         8.4   Winter on Fire: Ukraine's Fight for Freedom   \n",
       "579         8.4         Taylor Swift: Reputation Stadium Tour   \n",
       "578         8.4    Ben Platt: Live from Radio City Music Hall   \n",
       "577         8.3                        Dancing with the Birds   \n",
       "576         8.3                       Cuba and the Cameraman    \n",
       "573         8.2                                         Klaus   \n",
       "571         8.2                                          13th   \n",
       "572         8.2             Disclosure: Trans Lives on Screen   \n",
       "575         8.2         The Three Deaths of Marisela Escobedo   \n",
       "574         8.2                                    Seaspiracy   \n",
       "570         8.1                                Rising Phoenix   \n",
       "569         8.1                            My Octopus Teacher   \n",
       "568         8.1                                Chasing Coral    \n",
       "567         8.0  Struggle: The Life and Lost Art of Szukaiski   \n",
       "564         7.9                                        Icarus   \n",
       "563         7.9                                 A Secret Love   \n",
       "566         7.9                                The Ivory Game   \n",
       "\n",
       "                                    Genre  year                  Language  \n",
       "583                           Documentary  2020                   English  \n",
       "582                           Documentary  2020                Portuguese  \n",
       "581                          One-man show  2018                   English  \n",
       "580                           Documentary  2015  English/Ukranian/Russian  \n",
       "579                          Concert Film  2018                   English  \n",
       "578                          Concert Film  2020                   English  \n",
       "577                           Documentary  2019                   English  \n",
       "576                           Documentary  2017                   English  \n",
       "573  Animation/Christmas/Comedy/Adventure  2019                   English  \n",
       "571                           Documentary  2016                   English  \n",
       "572                           Documentary  2020                   English  \n",
       "575                           Documentary  2020                   Spanish  \n",
       "574                           Documentary  2021                   English  \n",
       "570                           Documentary  2020                   English  \n",
       "569                           Documentary  2020                   English  \n",
       "568                           Documentary  2017                   English  \n",
       "567                           Documentary  2018                   English  \n",
       "564                           Documentary  2017                   English  \n",
       "563                           Documentary  2020                   English  \n",
       "566                           Documentary  2016                   English  "
      ]
     },
     "metadata": {},
     "execution_count": 37
    }
   ],
   "metadata": {}
  },
  {
   "cell_type": "code",
   "execution_count": 38,
   "source": [
    "fig = px.scatter(top_20_movies, y='Title', x='IMDB Score',hover_data=top_20_movies[['Genre', 'year','Language']], color='Genre',title=\"Top 20 High Rated Programs\")\r\n",
    "\r\n",
    "fig.show()\r\n"
   ],
   "outputs": [
    {
     "output_type": "display_data",
     "data": {
      "application/vnd.plotly.v1+json": {
       "config": {
        "plotlyServerURL": "https://plot.ly"
       },
       "data": [
        {
         "customdata": [
          [
           "Documentary",
           2020,
           "English"
          ],
          [
           "Documentary",
           2020,
           "Portuguese"
          ],
          [
           "Documentary",
           2015,
           "English/Ukranian/Russian"
          ],
          [
           "Documentary",
           2019,
           "English"
          ],
          [
           "Documentary",
           2017,
           "English"
          ],
          [
           "Documentary",
           2016,
           "English"
          ],
          [
           "Documentary",
           2020,
           "English"
          ],
          [
           "Documentary",
           2020,
           "Spanish"
          ],
          [
           "Documentary",
           2021,
           "English"
          ],
          [
           "Documentary",
           2020,
           "English"
          ],
          [
           "Documentary",
           2020,
           "English"
          ],
          [
           "Documentary",
           2017,
           "English"
          ],
          [
           "Documentary",
           2018,
           "English"
          ],
          [
           "Documentary",
           2017,
           "English"
          ],
          [
           "Documentary",
           2020,
           "English"
          ],
          [
           "Documentary",
           2016,
           "English"
          ]
         ],
         "hovertemplate": "Genre=%{customdata[0]}<br>IMDB Score=%{x}<br>Title=%{y}<br>year=%{customdata[1]}<br>Language=%{customdata[2]}<extra></extra>",
         "legendgroup": "Documentary",
         "marker": {
          "color": "#636efa",
          "symbol": "circle"
         },
         "mode": "markers",
         "name": "Documentary",
         "orientation": "h",
         "showlegend": true,
         "type": "scatter",
         "x": [
          9,
          8.6,
          8.4,
          8.3,
          8.3,
          8.2,
          8.2,
          8.2,
          8.2,
          8.1,
          8.1,
          8.1,
          8,
          7.9,
          7.9,
          7.9
         ],
         "xaxis": "x",
         "y": [
          "David Attenborough: A Life on Our Planet",
          "Emicida: AmarElo - It's All For Yesterday",
          "Winter on Fire: Ukraine's Fight for Freedom",
          "Dancing with the Birds",
          "Cuba and the Cameraman ",
          "13th",
          "Disclosure: Trans Lives on Screen",
          "The Three Deaths of Marisela Escobedo",
          "Seaspiracy",
          "Rising Phoenix",
          "My Octopus Teacher",
          "Chasing Coral ",
          "Struggle: The Life and Lost Art of Szukaiski",
          "Icarus",
          "A Secret Love",
          "The Ivory Game"
         ],
         "yaxis": "y"
        },
        {
         "customdata": [
          [
           "One-man show",
           2018,
           "English"
          ]
         ],
         "hovertemplate": "Genre=%{customdata[0]}<br>IMDB Score=%{x}<br>Title=%{y}<br>year=%{customdata[1]}<br>Language=%{customdata[2]}<extra></extra>",
         "legendgroup": "One-man show",
         "marker": {
          "color": "#EF553B",
          "symbol": "circle"
         },
         "mode": "markers",
         "name": "One-man show",
         "orientation": "h",
         "showlegend": true,
         "type": "scatter",
         "x": [
          8.5
         ],
         "xaxis": "x",
         "y": [
          "Springsteen on Broadway"
         ],
         "yaxis": "y"
        },
        {
         "customdata": [
          [
           "Concert Film",
           2018,
           "English"
          ],
          [
           "Concert Film",
           2020,
           "English"
          ]
         ],
         "hovertemplate": "Genre=%{customdata[0]}<br>IMDB Score=%{x}<br>Title=%{y}<br>year=%{customdata[1]}<br>Language=%{customdata[2]}<extra></extra>",
         "legendgroup": "Concert Film",
         "marker": {
          "color": "#00cc96",
          "symbol": "circle"
         },
         "mode": "markers",
         "name": "Concert Film",
         "orientation": "h",
         "showlegend": true,
         "type": "scatter",
         "x": [
          8.4,
          8.4
         ],
         "xaxis": "x",
         "y": [
          "Taylor Swift: Reputation Stadium Tour",
          "Ben Platt: Live from Radio City Music Hall"
         ],
         "yaxis": "y"
        },
        {
         "customdata": [
          [
           "Animation/Christmas/Comedy/Adventure",
           2019,
           "English"
          ]
         ],
         "hovertemplate": "Genre=%{customdata[0]}<br>IMDB Score=%{x}<br>Title=%{y}<br>year=%{customdata[1]}<br>Language=%{customdata[2]}<extra></extra>",
         "legendgroup": "Animation/Christmas/Comedy/Adventure",
         "marker": {
          "color": "#ab63fa",
          "symbol": "circle"
         },
         "mode": "markers",
         "name": "Animation/Christmas/Comedy/Adventure",
         "orientation": "h",
         "showlegend": true,
         "type": "scatter",
         "x": [
          8.2
         ],
         "xaxis": "x",
         "y": [
          "Klaus"
         ],
         "yaxis": "y"
        }
       ],
       "layout": {
        "legend": {
         "title": {
          "text": "Genre"
         },
         "tracegroupgap": 0
        },
        "template": {
         "data": {
          "bar": [
           {
            "error_x": {
             "color": "#2a3f5f"
            },
            "error_y": {
             "color": "#2a3f5f"
            },
            "marker": {
             "line": {
              "color": "#E5ECF6",
              "width": 0.5
             }
            },
            "type": "bar"
           }
          ],
          "barpolar": [
           {
            "marker": {
             "line": {
              "color": "#E5ECF6",
              "width": 0.5
             }
            },
            "type": "barpolar"
           }
          ],
          "carpet": [
           {
            "aaxis": {
             "endlinecolor": "#2a3f5f",
             "gridcolor": "white",
             "linecolor": "white",
             "minorgridcolor": "white",
             "startlinecolor": "#2a3f5f"
            },
            "baxis": {
             "endlinecolor": "#2a3f5f",
             "gridcolor": "white",
             "linecolor": "white",
             "minorgridcolor": "white",
             "startlinecolor": "#2a3f5f"
            },
            "type": "carpet"
           }
          ],
          "choropleth": [
           {
            "colorbar": {
             "outlinewidth": 0,
             "ticks": ""
            },
            "type": "choropleth"
           }
          ],
          "contour": [
           {
            "colorbar": {
             "outlinewidth": 0,
             "ticks": ""
            },
            "colorscale": [
             [
              0,
              "#0d0887"
             ],
             [
              0.1111111111111111,
              "#46039f"
             ],
             [
              0.2222222222222222,
              "#7201a8"
             ],
             [
              0.3333333333333333,
              "#9c179e"
             ],
             [
              0.4444444444444444,
              "#bd3786"
             ],
             [
              0.5555555555555556,
              "#d8576b"
             ],
             [
              0.6666666666666666,
              "#ed7953"
             ],
             [
              0.7777777777777778,
              "#fb9f3a"
             ],
             [
              0.8888888888888888,
              "#fdca26"
             ],
             [
              1,
              "#f0f921"
             ]
            ],
            "type": "contour"
           }
          ],
          "contourcarpet": [
           {
            "colorbar": {
             "outlinewidth": 0,
             "ticks": ""
            },
            "type": "contourcarpet"
           }
          ],
          "heatmap": [
           {
            "colorbar": {
             "outlinewidth": 0,
             "ticks": ""
            },
            "colorscale": [
             [
              0,
              "#0d0887"
             ],
             [
              0.1111111111111111,
              "#46039f"
             ],
             [
              0.2222222222222222,
              "#7201a8"
             ],
             [
              0.3333333333333333,
              "#9c179e"
             ],
             [
              0.4444444444444444,
              "#bd3786"
             ],
             [
              0.5555555555555556,
              "#d8576b"
             ],
             [
              0.6666666666666666,
              "#ed7953"
             ],
             [
              0.7777777777777778,
              "#fb9f3a"
             ],
             [
              0.8888888888888888,
              "#fdca26"
             ],
             [
              1,
              "#f0f921"
             ]
            ],
            "type": "heatmap"
           }
          ],
          "heatmapgl": [
           {
            "colorbar": {
             "outlinewidth": 0,
             "ticks": ""
            },
            "colorscale": [
             [
              0,
              "#0d0887"
             ],
             [
              0.1111111111111111,
              "#46039f"
             ],
             [
              0.2222222222222222,
              "#7201a8"
             ],
             [
              0.3333333333333333,
              "#9c179e"
             ],
             [
              0.4444444444444444,
              "#bd3786"
             ],
             [
              0.5555555555555556,
              "#d8576b"
             ],
             [
              0.6666666666666666,
              "#ed7953"
             ],
             [
              0.7777777777777778,
              "#fb9f3a"
             ],
             [
              0.8888888888888888,
              "#fdca26"
             ],
             [
              1,
              "#f0f921"
             ]
            ],
            "type": "heatmapgl"
           }
          ],
          "histogram": [
           {
            "marker": {
             "colorbar": {
              "outlinewidth": 0,
              "ticks": ""
             }
            },
            "type": "histogram"
           }
          ],
          "histogram2d": [
           {
            "colorbar": {
             "outlinewidth": 0,
             "ticks": ""
            },
            "colorscale": [
             [
              0,
              "#0d0887"
             ],
             [
              0.1111111111111111,
              "#46039f"
             ],
             [
              0.2222222222222222,
              "#7201a8"
             ],
             [
              0.3333333333333333,
              "#9c179e"
             ],
             [
              0.4444444444444444,
              "#bd3786"
             ],
             [
              0.5555555555555556,
              "#d8576b"
             ],
             [
              0.6666666666666666,
              "#ed7953"
             ],
             [
              0.7777777777777778,
              "#fb9f3a"
             ],
             [
              0.8888888888888888,
              "#fdca26"
             ],
             [
              1,
              "#f0f921"
             ]
            ],
            "type": "histogram2d"
           }
          ],
          "histogram2dcontour": [
           {
            "colorbar": {
             "outlinewidth": 0,
             "ticks": ""
            },
            "colorscale": [
             [
              0,
              "#0d0887"
             ],
             [
              0.1111111111111111,
              "#46039f"
             ],
             [
              0.2222222222222222,
              "#7201a8"
             ],
             [
              0.3333333333333333,
              "#9c179e"
             ],
             [
              0.4444444444444444,
              "#bd3786"
             ],
             [
              0.5555555555555556,
              "#d8576b"
             ],
             [
              0.6666666666666666,
              "#ed7953"
             ],
             [
              0.7777777777777778,
              "#fb9f3a"
             ],
             [
              0.8888888888888888,
              "#fdca26"
             ],
             [
              1,
              "#f0f921"
             ]
            ],
            "type": "histogram2dcontour"
           }
          ],
          "mesh3d": [
           {
            "colorbar": {
             "outlinewidth": 0,
             "ticks": ""
            },
            "type": "mesh3d"
           }
          ],
          "parcoords": [
           {
            "line": {
             "colorbar": {
              "outlinewidth": 0,
              "ticks": ""
             }
            },
            "type": "parcoords"
           }
          ],
          "pie": [
           {
            "automargin": true,
            "type": "pie"
           }
          ],
          "scatter": [
           {
            "marker": {
             "colorbar": {
              "outlinewidth": 0,
              "ticks": ""
             }
            },
            "type": "scatter"
           }
          ],
          "scatter3d": [
           {
            "line": {
             "colorbar": {
              "outlinewidth": 0,
              "ticks": ""
             }
            },
            "marker": {
             "colorbar": {
              "outlinewidth": 0,
              "ticks": ""
             }
            },
            "type": "scatter3d"
           }
          ],
          "scattercarpet": [
           {
            "marker": {
             "colorbar": {
              "outlinewidth": 0,
              "ticks": ""
             }
            },
            "type": "scattercarpet"
           }
          ],
          "scattergeo": [
           {
            "marker": {
             "colorbar": {
              "outlinewidth": 0,
              "ticks": ""
             }
            },
            "type": "scattergeo"
           }
          ],
          "scattergl": [
           {
            "marker": {
             "colorbar": {
              "outlinewidth": 0,
              "ticks": ""
             }
            },
            "type": "scattergl"
           }
          ],
          "scattermapbox": [
           {
            "marker": {
             "colorbar": {
              "outlinewidth": 0,
              "ticks": ""
             }
            },
            "type": "scattermapbox"
           }
          ],
          "scatterpolar": [
           {
            "marker": {
             "colorbar": {
              "outlinewidth": 0,
              "ticks": ""
             }
            },
            "type": "scatterpolar"
           }
          ],
          "scatterpolargl": [
           {
            "marker": {
             "colorbar": {
              "outlinewidth": 0,
              "ticks": ""
             }
            },
            "type": "scatterpolargl"
           }
          ],
          "scatterternary": [
           {
            "marker": {
             "colorbar": {
              "outlinewidth": 0,
              "ticks": ""
             }
            },
            "type": "scatterternary"
           }
          ],
          "surface": [
           {
            "colorbar": {
             "outlinewidth": 0,
             "ticks": ""
            },
            "colorscale": [
             [
              0,
              "#0d0887"
             ],
             [
              0.1111111111111111,
              "#46039f"
             ],
             [
              0.2222222222222222,
              "#7201a8"
             ],
             [
              0.3333333333333333,
              "#9c179e"
             ],
             [
              0.4444444444444444,
              "#bd3786"
             ],
             [
              0.5555555555555556,
              "#d8576b"
             ],
             [
              0.6666666666666666,
              "#ed7953"
             ],
             [
              0.7777777777777778,
              "#fb9f3a"
             ],
             [
              0.8888888888888888,
              "#fdca26"
             ],
             [
              1,
              "#f0f921"
             ]
            ],
            "type": "surface"
           }
          ],
          "table": [
           {
            "cells": {
             "fill": {
              "color": "#EBF0F8"
             },
             "line": {
              "color": "white"
             }
            },
            "header": {
             "fill": {
              "color": "#C8D4E3"
             },
             "line": {
              "color": "white"
             }
            },
            "type": "table"
           }
          ]
         },
         "layout": {
          "annotationdefaults": {
           "arrowcolor": "#2a3f5f",
           "arrowhead": 0,
           "arrowwidth": 1
          },
          "autotypenumbers": "strict",
          "coloraxis": {
           "colorbar": {
            "outlinewidth": 0,
            "ticks": ""
           }
          },
          "colorscale": {
           "diverging": [
            [
             0,
             "#8e0152"
            ],
            [
             0.1,
             "#c51b7d"
            ],
            [
             0.2,
             "#de77ae"
            ],
            [
             0.3,
             "#f1b6da"
            ],
            [
             0.4,
             "#fde0ef"
            ],
            [
             0.5,
             "#f7f7f7"
            ],
            [
             0.6,
             "#e6f5d0"
            ],
            [
             0.7,
             "#b8e186"
            ],
            [
             0.8,
             "#7fbc41"
            ],
            [
             0.9,
             "#4d9221"
            ],
            [
             1,
             "#276419"
            ]
           ],
           "sequential": [
            [
             0,
             "#0d0887"
            ],
            [
             0.1111111111111111,
             "#46039f"
            ],
            [
             0.2222222222222222,
             "#7201a8"
            ],
            [
             0.3333333333333333,
             "#9c179e"
            ],
            [
             0.4444444444444444,
             "#bd3786"
            ],
            [
             0.5555555555555556,
             "#d8576b"
            ],
            [
             0.6666666666666666,
             "#ed7953"
            ],
            [
             0.7777777777777778,
             "#fb9f3a"
            ],
            [
             0.8888888888888888,
             "#fdca26"
            ],
            [
             1,
             "#f0f921"
            ]
           ],
           "sequentialminus": [
            [
             0,
             "#0d0887"
            ],
            [
             0.1111111111111111,
             "#46039f"
            ],
            [
             0.2222222222222222,
             "#7201a8"
            ],
            [
             0.3333333333333333,
             "#9c179e"
            ],
            [
             0.4444444444444444,
             "#bd3786"
            ],
            [
             0.5555555555555556,
             "#d8576b"
            ],
            [
             0.6666666666666666,
             "#ed7953"
            ],
            [
             0.7777777777777778,
             "#fb9f3a"
            ],
            [
             0.8888888888888888,
             "#fdca26"
            ],
            [
             1,
             "#f0f921"
            ]
           ]
          },
          "colorway": [
           "#636efa",
           "#EF553B",
           "#00cc96",
           "#ab63fa",
           "#FFA15A",
           "#19d3f3",
           "#FF6692",
           "#B6E880",
           "#FF97FF",
           "#FECB52"
          ],
          "font": {
           "color": "#2a3f5f"
          },
          "geo": {
           "bgcolor": "white",
           "lakecolor": "white",
           "landcolor": "#E5ECF6",
           "showlakes": true,
           "showland": true,
           "subunitcolor": "white"
          },
          "hoverlabel": {
           "align": "left"
          },
          "hovermode": "closest",
          "mapbox": {
           "style": "light"
          },
          "paper_bgcolor": "white",
          "plot_bgcolor": "#E5ECF6",
          "polar": {
           "angularaxis": {
            "gridcolor": "white",
            "linecolor": "white",
            "ticks": ""
           },
           "bgcolor": "#E5ECF6",
           "radialaxis": {
            "gridcolor": "white",
            "linecolor": "white",
            "ticks": ""
           }
          },
          "scene": {
           "xaxis": {
            "backgroundcolor": "#E5ECF6",
            "gridcolor": "white",
            "gridwidth": 2,
            "linecolor": "white",
            "showbackground": true,
            "ticks": "",
            "zerolinecolor": "white"
           },
           "yaxis": {
            "backgroundcolor": "#E5ECF6",
            "gridcolor": "white",
            "gridwidth": 2,
            "linecolor": "white",
            "showbackground": true,
            "ticks": "",
            "zerolinecolor": "white"
           },
           "zaxis": {
            "backgroundcolor": "#E5ECF6",
            "gridcolor": "white",
            "gridwidth": 2,
            "linecolor": "white",
            "showbackground": true,
            "ticks": "",
            "zerolinecolor": "white"
           }
          },
          "shapedefaults": {
           "line": {
            "color": "#2a3f5f"
           }
          },
          "ternary": {
           "aaxis": {
            "gridcolor": "white",
            "linecolor": "white",
            "ticks": ""
           },
           "baxis": {
            "gridcolor": "white",
            "linecolor": "white",
            "ticks": ""
           },
           "bgcolor": "#E5ECF6",
           "caxis": {
            "gridcolor": "white",
            "linecolor": "white",
            "ticks": ""
           }
          },
          "title": {
           "x": 0.05
          },
          "xaxis": {
           "automargin": true,
           "gridcolor": "white",
           "linecolor": "white",
           "ticks": "",
           "title": {
            "standoff": 15
           },
           "zerolinecolor": "white",
           "zerolinewidth": 2
          },
          "yaxis": {
           "automargin": true,
           "gridcolor": "white",
           "linecolor": "white",
           "ticks": "",
           "title": {
            "standoff": 15
           },
           "zerolinecolor": "white",
           "zerolinewidth": 2
          }
         }
        },
        "title": {
         "text": "Top 20 High Rated Programs"
        },
        "xaxis": {
         "anchor": "y",
         "domain": [
          0,
          1
         ],
         "title": {
          "text": "IMDB Score"
         }
        },
        "yaxis": {
         "anchor": "x",
         "domain": [
          0,
          1
         ],
         "title": {
          "text": "Title"
         }
        }
       }
      }
     },
     "metadata": {}
    }
   ],
   "metadata": {}
  },
  {
   "cell_type": "code",
   "execution_count": 39,
   "source": [
    "bottom_20_movies  = data[['IMDB Score' , 'Title' , 'Genre' , 'year', 'Language']].sort_values(['IMDB Score'])[:20]\r\n",
    "\r\n",
    "bottom_20_movies"
   ],
   "outputs": [
    {
     "output_type": "execute_result",
     "data": {
      "text/html": [
       "<div>\n",
       "<style scoped>\n",
       "    .dataframe tbody tr th:only-of-type {\n",
       "        vertical-align: middle;\n",
       "    }\n",
       "\n",
       "    .dataframe tbody tr th {\n",
       "        vertical-align: top;\n",
       "    }\n",
       "\n",
       "    .dataframe thead th {\n",
       "        text-align: right;\n",
       "    }\n",
       "</style>\n",
       "<table border=\"1\" class=\"dataframe\">\n",
       "  <thead>\n",
       "    <tr style=\"text-align: right;\">\n",
       "      <th></th>\n",
       "      <th>IMDB Score</th>\n",
       "      <th>Title</th>\n",
       "      <th>Genre</th>\n",
       "      <th>year</th>\n",
       "      <th>Language</th>\n",
       "    </tr>\n",
       "  </thead>\n",
       "  <tbody>\n",
       "    <tr>\n",
       "      <th>0</th>\n",
       "      <td>2.5</td>\n",
       "      <td>Enter the Anime</td>\n",
       "      <td>Documentary</td>\n",
       "      <td>2019</td>\n",
       "      <td>English/Japanese</td>\n",
       "    </tr>\n",
       "    <tr>\n",
       "      <th>1</th>\n",
       "      <td>2.6</td>\n",
       "      <td>Dark Forces</td>\n",
       "      <td>Thriller</td>\n",
       "      <td>2020</td>\n",
       "      <td>Spanish</td>\n",
       "    </tr>\n",
       "    <tr>\n",
       "      <th>2</th>\n",
       "      <td>2.6</td>\n",
       "      <td>The App</td>\n",
       "      <td>Science fiction/Drama</td>\n",
       "      <td>2019</td>\n",
       "      <td>Italian</td>\n",
       "    </tr>\n",
       "    <tr>\n",
       "      <th>3</th>\n",
       "      <td>3.2</td>\n",
       "      <td>The Open House</td>\n",
       "      <td>Horror thriller</td>\n",
       "      <td>2018</td>\n",
       "      <td>English</td>\n",
       "    </tr>\n",
       "    <tr>\n",
       "      <th>4</th>\n",
       "      <td>3.4</td>\n",
       "      <td>Kaali Khuhi</td>\n",
       "      <td>Mystery</td>\n",
       "      <td>2020</td>\n",
       "      <td>Hindi</td>\n",
       "    </tr>\n",
       "    <tr>\n",
       "      <th>5</th>\n",
       "      <td>3.5</td>\n",
       "      <td>Drive</td>\n",
       "      <td>Action</td>\n",
       "      <td>2019</td>\n",
       "      <td>Hindi</td>\n",
       "    </tr>\n",
       "    <tr>\n",
       "      <th>6</th>\n",
       "      <td>3.7</td>\n",
       "      <td>Leyla Everlasting</td>\n",
       "      <td>Comedy</td>\n",
       "      <td>2020</td>\n",
       "      <td>Turkish</td>\n",
       "    </tr>\n",
       "    <tr>\n",
       "      <th>7</th>\n",
       "      <td>3.7</td>\n",
       "      <td>The Last Days of American Crime</td>\n",
       "      <td>Heist film/Thriller</td>\n",
       "      <td>2020</td>\n",
       "      <td>English</td>\n",
       "    </tr>\n",
       "    <tr>\n",
       "      <th>8</th>\n",
       "      <td>3.9</td>\n",
       "      <td>Paradox</td>\n",
       "      <td>Musical/Western/Fantasy</td>\n",
       "      <td>2018</td>\n",
       "      <td>English</td>\n",
       "    </tr>\n",
       "    <tr>\n",
       "      <th>9</th>\n",
       "      <td>4.1</td>\n",
       "      <td>Sardar Ka Grandson</td>\n",
       "      <td>Comedy</td>\n",
       "      <td>2021</td>\n",
       "      <td>Hindi</td>\n",
       "    </tr>\n",
       "    <tr>\n",
       "      <th>10</th>\n",
       "      <td>4.1</td>\n",
       "      <td>Searching for Sheela</td>\n",
       "      <td>Documentary</td>\n",
       "      <td>2021</td>\n",
       "      <td>English</td>\n",
       "    </tr>\n",
       "    <tr>\n",
       "      <th>11</th>\n",
       "      <td>4.1</td>\n",
       "      <td>The Call</td>\n",
       "      <td>Drama</td>\n",
       "      <td>2020</td>\n",
       "      <td>Korean</td>\n",
       "    </tr>\n",
       "    <tr>\n",
       "      <th>12</th>\n",
       "      <td>4.1</td>\n",
       "      <td>Whipped</td>\n",
       "      <td>Romantic comedy</td>\n",
       "      <td>2020</td>\n",
       "      <td>Indonesian</td>\n",
       "    </tr>\n",
       "    <tr>\n",
       "      <th>13</th>\n",
       "      <td>4.2</td>\n",
       "      <td>All Because of You</td>\n",
       "      <td>Action comedy</td>\n",
       "      <td>2020</td>\n",
       "      <td>Malay</td>\n",
       "    </tr>\n",
       "    <tr>\n",
       "      <th>14</th>\n",
       "      <td>4.2</td>\n",
       "      <td>Mercy</td>\n",
       "      <td>Thriller</td>\n",
       "      <td>2016</td>\n",
       "      <td>English</td>\n",
       "    </tr>\n",
       "    <tr>\n",
       "      <th>18</th>\n",
       "      <td>4.3</td>\n",
       "      <td>What Happened to Mr. Cha?</td>\n",
       "      <td>Comedy</td>\n",
       "      <td>2021</td>\n",
       "      <td>Korean</td>\n",
       "    </tr>\n",
       "    <tr>\n",
       "      <th>17</th>\n",
       "      <td>4.3</td>\n",
       "      <td>The Last Thing He Wanted</td>\n",
       "      <td>Political thriller</td>\n",
       "      <td>2020</td>\n",
       "      <td>English</td>\n",
       "    </tr>\n",
       "    <tr>\n",
       "      <th>15</th>\n",
       "      <td>4.3</td>\n",
       "      <td>After the Raid</td>\n",
       "      <td>Documentary</td>\n",
       "      <td>2019</td>\n",
       "      <td>Spanish</td>\n",
       "    </tr>\n",
       "    <tr>\n",
       "      <th>16</th>\n",
       "      <td>4.3</td>\n",
       "      <td>Ghost Stories</td>\n",
       "      <td>Horror anthology</td>\n",
       "      <td>2020</td>\n",
       "      <td>Hindi</td>\n",
       "    </tr>\n",
       "    <tr>\n",
       "      <th>19</th>\n",
       "      <td>4.4</td>\n",
       "      <td>Death Note</td>\n",
       "      <td>Horror thriller</td>\n",
       "      <td>2017</td>\n",
       "      <td>English</td>\n",
       "    </tr>\n",
       "  </tbody>\n",
       "</table>\n",
       "</div>"
      ],
      "text/plain": [
       "    IMDB Score                            Title                    Genre  \\\n",
       "0          2.5                  Enter the Anime              Documentary   \n",
       "1          2.6                      Dark Forces                 Thriller   \n",
       "2          2.6                          The App    Science fiction/Drama   \n",
       "3          3.2                   The Open House          Horror thriller   \n",
       "4          3.4                      Kaali Khuhi                  Mystery   \n",
       "5          3.5                            Drive                   Action   \n",
       "6          3.7                Leyla Everlasting                   Comedy   \n",
       "7          3.7  The Last Days of American Crime      Heist film/Thriller   \n",
       "8          3.9                          Paradox  Musical/Western/Fantasy   \n",
       "9          4.1               Sardar Ka Grandson                   Comedy   \n",
       "10         4.1             Searching for Sheela              Documentary   \n",
       "11         4.1                         The Call                    Drama   \n",
       "12         4.1                          Whipped          Romantic comedy   \n",
       "13         4.2               All Because of You            Action comedy   \n",
       "14         4.2                            Mercy                 Thriller   \n",
       "18         4.3        What Happened to Mr. Cha?                   Comedy   \n",
       "17         4.3         The Last Thing He Wanted       Political thriller   \n",
       "15         4.3                   After the Raid              Documentary   \n",
       "16         4.3                    Ghost Stories         Horror anthology   \n",
       "19         4.4                       Death Note          Horror thriller   \n",
       "\n",
       "    year          Language  \n",
       "0   2019  English/Japanese  \n",
       "1   2020           Spanish  \n",
       "2   2019           Italian  \n",
       "3   2018           English  \n",
       "4   2020             Hindi  \n",
       "5   2019             Hindi  \n",
       "6   2020           Turkish  \n",
       "7   2020           English  \n",
       "8   2018           English  \n",
       "9   2021             Hindi  \n",
       "10  2021           English  \n",
       "11  2020            Korean  \n",
       "12  2020        Indonesian  \n",
       "13  2020             Malay  \n",
       "14  2016           English  \n",
       "18  2021            Korean  \n",
       "17  2020           English  \n",
       "15  2019           Spanish  \n",
       "16  2020             Hindi  \n",
       "19  2017           English  "
      ]
     },
     "metadata": {},
     "execution_count": 39
    }
   ],
   "metadata": {}
  },
  {
   "cell_type": "code",
   "execution_count": 40,
   "source": [
    "fig = px.scatter(bottom_20_movies , x='IMDB Score' ,y='Title' , hover_data=bottom_20_movies[['Genre' , 'year' , 'Language']] , title='20 Lowest Rated Programs' , color='Genre')\r\n",
    "\r\n",
    "fig.show()"
   ],
   "outputs": [
    {
     "output_type": "display_data",
     "data": {
      "application/vnd.plotly.v1+json": {
       "config": {
        "plotlyServerURL": "https://plot.ly"
       },
       "data": [
        {
         "customdata": [
          [
           "Documentary",
           2019,
           "English/Japanese"
          ],
          [
           "Documentary",
           2021,
           "English"
          ],
          [
           "Documentary",
           2019,
           "Spanish"
          ]
         ],
         "hovertemplate": "Genre=%{customdata[0]}<br>IMDB Score=%{x}<br>Title=%{y}<br>year=%{customdata[1]}<br>Language=%{customdata[2]}<extra></extra>",
         "legendgroup": "Documentary",
         "marker": {
          "color": "#636efa",
          "symbol": "circle"
         },
         "mode": "markers",
         "name": "Documentary",
         "orientation": "h",
         "showlegend": true,
         "type": "scatter",
         "x": [
          2.5,
          4.1,
          4.3
         ],
         "xaxis": "x",
         "y": [
          "Enter the Anime",
          "Searching for Sheela",
          "After the Raid"
         ],
         "yaxis": "y"
        },
        {
         "customdata": [
          [
           "Thriller",
           2020,
           "Spanish"
          ],
          [
           "Thriller",
           2016,
           "English"
          ]
         ],
         "hovertemplate": "Genre=%{customdata[0]}<br>IMDB Score=%{x}<br>Title=%{y}<br>year=%{customdata[1]}<br>Language=%{customdata[2]}<extra></extra>",
         "legendgroup": "Thriller",
         "marker": {
          "color": "#EF553B",
          "symbol": "circle"
         },
         "mode": "markers",
         "name": "Thriller",
         "orientation": "h",
         "showlegend": true,
         "type": "scatter",
         "x": [
          2.6,
          4.2
         ],
         "xaxis": "x",
         "y": [
          "Dark Forces",
          "Mercy"
         ],
         "yaxis": "y"
        },
        {
         "customdata": [
          [
           "Science fiction/Drama",
           2019,
           "Italian"
          ]
         ],
         "hovertemplate": "Genre=%{customdata[0]}<br>IMDB Score=%{x}<br>Title=%{y}<br>year=%{customdata[1]}<br>Language=%{customdata[2]}<extra></extra>",
         "legendgroup": "Science fiction/Drama",
         "marker": {
          "color": "#00cc96",
          "symbol": "circle"
         },
         "mode": "markers",
         "name": "Science fiction/Drama",
         "orientation": "h",
         "showlegend": true,
         "type": "scatter",
         "x": [
          2.6
         ],
         "xaxis": "x",
         "y": [
          "The App"
         ],
         "yaxis": "y"
        },
        {
         "customdata": [
          [
           "Horror thriller",
           2018,
           "English"
          ],
          [
           "Horror thriller",
           2017,
           "English"
          ]
         ],
         "hovertemplate": "Genre=%{customdata[0]}<br>IMDB Score=%{x}<br>Title=%{y}<br>year=%{customdata[1]}<br>Language=%{customdata[2]}<extra></extra>",
         "legendgroup": "Horror thriller",
         "marker": {
          "color": "#ab63fa",
          "symbol": "circle"
         },
         "mode": "markers",
         "name": "Horror thriller",
         "orientation": "h",
         "showlegend": true,
         "type": "scatter",
         "x": [
          3.2,
          4.4
         ],
         "xaxis": "x",
         "y": [
          "The Open House",
          "Death Note"
         ],
         "yaxis": "y"
        },
        {
         "customdata": [
          [
           "Mystery",
           2020,
           "Hindi"
          ]
         ],
         "hovertemplate": "Genre=%{customdata[0]}<br>IMDB Score=%{x}<br>Title=%{y}<br>year=%{customdata[1]}<br>Language=%{customdata[2]}<extra></extra>",
         "legendgroup": "Mystery",
         "marker": {
          "color": "#FFA15A",
          "symbol": "circle"
         },
         "mode": "markers",
         "name": "Mystery",
         "orientation": "h",
         "showlegend": true,
         "type": "scatter",
         "x": [
          3.4
         ],
         "xaxis": "x",
         "y": [
          "Kaali Khuhi"
         ],
         "yaxis": "y"
        },
        {
         "customdata": [
          [
           "Action",
           2019,
           "Hindi"
          ]
         ],
         "hovertemplate": "Genre=%{customdata[0]}<br>IMDB Score=%{x}<br>Title=%{y}<br>year=%{customdata[1]}<br>Language=%{customdata[2]}<extra></extra>",
         "legendgroup": "Action",
         "marker": {
          "color": "#19d3f3",
          "symbol": "circle"
         },
         "mode": "markers",
         "name": "Action",
         "orientation": "h",
         "showlegend": true,
         "type": "scatter",
         "x": [
          3.5
         ],
         "xaxis": "x",
         "y": [
          "Drive"
         ],
         "yaxis": "y"
        },
        {
         "customdata": [
          [
           "Comedy",
           2020,
           "Turkish"
          ],
          [
           "Comedy",
           2021,
           "Hindi"
          ],
          [
           "Comedy",
           2021,
           "Korean"
          ]
         ],
         "hovertemplate": "Genre=%{customdata[0]}<br>IMDB Score=%{x}<br>Title=%{y}<br>year=%{customdata[1]}<br>Language=%{customdata[2]}<extra></extra>",
         "legendgroup": "Comedy",
         "marker": {
          "color": "#FF6692",
          "symbol": "circle"
         },
         "mode": "markers",
         "name": "Comedy",
         "orientation": "h",
         "showlegend": true,
         "type": "scatter",
         "x": [
          3.7,
          4.1,
          4.3
         ],
         "xaxis": "x",
         "y": [
          "Leyla Everlasting",
          "Sardar Ka Grandson",
          "What Happened to Mr. Cha?"
         ],
         "yaxis": "y"
        },
        {
         "customdata": [
          [
           "Heist film/Thriller",
           2020,
           "English"
          ]
         ],
         "hovertemplate": "Genre=%{customdata[0]}<br>IMDB Score=%{x}<br>Title=%{y}<br>year=%{customdata[1]}<br>Language=%{customdata[2]}<extra></extra>",
         "legendgroup": "Heist film/Thriller",
         "marker": {
          "color": "#B6E880",
          "symbol": "circle"
         },
         "mode": "markers",
         "name": "Heist film/Thriller",
         "orientation": "h",
         "showlegend": true,
         "type": "scatter",
         "x": [
          3.7
         ],
         "xaxis": "x",
         "y": [
          "The Last Days of American Crime"
         ],
         "yaxis": "y"
        },
        {
         "customdata": [
          [
           "Musical/Western/Fantasy",
           2018,
           "English"
          ]
         ],
         "hovertemplate": "Genre=%{customdata[0]}<br>IMDB Score=%{x}<br>Title=%{y}<br>year=%{customdata[1]}<br>Language=%{customdata[2]}<extra></extra>",
         "legendgroup": "Musical/Western/Fantasy",
         "marker": {
          "color": "#FF97FF",
          "symbol": "circle"
         },
         "mode": "markers",
         "name": "Musical/Western/Fantasy",
         "orientation": "h",
         "showlegend": true,
         "type": "scatter",
         "x": [
          3.9
         ],
         "xaxis": "x",
         "y": [
          "Paradox"
         ],
         "yaxis": "y"
        },
        {
         "customdata": [
          [
           "Drama",
           2020,
           "Korean"
          ]
         ],
         "hovertemplate": "Genre=%{customdata[0]}<br>IMDB Score=%{x}<br>Title=%{y}<br>year=%{customdata[1]}<br>Language=%{customdata[2]}<extra></extra>",
         "legendgroup": "Drama",
         "marker": {
          "color": "#FECB52",
          "symbol": "circle"
         },
         "mode": "markers",
         "name": "Drama",
         "orientation": "h",
         "showlegend": true,
         "type": "scatter",
         "x": [
          4.1
         ],
         "xaxis": "x",
         "y": [
          "The Call"
         ],
         "yaxis": "y"
        },
        {
         "customdata": [
          [
           "Romantic comedy",
           2020,
           "Indonesian"
          ]
         ],
         "hovertemplate": "Genre=%{customdata[0]}<br>IMDB Score=%{x}<br>Title=%{y}<br>year=%{customdata[1]}<br>Language=%{customdata[2]}<extra></extra>",
         "legendgroup": "Romantic comedy",
         "marker": {
          "color": "#636efa",
          "symbol": "circle"
         },
         "mode": "markers",
         "name": "Romantic comedy",
         "orientation": "h",
         "showlegend": true,
         "type": "scatter",
         "x": [
          4.1
         ],
         "xaxis": "x",
         "y": [
          "Whipped"
         ],
         "yaxis": "y"
        },
        {
         "customdata": [
          [
           "Action comedy",
           2020,
           "Malay"
          ]
         ],
         "hovertemplate": "Genre=%{customdata[0]}<br>IMDB Score=%{x}<br>Title=%{y}<br>year=%{customdata[1]}<br>Language=%{customdata[2]}<extra></extra>",
         "legendgroup": "Action comedy",
         "marker": {
          "color": "#EF553B",
          "symbol": "circle"
         },
         "mode": "markers",
         "name": "Action comedy",
         "orientation": "h",
         "showlegend": true,
         "type": "scatter",
         "x": [
          4.2
         ],
         "xaxis": "x",
         "y": [
          "All Because of You"
         ],
         "yaxis": "y"
        },
        {
         "customdata": [
          [
           "Political thriller",
           2020,
           "English"
          ]
         ],
         "hovertemplate": "Genre=%{customdata[0]}<br>IMDB Score=%{x}<br>Title=%{y}<br>year=%{customdata[1]}<br>Language=%{customdata[2]}<extra></extra>",
         "legendgroup": "Political thriller",
         "marker": {
          "color": "#00cc96",
          "symbol": "circle"
         },
         "mode": "markers",
         "name": "Political thriller",
         "orientation": "h",
         "showlegend": true,
         "type": "scatter",
         "x": [
          4.3
         ],
         "xaxis": "x",
         "y": [
          "The Last Thing He Wanted"
         ],
         "yaxis": "y"
        },
        {
         "customdata": [
          [
           "Horror anthology",
           2020,
           "Hindi"
          ]
         ],
         "hovertemplate": "Genre=%{customdata[0]}<br>IMDB Score=%{x}<br>Title=%{y}<br>year=%{customdata[1]}<br>Language=%{customdata[2]}<extra></extra>",
         "legendgroup": "Horror anthology",
         "marker": {
          "color": "#ab63fa",
          "symbol": "circle"
         },
         "mode": "markers",
         "name": "Horror anthology",
         "orientation": "h",
         "showlegend": true,
         "type": "scatter",
         "x": [
          4.3
         ],
         "xaxis": "x",
         "y": [
          "Ghost Stories"
         ],
         "yaxis": "y"
        }
       ],
       "layout": {
        "legend": {
         "title": {
          "text": "Genre"
         },
         "tracegroupgap": 0
        },
        "template": {
         "data": {
          "bar": [
           {
            "error_x": {
             "color": "#2a3f5f"
            },
            "error_y": {
             "color": "#2a3f5f"
            },
            "marker": {
             "line": {
              "color": "#E5ECF6",
              "width": 0.5
             }
            },
            "type": "bar"
           }
          ],
          "barpolar": [
           {
            "marker": {
             "line": {
              "color": "#E5ECF6",
              "width": 0.5
             }
            },
            "type": "barpolar"
           }
          ],
          "carpet": [
           {
            "aaxis": {
             "endlinecolor": "#2a3f5f",
             "gridcolor": "white",
             "linecolor": "white",
             "minorgridcolor": "white",
             "startlinecolor": "#2a3f5f"
            },
            "baxis": {
             "endlinecolor": "#2a3f5f",
             "gridcolor": "white",
             "linecolor": "white",
             "minorgridcolor": "white",
             "startlinecolor": "#2a3f5f"
            },
            "type": "carpet"
           }
          ],
          "choropleth": [
           {
            "colorbar": {
             "outlinewidth": 0,
             "ticks": ""
            },
            "type": "choropleth"
           }
          ],
          "contour": [
           {
            "colorbar": {
             "outlinewidth": 0,
             "ticks": ""
            },
            "colorscale": [
             [
              0,
              "#0d0887"
             ],
             [
              0.1111111111111111,
              "#46039f"
             ],
             [
              0.2222222222222222,
              "#7201a8"
             ],
             [
              0.3333333333333333,
              "#9c179e"
             ],
             [
              0.4444444444444444,
              "#bd3786"
             ],
             [
              0.5555555555555556,
              "#d8576b"
             ],
             [
              0.6666666666666666,
              "#ed7953"
             ],
             [
              0.7777777777777778,
              "#fb9f3a"
             ],
             [
              0.8888888888888888,
              "#fdca26"
             ],
             [
              1,
              "#f0f921"
             ]
            ],
            "type": "contour"
           }
          ],
          "contourcarpet": [
           {
            "colorbar": {
             "outlinewidth": 0,
             "ticks": ""
            },
            "type": "contourcarpet"
           }
          ],
          "heatmap": [
           {
            "colorbar": {
             "outlinewidth": 0,
             "ticks": ""
            },
            "colorscale": [
             [
              0,
              "#0d0887"
             ],
             [
              0.1111111111111111,
              "#46039f"
             ],
             [
              0.2222222222222222,
              "#7201a8"
             ],
             [
              0.3333333333333333,
              "#9c179e"
             ],
             [
              0.4444444444444444,
              "#bd3786"
             ],
             [
              0.5555555555555556,
              "#d8576b"
             ],
             [
              0.6666666666666666,
              "#ed7953"
             ],
             [
              0.7777777777777778,
              "#fb9f3a"
             ],
             [
              0.8888888888888888,
              "#fdca26"
             ],
             [
              1,
              "#f0f921"
             ]
            ],
            "type": "heatmap"
           }
          ],
          "heatmapgl": [
           {
            "colorbar": {
             "outlinewidth": 0,
             "ticks": ""
            },
            "colorscale": [
             [
              0,
              "#0d0887"
             ],
             [
              0.1111111111111111,
              "#46039f"
             ],
             [
              0.2222222222222222,
              "#7201a8"
             ],
             [
              0.3333333333333333,
              "#9c179e"
             ],
             [
              0.4444444444444444,
              "#bd3786"
             ],
             [
              0.5555555555555556,
              "#d8576b"
             ],
             [
              0.6666666666666666,
              "#ed7953"
             ],
             [
              0.7777777777777778,
              "#fb9f3a"
             ],
             [
              0.8888888888888888,
              "#fdca26"
             ],
             [
              1,
              "#f0f921"
             ]
            ],
            "type": "heatmapgl"
           }
          ],
          "histogram": [
           {
            "marker": {
             "colorbar": {
              "outlinewidth": 0,
              "ticks": ""
             }
            },
            "type": "histogram"
           }
          ],
          "histogram2d": [
           {
            "colorbar": {
             "outlinewidth": 0,
             "ticks": ""
            },
            "colorscale": [
             [
              0,
              "#0d0887"
             ],
             [
              0.1111111111111111,
              "#46039f"
             ],
             [
              0.2222222222222222,
              "#7201a8"
             ],
             [
              0.3333333333333333,
              "#9c179e"
             ],
             [
              0.4444444444444444,
              "#bd3786"
             ],
             [
              0.5555555555555556,
              "#d8576b"
             ],
             [
              0.6666666666666666,
              "#ed7953"
             ],
             [
              0.7777777777777778,
              "#fb9f3a"
             ],
             [
              0.8888888888888888,
              "#fdca26"
             ],
             [
              1,
              "#f0f921"
             ]
            ],
            "type": "histogram2d"
           }
          ],
          "histogram2dcontour": [
           {
            "colorbar": {
             "outlinewidth": 0,
             "ticks": ""
            },
            "colorscale": [
             [
              0,
              "#0d0887"
             ],
             [
              0.1111111111111111,
              "#46039f"
             ],
             [
              0.2222222222222222,
              "#7201a8"
             ],
             [
              0.3333333333333333,
              "#9c179e"
             ],
             [
              0.4444444444444444,
              "#bd3786"
             ],
             [
              0.5555555555555556,
              "#d8576b"
             ],
             [
              0.6666666666666666,
              "#ed7953"
             ],
             [
              0.7777777777777778,
              "#fb9f3a"
             ],
             [
              0.8888888888888888,
              "#fdca26"
             ],
             [
              1,
              "#f0f921"
             ]
            ],
            "type": "histogram2dcontour"
           }
          ],
          "mesh3d": [
           {
            "colorbar": {
             "outlinewidth": 0,
             "ticks": ""
            },
            "type": "mesh3d"
           }
          ],
          "parcoords": [
           {
            "line": {
             "colorbar": {
              "outlinewidth": 0,
              "ticks": ""
             }
            },
            "type": "parcoords"
           }
          ],
          "pie": [
           {
            "automargin": true,
            "type": "pie"
           }
          ],
          "scatter": [
           {
            "marker": {
             "colorbar": {
              "outlinewidth": 0,
              "ticks": ""
             }
            },
            "type": "scatter"
           }
          ],
          "scatter3d": [
           {
            "line": {
             "colorbar": {
              "outlinewidth": 0,
              "ticks": ""
             }
            },
            "marker": {
             "colorbar": {
              "outlinewidth": 0,
              "ticks": ""
             }
            },
            "type": "scatter3d"
           }
          ],
          "scattercarpet": [
           {
            "marker": {
             "colorbar": {
              "outlinewidth": 0,
              "ticks": ""
             }
            },
            "type": "scattercarpet"
           }
          ],
          "scattergeo": [
           {
            "marker": {
             "colorbar": {
              "outlinewidth": 0,
              "ticks": ""
             }
            },
            "type": "scattergeo"
           }
          ],
          "scattergl": [
           {
            "marker": {
             "colorbar": {
              "outlinewidth": 0,
              "ticks": ""
             }
            },
            "type": "scattergl"
           }
          ],
          "scattermapbox": [
           {
            "marker": {
             "colorbar": {
              "outlinewidth": 0,
              "ticks": ""
             }
            },
            "type": "scattermapbox"
           }
          ],
          "scatterpolar": [
           {
            "marker": {
             "colorbar": {
              "outlinewidth": 0,
              "ticks": ""
             }
            },
            "type": "scatterpolar"
           }
          ],
          "scatterpolargl": [
           {
            "marker": {
             "colorbar": {
              "outlinewidth": 0,
              "ticks": ""
             }
            },
            "type": "scatterpolargl"
           }
          ],
          "scatterternary": [
           {
            "marker": {
             "colorbar": {
              "outlinewidth": 0,
              "ticks": ""
             }
            },
            "type": "scatterternary"
           }
          ],
          "surface": [
           {
            "colorbar": {
             "outlinewidth": 0,
             "ticks": ""
            },
            "colorscale": [
             [
              0,
              "#0d0887"
             ],
             [
              0.1111111111111111,
              "#46039f"
             ],
             [
              0.2222222222222222,
              "#7201a8"
             ],
             [
              0.3333333333333333,
              "#9c179e"
             ],
             [
              0.4444444444444444,
              "#bd3786"
             ],
             [
              0.5555555555555556,
              "#d8576b"
             ],
             [
              0.6666666666666666,
              "#ed7953"
             ],
             [
              0.7777777777777778,
              "#fb9f3a"
             ],
             [
              0.8888888888888888,
              "#fdca26"
             ],
             [
              1,
              "#f0f921"
             ]
            ],
            "type": "surface"
           }
          ],
          "table": [
           {
            "cells": {
             "fill": {
              "color": "#EBF0F8"
             },
             "line": {
              "color": "white"
             }
            },
            "header": {
             "fill": {
              "color": "#C8D4E3"
             },
             "line": {
              "color": "white"
             }
            },
            "type": "table"
           }
          ]
         },
         "layout": {
          "annotationdefaults": {
           "arrowcolor": "#2a3f5f",
           "arrowhead": 0,
           "arrowwidth": 1
          },
          "autotypenumbers": "strict",
          "coloraxis": {
           "colorbar": {
            "outlinewidth": 0,
            "ticks": ""
           }
          },
          "colorscale": {
           "diverging": [
            [
             0,
             "#8e0152"
            ],
            [
             0.1,
             "#c51b7d"
            ],
            [
             0.2,
             "#de77ae"
            ],
            [
             0.3,
             "#f1b6da"
            ],
            [
             0.4,
             "#fde0ef"
            ],
            [
             0.5,
             "#f7f7f7"
            ],
            [
             0.6,
             "#e6f5d0"
            ],
            [
             0.7,
             "#b8e186"
            ],
            [
             0.8,
             "#7fbc41"
            ],
            [
             0.9,
             "#4d9221"
            ],
            [
             1,
             "#276419"
            ]
           ],
           "sequential": [
            [
             0,
             "#0d0887"
            ],
            [
             0.1111111111111111,
             "#46039f"
            ],
            [
             0.2222222222222222,
             "#7201a8"
            ],
            [
             0.3333333333333333,
             "#9c179e"
            ],
            [
             0.4444444444444444,
             "#bd3786"
            ],
            [
             0.5555555555555556,
             "#d8576b"
            ],
            [
             0.6666666666666666,
             "#ed7953"
            ],
            [
             0.7777777777777778,
             "#fb9f3a"
            ],
            [
             0.8888888888888888,
             "#fdca26"
            ],
            [
             1,
             "#f0f921"
            ]
           ],
           "sequentialminus": [
            [
             0,
             "#0d0887"
            ],
            [
             0.1111111111111111,
             "#46039f"
            ],
            [
             0.2222222222222222,
             "#7201a8"
            ],
            [
             0.3333333333333333,
             "#9c179e"
            ],
            [
             0.4444444444444444,
             "#bd3786"
            ],
            [
             0.5555555555555556,
             "#d8576b"
            ],
            [
             0.6666666666666666,
             "#ed7953"
            ],
            [
             0.7777777777777778,
             "#fb9f3a"
            ],
            [
             0.8888888888888888,
             "#fdca26"
            ],
            [
             1,
             "#f0f921"
            ]
           ]
          },
          "colorway": [
           "#636efa",
           "#EF553B",
           "#00cc96",
           "#ab63fa",
           "#FFA15A",
           "#19d3f3",
           "#FF6692",
           "#B6E880",
           "#FF97FF",
           "#FECB52"
          ],
          "font": {
           "color": "#2a3f5f"
          },
          "geo": {
           "bgcolor": "white",
           "lakecolor": "white",
           "landcolor": "#E5ECF6",
           "showlakes": true,
           "showland": true,
           "subunitcolor": "white"
          },
          "hoverlabel": {
           "align": "left"
          },
          "hovermode": "closest",
          "mapbox": {
           "style": "light"
          },
          "paper_bgcolor": "white",
          "plot_bgcolor": "#E5ECF6",
          "polar": {
           "angularaxis": {
            "gridcolor": "white",
            "linecolor": "white",
            "ticks": ""
           },
           "bgcolor": "#E5ECF6",
           "radialaxis": {
            "gridcolor": "white",
            "linecolor": "white",
            "ticks": ""
           }
          },
          "scene": {
           "xaxis": {
            "backgroundcolor": "#E5ECF6",
            "gridcolor": "white",
            "gridwidth": 2,
            "linecolor": "white",
            "showbackground": true,
            "ticks": "",
            "zerolinecolor": "white"
           },
           "yaxis": {
            "backgroundcolor": "#E5ECF6",
            "gridcolor": "white",
            "gridwidth": 2,
            "linecolor": "white",
            "showbackground": true,
            "ticks": "",
            "zerolinecolor": "white"
           },
           "zaxis": {
            "backgroundcolor": "#E5ECF6",
            "gridcolor": "white",
            "gridwidth": 2,
            "linecolor": "white",
            "showbackground": true,
            "ticks": "",
            "zerolinecolor": "white"
           }
          },
          "shapedefaults": {
           "line": {
            "color": "#2a3f5f"
           }
          },
          "ternary": {
           "aaxis": {
            "gridcolor": "white",
            "linecolor": "white",
            "ticks": ""
           },
           "baxis": {
            "gridcolor": "white",
            "linecolor": "white",
            "ticks": ""
           },
           "bgcolor": "#E5ECF6",
           "caxis": {
            "gridcolor": "white",
            "linecolor": "white",
            "ticks": ""
           }
          },
          "title": {
           "x": 0.05
          },
          "xaxis": {
           "automargin": true,
           "gridcolor": "white",
           "linecolor": "white",
           "ticks": "",
           "title": {
            "standoff": 15
           },
           "zerolinecolor": "white",
           "zerolinewidth": 2
          },
          "yaxis": {
           "automargin": true,
           "gridcolor": "white",
           "linecolor": "white",
           "ticks": "",
           "title": {
            "standoff": 15
           },
           "zerolinecolor": "white",
           "zerolinewidth": 2
          }
         }
        },
        "title": {
         "text": "20 Lowest Rated Programs"
        },
        "xaxis": {
         "anchor": "y",
         "domain": [
          0,
          1
         ],
         "title": {
          "text": "IMDB Score"
         }
        },
        "yaxis": {
         "anchor": "x",
         "domain": [
          0,
          1
         ],
         "title": {
          "text": "Title"
         }
        }
       }
      }
     },
     "metadata": {}
    }
   ],
   "metadata": {}
  }
 ],
 "metadata": {
  "orig_nbformat": 4,
  "language_info": {
   "name": "python",
   "version": "3.9.0",
   "mimetype": "text/x-python",
   "codemirror_mode": {
    "name": "ipython",
    "version": 3
   },
   "pygments_lexer": "ipython3",
   "nbconvert_exporter": "python",
   "file_extension": ".py"
  },
  "kernelspec": {
   "name": "python3",
   "display_name": "Python 3.9.0 64-bit"
  },
  "interpreter": {
   "hash": "85db6da7787130e1a460985840952276764ba71a5c880e584e8b35b38fecc972"
  }
 },
 "nbformat": 4,
 "nbformat_minor": 2
}